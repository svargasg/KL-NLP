{
  "nbformat": 4,
  "nbformat_minor": 0,
  "metadata": {
    "kernelspec": {
      "display_name": "Python 3",
      "language": "python",
      "name": "python3"
    },
    "language_info": {
      "codemirror_mode": {
        "name": "ipython",
        "version": 3
      },
      "file_extension": ".py",
      "mimetype": "text/x-python",
      "name": "python",
      "nbconvert_exporter": "python",
      "pygments_lexer": "ipython3",
      "version": "3.7.4"
    },
    "colab": {
      "name": "Copia de taller2.ipynb",
      "provenance": [],
      "collapsed_sections": [],
      "toc_visible": true
    }
  },
  "cells": [
    {
      "cell_type": "markdown",
      "metadata": {
        "id": "0UdLxM7t9HDs"
      },
      "source": [
        "<img src='https://encrypted-tbn0.gstatic.com/images?q=tbn%3AANd9GcQ-VfNtOyJbsaxu43Kztf_cv1mgBG6ZIQZEVw&usqp=CAU'>\n",
        "\n",
        "# Procesamiento de Lenguage Natural\n",
        "\n",
        "## Taller #2: Adquisición de textos\n",
        "`Fecha de entrega: Marzo 4, 2021. (Antes del inicio de la próxima clase).`"
      ]
    },
    {
      "cell_type": "markdown",
      "metadata": {
        "id": "_6GFowYS9HD4"
      },
      "source": [
        "# Punto 1:\n",
        "\n",
        "- `[18 pts]` Descomprimir el archivo `.zip` de `python_books`\n",
        "- `[22 pts]` Leer cada uno de sus archivos\n",
        "- `[10 pts]` Responder: ¿Cuál archivo tiene el mayor número de palabras?"
      ]
    },
    {
      "cell_type": "markdown",
      "metadata": {
        "id": "-sUUbzDuDFNp"
      },
      "source": [
        "## Descomprimir el archivo"
      ]
    },
    {
      "cell_type": "code",
      "metadata": {
        "id": "4I1OGVWl9Iyf"
      },
      "source": [
        "import os\r\n",
        "from zipfile import ZipFile\r\n",
        "\r\n",
        "zip_file = \"./python_books.zip\"\r\n",
        "with ZipFile(zip_file) as z:\r\n",
        "    z.extractall()"
      ],
      "execution_count": 1,
      "outputs": []
    },
    {
      "cell_type": "code",
      "metadata": {
        "colab": {
          "base_uri": "https://localhost:8080/"
        },
        "id": "84I_qP1R_sCM",
        "outputId": "d6ac21e4-f594-46f4-adb1-b01eb11fe320"
      },
      "source": [
        "!ls\r\n",
        "!ls python_books"
      ],
      "execution_count": 2,
      "outputs": [
        {
          "output_type": "stream",
          "text": [
            "__MACOSX  python_books\tpython_books.zip  sample_data\n",
            "'Python - AWS.pdf'  'Python  Data Science Cookbook.pdf'  'Python - Finance.pdf'\n"
          ],
          "name": "stdout"
        }
      ]
    },
    {
      "cell_type": "markdown",
      "metadata": {
        "id": "iQ0P9ZbgDLSi"
      },
      "source": [
        "## Leer cada uno de los archivos"
      ]
    },
    {
      "cell_type": "code",
      "metadata": {
        "colab": {
          "base_uri": "https://localhost:8080/"
        },
        "id": "NqcC_acP_Ikc",
        "outputId": "6935be6c-d0e9-4378-f275-41ed5bb28b35"
      },
      "source": [
        "folder = \"./python_books\"\r\n",
        "def getFiles(folder):\r\n",
        "  arr_files = []\r\n",
        "  for root, folders, files in os.walk(folder):\r\n",
        "      for f in files:\r\n",
        "          arr_files.append(f)\r\n",
        "  return arr_files\r\n",
        "\r\n",
        "print(getFiles(folder))"
      ],
      "execution_count": 3,
      "outputs": [
        {
          "output_type": "stream",
          "text": [
            "['Python - Finance.pdf', 'Python - AWS.pdf', 'Python  Data Science Cookbook.pdf']\n"
          ],
          "name": "stdout"
        }
      ]
    },
    {
      "cell_type": "code",
      "metadata": {
        "id": "Iapf8Ylq_i8Y"
      },
      "source": [
        "# !pip install PyMuPDF"
      ],
      "execution_count": 4,
      "outputs": []
    },
    {
      "cell_type": "code",
      "metadata": {
        "colab": {
          "base_uri": "https://localhost:8080/"
        },
        "id": "drwOQ93w_lC_",
        "outputId": "e6281768-f9d5-42c5-e54b-ef773518b49c"
      },
      "source": [
        "import fitz\r\n",
        "\r\n",
        "word_count = []\r\n",
        "for docs in getFiles(folder):\r\n",
        "  doc = fitz.open(f\"{folder}/{docs}\")\r\n",
        "  page = doc.loadPage(0)\r\n",
        "  text = page.getText(\"text\")\r\n",
        "  words_ = [w[4].split(\"\\t\") if \"\\t\" in w[4] else [w[4]] for w in page.get_text_words()]\r\n",
        "  words = [item for sublist in words_ for item in sublist]\r\n",
        "  word_count.append([docs,len(words)])\r\n",
        "  print(f\"file: {docs}\")\r\n",
        "  print(f\"#words: {len(words)}\")\r\n",
        "  print(f\"Content: {text}\")"
      ],
      "execution_count": 5,
      "outputs": [
        {
          "output_type": "stream",
          "text": [
            "file: Python - Finance.pdf\n",
            "#words: 226\n",
            "Content: Preface\n",
            "It is our firm belief that an ambitious student major in finance should learn at least \n",
            "one computer language. The basic reason is that we have entered the Big Data era. \n",
            "In finance, we have a huge amount of data, and most of it is publically available free \n",
            "of charge. To use such rich sources of data efficiently, we need a tool. Among many \n",
            "potential candidates, Python is one of the best choices.\n",
            "Why Python?\n",
            "There are various reasons that Python should be used. Firstly, Python is free in terms \n",
            "of license. Python is available for all major operating systems, such as Windows, \n",
            "Linux/Unix, OS/2, Mac, and Amiga, among others. Being free has many benefits. \n",
            "When students graduate, they could apply what they have learned wherever they \n",
            "go. This is true for the financial community as well. In contrast, this is not true for \n",
            "SAS and MATLAB. Secondly, Python is powerful, flexible, and easy to learn. It is \n",
            "capable of solving almost all our financial and economic estimations. Thirdly, we \n",
            "could apply Python to Big Data. Dasgupta (2013) argues that R and Python are two \n",
            "of the most popular open source programming languages for data analysis. Fourthly, \n",
            "there are many useful modules in Python. Each model is developed for a special \n",
            "purpose. In this book, we focus on NumPy, SciPy, Matplotlib, Statsmodels, and \n",
            "Pandas modules.\n",
            "\n",
            "file: Python - AWS.pdf\n",
            "#words: 254\n",
            "Content: [ vii ]\n",
            "Preface\n",
            "With an increasing interest in leveraging cloud infrastructure around the world, the \n",
            "AWS cloud from Amazon offers a cutting-edge platform for architecting, building, \n",
            "and deploying web-scale cloud applications through a user-friendly interface. The \n",
            "variety of features available within AWS can reduce overall infrastructure costs and \n",
            "accelerate the development process for both large enterprises and start-ups alike.\n",
            "Learning AWS covers basic, intermediate, and advanced features and concepts  \n",
            "as they relate to designing, developing, and deploying scalable, highly available,  \n",
            "and secure applications on the AWS platform. By sequentially working through  \n",
            "the steps in each chapter, you will quickly master the features of AWS to create an \n",
            "enterprise-grade cloud application. We use a three-tiered services-oriented sample \n",
            "application for extensive hands-on exercises.\n",
            "This book will not only teach you about the AWS components, but you will gain \n",
            "valuable information about key concepts such as multi-tenancy, auto scaling, \n",
            "planning, implementing application development environments, addressing \n",
            "application security concerns, and so on. You will also learn how these concepts \n",
            "relate to cost effective architectural decisions while designing scalable, highly \n",
            "available, and secure AWS cloud applications.\n",
            "A step-by-step approach to cloud application design and implementation is explained \n",
            "in a conversational and easy-to-follow style. Each topic is explained sequentially in \n",
            "the process of creating an AWS cloud application. Detailed explanations of the basic \n",
            "and advanced features of AWS that address the needs of readers with a wide range \n",
            "of real-world experiences are also included. Expert programmers and architects will \n",
            "appreciate the focus on the practice rather than the theory.\n",
            "\n",
            "file: Python  Data Science Cookbook.pdf\n",
            "#words: 535\n",
            "Content: Preface\n",
            "Today,\twe\tlive\tin\ta\tworld\tof\tconnected\tthings\twhere\ttons\tof\tdata\tis\tgenerated\tand\tit\tis\n",
            "humanly\timpossible\tto\tanalyze\tall\tthe\tincoming\tdata\tand\tmake\tdecisions.\tHuman\n",
            "decisions\tare\tincreasingly\treplaced\tby\tdecisions\tmade\tby\tcomputers.\tThanks\tto\tthe\tfield\n",
            "of\tdata\tscience.\tData\tscience\thas\tpenetrated\tdeeply\tin\tour\tconnected\tworld\tand\tthere\tis\ta\n",
            "growing\tdemand\tin\tthe\tmarket\tfor\tpeople\twho\tnot\tonly\tunderstand\tdata\tscience\n",
            "algorithms\tthoroughly,\tbut\tare\talso\tcapable\tof\tprogramming\tthese\talgorithms.\tData\n",
            "science\tis\ta\tfield\tthat\tis\tat\tthe\tintersection\tof\tmany\tfields,\tincluding\tdata\tmining,\tmachine\n",
            "learning,\tand\tstatistics,\tto\tname\ta\tfew.\tThis\tputs\tan\timmense\tburden\ton\tall\tlevels\tof\tdata\n",
            "scientists;\tfrom\tthe\tone\twho\tis\taspiring\tto\tbecome\ta\tdata\tscientist\tand\tthose\twho\tare\n",
            "currently\tpractitioners\tin\tthis\tfield.\tTreating\tthese\talgorithms\tas\ta\tblack\tbox\tand\tusing\n",
            "them\tin\tdecision-making\tsystems\twill\tlead\tto\tcounterproductive\tresults.\tWith\ttons\tof\n",
            "algorithms\tand\tinnumerable\tproblems\tout\tthere,\tit\trequires\ta\tgood\tgrasp\tof\tthe\tunderlying\n",
            "algorithms\tin\torder\tto\tchoose\tthe\tbest\tone\tfor\tany\tgiven\tproblem.\n",
            "Python\tas\ta\tprogramming\tlanguage\thas\tevolved\tover\tthe\tyears\tand\ttoday,\tit\tis\tthe\tnumber\n",
            "one\tchoice\tfor\ta\tdata\tscientist.\tIts\tability\tto\tact\tas\ta\tscripting\tlanguage\tfor\tquick\tprototype\n",
            "building\tand\tits\tsophisticated\tlanguage\tconstructs\tfor\tfull-fledged\tsoftware\tdevelopment\n",
            "combined\twith\tits\tfantastic\tlibrary\tsupport\tfor\tnumeric\tcomputations\thas\tled\tto\tits\tcurrent\n",
            "popularity\tamong\tdata\tscientists\tand\tthe\tgeneral\tscientific\tprogramming\tcommunity.\tNot\n",
            "just\tthat,\tPython\tis\talso\tpopular\tamong\tweb\tdevelopers;\tthanks\tto\tframeworks\tsuch\tas\n",
            "Django\tand\tFlask.\n",
            "This\tbook\thas\tbeen\tcarefully\twritten\tto\tcater\tto\tthe\tneeds\tof\ta\tdiverse\trange\tof\tdata\n",
            "scientists—starting\tfrom\tnovice\tdata\tscientists\tto\texperienced\tones—through\tcarefully\n",
            "crafted\trecipes,\twhich\ttouch\tupon\tthe\tdifferent\taspects\tof\tdata\tscience,\tincluding\tdata\n",
            "exploration,\tdata\tanalysis\tand\tmining,\tmachine\tlearning,\tand\tlarge\tscale\tmachine\tlearning.\n",
            "Each\tchapter\thas\tbeen\tcarefully\tcrafted\twith\trecipes\texploring\tthese\taspects.\tSufficient\n",
            "math\thas\tbeen\tprovided\tfor\tthe\treaders\tto\tunderstand\tthe\tfunctioning\tof\tthe\talgorithms\tin\n",
            "depth.\tWherever\tnecessary,\tenough\treferences\tare\tprovided\tfor\tthe\tcurious\treaders.\tThe\n",
            "recipes\tare\twritten\tin\tsuch\ta\tway\tthat\tthey\tare\teasy\tto\tfollow\tand\tunderstand.\n",
            "This\tbook\tbrings\tthe\tart\tof\tdata\tscience\twith\tpower\tPython\tprogramming\tto\tthe\treaders\n",
            "and\thelps\tthem\tmaster\tthe\tconcepts\tof\tdata\tscience.\tKnowledge\tof\tPython\tis\tnot\n",
            "mandatory\tto\tfollow\tthis\tbook.\tNon-Python\tprogrammers\tcan\trefer\tto\tthe\tfirst\tchapter,\n",
            "which\tintroduces\tthe\tPython\tdata\tstructures\tand\tfunction\tprogramming\tconcepts.\n",
            "The\tearly\tchapters\tcover\tthe\tbasics\tof\tdata\tscience\tand\tthe\tlater\tchapters\tare\tdedicated\tto\n",
            "advanced\tdata\tscience\talgorithms.\tState-of-the-art\talgorithms\tthat\tare\tcurrently\tused\tin\n",
            "practice\tby\tleading\tdata\tscientists\tacross\tindustries\tincluding\tthe\tensemble\tmethods,\n",
            "random\tforest,\tregression\twith\tregularization,\tand\tothers\tare\tcovered\tin\tdetail.\tSome\tof\n",
            "the\talgorithms\tthat\tare\tpopular\tin\tacademia\tand\tstill\tnot\twidely\tintroduced\tto\tthe\n",
            "mainstream\tsuch\tas\trotational\tforest\tare\tcovered\tin\tdetail.\n",
            "With\ta\tlot\tof\tdo-it-yourself\tbooks\ton\tdata\tscience\ttoday\tin\tthe\tmarket,\twe\tfeel\tthat\tthere\tis\n",
            "a\tgap\tin\tterms\tof\tcovering\tthe\tright\tmix\tof\tmath\tphilosophy\tbehind\tthe\tdata\tscience\n",
            "\n"
          ],
          "name": "stdout"
        }
      ]
    },
    {
      "cell_type": "markdown",
      "metadata": {
        "id": "cHM-waUvQNLl"
      },
      "source": [
        "## ¿Cuál archivo tiene el mayor número de palabras?"
      ]
    },
    {
      "cell_type": "code",
      "metadata": {
        "colab": {
          "base_uri": "https://localhost:8080/"
        },
        "id": "aoHYsrl7Nkgb",
        "outputId": "6c1d08b6-60cb-4669-e8d3-addc247fa6d8"
      },
      "source": [
        "import pandas as pd\r\n",
        "\r\n",
        "df = pd.DataFrame(word_count, columns=[\"file\",\"word_count\"])\r\n",
        "max_file = df[df[\"word_count\"]==df[\"word_count\"].max()].values[0]\r\n",
        "\r\n",
        "print(f\"El archivo que tiene mayor #palabras es: '{max_file[0]}' con {max_file[1]} palabras\")"
      ],
      "execution_count": 6,
      "outputs": [
        {
          "output_type": "stream",
          "text": [
            "El archivo que tiene mayor #palabras es: 'Python  Data Science Cookbook.pdf' con 535 palabras\n"
          ],
          "name": "stdout"
        }
      ]
    }
  ]
}