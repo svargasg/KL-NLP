{
 "metadata": {
  "language_info": {
   "codemirror_mode": {
    "name": "ipython",
    "version": 3
   },
   "file_extension": ".py",
   "mimetype": "text/x-python",
   "name": "python",
   "nbconvert_exporter": "python",
   "pygments_lexer": "ipython3",
   "version": "3.7.9"
  },
  "orig_nbformat": 2,
  "kernelspec": {
   "name": "pythonjvsc74a57bd05c87bd3015cd69b8b60c8d0fb92ee3c440be4fb22f882aba47c85e7185b32327",
   "display_name": "Python 3.7.9  ('env': venv)"
  },
  "metadata": {
   "interpreter": {
    "hash": "5c87bd3015cd69b8b60c8d0fb92ee3c440be4fb22f882aba47c85e7185b32327"
   }
  }
 },
 "nbformat": 4,
 "nbformat_minor": 2,
 "cells": [
  {
   "cell_type": "code",
   "execution_count": 9,
   "metadata": {},
   "outputs": [],
   "source": [
    "import json\n",
    "\n",
    "with open('..\\credentials.json') as f:\n",
    "    keys = json.load(f)"
   ]
  },
  {
   "cell_type": "code",
   "execution_count": 11,
   "metadata": {},
   "outputs": [],
   "source": [
    "import pandas as pd\n",
    "import tweepy\n",
    "\n",
    "# Autenticar a través de la API \n",
    "auth = tweepy.OAuthHandler(keys['api_key'], keys['api_secret_key'])\n",
    "auth.set_access_token(keys['access_token'], keys['access_token_secret'])\n",
    "api = tweepy.API(auth, wait_on_rate_limit=True)\n",
    "\n",
    "# Hacer un tuit\n",
    "\n",
    "# api.update_status('tweet test')"
   ]
  },
  {
   "cell_type": "code",
   "execution_count": 12,
   "metadata": {},
   "outputs": [],
   "source": [
    "tweets = tweepy.Cursor(api.search,\n",
    "                       q=['giro de italia -RT'],\n",
    "                       lang='es',\n",
    "                       geocode='4.7110,-74.0721,100km',\n",
    "                       tweet_mode='extended',\n",
    "                       include_rts=False,\n",
    "                       ).items(100)"
   ]
  },
  {
   "cell_type": "code",
   "execution_count": 13,
   "metadata": {},
   "outputs": [
    {
     "output_type": "execute_result",
     "data": {
      "text/plain": [
       "                                              tweets                date  \\\n",
       "0  ¡Mikel Landa deberá ser operado tras su accide... 2021-05-13 23:58:34   \n",
       "1  ¡Golpea el Ineos! 🇨🇴🔥🚴‍♂️Egan Bernal otra vez ... 2021-05-13 23:00:00   \n",
       "2  #DeportesRCN |VIDEO| 🇨🇴🚴‍♂️\\n\\nEgan Bernal hab... 2021-05-13 22:45:26   \n",
       "3  Felicitaciones para el Ciclista colombiano @Eg... 2021-05-13 22:19:56   \n",
       "4  El ciclista colombiano Egan Bernal, se lució e... 2021-05-13 21:53:27   \n",
       "\n",
       "     city           user_location                   id  \\\n",
       "0  Bogotá                  Bogotá  1392992698085388291   \n",
       "1  Bogotá        Bogotá. Colombia  1392977960177569793   \n",
       "2  Bogotá        Bogotá, Colombia  1392974292242112518   \n",
       "3  Bogotá  Bogotá, D.C., Colombia  1392967876970229767   \n",
       "4  Bogotá  Bogotá, D.C., Colombia  1392961213424979970   \n",
       "\n",
       "                                                link  \n",
       "0  https://twitter.com/i/web/status/1392992698085...  \n",
       "1  https://twitter.com/i/web/status/1392977960177...  \n",
       "2  https://twitter.com/i/web/status/1392974292242...  \n",
       "3  https://twitter.com/i/web/status/1392967876970...  \n",
       "4  https://twitter.com/i/web/status/1392961213424...  "
      ],
      "text/html": "<div>\n<style scoped>\n    .dataframe tbody tr th:only-of-type {\n        vertical-align: middle;\n    }\n\n    .dataframe tbody tr th {\n        vertical-align: top;\n    }\n\n    .dataframe thead th {\n        text-align: right;\n    }\n</style>\n<table border=\"1\" class=\"dataframe\">\n  <thead>\n    <tr style=\"text-align: right;\">\n      <th></th>\n      <th>tweets</th>\n      <th>date</th>\n      <th>city</th>\n      <th>user_location</th>\n      <th>id</th>\n      <th>link</th>\n    </tr>\n  </thead>\n  <tbody>\n    <tr>\n      <th>0</th>\n      <td>¡Mikel Landa deberá ser operado tras su accide...</td>\n      <td>2021-05-13 23:58:34</td>\n      <td>Bogotá</td>\n      <td>Bogotá</td>\n      <td>1392992698085388291</td>\n      <td>https://twitter.com/i/web/status/1392992698085...</td>\n    </tr>\n    <tr>\n      <th>1</th>\n      <td>¡Golpea el Ineos! 🇨🇴🔥🚴‍♂️Egan Bernal otra vez ...</td>\n      <td>2021-05-13 23:00:00</td>\n      <td>Bogotá</td>\n      <td>Bogotá. Colombia</td>\n      <td>1392977960177569793</td>\n      <td>https://twitter.com/i/web/status/1392977960177...</td>\n    </tr>\n    <tr>\n      <th>2</th>\n      <td>#DeportesRCN |VIDEO| 🇨🇴🚴‍♂️\\n\\nEgan Bernal hab...</td>\n      <td>2021-05-13 22:45:26</td>\n      <td>Bogotá</td>\n      <td>Bogotá, Colombia</td>\n      <td>1392974292242112518</td>\n      <td>https://twitter.com/i/web/status/1392974292242...</td>\n    </tr>\n    <tr>\n      <th>3</th>\n      <td>Felicitaciones para el Ciclista colombiano @Eg...</td>\n      <td>2021-05-13 22:19:56</td>\n      <td>Bogotá</td>\n      <td>Bogotá, D.C., Colombia</td>\n      <td>1392967876970229767</td>\n      <td>https://twitter.com/i/web/status/1392967876970...</td>\n    </tr>\n    <tr>\n      <th>4</th>\n      <td>El ciclista colombiano Egan Bernal, se lució e...</td>\n      <td>2021-05-13 21:53:27</td>\n      <td>Bogotá</td>\n      <td>Bogotá, D.C., Colombia</td>\n      <td>1392961213424979970</td>\n      <td>https://twitter.com/i/web/status/1392961213424...</td>\n    </tr>\n  </tbody>\n</table>\n</div>"
     },
     "metadata": {},
     "execution_count": 13
    }
   ],
   "source": [
    "# Objeto generador\n",
    "t = [tweet for tweet in tweets]\n",
    "t_processed = []\n",
    "\n",
    "for tweet in t: \n",
    "    temp = []\n",
    "    temp.append(tweet.full_text)\n",
    "    temp.append(tweet.created_at)\n",
    "    temp.append('Bogotá')\n",
    "    temp.append(tweet.user.location)\n",
    "    temp.append(tweet.id)\n",
    "    temp.append(f\"https://twitter.com/i/web/status/{tweet.id}\")\n",
    "    t_processed.append(temp)\n",
    "    \n",
    "data = pd.DataFrame(t_processed)\n",
    "data.columns = ['tweets', 'date', 'city', 'user_location', 'id', 'link']\n",
    "data.head()"
   ]
  },
  {
   "cell_type": "code",
   "execution_count": 15,
   "metadata": {},
   "outputs": [],
   "source": [
    "data.to_csv(\"archivo.csv\", index=False)"
   ]
  },
  {
   "cell_type": "code",
   "execution_count": 17,
   "metadata": {},
   "outputs": [
    {
     "output_type": "stream",
     "name": "stdout",
     "text": [
      "https://twitter.com/CANmialegria/status/500066563522056192\n2014-08-14 23:48:54+00:00\nCambiemos el HT #EraGolDeYepes, por #EraGolDeCopete. ¡Nunca hubo fuera de lugar!\n¿#LaCulpaEsDePostobon?  @PradoVerde1999 @vamosmiverdecom\n****************************************************************************************************\n\nhttps://twitter.com/cami_canoles/status/500064190288384000\n2014-08-14 23:39:28+00:00\nhttp://t.co/X3CpWL1Q3x #eragoldeyepes\n****************************************************************************************************\n\nhttps://twitter.com/TamayoJr11/status/500062617969643520\n2014-08-14 23:33:13+00:00\n#EraGolDeYepes http://t.co/K9Am0bxOIh\n****************************************************************************************************\n\nhttps://twitter.com/Edw_Chacon/status/500055868361412608\n2014-08-14 23:06:24+00:00\nJjaJja Todavia Me Acuerdo :') #EraGolDeYepes http://t.co/xFkiku07ae\n****************************************************************************************************\n\nhttps://twitter.com/niko14p/status/500043243581882368\n2014-08-14 22:16:14+00:00\n#EraGolDeYepes\n****************************************************************************************************\n\nhttps://twitter.com/SebastianTK1/status/500037065510486017\n2014-08-14 21:51:41+00:00\n#EraGolDeYepes\n****************************************************************************************************\n\nhttps://twitter.com/vanegiraldo196/status/500033127444930560\n2014-08-14 21:36:02+00:00\nDía 42 #EraGolDeYepes\n****************************************************************************************************\n\nhttps://twitter.com/DussanCristhian/status/500023139699802113\n2014-08-14 20:56:21+00:00\nAhhhhh #yodespechado disfruto de mis amistades #PásalaJoven es mi#SituacionSentimental .y #EraGolDeYepes\n****************************************************************************************************\n\nhttps://twitter.com/SaraBenavides27/status/500021235234136064\n2014-08-14 20:48:47+00:00\n#EraGolDeYepes .\n****************************************************************************************************\n\nhttps://twitter.com/pildoradigital_/status/500011323502370816\n2014-08-14 20:09:23+00:00\nhttp://t.co/GGkbwNMx3w #EraGolDeYepes Ingresa y lee lo mejor del fútbol.\n****************************************************************************************************\n\nhttps://twitter.com/melanyos_13/status/500007256214478849\n2014-08-14 19:53:14+00:00\n\"@CBorrero01: Uno queriendo superar el #EraGolDeYepes y llega #DiarioDeUnSueño y me hace recaer.\"\n****************************************************************************************************\n\n"
     ]
    }
   ],
   "source": [
    "#datos historicos\n",
    "import snscrape.modules.twitter as sntwitter\n",
    "\n",
    "maxTweets = 10  \n",
    "for i,tweet in enumerate(sntwitter.TwitterSearchScraper('#eragoldeyepes ' + 'since:2014-07-15 until:2014-08-15').get_items()) :\n",
    "        if i > maxTweets :\n",
    "            break\n",
    "        print(tweet)\n",
    "        print(tweet.date)\n",
    "        print(tweet.content)\n",
    "        print(\"*\"*100)\n",
    "        print()"
   ]
  },
  {
   "cell_type": "code",
   "execution_count": 18,
   "metadata": {},
   "outputs": [
    {
     "output_type": "execute_result",
     "data": {
      "text/plain": [
       "                                              tweets                date\n",
       "0  ¡Mikel Landa deberá ser operado tras su accide... 2021-05-13 23:58:34\n",
       "1  ¡Golpea el Ineos! 🇨🇴🔥🚴‍♂️Egan Bernal otra vez ... 2021-05-13 23:00:00\n",
       "2  #DeportesRCN |VIDEO| 🇨🇴🚴‍♂️\\n\\nEgan Bernal hab... 2021-05-13 22:45:26\n",
       "3  Felicitaciones para el Ciclista colombiano @Eg... 2021-05-13 22:19:56\n",
       "4  El ciclista colombiano Egan Bernal, se lució e... 2021-05-13 21:53:27"
      ],
      "text/html": "<div>\n<style scoped>\n    .dataframe tbody tr th:only-of-type {\n        vertical-align: middle;\n    }\n\n    .dataframe tbody tr th {\n        vertical-align: top;\n    }\n\n    .dataframe thead th {\n        text-align: right;\n    }\n</style>\n<table border=\"1\" class=\"dataframe\">\n  <thead>\n    <tr style=\"text-align: right;\">\n      <th></th>\n      <th>tweets</th>\n      <th>date</th>\n    </tr>\n  </thead>\n  <tbody>\n    <tr>\n      <th>0</th>\n      <td>¡Mikel Landa deberá ser operado tras su accide...</td>\n      <td>2021-05-13 23:58:34</td>\n    </tr>\n    <tr>\n      <th>1</th>\n      <td>¡Golpea el Ineos! 🇨🇴🔥🚴‍♂️Egan Bernal otra vez ...</td>\n      <td>2021-05-13 23:00:00</td>\n    </tr>\n    <tr>\n      <th>2</th>\n      <td>#DeportesRCN |VIDEO| 🇨🇴🚴‍♂️\\n\\nEgan Bernal hab...</td>\n      <td>2021-05-13 22:45:26</td>\n    </tr>\n    <tr>\n      <th>3</th>\n      <td>Felicitaciones para el Ciclista colombiano @Eg...</td>\n      <td>2021-05-13 22:19:56</td>\n    </tr>\n    <tr>\n      <th>4</th>\n      <td>El ciclista colombiano Egan Bernal, se lució e...</td>\n      <td>2021-05-13 21:53:27</td>\n    </tr>\n  </tbody>\n</table>\n</div>"
     },
     "metadata": {},
     "execution_count": 18
    }
   ],
   "source": [
    "data = data[['tweets', 'date']]\n",
    "data.head()"
   ]
  },
  {
   "cell_type": "code",
   "execution_count": 19,
   "metadata": {},
   "outputs": [
    {
     "output_type": "execute_result",
     "data": {
      "text/plain": [
       "                                               tweets                date  \\\n",
       "0   ¡Mikel Landa deberá ser operado tras su accide... 2021-05-13 23:58:34   \n",
       "1   ¡Golpea el Ineos! 🇨🇴🔥🚴‍♂️Egan Bernal otra vez ... 2021-05-13 23:00:00   \n",
       "2   #DeportesRCN |VIDEO| 🇨🇴🚴‍♂️\\n\\nEgan Bernal hab... 2021-05-13 22:45:26   \n",
       "3   Felicitaciones para el Ciclista colombiano @Eg... 2021-05-13 22:19:56   \n",
       "4   El ciclista colombiano Egan Bernal, se lució e... 2021-05-13 21:53:27   \n",
       "..                                                ...                 ...   \n",
       "95  Gino Mader ganó la etapa 6 del Giro de Italia.... 2021-05-13 15:17:42   \n",
       "96  #Giro | Egan Bernal llegó segundo en la meta y... 2021-05-13 15:16:41   \n",
       "97  #Giro | Egan Bernal llegó segundo en la meta y... 2021-05-13 15:16:35   \n",
       "98  #Giro | Ganó Gino Mader la etapa 5 del Giro de... 2021-05-13 15:16:33   \n",
       "99  #Giro | Ganó Gino Mader la etapa 5 del Giro de... 2021-05-13 15:16:30   \n",
       "\n",
       "                                         texto_limpio  \\\n",
       "0   ¡Mikel Landa deberá ser operado tras su accide...   \n",
       "1   ¡Golpea el Ineos! 🇨🇴🔥🚴‍♂️Egan Bernal otra vez ...   \n",
       "2    |VIDEO| 🇨🇴🚴‍♂️\\n\\nEgan Bernal habló de la sex...   \n",
       "3   Felicitaciones para el Ciclista colombiano  qu...   \n",
       "4   El ciclista colombiano Egan Bernal, se lució e...   \n",
       "..                                                ...   \n",
       "95  Gino Mader ganó la etapa 6 del Giro de Italia....   \n",
       "96   | Egan Bernal llegó segundo en la meta y el t...   \n",
       "97   | Egan Bernal llegó segundo en la meta y el t...   \n",
       "98   | Ganó Gino Mader la etapa 5 del Giro de Ital...   \n",
       "99   | Ganó Gino Mader la etapa 5 del Giro de Ital...   \n",
       "\n",
       "                                                links  \\\n",
       "0                           [https://t.co/ekMmBdYX7J]   \n",
       "1   [https://t.co/6yQSA9HD7k, https://t.co/xuZF6er...   \n",
       "2                           [https://t.co/n5CPSVWgUp]   \n",
       "3                           [https://t.co/n8PTrNkyzB]   \n",
       "4                           [https://t.co/G297IC28o5]   \n",
       "..                                                ...   \n",
       "95                                                 []   \n",
       "96                          [https://t.co/qCeEtMh0k9]   \n",
       "97                          [https://t.co/3qnAkaUN1v]   \n",
       "98                          [https://t.co/cvmYhDb9W6]   \n",
       "99                          [https://t.co/UhraEGUqjv]   \n",
       "\n",
       "                            hashtags       mentions  \n",
       "0                                 []             []  \n",
       "1                                 []             []  \n",
       "2   [#DeportesRCN, #NuestroCiclismo]             []  \n",
       "3                                 []  [@Eganbernal]  \n",
       "4                                 []             []  \n",
       "..                               ...            ...  \n",
       "95                                []             []  \n",
       "96                           [#Giro]             []  \n",
       "97                           [#Giro]             []  \n",
       "98                  [#Giro, #EnVivo]             []  \n",
       "99                  [#Giro, #EnVivo]             []  \n",
       "\n",
       "[100 rows x 6 columns]"
      ],
      "text/html": "<div>\n<style scoped>\n    .dataframe tbody tr th:only-of-type {\n        vertical-align: middle;\n    }\n\n    .dataframe tbody tr th {\n        vertical-align: top;\n    }\n\n    .dataframe thead th {\n        text-align: right;\n    }\n</style>\n<table border=\"1\" class=\"dataframe\">\n  <thead>\n    <tr style=\"text-align: right;\">\n      <th></th>\n      <th>tweets</th>\n      <th>date</th>\n      <th>texto_limpio</th>\n      <th>links</th>\n      <th>hashtags</th>\n      <th>mentions</th>\n    </tr>\n  </thead>\n  <tbody>\n    <tr>\n      <th>0</th>\n      <td>¡Mikel Landa deberá ser operado tras su accide...</td>\n      <td>2021-05-13 23:58:34</td>\n      <td>¡Mikel Landa deberá ser operado tras su accide...</td>\n      <td>[https://t.co/ekMmBdYX7J]</td>\n      <td>[]</td>\n      <td>[]</td>\n    </tr>\n    <tr>\n      <th>1</th>\n      <td>¡Golpea el Ineos! 🇨🇴🔥🚴‍♂️Egan Bernal otra vez ...</td>\n      <td>2021-05-13 23:00:00</td>\n      <td>¡Golpea el Ineos! 🇨🇴🔥🚴‍♂️Egan Bernal otra vez ...</td>\n      <td>[https://t.co/6yQSA9HD7k, https://t.co/xuZF6er...</td>\n      <td>[]</td>\n      <td>[]</td>\n    </tr>\n    <tr>\n      <th>2</th>\n      <td>#DeportesRCN |VIDEO| 🇨🇴🚴‍♂️\\n\\nEgan Bernal hab...</td>\n      <td>2021-05-13 22:45:26</td>\n      <td>|VIDEO| 🇨🇴🚴‍♂️\\n\\nEgan Bernal habló de la sex...</td>\n      <td>[https://t.co/n5CPSVWgUp]</td>\n      <td>[#DeportesRCN, #NuestroCiclismo]</td>\n      <td>[]</td>\n    </tr>\n    <tr>\n      <th>3</th>\n      <td>Felicitaciones para el Ciclista colombiano @Eg...</td>\n      <td>2021-05-13 22:19:56</td>\n      <td>Felicitaciones para el Ciclista colombiano  qu...</td>\n      <td>[https://t.co/n8PTrNkyzB]</td>\n      <td>[]</td>\n      <td>[@Eganbernal]</td>\n    </tr>\n    <tr>\n      <th>4</th>\n      <td>El ciclista colombiano Egan Bernal, se lució e...</td>\n      <td>2021-05-13 21:53:27</td>\n      <td>El ciclista colombiano Egan Bernal, se lució e...</td>\n      <td>[https://t.co/G297IC28o5]</td>\n      <td>[]</td>\n      <td>[]</td>\n    </tr>\n    <tr>\n      <th>...</th>\n      <td>...</td>\n      <td>...</td>\n      <td>...</td>\n      <td>...</td>\n      <td>...</td>\n      <td>...</td>\n    </tr>\n    <tr>\n      <th>95</th>\n      <td>Gino Mader ganó la etapa 6 del Giro de Italia....</td>\n      <td>2021-05-13 15:17:42</td>\n      <td>Gino Mader ganó la etapa 6 del Giro de Italia....</td>\n      <td>[]</td>\n      <td>[]</td>\n      <td>[]</td>\n    </tr>\n    <tr>\n      <th>96</th>\n      <td>#Giro | Egan Bernal llegó segundo en la meta y...</td>\n      <td>2021-05-13 15:16:41</td>\n      <td>| Egan Bernal llegó segundo en la meta y el t...</td>\n      <td>[https://t.co/qCeEtMh0k9]</td>\n      <td>[#Giro]</td>\n      <td>[]</td>\n    </tr>\n    <tr>\n      <th>97</th>\n      <td>#Giro | Egan Bernal llegó segundo en la meta y...</td>\n      <td>2021-05-13 15:16:35</td>\n      <td>| Egan Bernal llegó segundo en la meta y el t...</td>\n      <td>[https://t.co/3qnAkaUN1v]</td>\n      <td>[#Giro]</td>\n      <td>[]</td>\n    </tr>\n    <tr>\n      <th>98</th>\n      <td>#Giro | Ganó Gino Mader la etapa 5 del Giro de...</td>\n      <td>2021-05-13 15:16:33</td>\n      <td>| Ganó Gino Mader la etapa 5 del Giro de Ital...</td>\n      <td>[https://t.co/cvmYhDb9W6]</td>\n      <td>[#Giro, #EnVivo]</td>\n      <td>[]</td>\n    </tr>\n    <tr>\n      <th>99</th>\n      <td>#Giro | Ganó Gino Mader la etapa 5 del Giro de...</td>\n      <td>2021-05-13 15:16:30</td>\n      <td>| Ganó Gino Mader la etapa 5 del Giro de Ital...</td>\n      <td>[https://t.co/UhraEGUqjv]</td>\n      <td>[#Giro, #EnVivo]</td>\n      <td>[]</td>\n    </tr>\n  </tbody>\n</table>\n<p>100 rows × 6 columns</p>\n</div>"
     },
     "metadata": {},
     "execution_count": 19
    }
   ],
   "source": [
    "import re \n",
    "\n",
    "pattern1 = '?P<pic>pic.twitter.com/[^\\s]+'\n",
    "pattern2 = '?P<url>https?://[^\\s]+'\n",
    "\n",
    "def text_clean(row):\n",
    "    text = row['tweets']\n",
    "    \n",
    "    links = [tuple(j for j in i if j)[-1] for i in re.findall(f\"({pattern1})|({pattern2})\",text)]\n",
    "    for link in links:\n",
    "        text = text.replace(link,\"\")\n",
    "    \n",
    "    hashtags = [interaction for interaction in text.split() if interaction.startswith(\"#\")]\n",
    "    for hashtag in hashtags:\n",
    "        text = text.replace(hashtag, \"\")\n",
    "        \n",
    "    mentions = [interaction for interaction in text.split() if interaction.startswith(\"@\")]\n",
    "    for mention in mentions:\n",
    "        text = text.replace(mention, \"\")\n",
    "        \n",
    "    return text, links, hashtags, mentions\n",
    "  \n",
    "  \n",
    "data[['texto_limpio', 'links', 'hashtags', 'mentions']] = data.apply(text_clean, axis=1, result_type='expand')\n",
    "data"
   ]
  },
  {
   "cell_type": "code",
   "execution_count": 21,
   "metadata": {},
   "outputs": [
    {
     "output_type": "execute_result",
     "data": {
      "text/plain": [
       "                                              tweets                date  \\\n",
       "0  ¡Mikel Landa deberá ser operado tras su accide... 2021-05-13 23:58:34   \n",
       "1  ¡Golpea el Ineos! 🇨🇴🔥🚴‍♂️Egan Bernal otra vez ... 2021-05-13 23:00:00   \n",
       "2  #DeportesRCN |VIDEO| 🇨🇴🚴‍♂️\\n\\nEgan Bernal hab... 2021-05-13 22:45:26   \n",
       "3  Felicitaciones para el Ciclista colombiano @Eg... 2021-05-13 22:19:56   \n",
       "4  El ciclista colombiano Egan Bernal, se lució e... 2021-05-13 21:53:27   \n",
       "\n",
       "                                        texto_limpio  \\\n",
       "0  ¡Mikel Landa deberá ser operado tras su accide...   \n",
       "1  ¡Golpea el Ineos! 🇨🇴🔥🚴‍♂️Egan Bernal otra vez ...   \n",
       "2   |VIDEO| 🇨🇴🚴‍♂️\\n\\nEgan Bernal habló de la sex...   \n",
       "3  Felicitaciones para el Ciclista colombiano  qu...   \n",
       "4  El ciclista colombiano Egan Bernal, se lució e...   \n",
       "\n",
       "                                               links  \\\n",
       "0                          [https://t.co/ekMmBdYX7J]   \n",
       "1  [https://t.co/6yQSA9HD7k, https://t.co/xuZF6er...   \n",
       "2                          [https://t.co/n5CPSVWgUp]   \n",
       "3                          [https://t.co/n8PTrNkyzB]   \n",
       "4                          [https://t.co/G297IC28o5]   \n",
       "\n",
       "                           hashtags       mentions             emojis  \n",
       "0                                []             []                 []  \n",
       "1                                []             []  [🔥, 🚴‍♂️, ➡️, ➡️]  \n",
       "2  [#DeportesRCN, #NuestroCiclismo]             []             [🚴‍♂️]  \n",
       "3                                []  [@Eganbernal]                 []  \n",
       "4                                []             []                 []  "
      ],
      "text/html": "<div>\n<style scoped>\n    .dataframe tbody tr th:only-of-type {\n        vertical-align: middle;\n    }\n\n    .dataframe tbody tr th {\n        vertical-align: top;\n    }\n\n    .dataframe thead th {\n        text-align: right;\n    }\n</style>\n<table border=\"1\" class=\"dataframe\">\n  <thead>\n    <tr style=\"text-align: right;\">\n      <th></th>\n      <th>tweets</th>\n      <th>date</th>\n      <th>texto_limpio</th>\n      <th>links</th>\n      <th>hashtags</th>\n      <th>mentions</th>\n      <th>emojis</th>\n    </tr>\n  </thead>\n  <tbody>\n    <tr>\n      <th>0</th>\n      <td>¡Mikel Landa deberá ser operado tras su accide...</td>\n      <td>2021-05-13 23:58:34</td>\n      <td>¡Mikel Landa deberá ser operado tras su accide...</td>\n      <td>[https://t.co/ekMmBdYX7J]</td>\n      <td>[]</td>\n      <td>[]</td>\n      <td>[]</td>\n    </tr>\n    <tr>\n      <th>1</th>\n      <td>¡Golpea el Ineos! 🇨🇴🔥🚴‍♂️Egan Bernal otra vez ...</td>\n      <td>2021-05-13 23:00:00</td>\n      <td>¡Golpea el Ineos! 🇨🇴🔥🚴‍♂️Egan Bernal otra vez ...</td>\n      <td>[https://t.co/6yQSA9HD7k, https://t.co/xuZF6er...</td>\n      <td>[]</td>\n      <td>[]</td>\n      <td>[🔥, 🚴‍♂️, ➡️, ➡️]</td>\n    </tr>\n    <tr>\n      <th>2</th>\n      <td>#DeportesRCN |VIDEO| 🇨🇴🚴‍♂️\\n\\nEgan Bernal hab...</td>\n      <td>2021-05-13 22:45:26</td>\n      <td>|VIDEO| 🇨🇴🚴‍♂️\\n\\nEgan Bernal habló de la sex...</td>\n      <td>[https://t.co/n5CPSVWgUp]</td>\n      <td>[#DeportesRCN, #NuestroCiclismo]</td>\n      <td>[]</td>\n      <td>[🚴‍♂️]</td>\n    </tr>\n    <tr>\n      <th>3</th>\n      <td>Felicitaciones para el Ciclista colombiano @Eg...</td>\n      <td>2021-05-13 22:19:56</td>\n      <td>Felicitaciones para el Ciclista colombiano  qu...</td>\n      <td>[https://t.co/n8PTrNkyzB]</td>\n      <td>[]</td>\n      <td>[@Eganbernal]</td>\n      <td>[]</td>\n    </tr>\n    <tr>\n      <th>4</th>\n      <td>El ciclista colombiano Egan Bernal, se lució e...</td>\n      <td>2021-05-13 21:53:27</td>\n      <td>El ciclista colombiano Egan Bernal, se lució e...</td>\n      <td>[https://t.co/G297IC28o5]</td>\n      <td>[]</td>\n      <td>[]</td>\n      <td>[]</td>\n    </tr>\n  </tbody>\n</table>\n</div>"
     },
     "metadata": {},
     "execution_count": 21
    }
   ],
   "source": [
    "import regex\n",
    "import emoji\n",
    "\n",
    "def get_emojis(text):\n",
    "    emoji_list = []\n",
    "    data = regex.findall(r'\\X', text)\n",
    "    for word in data:\n",
    "        if any(char in emoji.UNICODE_EMOJI['en'] for char in word):\n",
    "            emoji_list.append(word)\n",
    "\n",
    "    return emoji_list\n",
    "  \n",
    "  \n",
    "\n",
    "data['emojis'] = data['texto_limpio'].apply(lambda text: get_emojis(text))\n",
    "data.head()"
   ]
  },
  {
   "cell_type": "code",
   "execution_count": 22,
   "metadata": {},
   "outputs": [
    {
     "output_type": "execute_result",
     "data": {
      "text/plain": [
       "        hora  cnt\n",
       "0   15:16:00    4\n",
       "8   15:17:00    2\n",
       "6   15:18:00    2\n",
       "62  15:21:00    1\n",
       "22  15:22:00    1\n",
       "..       ...  ...\n",
       "59  21:53:00    1\n",
       "18  22:19:00    1\n",
       "63  22:45:00    1\n",
       "67  23:00:00    1\n",
       "47  23:58:00    1\n",
       "\n",
       "[80 rows x 2 columns]"
      ],
      "text/html": "<div>\n<style scoped>\n    .dataframe tbody tr th:only-of-type {\n        vertical-align: middle;\n    }\n\n    .dataframe tbody tr th {\n        vertical-align: top;\n    }\n\n    .dataframe thead th {\n        text-align: right;\n    }\n</style>\n<table border=\"1\" class=\"dataframe\">\n  <thead>\n    <tr style=\"text-align: right;\">\n      <th></th>\n      <th>hora</th>\n      <th>cnt</th>\n    </tr>\n  </thead>\n  <tbody>\n    <tr>\n      <th>0</th>\n      <td>15:16:00</td>\n      <td>4</td>\n    </tr>\n    <tr>\n      <th>8</th>\n      <td>15:17:00</td>\n      <td>2</td>\n    </tr>\n    <tr>\n      <th>6</th>\n      <td>15:18:00</td>\n      <td>2</td>\n    </tr>\n    <tr>\n      <th>62</th>\n      <td>15:21:00</td>\n      <td>1</td>\n    </tr>\n    <tr>\n      <th>22</th>\n      <td>15:22:00</td>\n      <td>1</td>\n    </tr>\n    <tr>\n      <th>...</th>\n      <td>...</td>\n      <td>...</td>\n    </tr>\n    <tr>\n      <th>59</th>\n      <td>21:53:00</td>\n      <td>1</td>\n    </tr>\n    <tr>\n      <th>18</th>\n      <td>22:19:00</td>\n      <td>1</td>\n    </tr>\n    <tr>\n      <th>63</th>\n      <td>22:45:00</td>\n      <td>1</td>\n    </tr>\n    <tr>\n      <th>67</th>\n      <td>23:00:00</td>\n      <td>1</td>\n    </tr>\n    <tr>\n      <th>47</th>\n      <td>23:58:00</td>\n      <td>1</td>\n    </tr>\n  </tbody>\n</table>\n<p>80 rows × 2 columns</p>\n</div>"
     },
     "metadata": {},
     "execution_count": 22
    }
   ],
   "source": [
    "data['hora'] = data['date'].dt.floor('T').dt.time\n",
    "temp = pd.DataFrame(data.hora.value_counts()).reset_index()\n",
    "temp.columns = ['hora', 'cnt']\n",
    "temp = temp.sort_values('hora')\n",
    "temp"
   ]
  },
  {
   "cell_type": "code",
   "execution_count": 23,
   "metadata": {},
   "outputs": [
    {
     "output_type": "display_data",
     "data": {
      "text/html": "        <script type=\"text/javascript\">\n        window.PlotlyConfig = {MathJaxConfig: 'local'};\n        if (window.MathJax) {MathJax.Hub.Config({SVG: {font: \"STIX-Web\"}});}\n        if (typeof require !== 'undefined') {\n        require.undef(\"plotly\");\n        requirejs.config({\n            paths: {\n                'plotly': ['https://cdn.plot.ly/plotly-latest.min']\n            }\n        });\n        require(['plotly'], function(Plotly) {\n            window._Plotly = Plotly;\n        });\n        }\n        </script>\n        "
     },
     "metadata": {}
    },
    {
     "output_type": "display_data",
     "data": {
      "application/vnd.plotly.v1+json": {
       "config": {
        "linkText": "Export to plot.ly",
        "plotlyServerURL": "https://plot.ly",
        "showLink": false
       },
       "data": [
        {
         "hoverinfo": "text",
         "line": {
          "color": "blue"
         },
         "mode": "lines+markers",
         "name": "Horas",
         "text": [
          "Fecha: 15:16:00<br>Tuits: 4",
          "Fecha: 15:17:00<br>Tuits: 2",
          "Fecha: 15:18:00<br>Tuits: 2",
          "Fecha: 15:21:00<br>Tuits: 1",
          "Fecha: 15:22:00<br>Tuits: 1",
          "Fecha: 15:23:00<br>Tuits: 1",
          "Fecha: 15:24:00<br>Tuits: 1",
          "Fecha: 15:25:00<br>Tuits: 2",
          "Fecha: 15:26:00<br>Tuits: 2",
          "Fecha: 15:27:00<br>Tuits: 2",
          "Fecha: 15:28:00<br>Tuits: 1",
          "Fecha: 15:29:00<br>Tuits: 3",
          "Fecha: 15:31:00<br>Tuits: 1",
          "Fecha: 15:33:00<br>Tuits: 1",
          "Fecha: 15:35:00<br>Tuits: 1",
          "Fecha: 15:37:00<br>Tuits: 1",
          "Fecha: 15:39:00<br>Tuits: 1",
          "Fecha: 15:40:00<br>Tuits: 1",
          "Fecha: 15:41:00<br>Tuits: 1",
          "Fecha: 15:44:00<br>Tuits: 1",
          "Fecha: 15:45:00<br>Tuits: 3",
          "Fecha: 15:46:00<br>Tuits: 2",
          "Fecha: 15:48:00<br>Tuits: 2",
          "Fecha: 15:50:00<br>Tuits: 1",
          "Fecha: 15:51:00<br>Tuits: 1",
          "Fecha: 15:55:00<br>Tuits: 1",
          "Fecha: 15:57:00<br>Tuits: 1",
          "Fecha: 15:58:00<br>Tuits: 1",
          "Fecha: 16:01:00<br>Tuits: 1",
          "Fecha: 16:05:00<br>Tuits: 1",
          "Fecha: 16:09:00<br>Tuits: 3",
          "Fecha: 16:10:00<br>Tuits: 1",
          "Fecha: 16:13:00<br>Tuits: 1",
          "Fecha: 16:15:00<br>Tuits: 2",
          "Fecha: 16:16:00<br>Tuits: 1",
          "Fecha: 16:20:00<br>Tuits: 1",
          "Fecha: 16:35:00<br>Tuits: 1",
          "Fecha: 16:45:00<br>Tuits: 1",
          "Fecha: 16:55:00<br>Tuits: 1",
          "Fecha: 16:56:00<br>Tuits: 1",
          "Fecha: 17:03:00<br>Tuits: 2",
          "Fecha: 17:11:00<br>Tuits: 1",
          "Fecha: 17:15:00<br>Tuits: 1",
          "Fecha: 17:24:00<br>Tuits: 1",
          "Fecha: 17:31:00<br>Tuits: 1",
          "Fecha: 17:38:00<br>Tuits: 1",
          "Fecha: 17:40:00<br>Tuits: 2",
          "Fecha: 17:42:00<br>Tuits: 1",
          "Fecha: 17:48:00<br>Tuits: 1",
          "Fecha: 17:49:00<br>Tuits: 1",
          "Fecha: 17:52:00<br>Tuits: 1",
          "Fecha: 17:56:00<br>Tuits: 1",
          "Fecha: 17:57:00<br>Tuits: 1",
          "Fecha: 17:58:00<br>Tuits: 1",
          "Fecha: 18:04:00<br>Tuits: 1",
          "Fecha: 18:09:00<br>Tuits: 1",
          "Fecha: 18:20:00<br>Tuits: 1",
          "Fecha: 18:26:00<br>Tuits: 1",
          "Fecha: 18:28:00<br>Tuits: 1",
          "Fecha: 18:38:00<br>Tuits: 2",
          "Fecha: 18:58:00<br>Tuits: 1",
          "Fecha: 19:02:00<br>Tuits: 1",
          "Fecha: 19:17:00<br>Tuits: 1",
          "Fecha: 19:29:00<br>Tuits: 1",
          "Fecha: 20:00:00<br>Tuits: 1",
          "Fecha: 20:06:00<br>Tuits: 1",
          "Fecha: 20:12:00<br>Tuits: 1",
          "Fecha: 20:20:00<br>Tuits: 1",
          "Fecha: 20:25:00<br>Tuits: 1",
          "Fecha: 20:33:00<br>Tuits: 1",
          "Fecha: 20:40:00<br>Tuits: 1",
          "Fecha: 20:49:00<br>Tuits: 1",
          "Fecha: 21:15:00<br>Tuits: 1",
          "Fecha: 21:20:00<br>Tuits: 1",
          "Fecha: 21:43:00<br>Tuits: 1",
          "Fecha: 21:53:00<br>Tuits: 1",
          "Fecha: 22:19:00<br>Tuits: 1",
          "Fecha: 22:45:00<br>Tuits: 1",
          "Fecha: 23:00:00<br>Tuits: 1",
          "Fecha: 23:58:00<br>Tuits: 1"
         ],
         "type": "scatter",
         "x": [
          "15:16:00",
          "15:17:00",
          "15:18:00",
          "15:21:00",
          "15:22:00",
          "15:23:00",
          "15:24:00",
          "15:25:00",
          "15:26:00",
          "15:27:00",
          "15:28:00",
          "15:29:00",
          "15:31:00",
          "15:33:00",
          "15:35:00",
          "15:37:00",
          "15:39:00",
          "15:40:00",
          "15:41:00",
          "15:44:00",
          "15:45:00",
          "15:46:00",
          "15:48:00",
          "15:50:00",
          "15:51:00",
          "15:55:00",
          "15:57:00",
          "15:58:00",
          "16:01:00",
          "16:05:00",
          "16:09:00",
          "16:10:00",
          "16:13:00",
          "16:15:00",
          "16:16:00",
          "16:20:00",
          "16:35:00",
          "16:45:00",
          "16:55:00",
          "16:56:00",
          "17:03:00",
          "17:11:00",
          "17:15:00",
          "17:24:00",
          "17:31:00",
          "17:38:00",
          "17:40:00",
          "17:42:00",
          "17:48:00",
          "17:49:00",
          "17:52:00",
          "17:56:00",
          "17:57:00",
          "17:58:00",
          "18:04:00",
          "18:09:00",
          "18:20:00",
          "18:26:00",
          "18:28:00",
          "18:38:00",
          "18:58:00",
          "19:02:00",
          "19:17:00",
          "19:29:00",
          "20:00:00",
          "20:06:00",
          "20:12:00",
          "20:20:00",
          "20:25:00",
          "20:33:00",
          "20:40:00",
          "20:49:00",
          "21:15:00",
          "21:20:00",
          "21:43:00",
          "21:53:00",
          "22:19:00",
          "22:45:00",
          "23:00:00",
          "23:58:00"
         ],
         "y": [
          4,
          2,
          2,
          1,
          1,
          1,
          1,
          2,
          2,
          2,
          1,
          3,
          1,
          1,
          1,
          1,
          1,
          1,
          1,
          1,
          3,
          2,
          2,
          1,
          1,
          1,
          1,
          1,
          1,
          1,
          3,
          1,
          1,
          2,
          1,
          1,
          1,
          1,
          1,
          1,
          2,
          1,
          1,
          1,
          1,
          1,
          2,
          1,
          1,
          1,
          1,
          1,
          1,
          1,
          1,
          1,
          1,
          1,
          1,
          2,
          1,
          1,
          1,
          1,
          1,
          1,
          1,
          1,
          1,
          1,
          1,
          1,
          1,
          1,
          1,
          1,
          1,
          1,
          1,
          1
         ]
        }
       ],
       "layout": {
        "template": {
         "data": {
          "bar": [
           {
            "error_x": {
             "color": "#2a3f5f"
            },
            "error_y": {
             "color": "#2a3f5f"
            },
            "marker": {
             "line": {
              "color": "#E5ECF6",
              "width": 0.5
             }
            },
            "type": "bar"
           }
          ],
          "barpolar": [
           {
            "marker": {
             "line": {
              "color": "#E5ECF6",
              "width": 0.5
             }
            },
            "type": "barpolar"
           }
          ],
          "carpet": [
           {
            "aaxis": {
             "endlinecolor": "#2a3f5f",
             "gridcolor": "white",
             "linecolor": "white",
             "minorgridcolor": "white",
             "startlinecolor": "#2a3f5f"
            },
            "baxis": {
             "endlinecolor": "#2a3f5f",
             "gridcolor": "white",
             "linecolor": "white",
             "minorgridcolor": "white",
             "startlinecolor": "#2a3f5f"
            },
            "type": "carpet"
           }
          ],
          "choropleth": [
           {
            "colorbar": {
             "outlinewidth": 0,
             "ticks": ""
            },
            "type": "choropleth"
           }
          ],
          "contour": [
           {
            "colorbar": {
             "outlinewidth": 0,
             "ticks": ""
            },
            "colorscale": [
             [
              0,
              "#0d0887"
             ],
             [
              0.1111111111111111,
              "#46039f"
             ],
             [
              0.2222222222222222,
              "#7201a8"
             ],
             [
              0.3333333333333333,
              "#9c179e"
             ],
             [
              0.4444444444444444,
              "#bd3786"
             ],
             [
              0.5555555555555556,
              "#d8576b"
             ],
             [
              0.6666666666666666,
              "#ed7953"
             ],
             [
              0.7777777777777778,
              "#fb9f3a"
             ],
             [
              0.8888888888888888,
              "#fdca26"
             ],
             [
              1,
              "#f0f921"
             ]
            ],
            "type": "contour"
           }
          ],
          "contourcarpet": [
           {
            "colorbar": {
             "outlinewidth": 0,
             "ticks": ""
            },
            "type": "contourcarpet"
           }
          ],
          "heatmap": [
           {
            "colorbar": {
             "outlinewidth": 0,
             "ticks": ""
            },
            "colorscale": [
             [
              0,
              "#0d0887"
             ],
             [
              0.1111111111111111,
              "#46039f"
             ],
             [
              0.2222222222222222,
              "#7201a8"
             ],
             [
              0.3333333333333333,
              "#9c179e"
             ],
             [
              0.4444444444444444,
              "#bd3786"
             ],
             [
              0.5555555555555556,
              "#d8576b"
             ],
             [
              0.6666666666666666,
              "#ed7953"
             ],
             [
              0.7777777777777778,
              "#fb9f3a"
             ],
             [
              0.8888888888888888,
              "#fdca26"
             ],
             [
              1,
              "#f0f921"
             ]
            ],
            "type": "heatmap"
           }
          ],
          "heatmapgl": [
           {
            "colorbar": {
             "outlinewidth": 0,
             "ticks": ""
            },
            "colorscale": [
             [
              0,
              "#0d0887"
             ],
             [
              0.1111111111111111,
              "#46039f"
             ],
             [
              0.2222222222222222,
              "#7201a8"
             ],
             [
              0.3333333333333333,
              "#9c179e"
             ],
             [
              0.4444444444444444,
              "#bd3786"
             ],
             [
              0.5555555555555556,
              "#d8576b"
             ],
             [
              0.6666666666666666,
              "#ed7953"
             ],
             [
              0.7777777777777778,
              "#fb9f3a"
             ],
             [
              0.8888888888888888,
              "#fdca26"
             ],
             [
              1,
              "#f0f921"
             ]
            ],
            "type": "heatmapgl"
           }
          ],
          "histogram": [
           {
            "marker": {
             "colorbar": {
              "outlinewidth": 0,
              "ticks": ""
             }
            },
            "type": "histogram"
           }
          ],
          "histogram2d": [
           {
            "colorbar": {
             "outlinewidth": 0,
             "ticks": ""
            },
            "colorscale": [
             [
              0,
              "#0d0887"
             ],
             [
              0.1111111111111111,
              "#46039f"
             ],
             [
              0.2222222222222222,
              "#7201a8"
             ],
             [
              0.3333333333333333,
              "#9c179e"
             ],
             [
              0.4444444444444444,
              "#bd3786"
             ],
             [
              0.5555555555555556,
              "#d8576b"
             ],
             [
              0.6666666666666666,
              "#ed7953"
             ],
             [
              0.7777777777777778,
              "#fb9f3a"
             ],
             [
              0.8888888888888888,
              "#fdca26"
             ],
             [
              1,
              "#f0f921"
             ]
            ],
            "type": "histogram2d"
           }
          ],
          "histogram2dcontour": [
           {
            "colorbar": {
             "outlinewidth": 0,
             "ticks": ""
            },
            "colorscale": [
             [
              0,
              "#0d0887"
             ],
             [
              0.1111111111111111,
              "#46039f"
             ],
             [
              0.2222222222222222,
              "#7201a8"
             ],
             [
              0.3333333333333333,
              "#9c179e"
             ],
             [
              0.4444444444444444,
              "#bd3786"
             ],
             [
              0.5555555555555556,
              "#d8576b"
             ],
             [
              0.6666666666666666,
              "#ed7953"
             ],
             [
              0.7777777777777778,
              "#fb9f3a"
             ],
             [
              0.8888888888888888,
              "#fdca26"
             ],
             [
              1,
              "#f0f921"
             ]
            ],
            "type": "histogram2dcontour"
           }
          ],
          "mesh3d": [
           {
            "colorbar": {
             "outlinewidth": 0,
             "ticks": ""
            },
            "type": "mesh3d"
           }
          ],
          "parcoords": [
           {
            "line": {
             "colorbar": {
              "outlinewidth": 0,
              "ticks": ""
             }
            },
            "type": "parcoords"
           }
          ],
          "pie": [
           {
            "automargin": true,
            "type": "pie"
           }
          ],
          "scatter": [
           {
            "marker": {
             "colorbar": {
              "outlinewidth": 0,
              "ticks": ""
             }
            },
            "type": "scatter"
           }
          ],
          "scatter3d": [
           {
            "line": {
             "colorbar": {
              "outlinewidth": 0,
              "ticks": ""
             }
            },
            "marker": {
             "colorbar": {
              "outlinewidth": 0,
              "ticks": ""
             }
            },
            "type": "scatter3d"
           }
          ],
          "scattercarpet": [
           {
            "marker": {
             "colorbar": {
              "outlinewidth": 0,
              "ticks": ""
             }
            },
            "type": "scattercarpet"
           }
          ],
          "scattergeo": [
           {
            "marker": {
             "colorbar": {
              "outlinewidth": 0,
              "ticks": ""
             }
            },
            "type": "scattergeo"
           }
          ],
          "scattergl": [
           {
            "marker": {
             "colorbar": {
              "outlinewidth": 0,
              "ticks": ""
             }
            },
            "type": "scattergl"
           }
          ],
          "scattermapbox": [
           {
            "marker": {
             "colorbar": {
              "outlinewidth": 0,
              "ticks": ""
             }
            },
            "type": "scattermapbox"
           }
          ],
          "scatterpolar": [
           {
            "marker": {
             "colorbar": {
              "outlinewidth": 0,
              "ticks": ""
             }
            },
            "type": "scatterpolar"
           }
          ],
          "scatterpolargl": [
           {
            "marker": {
             "colorbar": {
              "outlinewidth": 0,
              "ticks": ""
             }
            },
            "type": "scatterpolargl"
           }
          ],
          "scatterternary": [
           {
            "marker": {
             "colorbar": {
              "outlinewidth": 0,
              "ticks": ""
             }
            },
            "type": "scatterternary"
           }
          ],
          "surface": [
           {
            "colorbar": {
             "outlinewidth": 0,
             "ticks": ""
            },
            "colorscale": [
             [
              0,
              "#0d0887"
             ],
             [
              0.1111111111111111,
              "#46039f"
             ],
             [
              0.2222222222222222,
              "#7201a8"
             ],
             [
              0.3333333333333333,
              "#9c179e"
             ],
             [
              0.4444444444444444,
              "#bd3786"
             ],
             [
              0.5555555555555556,
              "#d8576b"
             ],
             [
              0.6666666666666666,
              "#ed7953"
             ],
             [
              0.7777777777777778,
              "#fb9f3a"
             ],
             [
              0.8888888888888888,
              "#fdca26"
             ],
             [
              1,
              "#f0f921"
             ]
            ],
            "type": "surface"
           }
          ],
          "table": [
           {
            "cells": {
             "fill": {
              "color": "#EBF0F8"
             },
             "line": {
              "color": "white"
             }
            },
            "header": {
             "fill": {
              "color": "#C8D4E3"
             },
             "line": {
              "color": "white"
             }
            },
            "type": "table"
           }
          ]
         },
         "layout": {
          "annotationdefaults": {
           "arrowcolor": "#2a3f5f",
           "arrowhead": 0,
           "arrowwidth": 1
          },
          "autotypenumbers": "strict",
          "coloraxis": {
           "colorbar": {
            "outlinewidth": 0,
            "ticks": ""
           }
          },
          "colorscale": {
           "diverging": [
            [
             0,
             "#8e0152"
            ],
            [
             0.1,
             "#c51b7d"
            ],
            [
             0.2,
             "#de77ae"
            ],
            [
             0.3,
             "#f1b6da"
            ],
            [
             0.4,
             "#fde0ef"
            ],
            [
             0.5,
             "#f7f7f7"
            ],
            [
             0.6,
             "#e6f5d0"
            ],
            [
             0.7,
             "#b8e186"
            ],
            [
             0.8,
             "#7fbc41"
            ],
            [
             0.9,
             "#4d9221"
            ],
            [
             1,
             "#276419"
            ]
           ],
           "sequential": [
            [
             0,
             "#0d0887"
            ],
            [
             0.1111111111111111,
             "#46039f"
            ],
            [
             0.2222222222222222,
             "#7201a8"
            ],
            [
             0.3333333333333333,
             "#9c179e"
            ],
            [
             0.4444444444444444,
             "#bd3786"
            ],
            [
             0.5555555555555556,
             "#d8576b"
            ],
            [
             0.6666666666666666,
             "#ed7953"
            ],
            [
             0.7777777777777778,
             "#fb9f3a"
            ],
            [
             0.8888888888888888,
             "#fdca26"
            ],
            [
             1,
             "#f0f921"
            ]
           ],
           "sequentialminus": [
            [
             0,
             "#0d0887"
            ],
            [
             0.1111111111111111,
             "#46039f"
            ],
            [
             0.2222222222222222,
             "#7201a8"
            ],
            [
             0.3333333333333333,
             "#9c179e"
            ],
            [
             0.4444444444444444,
             "#bd3786"
            ],
            [
             0.5555555555555556,
             "#d8576b"
            ],
            [
             0.6666666666666666,
             "#ed7953"
            ],
            [
             0.7777777777777778,
             "#fb9f3a"
            ],
            [
             0.8888888888888888,
             "#fdca26"
            ],
            [
             1,
             "#f0f921"
            ]
           ]
          },
          "colorway": [
           "#636efa",
           "#EF553B",
           "#00cc96",
           "#ab63fa",
           "#FFA15A",
           "#19d3f3",
           "#FF6692",
           "#B6E880",
           "#FF97FF",
           "#FECB52"
          ],
          "font": {
           "color": "#2a3f5f"
          },
          "geo": {
           "bgcolor": "white",
           "lakecolor": "white",
           "landcolor": "#E5ECF6",
           "showlakes": true,
           "showland": true,
           "subunitcolor": "white"
          },
          "hoverlabel": {
           "align": "left"
          },
          "hovermode": "closest",
          "mapbox": {
           "style": "light"
          },
          "paper_bgcolor": "white",
          "plot_bgcolor": "#E5ECF6",
          "polar": {
           "angularaxis": {
            "gridcolor": "white",
            "linecolor": "white",
            "ticks": ""
           },
           "bgcolor": "#E5ECF6",
           "radialaxis": {
            "gridcolor": "white",
            "linecolor": "white",
            "ticks": ""
           }
          },
          "scene": {
           "xaxis": {
            "backgroundcolor": "#E5ECF6",
            "gridcolor": "white",
            "gridwidth": 2,
            "linecolor": "white",
            "showbackground": true,
            "ticks": "",
            "zerolinecolor": "white"
           },
           "yaxis": {
            "backgroundcolor": "#E5ECF6",
            "gridcolor": "white",
            "gridwidth": 2,
            "linecolor": "white",
            "showbackground": true,
            "ticks": "",
            "zerolinecolor": "white"
           },
           "zaxis": {
            "backgroundcolor": "#E5ECF6",
            "gridcolor": "white",
            "gridwidth": 2,
            "linecolor": "white",
            "showbackground": true,
            "ticks": "",
            "zerolinecolor": "white"
           }
          },
          "shapedefaults": {
           "line": {
            "color": "#2a3f5f"
           }
          },
          "ternary": {
           "aaxis": {
            "gridcolor": "white",
            "linecolor": "white",
            "ticks": ""
           },
           "baxis": {
            "gridcolor": "white",
            "linecolor": "white",
            "ticks": ""
           },
           "bgcolor": "#E5ECF6",
           "caxis": {
            "gridcolor": "white",
            "linecolor": "white",
            "ticks": ""
           }
          },
          "title": {
           "x": 0.05
          },
          "xaxis": {
           "automargin": true,
           "gridcolor": "white",
           "linecolor": "white",
           "ticks": "",
           "title": {
            "standoff": 15
           },
           "zerolinecolor": "white",
           "zerolinewidth": 2
          },
          "yaxis": {
           "automargin": true,
           "gridcolor": "white",
           "linecolor": "white",
           "ticks": "",
           "title": {
            "standoff": 15
           },
           "zerolinecolor": "white",
           "zerolinewidth": 2
          }
         }
        },
        "title": {
         "text": "Número de tuits por hora"
        }
       }
      },
      "text/html": "<div>                            <div id=\"c4aa3c19-1c7a-48eb-b242-d6feeacccf6f\" class=\"plotly-graph-div\" style=\"height:525px; width:100%;\"></div>            <script type=\"text/javascript\">                require([\"plotly\"], function(Plotly) {                    window.PLOTLYENV=window.PLOTLYENV || {};                                    if (document.getElementById(\"c4aa3c19-1c7a-48eb-b242-d6feeacccf6f\")) {                    Plotly.newPlot(                        \"c4aa3c19-1c7a-48eb-b242-d6feeacccf6f\",                        [{\"hoverinfo\": \"text\", \"line\": {\"color\": \"blue\"}, \"mode\": \"lines+markers\", \"name\": \"Horas\", \"text\": [\"Fecha: 15:16:00<br>Tuits: 4\", \"Fecha: 15:17:00<br>Tuits: 2\", \"Fecha: 15:18:00<br>Tuits: 2\", \"Fecha: 15:21:00<br>Tuits: 1\", \"Fecha: 15:22:00<br>Tuits: 1\", \"Fecha: 15:23:00<br>Tuits: 1\", \"Fecha: 15:24:00<br>Tuits: 1\", \"Fecha: 15:25:00<br>Tuits: 2\", \"Fecha: 15:26:00<br>Tuits: 2\", \"Fecha: 15:27:00<br>Tuits: 2\", \"Fecha: 15:28:00<br>Tuits: 1\", \"Fecha: 15:29:00<br>Tuits: 3\", \"Fecha: 15:31:00<br>Tuits: 1\", \"Fecha: 15:33:00<br>Tuits: 1\", \"Fecha: 15:35:00<br>Tuits: 1\", \"Fecha: 15:37:00<br>Tuits: 1\", \"Fecha: 15:39:00<br>Tuits: 1\", \"Fecha: 15:40:00<br>Tuits: 1\", \"Fecha: 15:41:00<br>Tuits: 1\", \"Fecha: 15:44:00<br>Tuits: 1\", \"Fecha: 15:45:00<br>Tuits: 3\", \"Fecha: 15:46:00<br>Tuits: 2\", \"Fecha: 15:48:00<br>Tuits: 2\", \"Fecha: 15:50:00<br>Tuits: 1\", \"Fecha: 15:51:00<br>Tuits: 1\", \"Fecha: 15:55:00<br>Tuits: 1\", \"Fecha: 15:57:00<br>Tuits: 1\", \"Fecha: 15:58:00<br>Tuits: 1\", \"Fecha: 16:01:00<br>Tuits: 1\", \"Fecha: 16:05:00<br>Tuits: 1\", \"Fecha: 16:09:00<br>Tuits: 3\", \"Fecha: 16:10:00<br>Tuits: 1\", \"Fecha: 16:13:00<br>Tuits: 1\", \"Fecha: 16:15:00<br>Tuits: 2\", \"Fecha: 16:16:00<br>Tuits: 1\", \"Fecha: 16:20:00<br>Tuits: 1\", \"Fecha: 16:35:00<br>Tuits: 1\", \"Fecha: 16:45:00<br>Tuits: 1\", \"Fecha: 16:55:00<br>Tuits: 1\", \"Fecha: 16:56:00<br>Tuits: 1\", \"Fecha: 17:03:00<br>Tuits: 2\", \"Fecha: 17:11:00<br>Tuits: 1\", \"Fecha: 17:15:00<br>Tuits: 1\", \"Fecha: 17:24:00<br>Tuits: 1\", \"Fecha: 17:31:00<br>Tuits: 1\", \"Fecha: 17:38:00<br>Tuits: 1\", \"Fecha: 17:40:00<br>Tuits: 2\", \"Fecha: 17:42:00<br>Tuits: 1\", \"Fecha: 17:48:00<br>Tuits: 1\", \"Fecha: 17:49:00<br>Tuits: 1\", \"Fecha: 17:52:00<br>Tuits: 1\", \"Fecha: 17:56:00<br>Tuits: 1\", \"Fecha: 17:57:00<br>Tuits: 1\", \"Fecha: 17:58:00<br>Tuits: 1\", \"Fecha: 18:04:00<br>Tuits: 1\", \"Fecha: 18:09:00<br>Tuits: 1\", \"Fecha: 18:20:00<br>Tuits: 1\", \"Fecha: 18:26:00<br>Tuits: 1\", \"Fecha: 18:28:00<br>Tuits: 1\", \"Fecha: 18:38:00<br>Tuits: 2\", \"Fecha: 18:58:00<br>Tuits: 1\", \"Fecha: 19:02:00<br>Tuits: 1\", \"Fecha: 19:17:00<br>Tuits: 1\", \"Fecha: 19:29:00<br>Tuits: 1\", \"Fecha: 20:00:00<br>Tuits: 1\", \"Fecha: 20:06:00<br>Tuits: 1\", \"Fecha: 20:12:00<br>Tuits: 1\", \"Fecha: 20:20:00<br>Tuits: 1\", \"Fecha: 20:25:00<br>Tuits: 1\", \"Fecha: 20:33:00<br>Tuits: 1\", \"Fecha: 20:40:00<br>Tuits: 1\", \"Fecha: 20:49:00<br>Tuits: 1\", \"Fecha: 21:15:00<br>Tuits: 1\", \"Fecha: 21:20:00<br>Tuits: 1\", \"Fecha: 21:43:00<br>Tuits: 1\", \"Fecha: 21:53:00<br>Tuits: 1\", \"Fecha: 22:19:00<br>Tuits: 1\", \"Fecha: 22:45:00<br>Tuits: 1\", \"Fecha: 23:00:00<br>Tuits: 1\", \"Fecha: 23:58:00<br>Tuits: 1\"], \"type\": \"scatter\", \"x\": [\"15:16:00\", \"15:17:00\", \"15:18:00\", \"15:21:00\", \"15:22:00\", \"15:23:00\", \"15:24:00\", \"15:25:00\", \"15:26:00\", \"15:27:00\", \"15:28:00\", \"15:29:00\", \"15:31:00\", \"15:33:00\", \"15:35:00\", \"15:37:00\", \"15:39:00\", \"15:40:00\", \"15:41:00\", \"15:44:00\", \"15:45:00\", \"15:46:00\", \"15:48:00\", \"15:50:00\", \"15:51:00\", \"15:55:00\", \"15:57:00\", \"15:58:00\", \"16:01:00\", \"16:05:00\", \"16:09:00\", \"16:10:00\", \"16:13:00\", \"16:15:00\", \"16:16:00\", \"16:20:00\", \"16:35:00\", \"16:45:00\", \"16:55:00\", \"16:56:00\", \"17:03:00\", \"17:11:00\", \"17:15:00\", \"17:24:00\", \"17:31:00\", \"17:38:00\", \"17:40:00\", \"17:42:00\", \"17:48:00\", \"17:49:00\", \"17:52:00\", \"17:56:00\", \"17:57:00\", \"17:58:00\", \"18:04:00\", \"18:09:00\", \"18:20:00\", \"18:26:00\", \"18:28:00\", \"18:38:00\", \"18:58:00\", \"19:02:00\", \"19:17:00\", \"19:29:00\", \"20:00:00\", \"20:06:00\", \"20:12:00\", \"20:20:00\", \"20:25:00\", \"20:33:00\", \"20:40:00\", \"20:49:00\", \"21:15:00\", \"21:20:00\", \"21:43:00\", \"21:53:00\", \"22:19:00\", \"22:45:00\", \"23:00:00\", \"23:58:00\"], \"y\": [4, 2, 2, 1, 1, 1, 1, 2, 2, 2, 1, 3, 1, 1, 1, 1, 1, 1, 1, 1, 3, 2, 2, 1, 1, 1, 1, 1, 1, 1, 3, 1, 1, 2, 1, 1, 1, 1, 1, 1, 2, 1, 1, 1, 1, 1, 2, 1, 1, 1, 1, 1, 1, 1, 1, 1, 1, 1, 1, 2, 1, 1, 1, 1, 1, 1, 1, 1, 1, 1, 1, 1, 1, 1, 1, 1, 1, 1, 1, 1]}],                        {\"template\": {\"data\": {\"bar\": [{\"error_x\": {\"color\": \"#2a3f5f\"}, \"error_y\": {\"color\": \"#2a3f5f\"}, \"marker\": {\"line\": {\"color\": \"#E5ECF6\", \"width\": 0.5}}, \"type\": \"bar\"}], \"barpolar\": [{\"marker\": {\"line\": {\"color\": \"#E5ECF6\", \"width\": 0.5}}, \"type\": \"barpolar\"}], \"carpet\": [{\"aaxis\": {\"endlinecolor\": \"#2a3f5f\", \"gridcolor\": \"white\", \"linecolor\": \"white\", \"minorgridcolor\": \"white\", \"startlinecolor\": \"#2a3f5f\"}, \"baxis\": {\"endlinecolor\": \"#2a3f5f\", \"gridcolor\": \"white\", \"linecolor\": \"white\", \"minorgridcolor\": \"white\", \"startlinecolor\": \"#2a3f5f\"}, \"type\": \"carpet\"}], \"choropleth\": [{\"colorbar\": {\"outlinewidth\": 0, \"ticks\": \"\"}, \"type\": \"choropleth\"}], \"contour\": [{\"colorbar\": {\"outlinewidth\": 0, \"ticks\": \"\"}, \"colorscale\": [[0.0, \"#0d0887\"], [0.1111111111111111, \"#46039f\"], [0.2222222222222222, \"#7201a8\"], [0.3333333333333333, \"#9c179e\"], [0.4444444444444444, \"#bd3786\"], [0.5555555555555556, \"#d8576b\"], [0.6666666666666666, \"#ed7953\"], [0.7777777777777778, \"#fb9f3a\"], [0.8888888888888888, \"#fdca26\"], [1.0, \"#f0f921\"]], \"type\": \"contour\"}], \"contourcarpet\": [{\"colorbar\": {\"outlinewidth\": 0, \"ticks\": \"\"}, \"type\": \"contourcarpet\"}], \"heatmap\": [{\"colorbar\": {\"outlinewidth\": 0, \"ticks\": \"\"}, \"colorscale\": [[0.0, \"#0d0887\"], [0.1111111111111111, \"#46039f\"], [0.2222222222222222, \"#7201a8\"], [0.3333333333333333, \"#9c179e\"], [0.4444444444444444, \"#bd3786\"], [0.5555555555555556, \"#d8576b\"], [0.6666666666666666, \"#ed7953\"], [0.7777777777777778, \"#fb9f3a\"], [0.8888888888888888, \"#fdca26\"], [1.0, \"#f0f921\"]], \"type\": \"heatmap\"}], \"heatmapgl\": [{\"colorbar\": {\"outlinewidth\": 0, \"ticks\": \"\"}, \"colorscale\": [[0.0, \"#0d0887\"], [0.1111111111111111, \"#46039f\"], [0.2222222222222222, \"#7201a8\"], [0.3333333333333333, \"#9c179e\"], [0.4444444444444444, \"#bd3786\"], [0.5555555555555556, \"#d8576b\"], [0.6666666666666666, \"#ed7953\"], [0.7777777777777778, \"#fb9f3a\"], [0.8888888888888888, \"#fdca26\"], [1.0, \"#f0f921\"]], \"type\": \"heatmapgl\"}], \"histogram\": [{\"marker\": {\"colorbar\": {\"outlinewidth\": 0, \"ticks\": \"\"}}, \"type\": \"histogram\"}], \"histogram2d\": [{\"colorbar\": {\"outlinewidth\": 0, \"ticks\": \"\"}, \"colorscale\": [[0.0, \"#0d0887\"], [0.1111111111111111, \"#46039f\"], [0.2222222222222222, \"#7201a8\"], [0.3333333333333333, \"#9c179e\"], [0.4444444444444444, \"#bd3786\"], [0.5555555555555556, \"#d8576b\"], [0.6666666666666666, \"#ed7953\"], [0.7777777777777778, \"#fb9f3a\"], [0.8888888888888888, \"#fdca26\"], [1.0, \"#f0f921\"]], \"type\": \"histogram2d\"}], \"histogram2dcontour\": [{\"colorbar\": {\"outlinewidth\": 0, \"ticks\": \"\"}, \"colorscale\": [[0.0, \"#0d0887\"], [0.1111111111111111, \"#46039f\"], [0.2222222222222222, \"#7201a8\"], [0.3333333333333333, \"#9c179e\"], [0.4444444444444444, \"#bd3786\"], [0.5555555555555556, \"#d8576b\"], [0.6666666666666666, \"#ed7953\"], [0.7777777777777778, \"#fb9f3a\"], [0.8888888888888888, \"#fdca26\"], [1.0, \"#f0f921\"]], \"type\": \"histogram2dcontour\"}], \"mesh3d\": [{\"colorbar\": {\"outlinewidth\": 0, \"ticks\": \"\"}, \"type\": \"mesh3d\"}], \"parcoords\": [{\"line\": {\"colorbar\": {\"outlinewidth\": 0, \"ticks\": \"\"}}, \"type\": \"parcoords\"}], \"pie\": [{\"automargin\": true, \"type\": \"pie\"}], \"scatter\": [{\"marker\": {\"colorbar\": {\"outlinewidth\": 0, \"ticks\": \"\"}}, \"type\": \"scatter\"}], \"scatter3d\": [{\"line\": {\"colorbar\": {\"outlinewidth\": 0, \"ticks\": \"\"}}, \"marker\": {\"colorbar\": {\"outlinewidth\": 0, \"ticks\": \"\"}}, \"type\": \"scatter3d\"}], \"scattercarpet\": [{\"marker\": {\"colorbar\": {\"outlinewidth\": 0, \"ticks\": \"\"}}, \"type\": \"scattercarpet\"}], \"scattergeo\": [{\"marker\": {\"colorbar\": {\"outlinewidth\": 0, \"ticks\": \"\"}}, \"type\": \"scattergeo\"}], \"scattergl\": [{\"marker\": {\"colorbar\": {\"outlinewidth\": 0, \"ticks\": \"\"}}, \"type\": \"scattergl\"}], \"scattermapbox\": [{\"marker\": {\"colorbar\": {\"outlinewidth\": 0, \"ticks\": \"\"}}, \"type\": \"scattermapbox\"}], \"scatterpolar\": [{\"marker\": {\"colorbar\": {\"outlinewidth\": 0, \"ticks\": \"\"}}, \"type\": \"scatterpolar\"}], \"scatterpolargl\": [{\"marker\": {\"colorbar\": {\"outlinewidth\": 0, \"ticks\": \"\"}}, \"type\": \"scatterpolargl\"}], \"scatterternary\": [{\"marker\": {\"colorbar\": {\"outlinewidth\": 0, \"ticks\": \"\"}}, \"type\": \"scatterternary\"}], \"surface\": [{\"colorbar\": {\"outlinewidth\": 0, \"ticks\": \"\"}, \"colorscale\": [[0.0, \"#0d0887\"], [0.1111111111111111, \"#46039f\"], [0.2222222222222222, \"#7201a8\"], [0.3333333333333333, \"#9c179e\"], [0.4444444444444444, \"#bd3786\"], [0.5555555555555556, \"#d8576b\"], [0.6666666666666666, \"#ed7953\"], [0.7777777777777778, \"#fb9f3a\"], [0.8888888888888888, \"#fdca26\"], [1.0, \"#f0f921\"]], \"type\": \"surface\"}], \"table\": [{\"cells\": {\"fill\": {\"color\": \"#EBF0F8\"}, \"line\": {\"color\": \"white\"}}, \"header\": {\"fill\": {\"color\": \"#C8D4E3\"}, \"line\": {\"color\": \"white\"}}, \"type\": \"table\"}]}, \"layout\": {\"annotationdefaults\": {\"arrowcolor\": \"#2a3f5f\", \"arrowhead\": 0, \"arrowwidth\": 1}, \"autotypenumbers\": \"strict\", \"coloraxis\": {\"colorbar\": {\"outlinewidth\": 0, \"ticks\": \"\"}}, \"colorscale\": {\"diverging\": [[0, \"#8e0152\"], [0.1, \"#c51b7d\"], [0.2, \"#de77ae\"], [0.3, \"#f1b6da\"], [0.4, \"#fde0ef\"], [0.5, \"#f7f7f7\"], [0.6, \"#e6f5d0\"], [0.7, \"#b8e186\"], [0.8, \"#7fbc41\"], [0.9, \"#4d9221\"], [1, \"#276419\"]], \"sequential\": [[0.0, \"#0d0887\"], [0.1111111111111111, \"#46039f\"], [0.2222222222222222, \"#7201a8\"], [0.3333333333333333, \"#9c179e\"], [0.4444444444444444, \"#bd3786\"], [0.5555555555555556, \"#d8576b\"], [0.6666666666666666, \"#ed7953\"], [0.7777777777777778, \"#fb9f3a\"], [0.8888888888888888, \"#fdca26\"], [1.0, \"#f0f921\"]], \"sequentialminus\": [[0.0, \"#0d0887\"], [0.1111111111111111, \"#46039f\"], [0.2222222222222222, \"#7201a8\"], [0.3333333333333333, \"#9c179e\"], [0.4444444444444444, \"#bd3786\"], [0.5555555555555556, \"#d8576b\"], [0.6666666666666666, \"#ed7953\"], [0.7777777777777778, \"#fb9f3a\"], [0.8888888888888888, \"#fdca26\"], [1.0, \"#f0f921\"]]}, \"colorway\": [\"#636efa\", \"#EF553B\", \"#00cc96\", \"#ab63fa\", \"#FFA15A\", \"#19d3f3\", \"#FF6692\", \"#B6E880\", \"#FF97FF\", \"#FECB52\"], \"font\": {\"color\": \"#2a3f5f\"}, \"geo\": {\"bgcolor\": \"white\", \"lakecolor\": \"white\", \"landcolor\": \"#E5ECF6\", \"showlakes\": true, \"showland\": true, \"subunitcolor\": \"white\"}, \"hoverlabel\": {\"align\": \"left\"}, \"hovermode\": \"closest\", \"mapbox\": {\"style\": \"light\"}, \"paper_bgcolor\": \"white\", \"plot_bgcolor\": \"#E5ECF6\", \"polar\": {\"angularaxis\": {\"gridcolor\": \"white\", \"linecolor\": \"white\", \"ticks\": \"\"}, \"bgcolor\": \"#E5ECF6\", \"radialaxis\": {\"gridcolor\": \"white\", \"linecolor\": \"white\", \"ticks\": \"\"}}, \"scene\": {\"xaxis\": {\"backgroundcolor\": \"#E5ECF6\", \"gridcolor\": \"white\", \"gridwidth\": 2, \"linecolor\": \"white\", \"showbackground\": true, \"ticks\": \"\", \"zerolinecolor\": \"white\"}, \"yaxis\": {\"backgroundcolor\": \"#E5ECF6\", \"gridcolor\": \"white\", \"gridwidth\": 2, \"linecolor\": \"white\", \"showbackground\": true, \"ticks\": \"\", \"zerolinecolor\": \"white\"}, \"zaxis\": {\"backgroundcolor\": \"#E5ECF6\", \"gridcolor\": \"white\", \"gridwidth\": 2, \"linecolor\": \"white\", \"showbackground\": true, \"ticks\": \"\", \"zerolinecolor\": \"white\"}}, \"shapedefaults\": {\"line\": {\"color\": \"#2a3f5f\"}}, \"ternary\": {\"aaxis\": {\"gridcolor\": \"white\", \"linecolor\": \"white\", \"ticks\": \"\"}, \"baxis\": {\"gridcolor\": \"white\", \"linecolor\": \"white\", \"ticks\": \"\"}, \"bgcolor\": \"#E5ECF6\", \"caxis\": {\"gridcolor\": \"white\", \"linecolor\": \"white\", \"ticks\": \"\"}}, \"title\": {\"x\": 0.05}, \"xaxis\": {\"automargin\": true, \"gridcolor\": \"white\", \"linecolor\": \"white\", \"ticks\": \"\", \"title\": {\"standoff\": 15}, \"zerolinecolor\": \"white\", \"zerolinewidth\": 2}, \"yaxis\": {\"automargin\": true, \"gridcolor\": \"white\", \"linecolor\": \"white\", \"ticks\": \"\", \"title\": {\"standoff\": 15}, \"zerolinecolor\": \"white\", \"zerolinewidth\": 2}}}, \"title\": {\"text\": \"N\\u00famero de tuits por hora\"}},                        {\"responsive\": true}                    ).then(function(){\n                            \nvar gd = document.getElementById('c4aa3c19-1c7a-48eb-b242-d6feeacccf6f');\nvar x = new MutationObserver(function (mutations, observer) {{\n        var display = window.getComputedStyle(gd).display;\n        if (!display || display === 'none') {{\n            console.log([gd, 'removed!']);\n            Plotly.purge(gd);\n            observer.disconnect();\n        }}\n}});\n\n// Listen for the removal of the full notebook cells\nvar notebookContainer = gd.closest('#notebook-container');\nif (notebookContainer) {{\n    x.observe(notebookContainer, {childList: true});\n}}\n\n// Listen for the clearing of the current output cell\nvar outputEl = gd.closest('.output');\nif (outputEl) {{\n    x.observe(outputEl, {childList: true});\n}}\n\n                        })                };                });            </script>        </div>"
     },
     "metadata": {}
    }
   ],
   "source": [
    "import plotly.io as pio\n",
    "import plotly.express as px\n",
    "import plotly.graph_objs as go\n",
    "from plotly.offline import download_plotlyjs, init_notebook_mode, plot, iplot\n",
    "\n",
    "import matplotlib.pyplot as plt\n",
    "%matplotlib inline\n",
    "init_notebook_mode(connected=True)\n",
    "\n",
    "\n",
    "trace = go.Scatter(x=temp.hora.values,\n",
    "                   y=temp.cnt.values,\n",
    "                   text=[f\"Fecha: {f}<br>Tuits: {c}\" for f,c in zip(temp.hora.values,temp.cnt.values)],\n",
    "                   hoverinfo='text',\n",
    "                   mode='lines+markers',\n",
    "                   name='Horas',\n",
    "                   line={'color': 'blue'})\n",
    "\n",
    "layout = go.Layout(title=\"Número de tuits por hora\")\n",
    "\n",
    "fig = go.Figure(data=[trace], layout=layout)\n",
    "iplot(fig)"
   ]
  },
  {
   "cell_type": "code",
   "execution_count": 26,
   "metadata": {},
   "outputs": [
    {
     "output_type": "execute_result",
     "data": {
      "text/plain": [
       "  emoji  cnt\n",
       "1  🚴‍♂️   23\n",
       "4     💗   11\n",
       "2    ➡️    7\n",
       "6     👏    6\n",
       "5     🏆    5"
      ],
      "text/html": "<div>\n<style scoped>\n    .dataframe tbody tr th:only-of-type {\n        vertical-align: middle;\n    }\n\n    .dataframe tbody tr th {\n        vertical-align: top;\n    }\n\n    .dataframe thead th {\n        text-align: right;\n    }\n</style>\n<table border=\"1\" class=\"dataframe\">\n  <thead>\n    <tr style=\"text-align: right;\">\n      <th></th>\n      <th>emoji</th>\n      <th>cnt</th>\n    </tr>\n  </thead>\n  <tbody>\n    <tr>\n      <th>1</th>\n      <td>🚴‍♂️</td>\n      <td>23</td>\n    </tr>\n    <tr>\n      <th>4</th>\n      <td>💗</td>\n      <td>11</td>\n    </tr>\n    <tr>\n      <th>2</th>\n      <td>➡️</td>\n      <td>7</td>\n    </tr>\n    <tr>\n      <th>6</th>\n      <td>👏</td>\n      <td>6</td>\n    </tr>\n    <tr>\n      <th>5</th>\n      <td>🏆</td>\n      <td>5</td>\n    </tr>\n  </tbody>\n</table>\n</div>"
     },
     "metadata": {},
     "execution_count": 26
    }
   ],
   "source": [
    "from collections import Counter\n",
    "\n",
    "temp_emojis = pd.DataFrame(list(zip(Counter(sum(data.emojis.values,[])).keys(),Counter(sum(data.emojis.values,[])).values())))\n",
    "temp_emojis.columns = ['emoji', 'cnt']\n",
    "temp_emojis.sort_values('cnt', ascending=False, inplace=True)\n",
    "temp_emojis.head()"
   ]
  },
  {
   "cell_type": "code",
   "execution_count": 27,
   "metadata": {},
   "outputs": [
    {
     "output_type": "display_data",
     "data": {
      "application/vnd.plotly.v1+json": {
       "config": {
        "linkText": "Export to plot.ly",
        "plotlyServerURL": "https://plot.ly",
        "showLink": false
       },
       "data": [
        {
         "type": "bar",
         "x": [
          "🚴‍♂️",
          "💗",
          "➡️",
          "👏",
          "🏆",
          "💪",
          "⬇",
          "🚴‍♀️",
          "👉",
          "🔥",
          "🔝",
          "🚨",
          "🚵‍",
          "⭕",
          "📰"
         ],
         "y": [
          23,
          11,
          7,
          6,
          5,
          5,
          4,
          4,
          3,
          2,
          2,
          2,
          1,
          1,
          1
         ]
        }
       ],
       "layout": {
        "template": {
         "data": {
          "bar": [
           {
            "error_x": {
             "color": "#2a3f5f"
            },
            "error_y": {
             "color": "#2a3f5f"
            },
            "marker": {
             "line": {
              "color": "#E5ECF6",
              "width": 0.5
             }
            },
            "type": "bar"
           }
          ],
          "barpolar": [
           {
            "marker": {
             "line": {
              "color": "#E5ECF6",
              "width": 0.5
             }
            },
            "type": "barpolar"
           }
          ],
          "carpet": [
           {
            "aaxis": {
             "endlinecolor": "#2a3f5f",
             "gridcolor": "white",
             "linecolor": "white",
             "minorgridcolor": "white",
             "startlinecolor": "#2a3f5f"
            },
            "baxis": {
             "endlinecolor": "#2a3f5f",
             "gridcolor": "white",
             "linecolor": "white",
             "minorgridcolor": "white",
             "startlinecolor": "#2a3f5f"
            },
            "type": "carpet"
           }
          ],
          "choropleth": [
           {
            "colorbar": {
             "outlinewidth": 0,
             "ticks": ""
            },
            "type": "choropleth"
           }
          ],
          "contour": [
           {
            "colorbar": {
             "outlinewidth": 0,
             "ticks": ""
            },
            "colorscale": [
             [
              0,
              "#0d0887"
             ],
             [
              0.1111111111111111,
              "#46039f"
             ],
             [
              0.2222222222222222,
              "#7201a8"
             ],
             [
              0.3333333333333333,
              "#9c179e"
             ],
             [
              0.4444444444444444,
              "#bd3786"
             ],
             [
              0.5555555555555556,
              "#d8576b"
             ],
             [
              0.6666666666666666,
              "#ed7953"
             ],
             [
              0.7777777777777778,
              "#fb9f3a"
             ],
             [
              0.8888888888888888,
              "#fdca26"
             ],
             [
              1,
              "#f0f921"
             ]
            ],
            "type": "contour"
           }
          ],
          "contourcarpet": [
           {
            "colorbar": {
             "outlinewidth": 0,
             "ticks": ""
            },
            "type": "contourcarpet"
           }
          ],
          "heatmap": [
           {
            "colorbar": {
             "outlinewidth": 0,
             "ticks": ""
            },
            "colorscale": [
             [
              0,
              "#0d0887"
             ],
             [
              0.1111111111111111,
              "#46039f"
             ],
             [
              0.2222222222222222,
              "#7201a8"
             ],
             [
              0.3333333333333333,
              "#9c179e"
             ],
             [
              0.4444444444444444,
              "#bd3786"
             ],
             [
              0.5555555555555556,
              "#d8576b"
             ],
             [
              0.6666666666666666,
              "#ed7953"
             ],
             [
              0.7777777777777778,
              "#fb9f3a"
             ],
             [
              0.8888888888888888,
              "#fdca26"
             ],
             [
              1,
              "#f0f921"
             ]
            ],
            "type": "heatmap"
           }
          ],
          "heatmapgl": [
           {
            "colorbar": {
             "outlinewidth": 0,
             "ticks": ""
            },
            "colorscale": [
             [
              0,
              "#0d0887"
             ],
             [
              0.1111111111111111,
              "#46039f"
             ],
             [
              0.2222222222222222,
              "#7201a8"
             ],
             [
              0.3333333333333333,
              "#9c179e"
             ],
             [
              0.4444444444444444,
              "#bd3786"
             ],
             [
              0.5555555555555556,
              "#d8576b"
             ],
             [
              0.6666666666666666,
              "#ed7953"
             ],
             [
              0.7777777777777778,
              "#fb9f3a"
             ],
             [
              0.8888888888888888,
              "#fdca26"
             ],
             [
              1,
              "#f0f921"
             ]
            ],
            "type": "heatmapgl"
           }
          ],
          "histogram": [
           {
            "marker": {
             "colorbar": {
              "outlinewidth": 0,
              "ticks": ""
             }
            },
            "type": "histogram"
           }
          ],
          "histogram2d": [
           {
            "colorbar": {
             "outlinewidth": 0,
             "ticks": ""
            },
            "colorscale": [
             [
              0,
              "#0d0887"
             ],
             [
              0.1111111111111111,
              "#46039f"
             ],
             [
              0.2222222222222222,
              "#7201a8"
             ],
             [
              0.3333333333333333,
              "#9c179e"
             ],
             [
              0.4444444444444444,
              "#bd3786"
             ],
             [
              0.5555555555555556,
              "#d8576b"
             ],
             [
              0.6666666666666666,
              "#ed7953"
             ],
             [
              0.7777777777777778,
              "#fb9f3a"
             ],
             [
              0.8888888888888888,
              "#fdca26"
             ],
             [
              1,
              "#f0f921"
             ]
            ],
            "type": "histogram2d"
           }
          ],
          "histogram2dcontour": [
           {
            "colorbar": {
             "outlinewidth": 0,
             "ticks": ""
            },
            "colorscale": [
             [
              0,
              "#0d0887"
             ],
             [
              0.1111111111111111,
              "#46039f"
             ],
             [
              0.2222222222222222,
              "#7201a8"
             ],
             [
              0.3333333333333333,
              "#9c179e"
             ],
             [
              0.4444444444444444,
              "#bd3786"
             ],
             [
              0.5555555555555556,
              "#d8576b"
             ],
             [
              0.6666666666666666,
              "#ed7953"
             ],
             [
              0.7777777777777778,
              "#fb9f3a"
             ],
             [
              0.8888888888888888,
              "#fdca26"
             ],
             [
              1,
              "#f0f921"
             ]
            ],
            "type": "histogram2dcontour"
           }
          ],
          "mesh3d": [
           {
            "colorbar": {
             "outlinewidth": 0,
             "ticks": ""
            },
            "type": "mesh3d"
           }
          ],
          "parcoords": [
           {
            "line": {
             "colorbar": {
              "outlinewidth": 0,
              "ticks": ""
             }
            },
            "type": "parcoords"
           }
          ],
          "pie": [
           {
            "automargin": true,
            "type": "pie"
           }
          ],
          "scatter": [
           {
            "marker": {
             "colorbar": {
              "outlinewidth": 0,
              "ticks": ""
             }
            },
            "type": "scatter"
           }
          ],
          "scatter3d": [
           {
            "line": {
             "colorbar": {
              "outlinewidth": 0,
              "ticks": ""
             }
            },
            "marker": {
             "colorbar": {
              "outlinewidth": 0,
              "ticks": ""
             }
            },
            "type": "scatter3d"
           }
          ],
          "scattercarpet": [
           {
            "marker": {
             "colorbar": {
              "outlinewidth": 0,
              "ticks": ""
             }
            },
            "type": "scattercarpet"
           }
          ],
          "scattergeo": [
           {
            "marker": {
             "colorbar": {
              "outlinewidth": 0,
              "ticks": ""
             }
            },
            "type": "scattergeo"
           }
          ],
          "scattergl": [
           {
            "marker": {
             "colorbar": {
              "outlinewidth": 0,
              "ticks": ""
             }
            },
            "type": "scattergl"
           }
          ],
          "scattermapbox": [
           {
            "marker": {
             "colorbar": {
              "outlinewidth": 0,
              "ticks": ""
             }
            },
            "type": "scattermapbox"
           }
          ],
          "scatterpolar": [
           {
            "marker": {
             "colorbar": {
              "outlinewidth": 0,
              "ticks": ""
             }
            },
            "type": "scatterpolar"
           }
          ],
          "scatterpolargl": [
           {
            "marker": {
             "colorbar": {
              "outlinewidth": 0,
              "ticks": ""
             }
            },
            "type": "scatterpolargl"
           }
          ],
          "scatterternary": [
           {
            "marker": {
             "colorbar": {
              "outlinewidth": 0,
              "ticks": ""
             }
            },
            "type": "scatterternary"
           }
          ],
          "surface": [
           {
            "colorbar": {
             "outlinewidth": 0,
             "ticks": ""
            },
            "colorscale": [
             [
              0,
              "#0d0887"
             ],
             [
              0.1111111111111111,
              "#46039f"
             ],
             [
              0.2222222222222222,
              "#7201a8"
             ],
             [
              0.3333333333333333,
              "#9c179e"
             ],
             [
              0.4444444444444444,
              "#bd3786"
             ],
             [
              0.5555555555555556,
              "#d8576b"
             ],
             [
              0.6666666666666666,
              "#ed7953"
             ],
             [
              0.7777777777777778,
              "#fb9f3a"
             ],
             [
              0.8888888888888888,
              "#fdca26"
             ],
             [
              1,
              "#f0f921"
             ]
            ],
            "type": "surface"
           }
          ],
          "table": [
           {
            "cells": {
             "fill": {
              "color": "#EBF0F8"
             },
             "line": {
              "color": "white"
             }
            },
            "header": {
             "fill": {
              "color": "#C8D4E3"
             },
             "line": {
              "color": "white"
             }
            },
            "type": "table"
           }
          ]
         },
         "layout": {
          "annotationdefaults": {
           "arrowcolor": "#2a3f5f",
           "arrowhead": 0,
           "arrowwidth": 1
          },
          "autotypenumbers": "strict",
          "coloraxis": {
           "colorbar": {
            "outlinewidth": 0,
            "ticks": ""
           }
          },
          "colorscale": {
           "diverging": [
            [
             0,
             "#8e0152"
            ],
            [
             0.1,
             "#c51b7d"
            ],
            [
             0.2,
             "#de77ae"
            ],
            [
             0.3,
             "#f1b6da"
            ],
            [
             0.4,
             "#fde0ef"
            ],
            [
             0.5,
             "#f7f7f7"
            ],
            [
             0.6,
             "#e6f5d0"
            ],
            [
             0.7,
             "#b8e186"
            ],
            [
             0.8,
             "#7fbc41"
            ],
            [
             0.9,
             "#4d9221"
            ],
            [
             1,
             "#276419"
            ]
           ],
           "sequential": [
            [
             0,
             "#0d0887"
            ],
            [
             0.1111111111111111,
             "#46039f"
            ],
            [
             0.2222222222222222,
             "#7201a8"
            ],
            [
             0.3333333333333333,
             "#9c179e"
            ],
            [
             0.4444444444444444,
             "#bd3786"
            ],
            [
             0.5555555555555556,
             "#d8576b"
            ],
            [
             0.6666666666666666,
             "#ed7953"
            ],
            [
             0.7777777777777778,
             "#fb9f3a"
            ],
            [
             0.8888888888888888,
             "#fdca26"
            ],
            [
             1,
             "#f0f921"
            ]
           ],
           "sequentialminus": [
            [
             0,
             "#0d0887"
            ],
            [
             0.1111111111111111,
             "#46039f"
            ],
            [
             0.2222222222222222,
             "#7201a8"
            ],
            [
             0.3333333333333333,
             "#9c179e"
            ],
            [
             0.4444444444444444,
             "#bd3786"
            ],
            [
             0.5555555555555556,
             "#d8576b"
            ],
            [
             0.6666666666666666,
             "#ed7953"
            ],
            [
             0.7777777777777778,
             "#fb9f3a"
            ],
            [
             0.8888888888888888,
             "#fdca26"
            ],
            [
             1,
             "#f0f921"
            ]
           ]
          },
          "colorway": [
           "#636efa",
           "#EF553B",
           "#00cc96",
           "#ab63fa",
           "#FFA15A",
           "#19d3f3",
           "#FF6692",
           "#B6E880",
           "#FF97FF",
           "#FECB52"
          ],
          "font": {
           "color": "#2a3f5f"
          },
          "geo": {
           "bgcolor": "white",
           "lakecolor": "white",
           "landcolor": "#E5ECF6",
           "showlakes": true,
           "showland": true,
           "subunitcolor": "white"
          },
          "hoverlabel": {
           "align": "left"
          },
          "hovermode": "closest",
          "mapbox": {
           "style": "light"
          },
          "paper_bgcolor": "white",
          "plot_bgcolor": "#E5ECF6",
          "polar": {
           "angularaxis": {
            "gridcolor": "white",
            "linecolor": "white",
            "ticks": ""
           },
           "bgcolor": "#E5ECF6",
           "radialaxis": {
            "gridcolor": "white",
            "linecolor": "white",
            "ticks": ""
           }
          },
          "scene": {
           "xaxis": {
            "backgroundcolor": "#E5ECF6",
            "gridcolor": "white",
            "gridwidth": 2,
            "linecolor": "white",
            "showbackground": true,
            "ticks": "",
            "zerolinecolor": "white"
           },
           "yaxis": {
            "backgroundcolor": "#E5ECF6",
            "gridcolor": "white",
            "gridwidth": 2,
            "linecolor": "white",
            "showbackground": true,
            "ticks": "",
            "zerolinecolor": "white"
           },
           "zaxis": {
            "backgroundcolor": "#E5ECF6",
            "gridcolor": "white",
            "gridwidth": 2,
            "linecolor": "white",
            "showbackground": true,
            "ticks": "",
            "zerolinecolor": "white"
           }
          },
          "shapedefaults": {
           "line": {
            "color": "#2a3f5f"
           }
          },
          "ternary": {
           "aaxis": {
            "gridcolor": "white",
            "linecolor": "white",
            "ticks": ""
           },
           "baxis": {
            "gridcolor": "white",
            "linecolor": "white",
            "ticks": ""
           },
           "bgcolor": "#E5ECF6",
           "caxis": {
            "gridcolor": "white",
            "linecolor": "white",
            "ticks": ""
           }
          },
          "title": {
           "x": 0.05
          },
          "xaxis": {
           "automargin": true,
           "gridcolor": "white",
           "linecolor": "white",
           "ticks": "",
           "title": {
            "standoff": 15
           },
           "zerolinecolor": "white",
           "zerolinewidth": 2
          },
          "yaxis": {
           "automargin": true,
           "gridcolor": "white",
           "linecolor": "white",
           "ticks": "",
           "title": {
            "standoff": 15
           },
           "zerolinecolor": "white",
           "zerolinewidth": 2
          }
         }
        },
        "title": {
         "text": "Emojis más usados"
        }
       }
      },
      "text/html": "<div>                            <div id=\"13b66b46-e5f1-4b60-9305-5b08768d6082\" class=\"plotly-graph-div\" style=\"height:525px; width:100%;\"></div>            <script type=\"text/javascript\">                require([\"plotly\"], function(Plotly) {                    window.PLOTLYENV=window.PLOTLYENV || {};                                    if (document.getElementById(\"13b66b46-e5f1-4b60-9305-5b08768d6082\")) {                    Plotly.newPlot(                        \"13b66b46-e5f1-4b60-9305-5b08768d6082\",                        [{\"type\": \"bar\", \"x\": [\"\\ud83d\\udeb4\\u200d\\u2642\\ufe0f\", \"\\ud83d\\udc97\", \"\\u27a1\\ufe0f\", \"\\ud83d\\udc4f\", \"\\ud83c\\udfc6\", \"\\ud83d\\udcaa\", \"\\u2b07\", \"\\ud83d\\udeb4\\u200d\\u2640\\ufe0f\", \"\\ud83d\\udc49\", \"\\ud83d\\udd25\", \"\\ud83d\\udd1d\", \"\\ud83d\\udea8\", \"\\ud83d\\udeb5\\u200d\", \"\\u2b55\", \"\\ud83d\\udcf0\"], \"y\": [23, 11, 7, 6, 5, 5, 4, 4, 3, 2, 2, 2, 1, 1, 1]}],                        {\"template\": {\"data\": {\"bar\": [{\"error_x\": {\"color\": \"#2a3f5f\"}, \"error_y\": {\"color\": \"#2a3f5f\"}, \"marker\": {\"line\": {\"color\": \"#E5ECF6\", \"width\": 0.5}}, \"type\": \"bar\"}], \"barpolar\": [{\"marker\": {\"line\": {\"color\": \"#E5ECF6\", \"width\": 0.5}}, \"type\": \"barpolar\"}], \"carpet\": [{\"aaxis\": {\"endlinecolor\": \"#2a3f5f\", \"gridcolor\": \"white\", \"linecolor\": \"white\", \"minorgridcolor\": \"white\", \"startlinecolor\": \"#2a3f5f\"}, \"baxis\": {\"endlinecolor\": \"#2a3f5f\", \"gridcolor\": \"white\", \"linecolor\": \"white\", \"minorgridcolor\": \"white\", \"startlinecolor\": \"#2a3f5f\"}, \"type\": \"carpet\"}], \"choropleth\": [{\"colorbar\": {\"outlinewidth\": 0, \"ticks\": \"\"}, \"type\": \"choropleth\"}], \"contour\": [{\"colorbar\": {\"outlinewidth\": 0, \"ticks\": \"\"}, \"colorscale\": [[0.0, \"#0d0887\"], [0.1111111111111111, \"#46039f\"], [0.2222222222222222, \"#7201a8\"], [0.3333333333333333, \"#9c179e\"], [0.4444444444444444, \"#bd3786\"], [0.5555555555555556, \"#d8576b\"], [0.6666666666666666, \"#ed7953\"], [0.7777777777777778, \"#fb9f3a\"], [0.8888888888888888, \"#fdca26\"], [1.0, \"#f0f921\"]], \"type\": \"contour\"}], \"contourcarpet\": [{\"colorbar\": {\"outlinewidth\": 0, \"ticks\": \"\"}, \"type\": \"contourcarpet\"}], \"heatmap\": [{\"colorbar\": {\"outlinewidth\": 0, \"ticks\": \"\"}, \"colorscale\": [[0.0, \"#0d0887\"], [0.1111111111111111, \"#46039f\"], [0.2222222222222222, \"#7201a8\"], [0.3333333333333333, \"#9c179e\"], [0.4444444444444444, \"#bd3786\"], [0.5555555555555556, \"#d8576b\"], [0.6666666666666666, \"#ed7953\"], [0.7777777777777778, \"#fb9f3a\"], [0.8888888888888888, \"#fdca26\"], [1.0, \"#f0f921\"]], \"type\": \"heatmap\"}], \"heatmapgl\": [{\"colorbar\": {\"outlinewidth\": 0, \"ticks\": \"\"}, \"colorscale\": [[0.0, \"#0d0887\"], [0.1111111111111111, \"#46039f\"], [0.2222222222222222, \"#7201a8\"], [0.3333333333333333, \"#9c179e\"], [0.4444444444444444, \"#bd3786\"], [0.5555555555555556, \"#d8576b\"], [0.6666666666666666, \"#ed7953\"], [0.7777777777777778, \"#fb9f3a\"], [0.8888888888888888, \"#fdca26\"], [1.0, \"#f0f921\"]], \"type\": \"heatmapgl\"}], \"histogram\": [{\"marker\": {\"colorbar\": {\"outlinewidth\": 0, \"ticks\": \"\"}}, \"type\": \"histogram\"}], \"histogram2d\": [{\"colorbar\": {\"outlinewidth\": 0, \"ticks\": \"\"}, \"colorscale\": [[0.0, \"#0d0887\"], [0.1111111111111111, \"#46039f\"], [0.2222222222222222, \"#7201a8\"], [0.3333333333333333, \"#9c179e\"], [0.4444444444444444, \"#bd3786\"], [0.5555555555555556, \"#d8576b\"], [0.6666666666666666, \"#ed7953\"], [0.7777777777777778, \"#fb9f3a\"], [0.8888888888888888, \"#fdca26\"], [1.0, \"#f0f921\"]], \"type\": \"histogram2d\"}], \"histogram2dcontour\": [{\"colorbar\": {\"outlinewidth\": 0, \"ticks\": \"\"}, \"colorscale\": [[0.0, \"#0d0887\"], [0.1111111111111111, \"#46039f\"], [0.2222222222222222, \"#7201a8\"], [0.3333333333333333, \"#9c179e\"], [0.4444444444444444, \"#bd3786\"], [0.5555555555555556, \"#d8576b\"], [0.6666666666666666, \"#ed7953\"], [0.7777777777777778, \"#fb9f3a\"], [0.8888888888888888, \"#fdca26\"], [1.0, \"#f0f921\"]], \"type\": \"histogram2dcontour\"}], \"mesh3d\": [{\"colorbar\": {\"outlinewidth\": 0, \"ticks\": \"\"}, \"type\": \"mesh3d\"}], \"parcoords\": [{\"line\": {\"colorbar\": {\"outlinewidth\": 0, \"ticks\": \"\"}}, \"type\": \"parcoords\"}], \"pie\": [{\"automargin\": true, \"type\": \"pie\"}], \"scatter\": [{\"marker\": {\"colorbar\": {\"outlinewidth\": 0, \"ticks\": \"\"}}, \"type\": \"scatter\"}], \"scatter3d\": [{\"line\": {\"colorbar\": {\"outlinewidth\": 0, \"ticks\": \"\"}}, \"marker\": {\"colorbar\": {\"outlinewidth\": 0, \"ticks\": \"\"}}, \"type\": \"scatter3d\"}], \"scattercarpet\": [{\"marker\": {\"colorbar\": {\"outlinewidth\": 0, \"ticks\": \"\"}}, \"type\": \"scattercarpet\"}], \"scattergeo\": [{\"marker\": {\"colorbar\": {\"outlinewidth\": 0, \"ticks\": \"\"}}, \"type\": \"scattergeo\"}], \"scattergl\": [{\"marker\": {\"colorbar\": {\"outlinewidth\": 0, \"ticks\": \"\"}}, \"type\": \"scattergl\"}], \"scattermapbox\": [{\"marker\": {\"colorbar\": {\"outlinewidth\": 0, \"ticks\": \"\"}}, \"type\": \"scattermapbox\"}], \"scatterpolar\": [{\"marker\": {\"colorbar\": {\"outlinewidth\": 0, \"ticks\": \"\"}}, \"type\": \"scatterpolar\"}], \"scatterpolargl\": [{\"marker\": {\"colorbar\": {\"outlinewidth\": 0, \"ticks\": \"\"}}, \"type\": \"scatterpolargl\"}], \"scatterternary\": [{\"marker\": {\"colorbar\": {\"outlinewidth\": 0, \"ticks\": \"\"}}, \"type\": \"scatterternary\"}], \"surface\": [{\"colorbar\": {\"outlinewidth\": 0, \"ticks\": \"\"}, \"colorscale\": [[0.0, \"#0d0887\"], [0.1111111111111111, \"#46039f\"], [0.2222222222222222, \"#7201a8\"], [0.3333333333333333, \"#9c179e\"], [0.4444444444444444, \"#bd3786\"], [0.5555555555555556, \"#d8576b\"], [0.6666666666666666, \"#ed7953\"], [0.7777777777777778, \"#fb9f3a\"], [0.8888888888888888, \"#fdca26\"], [1.0, \"#f0f921\"]], \"type\": \"surface\"}], \"table\": [{\"cells\": {\"fill\": {\"color\": \"#EBF0F8\"}, \"line\": {\"color\": \"white\"}}, \"header\": {\"fill\": {\"color\": \"#C8D4E3\"}, \"line\": {\"color\": \"white\"}}, \"type\": \"table\"}]}, \"layout\": {\"annotationdefaults\": {\"arrowcolor\": \"#2a3f5f\", \"arrowhead\": 0, \"arrowwidth\": 1}, \"autotypenumbers\": \"strict\", \"coloraxis\": {\"colorbar\": {\"outlinewidth\": 0, \"ticks\": \"\"}}, \"colorscale\": {\"diverging\": [[0, \"#8e0152\"], [0.1, \"#c51b7d\"], [0.2, \"#de77ae\"], [0.3, \"#f1b6da\"], [0.4, \"#fde0ef\"], [0.5, \"#f7f7f7\"], [0.6, \"#e6f5d0\"], [0.7, \"#b8e186\"], [0.8, \"#7fbc41\"], [0.9, \"#4d9221\"], [1, \"#276419\"]], \"sequential\": [[0.0, \"#0d0887\"], [0.1111111111111111, \"#46039f\"], [0.2222222222222222, \"#7201a8\"], [0.3333333333333333, \"#9c179e\"], [0.4444444444444444, \"#bd3786\"], [0.5555555555555556, \"#d8576b\"], [0.6666666666666666, \"#ed7953\"], [0.7777777777777778, \"#fb9f3a\"], [0.8888888888888888, \"#fdca26\"], [1.0, \"#f0f921\"]], \"sequentialminus\": [[0.0, \"#0d0887\"], [0.1111111111111111, \"#46039f\"], [0.2222222222222222, \"#7201a8\"], [0.3333333333333333, \"#9c179e\"], [0.4444444444444444, \"#bd3786\"], [0.5555555555555556, \"#d8576b\"], [0.6666666666666666, \"#ed7953\"], [0.7777777777777778, \"#fb9f3a\"], [0.8888888888888888, \"#fdca26\"], [1.0, \"#f0f921\"]]}, \"colorway\": [\"#636efa\", \"#EF553B\", \"#00cc96\", \"#ab63fa\", \"#FFA15A\", \"#19d3f3\", \"#FF6692\", \"#B6E880\", \"#FF97FF\", \"#FECB52\"], \"font\": {\"color\": \"#2a3f5f\"}, \"geo\": {\"bgcolor\": \"white\", \"lakecolor\": \"white\", \"landcolor\": \"#E5ECF6\", \"showlakes\": true, \"showland\": true, \"subunitcolor\": \"white\"}, \"hoverlabel\": {\"align\": \"left\"}, \"hovermode\": \"closest\", \"mapbox\": {\"style\": \"light\"}, \"paper_bgcolor\": \"white\", \"plot_bgcolor\": \"#E5ECF6\", \"polar\": {\"angularaxis\": {\"gridcolor\": \"white\", \"linecolor\": \"white\", \"ticks\": \"\"}, \"bgcolor\": \"#E5ECF6\", \"radialaxis\": {\"gridcolor\": \"white\", \"linecolor\": \"white\", \"ticks\": \"\"}}, \"scene\": {\"xaxis\": {\"backgroundcolor\": \"#E5ECF6\", \"gridcolor\": \"white\", \"gridwidth\": 2, \"linecolor\": \"white\", \"showbackground\": true, \"ticks\": \"\", \"zerolinecolor\": \"white\"}, \"yaxis\": {\"backgroundcolor\": \"#E5ECF6\", \"gridcolor\": \"white\", \"gridwidth\": 2, \"linecolor\": \"white\", \"showbackground\": true, \"ticks\": \"\", \"zerolinecolor\": \"white\"}, \"zaxis\": {\"backgroundcolor\": \"#E5ECF6\", \"gridcolor\": \"white\", \"gridwidth\": 2, \"linecolor\": \"white\", \"showbackground\": true, \"ticks\": \"\", \"zerolinecolor\": \"white\"}}, \"shapedefaults\": {\"line\": {\"color\": \"#2a3f5f\"}}, \"ternary\": {\"aaxis\": {\"gridcolor\": \"white\", \"linecolor\": \"white\", \"ticks\": \"\"}, \"baxis\": {\"gridcolor\": \"white\", \"linecolor\": \"white\", \"ticks\": \"\"}, \"bgcolor\": \"#E5ECF6\", \"caxis\": {\"gridcolor\": \"white\", \"linecolor\": \"white\", \"ticks\": \"\"}}, \"title\": {\"x\": 0.05}, \"xaxis\": {\"automargin\": true, \"gridcolor\": \"white\", \"linecolor\": \"white\", \"ticks\": \"\", \"title\": {\"standoff\": 15}, \"zerolinecolor\": \"white\", \"zerolinewidth\": 2}, \"yaxis\": {\"automargin\": true, \"gridcolor\": \"white\", \"linecolor\": \"white\", \"ticks\": \"\", \"title\": {\"standoff\": 15}, \"zerolinecolor\": \"white\", \"zerolinewidth\": 2}}}, \"title\": {\"text\": \"Emojis m\\u00e1s usados\"}},                        {\"responsive\": true}                    ).then(function(){\n                            \nvar gd = document.getElementById('13b66b46-e5f1-4b60-9305-5b08768d6082');\nvar x = new MutationObserver(function (mutations, observer) {{\n        var display = window.getComputedStyle(gd).display;\n        if (!display || display === 'none') {{\n            console.log([gd, 'removed!']);\n            Plotly.purge(gd);\n            observer.disconnect();\n        }}\n}});\n\n// Listen for the removal of the full notebook cells\nvar notebookContainer = gd.closest('#notebook-container');\nif (notebookContainer) {{\n    x.observe(notebookContainer, {childList: true});\n}}\n\n// Listen for the clearing of the current output cell\nvar outputEl = gd.closest('.output');\nif (outputEl) {{\n    x.observe(outputEl, {childList: true});\n}}\n\n                        })                };                });            </script>        </div>"
     },
     "metadata": {}
    }
   ],
   "source": [
    "trace = go.Bar(x=temp_emojis.emoji.values[:15],\n",
    "               y=temp_emojis.cnt.values[:15])\n",
    "\n",
    "layout = go.Layout(title='Emojis más usados')\n",
    "\n",
    "fig = go.Figure(data=[trace], layout=layout)\n",
    "iplot(fig)"
   ]
  }
 ]
}