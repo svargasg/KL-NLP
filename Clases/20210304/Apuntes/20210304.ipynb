{
 "cells": [
  {
   "cell_type": "code",
   "execution_count": 3,
   "metadata": {},
   "outputs": [],
   "source": [
    "import bs4 as bs"
   ]
  },
  {
   "cell_type": "code",
   "execution_count": 8,
   "metadata": {},
   "outputs": [
    {
     "data": {
      "text/plain": [
       "<html><body><div blah=\"valor\" class=\"text\" id=\"test\">¡Hola, mundo!</div>'\n",
       "                    <div blah=\"valor\" class=\"text\" id=\"test2\">¡Hola, mundo!</div>'\n",
       "                    </body></html>"
      ]
     },
     "execution_count": 8,
     "metadata": {},
     "output_type": "execute_result"
    }
   ],
   "source": [
    "# cargar el doc\n",
    "ej = bs.BeautifulSoup('''\n",
    "                    <div id=\"test\" class=\"text\" blah=\"valor\">¡Hola, mundo!</div>'\n",
    "                    <div id=\"test2\" class=\"text\" blah=\"valor\">¡Hola, mundo!</div>'\n",
    "                    ''')\n",
    "ej"
   ]
  },
  {
   "cell_type": "code",
   "execution_count": 11,
   "metadata": {},
   "outputs": [
    {
     "data": {
      "text/plain": [
       "[<div blah=\"valor\" class=\"text\" id=\"test\">¡Hola, mundo!</div>]"
      ]
     },
     "execution_count": 11,
     "metadata": {},
     "output_type": "execute_result"
    }
   ],
   "source": [
    "ej.find_all(\"div\") #buscar por nombre de etiqueta\n",
    "ej.find_all(id=\"test\") #buscar por nombre y valor del atributo"
   ]
  },
  {
   "cell_type": "code",
   "execution_count": 13,
   "metadata": {},
   "outputs": [
    {
     "name": "stdout",
     "output_type": "stream",
     "text": [
      "test\n",
      "test2\n"
     ]
    }
   ],
   "source": [
    "for label in ej.find_all(\"div\"):\n",
    "    print(label.get(\"id\"))"
   ]
  },
  {
   "cell_type": "code",
   "execution_count": 17,
   "metadata": {},
   "outputs": [
    {
     "data": {
      "text/plain": [
       "['¡Hola, mundo!']"
      ]
     },
     "execution_count": 17,
     "metadata": {},
     "output_type": "execute_result"
    }
   ],
   "source": [
    "ej.find(\"div\").contents"
   ]
  },
  {
   "cell_type": "code",
   "execution_count": 41,
   "metadata": {},
   "outputs": [
    {
     "name": "stdout",
     "output_type": "stream",
     "text": [
      "La moneda <<Bitcoin>> tiene un precio de $47,065.19.\n",
      "La moneda <<Ethereum>> tiene un precio de $1,497.49.\n",
      "La moneda <<Tether>> tiene un precio de $1.00.\n",
      "La moneda <<Binance Coin>> tiene un precio de $222.06.\n",
      "La moneda <<Cardano>> tiene un precio de $1.07.\n",
      "La moneda <<Polkadot>> tiene un precio de $34.00.\n",
      "La moneda <<XRP>> tiene un precio de $0.4644.\n",
      "La moneda <<Uniswap>> tiene un precio de $27.03.\n",
      "La moneda <<Litecoin>> tiene un precio de $174.24.\n",
      "La moneda <<Chainlink>> tiene un precio de $26.86.\n",
      "«Bitcoin Cash» $492.10\n",
      "«Stellar» $0.40\n",
      "«USD Coin» $1.00\n",
      "«Dogecoin» $0.05\n",
      "«NEM» $0.67\n",
      "«Wrapped Bitcoin» $46921.29\n",
      "«Aave» $361.57\n",
      "«THETA» $4.27\n",
      "«Cosmos» $18.31\n",
      "«Monero» $210.52\n",
      "«TRON» $0.05\n",
      "«Crypto.com Coin» $0.15\n",
      "«EOS» $3.66\n",
      "«IOTA» $1.22\n",
      "«Solana» $12.68\n",
      "«Bitcoin SV» $178.30\n",
      "«VeChain» $0.05\n",
      "«Terra» $7.21\n",
      "«Binance USD» $1.00\n",
      "«Huobi Token» $15.11\n",
      "«FTX Token» $28.61\n",
      "«Tezos» $3.54\n",
      "«Neo» $36.61\n",
      "«Dai» $1.00\n",
      "«Elrond» $145.59\n",
      "«Synthetix» $20.76\n",
      "«Algorand» $1.04\n",
      "«Filecoin» $39.51\n",
      "«The Graph» $1.80\n",
      "«Compound» $456.10\n",
      "«SushiSwap» $16.65\n",
      "«Maker» $2093.41\n",
      "«Dash» $203.89\n",
      "«Kusama» $222.75\n",
      "«UNUS SED LEO» $1.87\n",
      "«Avalanche» $24.28\n",
      "«Decred» $139.17\n",
      "«PancakeSwap» $11.08\n",
      "«Zcash» $118.29\n",
      "«NEAR Protocol» $4.28\n",
      "«Zilliqa» $0.11\n",
      "«Ethereum Classic» $10.70\n",
      "«Voyager Token» $5.48\n",
      "«THORChain» $5.06\n",
      "«Nexo» $2.14\n",
      "«Bitcoin BEP2» $47003.51\n",
      "«Ravencoin» $0.14\n",
      "«BitTorrent» $0.00\n",
      "«yearn.finance» $31315.07\n",
      "«Hedera Hashgraph» $0.15\n",
      "«UMA» $20.06\n",
      "«Fantom» $0.43\n",
      "«ICON» $1.83\n",
      "«Celsius» $4.45\n",
      "«Revain» $0.01\n",
      "«Enjin Coin» $1.26\n",
      "«0x» $1.32\n",
      "«Ren» $1.00\n",
      "«OKB» $16.45\n",
      "«Basic Attention Token» $0.66\n",
      "«Bancor» $6.51\n",
      "«Waves» $9.12\n",
      "«Polygon» $0.19\n",
      "«SwissBorg» $0.99\n",
      "«Flow» $36.43\n",
      "«Stacks» $1.15\n",
      "«renBTC» $46800.99\n",
      "«DigiByte» $0.06\n",
      "«TerraUSD» $1.00\n",
      "«Ontology» $0.92\n",
      "«HUSD» $1.00\n",
      "«Theta Fuel» $0.14\n",
      "«IOST» $0.04\n",
      "«Celo» $3.77\n",
      "«Paxos Standard» $1.00\n",
      "«ZKSwap» $3.45\n",
      "«Nano» $4.91\n",
      "«Loopring» $0.53\n",
      "«OMG Network» $4.50\n",
      "«Decentraland» $0.41\n",
      "«Chiliz» $0.11\n",
      "«Qtum» $5.46\n",
      "«1inch» $3.67\n",
      "«Reserve Rights» $0.06\n",
      "«Siacoin» $0.01\n",
      "«Energy Web Token» $15.99\n",
      "«Curve DAO Token» $1.99\n",
      "«Bitcoin Gold» $26.94\n",
      "«Arweave» $13.86\n",
      "«Horizen» $42.51\n"
     ]
    }
   ],
   "source": [
    "import requests\n",
    "\n",
    "link = \"https://coinmarketcap.com/\"\n",
    "\n",
    "response = requests.get(link)\n",
    "source = response.text\n",
    "\n",
    "soup = bs.BeautifulSoup(source, 'html.parser')\n",
    "criptos = soup.find(\"tbody\").find_all(\"tr\")\n",
    "# criptos[0]\n",
    "# criptos[0].find(class_=\"sc-AxhUy fqrLrs\").text\n",
    "# criptos[0].find(class_=\"price___3rj7O\").text\n",
    "\n",
    "for criptomoneda in criptos: \n",
    "    try:\n",
    "        nombre = criptomoneda.find(class_=\"sc-AxhUy fqrLrs\").text\n",
    "        precio = criptomoneda.find(class_=\"price___3rj7O\").text\n",
    "        print(f\"La moneda <<{nombre}>> tiene un precio de {precio}.\")\n",
    "    except:\n",
    "        try:\n",
    "            nombre = criptomoneda.find_all(\"span\")[3].text\n",
    "            precio = criptomoneda.find_all(\"span\")[-2].text\n",
    "            print(f\"«{nombre}» {precio}\")\n",
    "        except:\n",
    "            pass\n"
   ]
  },
  {
   "cell_type": "code",
   "execution_count": 56,
   "metadata": {},
   "outputs": [
    {
     "data": {
      "text/plain": [
       "<re.Match object; span=(33, 44), match='777777-8888'>"
      ]
     },
     "execution_count": 56,
     "metadata": {},
     "output_type": "execute_result"
    }
   ],
   "source": [
    "texto = \"¡Hola! ¿Cómo estás? Mi número es 777-777-8888\"\n",
    "\n",
    "import re\n",
    "\n",
    "patron = r\"\\d\\d\\d-?\\d\\d\\d-?\\d\\d\\d\\d\"\n",
    "re.search(patron, texto)"
   ]
  },
  {
   "cell_type": "code",
   "execution_count": 57,
   "metadata": {},
   "outputs": [
    {
     "data": {
      "text/plain": [
       "'¡Hola! ¿Cómo estás? Mi número es ******'"
      ]
     },
     "execution_count": 57,
     "metadata": {},
     "output_type": "execute_result"
    }
   ],
   "source": [
    "re.sub(patron, \"******\", texto) # numeros"
   ]
  },
  {
   "cell_type": "code",
   "execution_count": 59,
   "metadata": {},
   "outputs": [
    {
     "data": {
      "text/plain": [
       "'*Hola***Cómo*estás**Mi*número*es*777777*8888'"
      ]
     },
     "execution_count": 59,
     "metadata": {},
     "output_type": "execute_result"
    }
   ],
   "source": [
    "re.sub(r\"[^\\w]\", \"*\", texto) #letras y digitos"
   ]
  },
  {
   "cell_type": "code",
   "execution_count": 61,
   "metadata": {},
   "outputs": [
    {
     "data": {
      "text/plain": [
       "'es'"
      ]
     },
     "execution_count": 61,
     "metadata": {},
     "output_type": "execute_result"
    }
   ],
   "source": [
    "# !pip install langdetect\n",
    "from langdetect import detect, detect_langs\n",
    "\n",
    "detect(\"Las cabras tienen acentos.\")"
   ]
  },
  {
   "cell_type": "code",
   "execution_count": 63,
   "metadata": {},
   "outputs": [
    {
     "data": {
      "text/plain": [
       "[es:0.9999955370261967]"
      ]
     },
     "execution_count": 63,
     "metadata": {},
     "output_type": "execute_result"
    }
   ],
   "source": [
    "detect_langs(\"quiero dormir\")"
   ]
  },
  {
   "cell_type": "code",
   "execution_count": 65,
   "metadata": {},
   "outputs": [
    {
     "data": {
      "text/plain": [
       "'Hola amigos:'"
      ]
     },
     "execution_count": 65,
     "metadata": {},
     "output_type": "execute_result"
    }
   ],
   "source": [
    "# !pip install translate\n",
    "from translate import Translator\n",
    "\n",
    "trans = Translator(to_lang=\"es\")\n",
    "trans.translate(\"Hello friends\")"
   ]
  }
 ],
 "metadata": {
  "kernelspec": {
   "display_name": "Python 3",
   "language": "python",
   "name": "python3"
  },
  "language_info": {
   "codemirror_mode": {
    "name": "ipython",
    "version": 3
   },
   "file_extension": ".py",
   "mimetype": "text/x-python",
   "name": "python",
   "nbconvert_exporter": "python",
   "pygments_lexer": "ipython3",
   "version": "3.7.6"
  }
 },
 "nbformat": 4,
 "nbformat_minor": 4
}
