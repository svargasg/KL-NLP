{
 "cells": [
  {
   "cell_type": "markdown",
   "metadata": {},
   "source": [
    "<img src='https://encrypted-tbn0.gstatic.com/images?q=tbn%3AANd9GcQ-VfNtOyJbsaxu43Kztf_cv1mgBG6ZIQZEVw&usqp=CAU'>\n",
    "\n",
    "# Procesamiento de Lenguage Natural\n",
    "\n",
    "## Taller #3: Web Scraping\n",
    "`Fecha de entrega: Marzo 10, 2021. (Antes del inicio de la próxima clase).`"
   ]
  },
  {
   "cell_type": "markdown",
   "metadata": {},
   "source": [
    "# Punto 1:\n",
    "\n",
    "- `[15 pts]` Hacer Web Scraping de 10 animales en Wikipedia (en búcle)\n",
    "- `[10 pts]` Obtener el **encabezado** de cada animal\n",
    "- `[15 pts]` Obtener todos los **textos** que están en las etiquetas de negrilla en el primer parrafo"
   ]
  },
  {
   "cell_type": "code",
   "execution_count": 1,
   "metadata": {},
   "outputs": [],
   "source": [
    "import bs4 as bs\n",
    "import requests"
   ]
  },
  {
   "cell_type": "code",
   "execution_count": 2,
   "metadata": {},
   "outputs": [],
   "source": [
    "link = \"https://es.wikipedia.org/wiki/\"\n",
    "\n",
    "animales = [\"Giraffa_camelopardalis\",\"Chamaeleonidae\",\"Panthera_pardus\",\"Crocodilia\",\"Águila\"\n",
    "           , \"Hippopotamidae\",\"Mus_(animal)\",\"Pelecanus\",\"Teuthida\",\"Chilopoda\"]\n",
    "header = []\n",
    "words = []\n",
    "\n",
    "for an in animales:\n",
    "    response = requests.get(f\"{link}{an}\")\n",
    "    source = response.text\n",
    "    soup = bs.BeautifulSoup(source, 'html.parser')\n",
    "    header.append(soup.find(id=\"firstHeading\").text)\n",
    "    text = soup.find(id=\"bodyContent\").find(id=\"mw-content-text\").find(class_=\"mw-parser-output\")\\\n",
    "                .findChildren(\"p\" , recursive=False)[0].find_all(\"b\")\n",
    "    words.append([p.text for p in text])\n",
    "# print(header)\n",
    "# print(parrafo)"
   ]
  },
  {
   "cell_type": "code",
   "execution_count": 3,
   "metadata": {
    "scrolled": true
   },
   "outputs": [
    {
     "name": "stdout",
     "output_type": "stream",
     "text": [
      "Encabezado: Giraffa camelopardalis\n",
      "Encabezado: Chamaeleonidae\n",
      "Encabezado: Panthera pardus\n",
      "Encabezado: Crocodilia\n",
      "Encabezado: Águila\n",
      "Encabezado: Hippopotamidae\n",
      "Encabezado: Mus (animal)\n",
      "Encabezado: Pelecanus\n",
      "Encabezado: Teuthida\n",
      "Encabezado: Chilopoda\n"
     ]
    }
   ],
   "source": [
    "for h in header:\n",
    "    print(f\"Encabezado: {h}\")"
   ]
  },
  {
   "cell_type": "code",
   "execution_count": 4,
   "metadata": {},
   "outputs": [
    {
     "name": "stdout",
     "output_type": "stream",
     "text": [
      "palabras en negrilla: ['jirafa', 'Giraffa camelopardalis']\n",
      "palabras en negrilla: ['camaleones', 'Chamaeleonidae']\n",
      "palabras en negrilla: ['leopardo', 'Panthera pardus', 'pantera parda', 'pantera negra']\n",
      "palabras en negrilla: ['crocodilios', 'Crocodilia', 'cocodrilos', 'gaviales', 'aligátores', 'caimanes']\n",
      "palabras en negrilla: ['Águila']\n",
      "palabras en negrilla: ['hipopotámidos', 'Hippopotamidae']\n",
      "palabras en negrilla: ['Mus', 'ratones']\n",
      "palabras en negrilla: ['pelícanos', 'Pelecanus', 'Pelecanidae']\n",
      "palabras en negrilla: ['téutidos', 'Teuthida', 'calamares', 'calamus']\n",
      "palabras en negrilla: ['quilópodos', 'Chilopoda', 'centípedos', 'ciempiés', 'escolopendras', 'cienpiés', 'cien pies']\n"
     ]
    }
   ],
   "source": [
    "for word in words:\n",
    "    print(f\"palabras en negrilla: {word}\")"
   ]
  },
  {
   "cell_type": "markdown",
   "metadata": {},
   "source": [
    "# Punto 2:\n",
    "- `[10 pts]` Usando regex, reemplazar todas las tíldes y caracteres especiales del punto anterior por un asterisco (¡Ojo, los espacios se quedan!)\n"
   ]
  },
  {
   "cell_type": "code",
   "execution_count": 5,
   "metadata": {},
   "outputs": [
    {
     "name": "stdout",
     "output_type": "stream",
     "text": [
      "reemplazo con regEx: ['jirafa', 'Giraffa camelopardalis']\n",
      "reemplazo con regEx: ['camaleones', 'Chamaeleonidae']\n",
      "reemplazo con regEx: ['leopardo', 'Panthera pardus', 'pantera parda', 'pantera negra']\n",
      "reemplazo con regEx: ['crocodilios', 'Crocodilia', 'cocodrilos', 'gaviales', 'alig*tores', 'caimanes']\n",
      "reemplazo con regEx: ['*guila']\n",
      "reemplazo con regEx: ['hipopot*midos', 'Hippopotamidae']\n",
      "reemplazo con regEx: ['Mus', 'ratones']\n",
      "reemplazo con regEx: ['pel*canos', 'Pelecanus', 'Pelecanidae']\n",
      "reemplazo con regEx: ['t*utidos', 'Teuthida', 'calamares', 'calamus']\n",
      "reemplazo con regEx: ['quil*podos', 'Chilopoda', 'cent*pedos', 'ciempi*s', 'escolopendras', 'cienpi*s', 'cien pies']\n"
     ]
    }
   ],
   "source": [
    "import re\n",
    "\n",
    "rows = []\n",
    "for x in words:\n",
    "    cols = []\n",
    "    for y in x:\n",
    "        cols.append(re.sub(r\"[^a-zA-Z ]\", \"*\", y))\n",
    "    rows.append(cols)\n",
    "    \n",
    "for word in rows:\n",
    "    print(f\"reemplazo con regEx: {word}\")"
   ]
  }
 ],
 "metadata": {
  "kernelspec": {
   "display_name": "Python 3",
   "language": "python",
   "name": "python3"
  },
  "language_info": {
   "codemirror_mode": {
    "name": "ipython",
    "version": 3
   },
   "file_extension": ".py",
   "mimetype": "text/x-python",
   "name": "python",
   "nbconvert_exporter": "python",
   "pygments_lexer": "ipython3",
   "version": "3.7.6"
  }
 },
 "nbformat": 4,
 "nbformat_minor": 2
}
