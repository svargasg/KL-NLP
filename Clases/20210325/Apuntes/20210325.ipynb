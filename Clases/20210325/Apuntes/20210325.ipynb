{
 "cells": [
  {
   "cell_type": "markdown",
   "id": "alert-circle",
   "metadata": {},
   "source": [
    "# Word2Vec"
   ]
  },
  {
   "cell_type": "code",
   "execution_count": 1,
   "id": "animated-member",
   "metadata": {},
   "outputs": [],
   "source": [
    "import re \n",
    "import pandas as pd\n",
    "\n",
    "from nltk.corpus import stopwords\n",
    "stopwords_sp = stopwords.words('spanish')\n",
    "\n",
    "def pre_procesado(texto):\n",
    "    texto = texto.lower()\n",
    "    texto = re.sub(r\"[\\W\\d_]+\", \" \", texto)\n",
    "    texto = \" \".join([palabra for palabra in texto.split() if palabra not in stopwords_sp])\n",
    "    return texto.split()\n"
   ]
  },
  {
   "cell_type": "code",
   "execution_count": 7,
   "id": "tutorial-pharmaceutical",
   "metadata": {},
   "outputs": [
    {
     "data": {
      "text/html": [
       "<div>\n",
       "<style scoped>\n",
       "    .dataframe tbody tr th:only-of-type {\n",
       "        vertical-align: middle;\n",
       "    }\n",
       "\n",
       "    .dataframe tbody tr th {\n",
       "        vertical-align: top;\n",
       "    }\n",
       "\n",
       "    .dataframe thead th {\n",
       "        text-align: right;\n",
       "    }\n",
       "</style>\n",
       "<table border=\"1\" class=\"dataframe\">\n",
       "  <thead>\n",
       "    <tr style=\"text-align: right;\">\n",
       "      <th></th>\n",
       "      <th>id</th>\n",
       "      <th>artista</th>\n",
       "      <th>cancion</th>\n",
       "      <th>album</th>\n",
       "      <th>letra</th>\n",
       "      <th>anyo</th>\n",
       "      <th>visitas</th>\n",
       "      <th>pp</th>\n",
       "    </tr>\n",
       "  </thead>\n",
       "  <tbody>\n",
       "    <tr>\n",
       "      <th>0</th>\n",
       "      <td>0</td>\n",
       "      <td>Denom</td>\n",
       "      <td>Machete (con Jarfaiter y Gente jodida)</td>\n",
       "      <td>Medicina</td>\n",
       "      <td>Para su nuevo disco \"Medicina\", Denom ha vuelt...</td>\n",
       "      <td>2019</td>\n",
       "      <td>126</td>\n",
       "      <td>[nuevo, disco, medicina, denom, vuelto, contar...</td>\n",
       "    </tr>\n",
       "    <tr>\n",
       "      <th>1</th>\n",
       "      <td>1</td>\n",
       "      <td>Denom</td>\n",
       "      <td>Vacío (con Ivo Incuerdo)</td>\n",
       "      <td>Medicina</td>\n",
       "      <td>[Denom]\\nYo que quería, yo que pedía vida,\\nSe...</td>\n",
       "      <td>2019</td>\n",
       "      <td>361</td>\n",
       "      <td>[denom, quería, pedía, vida, partió, mitad, ah...</td>\n",
       "    </tr>\n",
       "    <tr>\n",
       "      <th>2</th>\n",
       "      <td>2</td>\n",
       "      <td>Denom</td>\n",
       "      <td>El orgullo es fiel (con Juancho Marqués y Elio...</td>\n",
       "      <td>Medicina</td>\n",
       "      <td>\"El orgullo es fiel\" es uno de los cortes incl...</td>\n",
       "      <td>2019</td>\n",
       "      <td>262</td>\n",
       "      <td>[orgullo, fiel, cortes, incluidos, nuevo, disc...</td>\n",
       "    </tr>\n",
       "    <tr>\n",
       "      <th>3</th>\n",
       "      <td>3</td>\n",
       "      <td>Denom</td>\n",
       "      <td>Mueve mueve (con Fernandocosta)</td>\n",
       "      <td>Medicina</td>\n",
       "      <td>[Estribillo: Denom] (x2)\\nMueve, mueve, mueve,...</td>\n",
       "      <td>2019</td>\n",
       "      <td>578</td>\n",
       "      <td>[estribillo, denom, x, mueve, mueve, mueve, ti...</td>\n",
       "    </tr>\n",
       "    <tr>\n",
       "      <th>4</th>\n",
       "      <td>4</td>\n",
       "      <td>Jaro Desperdizio</td>\n",
       "      <td>Insomnia</td>\n",
       "      <td>Sin álbum, es un vídeo suelto</td>\n",
       "      <td>[Estribillo]\\nY en esta noche, ¿Quién me arrop...</td>\n",
       "      <td>2019</td>\n",
       "      <td>219</td>\n",
       "      <td>[estribillo, noche, quién, arropará, si, invie...</td>\n",
       "    </tr>\n",
       "  </tbody>\n",
       "</table>\n",
       "</div>"
      ],
      "text/plain": [
       "   id           artista                                            cancion  \\\n",
       "0   0             Denom             Machete (con Jarfaiter y Gente jodida)   \n",
       "1   1             Denom                           Vacío (con Ivo Incuerdo)   \n",
       "2   2             Denom  El orgullo es fiel (con Juancho Marqués y Elio...   \n",
       "3   3             Denom                    Mueve mueve (con Fernandocosta)   \n",
       "4   4  Jaro Desperdizio                                           Insomnia   \n",
       "\n",
       "                           album  \\\n",
       "0                       Medicina   \n",
       "1                       Medicina   \n",
       "2                       Medicina   \n",
       "3                       Medicina   \n",
       "4  Sin álbum, es un vídeo suelto   \n",
       "\n",
       "                                               letra  anyo  visitas  \\\n",
       "0  Para su nuevo disco \"Medicina\", Denom ha vuelt...  2019      126   \n",
       "1  [Denom]\\nYo que quería, yo que pedía vida,\\nSe...  2019      361   \n",
       "2  \"El orgullo es fiel\" es uno de los cortes incl...  2019      262   \n",
       "3  [Estribillo: Denom] (x2)\\nMueve, mueve, mueve,...  2019      578   \n",
       "4  [Estribillo]\\nY en esta noche, ¿Quién me arrop...  2019      219   \n",
       "\n",
       "                                                  pp  \n",
       "0  [nuevo, disco, medicina, denom, vuelto, contar...  \n",
       "1  [denom, quería, pedía, vida, partió, mitad, ah...  \n",
       "2  [orgullo, fiel, cortes, incluidos, nuevo, disc...  \n",
       "3  [estribillo, denom, x, mueve, mueve, mueve, ti...  \n",
       "4  [estribillo, noche, quién, arropará, si, invie...  "
      ]
     },
     "execution_count": 7,
     "metadata": {},
     "output_type": "execute_result"
    }
   ],
   "source": [
    "rap = pd.read_csv(\"rap_espanol.csv\")\n",
    "rap['pp'] = rap['letra'].apply(lambda texto: pre_procesado(texto))\n",
    "rap.head()"
   ]
  },
  {
   "cell_type": "code",
   "execution_count": null,
   "id": "flying-status",
   "metadata": {},
   "outputs": [],
   "source": [
    "#!pip install gensim"
   ]
  },
  {
   "cell_type": "code",
   "execution_count": 18,
   "id": "operating-shape",
   "metadata": {},
   "outputs": [
    {
     "name": "stdout",
     "output_type": "stream",
     "text": [
      "Wall time: 2min 51s\n"
     ]
    }
   ],
   "source": [
    "%%time\n",
    "import gensim.models.word2vec as w2v\n",
    "\n",
    "mi_modelo = w2v.Word2Vec(rap['pp'].values,\n",
    "                        sg=1, # 1 para usar skip-gram, 0 para usar CBOW\n",
    "                        seed=1, # 1 para tener resultados reproducibles y debuggear\n",
    "                        vector_size=256, # el tamaño de los vectores de palabras o neuronas\n",
    "                        min_count=50, # mínimo de veces que ha de aparecer una palabra para ser considerada\n",
    "                        window=12, # ventana contextual de cada palabra\n",
    "                        )"
   ]
  },
  {
   "cell_type": "code",
   "execution_count": 19,
   "id": "prescribed-draft",
   "metadata": {},
   "outputs": [
    {
     "data": {
      "text/plain": [
       "[('cla', 0.5168694257736206),\n",
       " ('biblia', 0.5087817311286926),\n",
       " ('padre', 0.39692389965057373),\n",
       " ('madre', 0.3946682810783386),\n",
       " ('amigos', 0.3883940875530243),\n",
       " ('familiares', 0.384700208902359),\n",
       " ('callejón', 0.37463513016700745),\n",
       " ('padres', 0.37300822138786316),\n",
       " ('hermanos', 0.36924976110458374),\n",
       " ('amistad', 0.36864331364631653)]"
      ]
     },
     "execution_count": 19,
     "metadata": {},
     "output_type": "execute_result"
    }
   ],
   "source": [
    "mi_modelo.wv.most_similar(\"familia\")"
   ]
  },
  {
   "cell_type": "code",
   "execution_count": 24,
   "id": "comparable-relay",
   "metadata": {},
   "outputs": [
    {
     "data": {
      "text/plain": [
       "'amar es a amor como odio es a odiar'"
      ]
     },
     "execution_count": 24,
     "metadata": {},
     "output_type": "execute_result"
    }
   ],
   "source": [
    "def similitud(inicio1, fin1, inicio2):\n",
    "    fin2 = mi_modelo.wv.most_similar_cosmul(\n",
    "    positive=[inicio2, inicio1],\n",
    "    negative=[fin1])[0][0]\n",
    "    return f\"{inicio1} es a {fin1} como {inicio2} es a {fin2}\"\n",
    "\n",
    "similitud(\"amar\", \"amor\", \"odio\")"
   ]
  },
  {
   "cell_type": "code",
   "execution_count": 57,
   "id": "operating-mining",
   "metadata": {},
   "outputs": [
    {
     "ename": "TypeError",
     "evalue": "'Word2Vec' object is not subscriptable",
     "output_type": "error",
     "traceback": [
      "\u001b[1;31m---------------------------------------------------------------------------\u001b[0m",
      "\u001b[1;31mTypeError\u001b[0m                                 Traceback (most recent call last)",
      "\u001b[1;32m<ipython-input-57-c7e4f473a6e2>\u001b[0m in \u001b[0;36m<module>\u001b[1;34m\u001b[0m\n\u001b[0;32m      2\u001b[0m \u001b[1;31m# mi_modelo.wv.key_to_index\u001b[0m\u001b[1;33m\u001b[0m\u001b[1;33m\u001b[0m\u001b[1;33m\u001b[0m\u001b[0m\n\u001b[0;32m      3\u001b[0m \u001b[1;31m# mi_modelo.wv.index_to_key\u001b[0m\u001b[1;33m\u001b[0m\u001b[1;33m\u001b[0m\u001b[1;33m\u001b[0m\u001b[0m\n\u001b[1;32m----> 4\u001b[1;33m \u001b[0mmi_modelo\u001b[0m\u001b[1;33m[\u001b[0m\u001b[0mmi_modelo\u001b[0m\u001b[1;33m.\u001b[0m\u001b[0mwv\u001b[0m\u001b[1;33m]\u001b[0m\u001b[1;33m\u001b[0m\u001b[1;33m\u001b[0m\u001b[0m\n\u001b[0m\u001b[0;32m      5\u001b[0m \u001b[1;33m\u001b[0m\u001b[0m\n\u001b[0;32m      6\u001b[0m \u001b[1;31m# matrix = pd.DataFrame(mi_modelo.wv.key_to_index.items())\u001b[0m\u001b[1;33m\u001b[0m\u001b[1;33m\u001b[0m\u001b[1;33m\u001b[0m\u001b[0m\n",
      "\u001b[1;31mTypeError\u001b[0m: 'Word2Vec' object is not subscriptable"
     ]
    }
   ],
   "source": [
    "# len(mi_modelo.wv)\n",
    "# mi_modelo.wv.key_to_index\n",
    "# mi_modelo.wv.index_to_key\n",
    "\n",
    "# matrix = pd.DataFrame(mi_modelo.wv.key_to_index.items())\n",
    "# matrix.index = mi_modelo.wv.key_to_index.keys()\n",
    "# matrix"
   ]
  },
  {
   "cell_type": "code",
   "execution_count": null,
   "id": "white-cuisine",
   "metadata": {},
   "outputs": [],
   "source": [
    "from sklearn.decomposition import PCA\n",
    "import matplotlib.pyplot as plt\n",
    "\n",
    "# pip install plotly\n",
    "import plotly.graph_objs as go\n",
    "from plotly.offline import iplot, init_notebook_mode\n",
    "\n",
    "%matplotlib inline\n",
    "init_notebook_mode(connected=True)\n",
    "\n",
    "\n",
    "\n",
    "X = mi_modelo[mi_modelo.wv.vocab] # mi_modelo[mi_modelo.wv.key_to_index]\n",
    "matrix = pd.DataFrame(X)\n",
    "\n",
    "matrix.index = mi_modelo.wv.vocab.keys() # mi_modelo.wv.key_to_index.keys()\n",
    "matrix\n",
    "\n",
    "\n",
    "pca = PCA(n_components=2)\n",
    "\n",
    "result = pca.fit_transform(matrix)\n",
    "result = pd.DataFrame(result)\n",
    "result.columns = ['X', 'Y']\n",
    "result['Palabra'] = matrix.index.values\n",
    "\n",
    "\n",
    "trace = go.Scatter(x=result['X'].values,\n",
    "                   y=result['Y'].values,\n",
    "                   text=result['Palabra'].values,\n",
    "                   mode='markers',\n",
    "                   name=\"vocabulario\") \n",
    "\n",
    "layout = go.Layout(title=\"PCA\")\n",
    "\n",
    "fig = go.Figure(data=[trace], layout=layout)\n",
    "iplot(fig)"
   ]
  }
 ],
 "metadata": {
  "kernelspec": {
   "display_name": "Python 3",
   "language": "python",
   "name": "python3"
  },
  "language_info": {
   "codemirror_mode": {
    "name": "ipython",
    "version": 3
   },
   "file_extension": ".py",
   "mimetype": "text/x-python",
   "name": "python",
   "nbconvert_exporter": "python",
   "pygments_lexer": "ipython3",
   "version": "3.7.9"
  },
  "toc-showcode": false,
  "toc-showtags": false
 },
 "nbformat": 4,
 "nbformat_minor": 5
}
