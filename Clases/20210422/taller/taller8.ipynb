{
 "cells": [
  {
   "cell_type": "markdown",
   "metadata": {},
   "source": [
    "<img src='https://encrypted-tbn0.gstatic.com/images?q=tbn%3AANd9GcQ-VfNtOyJbsaxu43Kztf_cv1mgBG6ZIQZEVw&usqp=CAU'>\n",
    "\n",
    "# Procesamiento de Lenguage Natural\n",
    "\n",
    "## Taller #8: Agrupación de textos\n",
    "`Fecha de entrega: Abril 29, 2021. (Antes del inicio de la próxima clase).`\n",
    "\n",
    "`Modo de entrega: Subir link de GitHub al aula virtual.`"
   ]
  },
  {
   "cell_type": "code",
   "execution_count": 1,
   "metadata": {},
   "outputs": [],
   "source": [
    "import re\n",
    "import json\n",
    "import pandas as pd\n",
    "import numpy as np\n",
    "\n",
    "from nltk.corpus import stopwords\n",
    "from sklearn.feature_extraction.text import TfidfVectorizer\n",
    "\n",
    "from sklearn.neighbors import NearestNeighbors\n",
    "from sklearn.cluster import KMeans\n",
    "from sklearn.decomposition import PCA\n",
    "\n",
    "import matplotlib.pyplot as plt\n",
    "import plotly.graph_objs as go\n",
    "from plotly.offline import iplot"
   ]
  },
  {
   "cell_type": "code",
   "execution_count": 2,
   "metadata": {},
   "outputs": [
    {
     "output_type": "execute_result",
     "data": {
      "text/plain": [
       "    review_id          product_id          reviewer_id  stars  \\\n",
       "0  es_0825565  product_es_0370490  reviewer_es_0174781      3   \n",
       "1  es_0227934  product_es_0354224  reviewer_es_0411613      3   \n",
       "2  es_0468601  product_es_0665460  reviewer_es_0348315      1   \n",
       "3  es_0814494  product_es_0692692  reviewer_es_0951508      5   \n",
       "4  es_0206329  product_es_0728826  reviewer_es_0493255      4   \n",
       "\n",
       "                                         review_body            review_title  \\\n",
       "0         Buen. Buena calidad, y buena presentación.                Contenta   \n",
       "1  Un producto a perfecto, para salir de casa con...            Versatilidad   \n",
       "2  No funciona con Nintendo Switch. No hay forma ...      Decepción absoluta   \n",
       "3  Recomendado, los utilizo para pc y no me dan n...  Auriculares Pecham ps4   \n",
       "4  El cable funciona bien podria ser un poco mas ...                Perfecto   \n",
       "\n",
       "  language product_category  \n",
       "0       es          jewelry  \n",
       "1       es      video_games  \n",
       "2       es      video_games  \n",
       "3       es      video_games  \n",
       "4       es      video_games  "
      ],
      "text/html": "<div>\n<style scoped>\n    .dataframe tbody tr th:only-of-type {\n        vertical-align: middle;\n    }\n\n    .dataframe tbody tr th {\n        vertical-align: top;\n    }\n\n    .dataframe thead th {\n        text-align: right;\n    }\n</style>\n<table border=\"1\" class=\"dataframe\">\n  <thead>\n    <tr style=\"text-align: right;\">\n      <th></th>\n      <th>review_id</th>\n      <th>product_id</th>\n      <th>reviewer_id</th>\n      <th>stars</th>\n      <th>review_body</th>\n      <th>review_title</th>\n      <th>language</th>\n      <th>product_category</th>\n    </tr>\n  </thead>\n  <tbody>\n    <tr>\n      <th>0</th>\n      <td>es_0825565</td>\n      <td>product_es_0370490</td>\n      <td>reviewer_es_0174781</td>\n      <td>3</td>\n      <td>Buen. Buena calidad, y buena presentación.</td>\n      <td>Contenta</td>\n      <td>es</td>\n      <td>jewelry</td>\n    </tr>\n    <tr>\n      <th>1</th>\n      <td>es_0227934</td>\n      <td>product_es_0354224</td>\n      <td>reviewer_es_0411613</td>\n      <td>3</td>\n      <td>Un producto a perfecto, para salir de casa con...</td>\n      <td>Versatilidad</td>\n      <td>es</td>\n      <td>video_games</td>\n    </tr>\n    <tr>\n      <th>2</th>\n      <td>es_0468601</td>\n      <td>product_es_0665460</td>\n      <td>reviewer_es_0348315</td>\n      <td>1</td>\n      <td>No funciona con Nintendo Switch. No hay forma ...</td>\n      <td>Decepción absoluta</td>\n      <td>es</td>\n      <td>video_games</td>\n    </tr>\n    <tr>\n      <th>3</th>\n      <td>es_0814494</td>\n      <td>product_es_0692692</td>\n      <td>reviewer_es_0951508</td>\n      <td>5</td>\n      <td>Recomendado, los utilizo para pc y no me dan n...</td>\n      <td>Auriculares Pecham ps4</td>\n      <td>es</td>\n      <td>video_games</td>\n    </tr>\n    <tr>\n      <th>4</th>\n      <td>es_0206329</td>\n      <td>product_es_0728826</td>\n      <td>reviewer_es_0493255</td>\n      <td>4</td>\n      <td>El cable funciona bien podria ser un poco mas ...</td>\n      <td>Perfecto</td>\n      <td>es</td>\n      <td>video_games</td>\n    </tr>\n  </tbody>\n</table>\n</div>"
     },
     "metadata": {},
     "execution_count": 2
    }
   ],
   "source": [
    "# Cargar datos\n",
    "path = \"./reviews_vidjew_es.csv\"\n",
    "data = pd.read_csv(path)\n",
    "data.head()"
   ]
  },
  {
   "cell_type": "markdown",
   "metadata": {},
   "source": [
    "###  `[10 pts]` Punto 1: Hacer pre-procesamiento del texto"
   ]
  },
  {
   "cell_type": "code",
   "execution_count": 3,
   "metadata": {},
   "outputs": [
    {
     "output_type": "execute_result",
     "data": {
      "text/plain": [
       "     abajo  abalorio  abalorios  abaratar  abate  abierta  abierto  ablar  \\\n",
       "0      0.0       0.0        0.0       0.0    0.0      0.0      0.0    0.0   \n",
       "1      0.0       0.0        0.0       0.0    0.0      0.0      0.0    0.0   \n",
       "2      0.0       0.0        0.0       0.0    0.0      0.0      0.0    0.0   \n",
       "3      0.0       0.0        0.0       0.0    0.0      0.0      0.0    0.0   \n",
       "4      0.0       0.0        0.0       0.0    0.0      0.0      0.0    0.0   \n",
       "..     ...       ...        ...       ...    ...      ...      ...    ...   \n",
       "995    0.0       0.0        0.0       0.0    0.0      0.0      0.0    0.0   \n",
       "996    0.0       0.0        0.0       0.0    0.0      0.0      0.0    0.0   \n",
       "997    0.0       0.0        0.0       0.0    0.0      0.0      0.0    0.0   \n",
       "998    0.0       0.0        0.0       0.0    0.0      0.0      0.0    0.0   \n",
       "999    0.0       0.0        0.0       0.0    0.0      0.0      0.0    0.0   \n",
       "\n",
       "     aboné  abre  ...  éste  éxito  ópticas  última  últimas  últimos  única  \\\n",
       "0      0.0   0.0  ...   0.0    0.0      0.0     0.0      0.0      0.0    0.0   \n",
       "1      0.0   0.0  ...   0.0    0.0      0.0     0.0      0.0      0.0    0.0   \n",
       "2      0.0   0.0  ...   0.0    0.0      0.0     0.0      0.0      0.0    0.0   \n",
       "3      0.0   0.0  ...   0.0    0.0      0.0     0.0      0.0      0.0    0.0   \n",
       "4      0.0   0.0  ...   0.0    0.0      0.0     0.0      0.0      0.0    0.0   \n",
       "..     ...   ...  ...   ...    ...      ...     ...      ...      ...    ...   \n",
       "995    0.0   0.0  ...   0.0    0.0      0.0     0.0      0.0      0.0    0.0   \n",
       "996    0.0   0.0  ...   0.0    0.0      0.0     0.0      0.0      0.0    0.0   \n",
       "997    0.0   0.0  ...   0.0    0.0      0.0     0.0      0.0      0.0    0.0   \n",
       "998    0.0   0.0  ...   0.0    0.0      0.0     0.0      0.0      0.0    0.0   \n",
       "999    0.0   0.0  ...   0.0    0.0      0.0     0.0      0.0      0.0    0.0   \n",
       "\n",
       "     únicamente  único  útil  \n",
       "0           0.0    0.0   0.0  \n",
       "1           0.0    0.0   0.0  \n",
       "2           0.0    0.0   0.0  \n",
       "3           0.0    0.0   0.0  \n",
       "4           0.0    0.0   0.0  \n",
       "..          ...    ...   ...  \n",
       "995         0.0    0.0   0.0  \n",
       "996         0.0    0.0   0.0  \n",
       "997         0.0    0.0   0.0  \n",
       "998         0.0    0.0   0.0  \n",
       "999         0.0    0.0   0.0  \n",
       "\n",
       "[1000 rows x 3666 columns]"
      ],
      "text/html": "<div>\n<style scoped>\n    .dataframe tbody tr th:only-of-type {\n        vertical-align: middle;\n    }\n\n    .dataframe tbody tr th {\n        vertical-align: top;\n    }\n\n    .dataframe thead th {\n        text-align: right;\n    }\n</style>\n<table border=\"1\" class=\"dataframe\">\n  <thead>\n    <tr style=\"text-align: right;\">\n      <th></th>\n      <th>abajo</th>\n      <th>abalorio</th>\n      <th>abalorios</th>\n      <th>abaratar</th>\n      <th>abate</th>\n      <th>abierta</th>\n      <th>abierto</th>\n      <th>ablar</th>\n      <th>aboné</th>\n      <th>abre</th>\n      <th>...</th>\n      <th>éste</th>\n      <th>éxito</th>\n      <th>ópticas</th>\n      <th>última</th>\n      <th>últimas</th>\n      <th>últimos</th>\n      <th>única</th>\n      <th>únicamente</th>\n      <th>único</th>\n      <th>útil</th>\n    </tr>\n  </thead>\n  <tbody>\n    <tr>\n      <th>0</th>\n      <td>0.0</td>\n      <td>0.0</td>\n      <td>0.0</td>\n      <td>0.0</td>\n      <td>0.0</td>\n      <td>0.0</td>\n      <td>0.0</td>\n      <td>0.0</td>\n      <td>0.0</td>\n      <td>0.0</td>\n      <td>...</td>\n      <td>0.0</td>\n      <td>0.0</td>\n      <td>0.0</td>\n      <td>0.0</td>\n      <td>0.0</td>\n      <td>0.0</td>\n      <td>0.0</td>\n      <td>0.0</td>\n      <td>0.0</td>\n      <td>0.0</td>\n    </tr>\n    <tr>\n      <th>1</th>\n      <td>0.0</td>\n      <td>0.0</td>\n      <td>0.0</td>\n      <td>0.0</td>\n      <td>0.0</td>\n      <td>0.0</td>\n      <td>0.0</td>\n      <td>0.0</td>\n      <td>0.0</td>\n      <td>0.0</td>\n      <td>...</td>\n      <td>0.0</td>\n      <td>0.0</td>\n      <td>0.0</td>\n      <td>0.0</td>\n      <td>0.0</td>\n      <td>0.0</td>\n      <td>0.0</td>\n      <td>0.0</td>\n      <td>0.0</td>\n      <td>0.0</td>\n    </tr>\n    <tr>\n      <th>2</th>\n      <td>0.0</td>\n      <td>0.0</td>\n      <td>0.0</td>\n      <td>0.0</td>\n      <td>0.0</td>\n      <td>0.0</td>\n      <td>0.0</td>\n      <td>0.0</td>\n      <td>0.0</td>\n      <td>0.0</td>\n      <td>...</td>\n      <td>0.0</td>\n      <td>0.0</td>\n      <td>0.0</td>\n      <td>0.0</td>\n      <td>0.0</td>\n      <td>0.0</td>\n      <td>0.0</td>\n      <td>0.0</td>\n      <td>0.0</td>\n      <td>0.0</td>\n    </tr>\n    <tr>\n      <th>3</th>\n      <td>0.0</td>\n      <td>0.0</td>\n      <td>0.0</td>\n      <td>0.0</td>\n      <td>0.0</td>\n      <td>0.0</td>\n      <td>0.0</td>\n      <td>0.0</td>\n      <td>0.0</td>\n      <td>0.0</td>\n      <td>...</td>\n      <td>0.0</td>\n      <td>0.0</td>\n      <td>0.0</td>\n      <td>0.0</td>\n      <td>0.0</td>\n      <td>0.0</td>\n      <td>0.0</td>\n      <td>0.0</td>\n      <td>0.0</td>\n      <td>0.0</td>\n    </tr>\n    <tr>\n      <th>4</th>\n      <td>0.0</td>\n      <td>0.0</td>\n      <td>0.0</td>\n      <td>0.0</td>\n      <td>0.0</td>\n      <td>0.0</td>\n      <td>0.0</td>\n      <td>0.0</td>\n      <td>0.0</td>\n      <td>0.0</td>\n      <td>...</td>\n      <td>0.0</td>\n      <td>0.0</td>\n      <td>0.0</td>\n      <td>0.0</td>\n      <td>0.0</td>\n      <td>0.0</td>\n      <td>0.0</td>\n      <td>0.0</td>\n      <td>0.0</td>\n      <td>0.0</td>\n    </tr>\n    <tr>\n      <th>...</th>\n      <td>...</td>\n      <td>...</td>\n      <td>...</td>\n      <td>...</td>\n      <td>...</td>\n      <td>...</td>\n      <td>...</td>\n      <td>...</td>\n      <td>...</td>\n      <td>...</td>\n      <td>...</td>\n      <td>...</td>\n      <td>...</td>\n      <td>...</td>\n      <td>...</td>\n      <td>...</td>\n      <td>...</td>\n      <td>...</td>\n      <td>...</td>\n      <td>...</td>\n      <td>...</td>\n    </tr>\n    <tr>\n      <th>995</th>\n      <td>0.0</td>\n      <td>0.0</td>\n      <td>0.0</td>\n      <td>0.0</td>\n      <td>0.0</td>\n      <td>0.0</td>\n      <td>0.0</td>\n      <td>0.0</td>\n      <td>0.0</td>\n      <td>0.0</td>\n      <td>...</td>\n      <td>0.0</td>\n      <td>0.0</td>\n      <td>0.0</td>\n      <td>0.0</td>\n      <td>0.0</td>\n      <td>0.0</td>\n      <td>0.0</td>\n      <td>0.0</td>\n      <td>0.0</td>\n      <td>0.0</td>\n    </tr>\n    <tr>\n      <th>996</th>\n      <td>0.0</td>\n      <td>0.0</td>\n      <td>0.0</td>\n      <td>0.0</td>\n      <td>0.0</td>\n      <td>0.0</td>\n      <td>0.0</td>\n      <td>0.0</td>\n      <td>0.0</td>\n      <td>0.0</td>\n      <td>...</td>\n      <td>0.0</td>\n      <td>0.0</td>\n      <td>0.0</td>\n      <td>0.0</td>\n      <td>0.0</td>\n      <td>0.0</td>\n      <td>0.0</td>\n      <td>0.0</td>\n      <td>0.0</td>\n      <td>0.0</td>\n    </tr>\n    <tr>\n      <th>997</th>\n      <td>0.0</td>\n      <td>0.0</td>\n      <td>0.0</td>\n      <td>0.0</td>\n      <td>0.0</td>\n      <td>0.0</td>\n      <td>0.0</td>\n      <td>0.0</td>\n      <td>0.0</td>\n      <td>0.0</td>\n      <td>...</td>\n      <td>0.0</td>\n      <td>0.0</td>\n      <td>0.0</td>\n      <td>0.0</td>\n      <td>0.0</td>\n      <td>0.0</td>\n      <td>0.0</td>\n      <td>0.0</td>\n      <td>0.0</td>\n      <td>0.0</td>\n    </tr>\n    <tr>\n      <th>998</th>\n      <td>0.0</td>\n      <td>0.0</td>\n      <td>0.0</td>\n      <td>0.0</td>\n      <td>0.0</td>\n      <td>0.0</td>\n      <td>0.0</td>\n      <td>0.0</td>\n      <td>0.0</td>\n      <td>0.0</td>\n      <td>...</td>\n      <td>0.0</td>\n      <td>0.0</td>\n      <td>0.0</td>\n      <td>0.0</td>\n      <td>0.0</td>\n      <td>0.0</td>\n      <td>0.0</td>\n      <td>0.0</td>\n      <td>0.0</td>\n      <td>0.0</td>\n    </tr>\n    <tr>\n      <th>999</th>\n      <td>0.0</td>\n      <td>0.0</td>\n      <td>0.0</td>\n      <td>0.0</td>\n      <td>0.0</td>\n      <td>0.0</td>\n      <td>0.0</td>\n      <td>0.0</td>\n      <td>0.0</td>\n      <td>0.0</td>\n      <td>...</td>\n      <td>0.0</td>\n      <td>0.0</td>\n      <td>0.0</td>\n      <td>0.0</td>\n      <td>0.0</td>\n      <td>0.0</td>\n      <td>0.0</td>\n      <td>0.0</td>\n      <td>0.0</td>\n      <td>0.0</td>\n    </tr>\n  </tbody>\n</table>\n<p>1000 rows × 3666 columns</p>\n</div>"
     },
     "metadata": {},
     "execution_count": 3
    }
   ],
   "source": [
    "stopwords_sp = stopwords.words('spanish')\n",
    "\n",
    "def pre_procesado(texto):\n",
    "    texto = texto.lower()\n",
    "    texto = re.sub(r\"[\\W\\d_]+\", \" \", texto)\n",
    "    texto = texto.split() # Tokenizar\n",
    "    texto = [palabra for palabra in texto if palabra not in stopwords_sp]\n",
    "    texto = \" \".join(texto)\n",
    "    return texto\n",
    "\n",
    "tfidf_vect = TfidfVectorizer(preprocessor=pre_procesado)\n",
    "tfidf = tfidf_vect.fit_transform(data[\"review_body\"].values)\n",
    "tfidf_matrix = pd.DataFrame(tfidf.toarray(), columns = tfidf_vect.get_feature_names())\n",
    "tfidf_matrix"
   ]
  },
  {
   "cell_type": "markdown",
   "metadata": {},
   "source": [
    "###  `[10 pts]` Punto 2: Método del codo para determinar $K$"
   ]
  },
  {
   "cell_type": "code",
   "execution_count": 27,
   "metadata": {},
   "outputs": [],
   "source": [
    "ks = []\n",
    "k_inertias = []\n",
    "\n",
    "for k in range(1,30):\n",
    "    kmeans = KMeans(n_clusters=k).fit(tfidf_matrix)\n",
    "    k_inertia = kmeans.inertia_\n",
    "    \n",
    "    ks.append(k)\n",
    "    k_inertias.append(k_inertia)"
   ]
  },
  {
   "cell_type": "code",
   "execution_count": 28,
   "metadata": {},
   "outputs": [
    {
     "output_type": "display_data",
     "data": {
      "text/plain": "<Figure size 720x432 with 1 Axes>",
      "image/svg+xml": "<?xml version=\"1.0\" encoding=\"utf-8\" standalone=\"no\"?>\r\n<!DOCTYPE svg PUBLIC \"-//W3C//DTD SVG 1.1//EN\"\r\n  \"http://www.w3.org/Graphics/SVG/1.1/DTD/svg11.dtd\">\r\n<svg height=\"386.034375pt\" version=\"1.1\" viewBox=\"0 0 612.165625 386.034375\" width=\"612.165625pt\" xmlns=\"http://www.w3.org/2000/svg\" xmlns:xlink=\"http://www.w3.org/1999/xlink\">\r\n <metadata>\r\n  <rdf:RDF xmlns:cc=\"http://creativecommons.org/ns#\" xmlns:dc=\"http://purl.org/dc/elements/1.1/\" xmlns:rdf=\"http://www.w3.org/1999/02/22-rdf-syntax-ns#\">\r\n   <cc:Work>\r\n    <dc:type rdf:resource=\"http://purl.org/dc/dcmitype/StillImage\"/>\r\n    <dc:date>2021-04-29T14:06:09.412150</dc:date>\r\n    <dc:format>image/svg+xml</dc:format>\r\n    <dc:creator>\r\n     <cc:Agent>\r\n      <dc:title>Matplotlib v3.4.1, https://matplotlib.org/</dc:title>\r\n     </cc:Agent>\r\n    </dc:creator>\r\n   </cc:Work>\r\n  </rdf:RDF>\r\n </metadata>\r\n <defs>\r\n  <style type=\"text/css\">*{stroke-linecap:butt;stroke-linejoin:round;}</style>\r\n </defs>\r\n <g id=\"figure_1\">\r\n  <g id=\"patch_1\">\r\n   <path d=\"M 0 386.034375 \r\nL 612.165625 386.034375 \r\nL 612.165625 0 \r\nL 0 0 \r\nz\r\n\" style=\"fill:none;\"/>\r\n  </g>\r\n  <g id=\"axes_1\">\r\n   <g id=\"patch_2\">\r\n    <path d=\"M 46.965625 348.478125 \r\nL 604.965625 348.478125 \r\nL 604.965625 22.318125 \r\nL 46.965625 22.318125 \r\nz\r\n\" style=\"fill:#ffffff;\"/>\r\n   </g>\r\n   <g id=\"matplotlib.axis_1\">\r\n    <g id=\"xtick_1\">\r\n     <g id=\"line2d_1\">\r\n      <defs>\r\n       <path d=\"M 0 0 \r\nL 0 3.5 \r\n\" id=\"m5c2d3ed05a\" style=\"stroke:#000000;stroke-width:0.8;\"/>\r\n      </defs>\r\n      <g>\r\n       <use style=\"stroke:#000000;stroke-width:0.8;\" x=\"54.212378\" xlink:href=\"#m5c2d3ed05a\" y=\"348.478125\"/>\r\n      </g>\r\n     </g>\r\n     <g id=\"text_1\">\r\n      <!-- 0 -->\r\n      <g transform=\"translate(51.031128 363.076562)scale(0.1 -0.1)\">\r\n       <defs>\r\n        <path d=\"M 2034 4250 \r\nQ 1547 4250 1301 3770 \r\nQ 1056 3291 1056 2328 \r\nQ 1056 1369 1301 889 \r\nQ 1547 409 2034 409 \r\nQ 2525 409 2770 889 \r\nQ 3016 1369 3016 2328 \r\nQ 3016 3291 2770 3770 \r\nQ 2525 4250 2034 4250 \r\nz\r\nM 2034 4750 \r\nQ 2819 4750 3233 4129 \r\nQ 3647 3509 3647 2328 \r\nQ 3647 1150 3233 529 \r\nQ 2819 -91 2034 -91 \r\nQ 1250 -91 836 529 \r\nQ 422 1150 422 2328 \r\nQ 422 3509 836 4129 \r\nQ 1250 4750 2034 4750 \r\nz\r\n\" id=\"DejaVuSans-30\" transform=\"scale(0.015625)\"/>\r\n       </defs>\r\n       <use xlink:href=\"#DejaVuSans-30\"/>\r\n      </g>\r\n     </g>\r\n    </g>\r\n    <g id=\"xtick_2\">\r\n     <g id=\"line2d_2\">\r\n      <g>\r\n       <use style=\"stroke:#000000;stroke-width:0.8;\" x=\"72.329261\" xlink:href=\"#m5c2d3ed05a\" y=\"348.478125\"/>\r\n      </g>\r\n     </g>\r\n     <g id=\"text_2\">\r\n      <!-- 1 -->\r\n      <g transform=\"translate(69.148011 363.076562)scale(0.1 -0.1)\">\r\n       <defs>\r\n        <path d=\"M 794 531 \r\nL 1825 531 \r\nL 1825 4091 \r\nL 703 3866 \r\nL 703 4441 \r\nL 1819 4666 \r\nL 2450 4666 \r\nL 2450 531 \r\nL 3481 531 \r\nL 3481 0 \r\nL 794 0 \r\nL 794 531 \r\nz\r\n\" id=\"DejaVuSans-31\" transform=\"scale(0.015625)\"/>\r\n       </defs>\r\n       <use xlink:href=\"#DejaVuSans-31\"/>\r\n      </g>\r\n     </g>\r\n    </g>\r\n    <g id=\"xtick_3\">\r\n     <g id=\"line2d_3\">\r\n      <g>\r\n       <use style=\"stroke:#000000;stroke-width:0.8;\" x=\"90.446144\" xlink:href=\"#m5c2d3ed05a\" y=\"348.478125\"/>\r\n      </g>\r\n     </g>\r\n     <g id=\"text_3\">\r\n      <!-- 2 -->\r\n      <g transform=\"translate(87.264894 363.076562)scale(0.1 -0.1)\">\r\n       <defs>\r\n        <path d=\"M 1228 531 \r\nL 3431 531 \r\nL 3431 0 \r\nL 469 0 \r\nL 469 531 \r\nQ 828 903 1448 1529 \r\nQ 2069 2156 2228 2338 \r\nQ 2531 2678 2651 2914 \r\nQ 2772 3150 2772 3378 \r\nQ 2772 3750 2511 3984 \r\nQ 2250 4219 1831 4219 \r\nQ 1534 4219 1204 4116 \r\nQ 875 4013 500 3803 \r\nL 500 4441 \r\nQ 881 4594 1212 4672 \r\nQ 1544 4750 1819 4750 \r\nQ 2544 4750 2975 4387 \r\nQ 3406 4025 3406 3419 \r\nQ 3406 3131 3298 2873 \r\nQ 3191 2616 2906 2266 \r\nQ 2828 2175 2409 1742 \r\nQ 1991 1309 1228 531 \r\nz\r\n\" id=\"DejaVuSans-32\" transform=\"scale(0.015625)\"/>\r\n       </defs>\r\n       <use xlink:href=\"#DejaVuSans-32\"/>\r\n      </g>\r\n     </g>\r\n    </g>\r\n    <g id=\"xtick_4\">\r\n     <g id=\"line2d_4\">\r\n      <g>\r\n       <use style=\"stroke:#000000;stroke-width:0.8;\" x=\"108.563028\" xlink:href=\"#m5c2d3ed05a\" y=\"348.478125\"/>\r\n      </g>\r\n     </g>\r\n     <g id=\"text_4\">\r\n      <!-- 3 -->\r\n      <g transform=\"translate(105.381778 363.076562)scale(0.1 -0.1)\">\r\n       <defs>\r\n        <path d=\"M 2597 2516 \r\nQ 3050 2419 3304 2112 \r\nQ 3559 1806 3559 1356 \r\nQ 3559 666 3084 287 \r\nQ 2609 -91 1734 -91 \r\nQ 1441 -91 1130 -33 \r\nQ 819 25 488 141 \r\nL 488 750 \r\nQ 750 597 1062 519 \r\nQ 1375 441 1716 441 \r\nQ 2309 441 2620 675 \r\nQ 2931 909 2931 1356 \r\nQ 2931 1769 2642 2001 \r\nQ 2353 2234 1838 2234 \r\nL 1294 2234 \r\nL 1294 2753 \r\nL 1863 2753 \r\nQ 2328 2753 2575 2939 \r\nQ 2822 3125 2822 3475 \r\nQ 2822 3834 2567 4026 \r\nQ 2313 4219 1838 4219 \r\nQ 1578 4219 1281 4162 \r\nQ 984 4106 628 3988 \r\nL 628 4550 \r\nQ 988 4650 1302 4700 \r\nQ 1616 4750 1894 4750 \r\nQ 2613 4750 3031 4423 \r\nQ 3450 4097 3450 3541 \r\nQ 3450 3153 3228 2886 \r\nQ 3006 2619 2597 2516 \r\nz\r\n\" id=\"DejaVuSans-33\" transform=\"scale(0.015625)\"/>\r\n       </defs>\r\n       <use xlink:href=\"#DejaVuSans-33\"/>\r\n      </g>\r\n     </g>\r\n    </g>\r\n    <g id=\"xtick_5\">\r\n     <g id=\"line2d_5\">\r\n      <g>\r\n       <use style=\"stroke:#000000;stroke-width:0.8;\" x=\"126.679911\" xlink:href=\"#m5c2d3ed05a\" y=\"348.478125\"/>\r\n      </g>\r\n     </g>\r\n     <g id=\"text_5\">\r\n      <!-- 4 -->\r\n      <g transform=\"translate(123.498661 363.076562)scale(0.1 -0.1)\">\r\n       <defs>\r\n        <path d=\"M 2419 4116 \r\nL 825 1625 \r\nL 2419 1625 \r\nL 2419 4116 \r\nz\r\nM 2253 4666 \r\nL 3047 4666 \r\nL 3047 1625 \r\nL 3713 1625 \r\nL 3713 1100 \r\nL 3047 1100 \r\nL 3047 0 \r\nL 2419 0 \r\nL 2419 1100 \r\nL 313 1100 \r\nL 313 1709 \r\nL 2253 4666 \r\nz\r\n\" id=\"DejaVuSans-34\" transform=\"scale(0.015625)\"/>\r\n       </defs>\r\n       <use xlink:href=\"#DejaVuSans-34\"/>\r\n      </g>\r\n     </g>\r\n    </g>\r\n    <g id=\"xtick_6\">\r\n     <g id=\"line2d_6\">\r\n      <g>\r\n       <use style=\"stroke:#000000;stroke-width:0.8;\" x=\"144.796794\" xlink:href=\"#m5c2d3ed05a\" y=\"348.478125\"/>\r\n      </g>\r\n     </g>\r\n     <g id=\"text_6\">\r\n      <!-- 5 -->\r\n      <g transform=\"translate(141.615544 363.076562)scale(0.1 -0.1)\">\r\n       <defs>\r\n        <path d=\"M 691 4666 \r\nL 3169 4666 \r\nL 3169 4134 \r\nL 1269 4134 \r\nL 1269 2991 \r\nQ 1406 3038 1543 3061 \r\nQ 1681 3084 1819 3084 \r\nQ 2600 3084 3056 2656 \r\nQ 3513 2228 3513 1497 \r\nQ 3513 744 3044 326 \r\nQ 2575 -91 1722 -91 \r\nQ 1428 -91 1123 -41 \r\nQ 819 9 494 109 \r\nL 494 744 \r\nQ 775 591 1075 516 \r\nQ 1375 441 1709 441 \r\nQ 2250 441 2565 725 \r\nQ 2881 1009 2881 1497 \r\nQ 2881 1984 2565 2268 \r\nQ 2250 2553 1709 2553 \r\nQ 1456 2553 1204 2497 \r\nQ 953 2441 691 2322 \r\nL 691 4666 \r\nz\r\n\" id=\"DejaVuSans-35\" transform=\"scale(0.015625)\"/>\r\n       </defs>\r\n       <use xlink:href=\"#DejaVuSans-35\"/>\r\n      </g>\r\n     </g>\r\n    </g>\r\n    <g id=\"xtick_7\">\r\n     <g id=\"line2d_7\">\r\n      <g>\r\n       <use style=\"stroke:#000000;stroke-width:0.8;\" x=\"162.913677\" xlink:href=\"#m5c2d3ed05a\" y=\"348.478125\"/>\r\n      </g>\r\n     </g>\r\n     <g id=\"text_7\">\r\n      <!-- 6 -->\r\n      <g transform=\"translate(159.732427 363.076562)scale(0.1 -0.1)\">\r\n       <defs>\r\n        <path d=\"M 2113 2584 \r\nQ 1688 2584 1439 2293 \r\nQ 1191 2003 1191 1497 \r\nQ 1191 994 1439 701 \r\nQ 1688 409 2113 409 \r\nQ 2538 409 2786 701 \r\nQ 3034 994 3034 1497 \r\nQ 3034 2003 2786 2293 \r\nQ 2538 2584 2113 2584 \r\nz\r\nM 3366 4563 \r\nL 3366 3988 \r\nQ 3128 4100 2886 4159 \r\nQ 2644 4219 2406 4219 \r\nQ 1781 4219 1451 3797 \r\nQ 1122 3375 1075 2522 \r\nQ 1259 2794 1537 2939 \r\nQ 1816 3084 2150 3084 \r\nQ 2853 3084 3261 2657 \r\nQ 3669 2231 3669 1497 \r\nQ 3669 778 3244 343 \r\nQ 2819 -91 2113 -91 \r\nQ 1303 -91 875 529 \r\nQ 447 1150 447 2328 \r\nQ 447 3434 972 4092 \r\nQ 1497 4750 2381 4750 \r\nQ 2619 4750 2861 4703 \r\nQ 3103 4656 3366 4563 \r\nz\r\n\" id=\"DejaVuSans-36\" transform=\"scale(0.015625)\"/>\r\n       </defs>\r\n       <use xlink:href=\"#DejaVuSans-36\"/>\r\n      </g>\r\n     </g>\r\n    </g>\r\n    <g id=\"xtick_8\">\r\n     <g id=\"line2d_8\">\r\n      <g>\r\n       <use style=\"stroke:#000000;stroke-width:0.8;\" x=\"181.03056\" xlink:href=\"#m5c2d3ed05a\" y=\"348.478125\"/>\r\n      </g>\r\n     </g>\r\n     <g id=\"text_8\">\r\n      <!-- 7 -->\r\n      <g transform=\"translate(177.84931 363.076562)scale(0.1 -0.1)\">\r\n       <defs>\r\n        <path d=\"M 525 4666 \r\nL 3525 4666 \r\nL 3525 4397 \r\nL 1831 0 \r\nL 1172 0 \r\nL 2766 4134 \r\nL 525 4134 \r\nL 525 4666 \r\nz\r\n\" id=\"DejaVuSans-37\" transform=\"scale(0.015625)\"/>\r\n       </defs>\r\n       <use xlink:href=\"#DejaVuSans-37\"/>\r\n      </g>\r\n     </g>\r\n    </g>\r\n    <g id=\"xtick_9\">\r\n     <g id=\"line2d_9\">\r\n      <g>\r\n       <use style=\"stroke:#000000;stroke-width:0.8;\" x=\"199.147443\" xlink:href=\"#m5c2d3ed05a\" y=\"348.478125\"/>\r\n      </g>\r\n     </g>\r\n     <g id=\"text_9\">\r\n      <!-- 8 -->\r\n      <g transform=\"translate(195.966193 363.076562)scale(0.1 -0.1)\">\r\n       <defs>\r\n        <path d=\"M 2034 2216 \r\nQ 1584 2216 1326 1975 \r\nQ 1069 1734 1069 1313 \r\nQ 1069 891 1326 650 \r\nQ 1584 409 2034 409 \r\nQ 2484 409 2743 651 \r\nQ 3003 894 3003 1313 \r\nQ 3003 1734 2745 1975 \r\nQ 2488 2216 2034 2216 \r\nz\r\nM 1403 2484 \r\nQ 997 2584 770 2862 \r\nQ 544 3141 544 3541 \r\nQ 544 4100 942 4425 \r\nQ 1341 4750 2034 4750 \r\nQ 2731 4750 3128 4425 \r\nQ 3525 4100 3525 3541 \r\nQ 3525 3141 3298 2862 \r\nQ 3072 2584 2669 2484 \r\nQ 3125 2378 3379 2068 \r\nQ 3634 1759 3634 1313 \r\nQ 3634 634 3220 271 \r\nQ 2806 -91 2034 -91 \r\nQ 1263 -91 848 271 \r\nQ 434 634 434 1313 \r\nQ 434 1759 690 2068 \r\nQ 947 2378 1403 2484 \r\nz\r\nM 1172 3481 \r\nQ 1172 3119 1398 2916 \r\nQ 1625 2713 2034 2713 \r\nQ 2441 2713 2670 2916 \r\nQ 2900 3119 2900 3481 \r\nQ 2900 3844 2670 4047 \r\nQ 2441 4250 2034 4250 \r\nQ 1625 4250 1398 4047 \r\nQ 1172 3844 1172 3481 \r\nz\r\n\" id=\"DejaVuSans-38\" transform=\"scale(0.015625)\"/>\r\n       </defs>\r\n       <use xlink:href=\"#DejaVuSans-38\"/>\r\n      </g>\r\n     </g>\r\n    </g>\r\n    <g id=\"xtick_10\">\r\n     <g id=\"line2d_10\">\r\n      <g>\r\n       <use style=\"stroke:#000000;stroke-width:0.8;\" x=\"217.264326\" xlink:href=\"#m5c2d3ed05a\" y=\"348.478125\"/>\r\n      </g>\r\n     </g>\r\n     <g id=\"text_10\">\r\n      <!-- 9 -->\r\n      <g transform=\"translate(214.083076 363.076562)scale(0.1 -0.1)\">\r\n       <defs>\r\n        <path d=\"M 703 97 \r\nL 703 672 \r\nQ 941 559 1184 500 \r\nQ 1428 441 1663 441 \r\nQ 2288 441 2617 861 \r\nQ 2947 1281 2994 2138 \r\nQ 2813 1869 2534 1725 \r\nQ 2256 1581 1919 1581 \r\nQ 1219 1581 811 2004 \r\nQ 403 2428 403 3163 \r\nQ 403 3881 828 4315 \r\nQ 1253 4750 1959 4750 \r\nQ 2769 4750 3195 4129 \r\nQ 3622 3509 3622 2328 \r\nQ 3622 1225 3098 567 \r\nQ 2575 -91 1691 -91 \r\nQ 1453 -91 1209 -44 \r\nQ 966 3 703 97 \r\nz\r\nM 1959 2075 \r\nQ 2384 2075 2632 2365 \r\nQ 2881 2656 2881 3163 \r\nQ 2881 3666 2632 3958 \r\nQ 2384 4250 1959 4250 \r\nQ 1534 4250 1286 3958 \r\nQ 1038 3666 1038 3163 \r\nQ 1038 2656 1286 2365 \r\nQ 1534 2075 1959 2075 \r\nz\r\n\" id=\"DejaVuSans-39\" transform=\"scale(0.015625)\"/>\r\n       </defs>\r\n       <use xlink:href=\"#DejaVuSans-39\"/>\r\n      </g>\r\n     </g>\r\n    </g>\r\n    <g id=\"xtick_11\">\r\n     <g id=\"line2d_11\">\r\n      <g>\r\n       <use style=\"stroke:#000000;stroke-width:0.8;\" x=\"235.381209\" xlink:href=\"#m5c2d3ed05a\" y=\"348.478125\"/>\r\n      </g>\r\n     </g>\r\n     <g id=\"text_11\">\r\n      <!-- 10 -->\r\n      <g transform=\"translate(229.018709 363.076562)scale(0.1 -0.1)\">\r\n       <use xlink:href=\"#DejaVuSans-31\"/>\r\n       <use x=\"63.623047\" xlink:href=\"#DejaVuSans-30\"/>\r\n      </g>\r\n     </g>\r\n    </g>\r\n    <g id=\"xtick_12\">\r\n     <g id=\"line2d_12\">\r\n      <g>\r\n       <use style=\"stroke:#000000;stroke-width:0.8;\" x=\"253.498093\" xlink:href=\"#m5c2d3ed05a\" y=\"348.478125\"/>\r\n      </g>\r\n     </g>\r\n     <g id=\"text_12\">\r\n      <!-- 11 -->\r\n      <g transform=\"translate(247.135593 363.076562)scale(0.1 -0.1)\">\r\n       <use xlink:href=\"#DejaVuSans-31\"/>\r\n       <use x=\"63.623047\" xlink:href=\"#DejaVuSans-31\"/>\r\n      </g>\r\n     </g>\r\n    </g>\r\n    <g id=\"xtick_13\">\r\n     <g id=\"line2d_13\">\r\n      <g>\r\n       <use style=\"stroke:#000000;stroke-width:0.8;\" x=\"271.614976\" xlink:href=\"#m5c2d3ed05a\" y=\"348.478125\"/>\r\n      </g>\r\n     </g>\r\n     <g id=\"text_13\">\r\n      <!-- 12 -->\r\n      <g transform=\"translate(265.252476 363.076562)scale(0.1 -0.1)\">\r\n       <use xlink:href=\"#DejaVuSans-31\"/>\r\n       <use x=\"63.623047\" xlink:href=\"#DejaVuSans-32\"/>\r\n      </g>\r\n     </g>\r\n    </g>\r\n    <g id=\"xtick_14\">\r\n     <g id=\"line2d_14\">\r\n      <g>\r\n       <use style=\"stroke:#000000;stroke-width:0.8;\" x=\"289.731859\" xlink:href=\"#m5c2d3ed05a\" y=\"348.478125\"/>\r\n      </g>\r\n     </g>\r\n     <g id=\"text_14\">\r\n      <!-- 13 -->\r\n      <g transform=\"translate(283.369359 363.076562)scale(0.1 -0.1)\">\r\n       <use xlink:href=\"#DejaVuSans-31\"/>\r\n       <use x=\"63.623047\" xlink:href=\"#DejaVuSans-33\"/>\r\n      </g>\r\n     </g>\r\n    </g>\r\n    <g id=\"xtick_15\">\r\n     <g id=\"line2d_15\">\r\n      <g>\r\n       <use style=\"stroke:#000000;stroke-width:0.8;\" x=\"307.848742\" xlink:href=\"#m5c2d3ed05a\" y=\"348.478125\"/>\r\n      </g>\r\n     </g>\r\n     <g id=\"text_15\">\r\n      <!-- 14 -->\r\n      <g transform=\"translate(301.486242 363.076562)scale(0.1 -0.1)\">\r\n       <use xlink:href=\"#DejaVuSans-31\"/>\r\n       <use x=\"63.623047\" xlink:href=\"#DejaVuSans-34\"/>\r\n      </g>\r\n     </g>\r\n    </g>\r\n    <g id=\"xtick_16\">\r\n     <g id=\"line2d_16\">\r\n      <g>\r\n       <use style=\"stroke:#000000;stroke-width:0.8;\" x=\"325.965625\" xlink:href=\"#m5c2d3ed05a\" y=\"348.478125\"/>\r\n      </g>\r\n     </g>\r\n     <g id=\"text_16\">\r\n      <!-- 15 -->\r\n      <g transform=\"translate(319.603125 363.076562)scale(0.1 -0.1)\">\r\n       <use xlink:href=\"#DejaVuSans-31\"/>\r\n       <use x=\"63.623047\" xlink:href=\"#DejaVuSans-35\"/>\r\n      </g>\r\n     </g>\r\n    </g>\r\n    <g id=\"xtick_17\">\r\n     <g id=\"line2d_17\">\r\n      <g>\r\n       <use style=\"stroke:#000000;stroke-width:0.8;\" x=\"344.082508\" xlink:href=\"#m5c2d3ed05a\" y=\"348.478125\"/>\r\n      </g>\r\n     </g>\r\n     <g id=\"text_17\">\r\n      <!-- 16 -->\r\n      <g transform=\"translate(337.720008 363.076562)scale(0.1 -0.1)\">\r\n       <use xlink:href=\"#DejaVuSans-31\"/>\r\n       <use x=\"63.623047\" xlink:href=\"#DejaVuSans-36\"/>\r\n      </g>\r\n     </g>\r\n    </g>\r\n    <g id=\"xtick_18\">\r\n     <g id=\"line2d_18\">\r\n      <g>\r\n       <use style=\"stroke:#000000;stroke-width:0.8;\" x=\"362.199391\" xlink:href=\"#m5c2d3ed05a\" y=\"348.478125\"/>\r\n      </g>\r\n     </g>\r\n     <g id=\"text_18\">\r\n      <!-- 17 -->\r\n      <g transform=\"translate(355.836891 363.076562)scale(0.1 -0.1)\">\r\n       <use xlink:href=\"#DejaVuSans-31\"/>\r\n       <use x=\"63.623047\" xlink:href=\"#DejaVuSans-37\"/>\r\n      </g>\r\n     </g>\r\n    </g>\r\n    <g id=\"xtick_19\">\r\n     <g id=\"line2d_19\">\r\n      <g>\r\n       <use style=\"stroke:#000000;stroke-width:0.8;\" x=\"380.316274\" xlink:href=\"#m5c2d3ed05a\" y=\"348.478125\"/>\r\n      </g>\r\n     </g>\r\n     <g id=\"text_19\">\r\n      <!-- 18 -->\r\n      <g transform=\"translate(373.953774 363.076562)scale(0.1 -0.1)\">\r\n       <use xlink:href=\"#DejaVuSans-31\"/>\r\n       <use x=\"63.623047\" xlink:href=\"#DejaVuSans-38\"/>\r\n      </g>\r\n     </g>\r\n    </g>\r\n    <g id=\"xtick_20\">\r\n     <g id=\"line2d_20\">\r\n      <g>\r\n       <use style=\"stroke:#000000;stroke-width:0.8;\" x=\"398.433157\" xlink:href=\"#m5c2d3ed05a\" y=\"348.478125\"/>\r\n      </g>\r\n     </g>\r\n     <g id=\"text_20\">\r\n      <!-- 19 -->\r\n      <g transform=\"translate(392.070657 363.076562)scale(0.1 -0.1)\">\r\n       <use xlink:href=\"#DejaVuSans-31\"/>\r\n       <use x=\"63.623047\" xlink:href=\"#DejaVuSans-39\"/>\r\n      </g>\r\n     </g>\r\n    </g>\r\n    <g id=\"xtick_21\">\r\n     <g id=\"line2d_21\">\r\n      <g>\r\n       <use style=\"stroke:#000000;stroke-width:0.8;\" x=\"416.550041\" xlink:href=\"#m5c2d3ed05a\" y=\"348.478125\"/>\r\n      </g>\r\n     </g>\r\n     <g id=\"text_21\">\r\n      <!-- 20 -->\r\n      <g transform=\"translate(410.187541 363.076562)scale(0.1 -0.1)\">\r\n       <use xlink:href=\"#DejaVuSans-32\"/>\r\n       <use x=\"63.623047\" xlink:href=\"#DejaVuSans-30\"/>\r\n      </g>\r\n     </g>\r\n    </g>\r\n    <g id=\"xtick_22\">\r\n     <g id=\"line2d_22\">\r\n      <g>\r\n       <use style=\"stroke:#000000;stroke-width:0.8;\" x=\"434.666924\" xlink:href=\"#m5c2d3ed05a\" y=\"348.478125\"/>\r\n      </g>\r\n     </g>\r\n     <g id=\"text_22\">\r\n      <!-- 21 -->\r\n      <g transform=\"translate(428.304424 363.076562)scale(0.1 -0.1)\">\r\n       <use xlink:href=\"#DejaVuSans-32\"/>\r\n       <use x=\"63.623047\" xlink:href=\"#DejaVuSans-31\"/>\r\n      </g>\r\n     </g>\r\n    </g>\r\n    <g id=\"xtick_23\">\r\n     <g id=\"line2d_23\">\r\n      <g>\r\n       <use style=\"stroke:#000000;stroke-width:0.8;\" x=\"452.783807\" xlink:href=\"#m5c2d3ed05a\" y=\"348.478125\"/>\r\n      </g>\r\n     </g>\r\n     <g id=\"text_23\">\r\n      <!-- 22 -->\r\n      <g transform=\"translate(446.421307 363.076562)scale(0.1 -0.1)\">\r\n       <use xlink:href=\"#DejaVuSans-32\"/>\r\n       <use x=\"63.623047\" xlink:href=\"#DejaVuSans-32\"/>\r\n      </g>\r\n     </g>\r\n    </g>\r\n    <g id=\"xtick_24\">\r\n     <g id=\"line2d_24\">\r\n      <g>\r\n       <use style=\"stroke:#000000;stroke-width:0.8;\" x=\"470.90069\" xlink:href=\"#m5c2d3ed05a\" y=\"348.478125\"/>\r\n      </g>\r\n     </g>\r\n     <g id=\"text_24\">\r\n      <!-- 23 -->\r\n      <g transform=\"translate(464.53819 363.076562)scale(0.1 -0.1)\">\r\n       <use xlink:href=\"#DejaVuSans-32\"/>\r\n       <use x=\"63.623047\" xlink:href=\"#DejaVuSans-33\"/>\r\n      </g>\r\n     </g>\r\n    </g>\r\n    <g id=\"xtick_25\">\r\n     <g id=\"line2d_25\">\r\n      <g>\r\n       <use style=\"stroke:#000000;stroke-width:0.8;\" x=\"489.017573\" xlink:href=\"#m5c2d3ed05a\" y=\"348.478125\"/>\r\n      </g>\r\n     </g>\r\n     <g id=\"text_25\">\r\n      <!-- 24 -->\r\n      <g transform=\"translate(482.655073 363.076562)scale(0.1 -0.1)\">\r\n       <use xlink:href=\"#DejaVuSans-32\"/>\r\n       <use x=\"63.623047\" xlink:href=\"#DejaVuSans-34\"/>\r\n      </g>\r\n     </g>\r\n    </g>\r\n    <g id=\"xtick_26\">\r\n     <g id=\"line2d_26\">\r\n      <g>\r\n       <use style=\"stroke:#000000;stroke-width:0.8;\" x=\"507.134456\" xlink:href=\"#m5c2d3ed05a\" y=\"348.478125\"/>\r\n      </g>\r\n     </g>\r\n     <g id=\"text_26\">\r\n      <!-- 25 -->\r\n      <g transform=\"translate(500.771956 363.076562)scale(0.1 -0.1)\">\r\n       <use xlink:href=\"#DejaVuSans-32\"/>\r\n       <use x=\"63.623047\" xlink:href=\"#DejaVuSans-35\"/>\r\n      </g>\r\n     </g>\r\n    </g>\r\n    <g id=\"xtick_27\">\r\n     <g id=\"line2d_27\">\r\n      <g>\r\n       <use style=\"stroke:#000000;stroke-width:0.8;\" x=\"525.251339\" xlink:href=\"#m5c2d3ed05a\" y=\"348.478125\"/>\r\n      </g>\r\n     </g>\r\n     <g id=\"text_27\">\r\n      <!-- 26 -->\r\n      <g transform=\"translate(518.888839 363.076562)scale(0.1 -0.1)\">\r\n       <use xlink:href=\"#DejaVuSans-32\"/>\r\n       <use x=\"63.623047\" xlink:href=\"#DejaVuSans-36\"/>\r\n      </g>\r\n     </g>\r\n    </g>\r\n    <g id=\"xtick_28\">\r\n     <g id=\"line2d_28\">\r\n      <g>\r\n       <use style=\"stroke:#000000;stroke-width:0.8;\" x=\"543.368222\" xlink:href=\"#m5c2d3ed05a\" y=\"348.478125\"/>\r\n      </g>\r\n     </g>\r\n     <g id=\"text_28\">\r\n      <!-- 27 -->\r\n      <g transform=\"translate(537.005722 363.076562)scale(0.1 -0.1)\">\r\n       <use xlink:href=\"#DejaVuSans-32\"/>\r\n       <use x=\"63.623047\" xlink:href=\"#DejaVuSans-37\"/>\r\n      </g>\r\n     </g>\r\n    </g>\r\n    <g id=\"xtick_29\">\r\n     <g id=\"line2d_29\">\r\n      <g>\r\n       <use style=\"stroke:#000000;stroke-width:0.8;\" x=\"561.485106\" xlink:href=\"#m5c2d3ed05a\" y=\"348.478125\"/>\r\n      </g>\r\n     </g>\r\n     <g id=\"text_29\">\r\n      <!-- 28 -->\r\n      <g transform=\"translate(555.122606 363.076562)scale(0.1 -0.1)\">\r\n       <use xlink:href=\"#DejaVuSans-32\"/>\r\n       <use x=\"63.623047\" xlink:href=\"#DejaVuSans-38\"/>\r\n      </g>\r\n     </g>\r\n    </g>\r\n    <g id=\"xtick_30\">\r\n     <g id=\"line2d_30\">\r\n      <g>\r\n       <use style=\"stroke:#000000;stroke-width:0.8;\" x=\"579.601989\" xlink:href=\"#m5c2d3ed05a\" y=\"348.478125\"/>\r\n      </g>\r\n     </g>\r\n     <g id=\"text_30\">\r\n      <!-- 29 -->\r\n      <g transform=\"translate(573.239489 363.076562)scale(0.1 -0.1)\">\r\n       <use xlink:href=\"#DejaVuSans-32\"/>\r\n       <use x=\"63.623047\" xlink:href=\"#DejaVuSans-39\"/>\r\n      </g>\r\n     </g>\r\n    </g>\r\n    <g id=\"text_31\">\r\n     <!-- Numero de Clusters -->\r\n     <g transform=\"translate(276.327344 376.754687)scale(0.1 -0.1)\">\r\n      <defs>\r\n       <path d=\"M 628 4666 \r\nL 1478 4666 \r\nL 3547 763 \r\nL 3547 4666 \r\nL 4159 4666 \r\nL 4159 0 \r\nL 3309 0 \r\nL 1241 3903 \r\nL 1241 0 \r\nL 628 0 \r\nL 628 4666 \r\nz\r\n\" id=\"DejaVuSans-4e\" transform=\"scale(0.015625)\"/>\r\n       <path d=\"M 544 1381 \r\nL 544 3500 \r\nL 1119 3500 \r\nL 1119 1403 \r\nQ 1119 906 1312 657 \r\nQ 1506 409 1894 409 \r\nQ 2359 409 2629 706 \r\nQ 2900 1003 2900 1516 \r\nL 2900 3500 \r\nL 3475 3500 \r\nL 3475 0 \r\nL 2900 0 \r\nL 2900 538 \r\nQ 2691 219 2414 64 \r\nQ 2138 -91 1772 -91 \r\nQ 1169 -91 856 284 \r\nQ 544 659 544 1381 \r\nz\r\nM 1991 3584 \r\nL 1991 3584 \r\nz\r\n\" id=\"DejaVuSans-75\" transform=\"scale(0.015625)\"/>\r\n       <path d=\"M 3328 2828 \r\nQ 3544 3216 3844 3400 \r\nQ 4144 3584 4550 3584 \r\nQ 5097 3584 5394 3201 \r\nQ 5691 2819 5691 2113 \r\nL 5691 0 \r\nL 5113 0 \r\nL 5113 2094 \r\nQ 5113 2597 4934 2840 \r\nQ 4756 3084 4391 3084 \r\nQ 3944 3084 3684 2787 \r\nQ 3425 2491 3425 1978 \r\nL 3425 0 \r\nL 2847 0 \r\nL 2847 2094 \r\nQ 2847 2600 2669 2842 \r\nQ 2491 3084 2119 3084 \r\nQ 1678 3084 1418 2786 \r\nQ 1159 2488 1159 1978 \r\nL 1159 0 \r\nL 581 0 \r\nL 581 3500 \r\nL 1159 3500 \r\nL 1159 2956 \r\nQ 1356 3278 1631 3431 \r\nQ 1906 3584 2284 3584 \r\nQ 2666 3584 2933 3390 \r\nQ 3200 3197 3328 2828 \r\nz\r\n\" id=\"DejaVuSans-6d\" transform=\"scale(0.015625)\"/>\r\n       <path d=\"M 3597 1894 \r\nL 3597 1613 \r\nL 953 1613 \r\nQ 991 1019 1311 708 \r\nQ 1631 397 2203 397 \r\nQ 2534 397 2845 478 \r\nQ 3156 559 3463 722 \r\nL 3463 178 \r\nQ 3153 47 2828 -22 \r\nQ 2503 -91 2169 -91 \r\nQ 1331 -91 842 396 \r\nQ 353 884 353 1716 \r\nQ 353 2575 817 3079 \r\nQ 1281 3584 2069 3584 \r\nQ 2775 3584 3186 3129 \r\nQ 3597 2675 3597 1894 \r\nz\r\nM 3022 2063 \r\nQ 3016 2534 2758 2815 \r\nQ 2500 3097 2075 3097 \r\nQ 1594 3097 1305 2825 \r\nQ 1016 2553 972 2059 \r\nL 3022 2063 \r\nz\r\n\" id=\"DejaVuSans-65\" transform=\"scale(0.015625)\"/>\r\n       <path d=\"M 2631 2963 \r\nQ 2534 3019 2420 3045 \r\nQ 2306 3072 2169 3072 \r\nQ 1681 3072 1420 2755 \r\nQ 1159 2438 1159 1844 \r\nL 1159 0 \r\nL 581 0 \r\nL 581 3500 \r\nL 1159 3500 \r\nL 1159 2956 \r\nQ 1341 3275 1631 3429 \r\nQ 1922 3584 2338 3584 \r\nQ 2397 3584 2469 3576 \r\nQ 2541 3569 2628 3553 \r\nL 2631 2963 \r\nz\r\n\" id=\"DejaVuSans-72\" transform=\"scale(0.015625)\"/>\r\n       <path d=\"M 1959 3097 \r\nQ 1497 3097 1228 2736 \r\nQ 959 2375 959 1747 \r\nQ 959 1119 1226 758 \r\nQ 1494 397 1959 397 \r\nQ 2419 397 2687 759 \r\nQ 2956 1122 2956 1747 \r\nQ 2956 2369 2687 2733 \r\nQ 2419 3097 1959 3097 \r\nz\r\nM 1959 3584 \r\nQ 2709 3584 3137 3096 \r\nQ 3566 2609 3566 1747 \r\nQ 3566 888 3137 398 \r\nQ 2709 -91 1959 -91 \r\nQ 1206 -91 779 398 \r\nQ 353 888 353 1747 \r\nQ 353 2609 779 3096 \r\nQ 1206 3584 1959 3584 \r\nz\r\n\" id=\"DejaVuSans-6f\" transform=\"scale(0.015625)\"/>\r\n       <path id=\"DejaVuSans-20\" transform=\"scale(0.015625)\"/>\r\n       <path d=\"M 2906 2969 \r\nL 2906 4863 \r\nL 3481 4863 \r\nL 3481 0 \r\nL 2906 0 \r\nL 2906 525 \r\nQ 2725 213 2448 61 \r\nQ 2172 -91 1784 -91 \r\nQ 1150 -91 751 415 \r\nQ 353 922 353 1747 \r\nQ 353 2572 751 3078 \r\nQ 1150 3584 1784 3584 \r\nQ 2172 3584 2448 3432 \r\nQ 2725 3281 2906 2969 \r\nz\r\nM 947 1747 \r\nQ 947 1113 1208 752 \r\nQ 1469 391 1925 391 \r\nQ 2381 391 2643 752 \r\nQ 2906 1113 2906 1747 \r\nQ 2906 2381 2643 2742 \r\nQ 2381 3103 1925 3103 \r\nQ 1469 3103 1208 2742 \r\nQ 947 2381 947 1747 \r\nz\r\n\" id=\"DejaVuSans-64\" transform=\"scale(0.015625)\"/>\r\n       <path d=\"M 4122 4306 \r\nL 4122 3641 \r\nQ 3803 3938 3442 4084 \r\nQ 3081 4231 2675 4231 \r\nQ 1875 4231 1450 3742 \r\nQ 1025 3253 1025 2328 \r\nQ 1025 1406 1450 917 \r\nQ 1875 428 2675 428 \r\nQ 3081 428 3442 575 \r\nQ 3803 722 4122 1019 \r\nL 4122 359 \r\nQ 3791 134 3420 21 \r\nQ 3050 -91 2638 -91 \r\nQ 1578 -91 968 557 \r\nQ 359 1206 359 2328 \r\nQ 359 3453 968 4101 \r\nQ 1578 4750 2638 4750 \r\nQ 3056 4750 3426 4639 \r\nQ 3797 4528 4122 4306 \r\nz\r\n\" id=\"DejaVuSans-43\" transform=\"scale(0.015625)\"/>\r\n       <path d=\"M 603 4863 \r\nL 1178 4863 \r\nL 1178 0 \r\nL 603 0 \r\nL 603 4863 \r\nz\r\n\" id=\"DejaVuSans-6c\" transform=\"scale(0.015625)\"/>\r\n       <path d=\"M 2834 3397 \r\nL 2834 2853 \r\nQ 2591 2978 2328 3040 \r\nQ 2066 3103 1784 3103 \r\nQ 1356 3103 1142 2972 \r\nQ 928 2841 928 2578 \r\nQ 928 2378 1081 2264 \r\nQ 1234 2150 1697 2047 \r\nL 1894 2003 \r\nQ 2506 1872 2764 1633 \r\nQ 3022 1394 3022 966 \r\nQ 3022 478 2636 193 \r\nQ 2250 -91 1575 -91 \r\nQ 1294 -91 989 -36 \r\nQ 684 19 347 128 \r\nL 347 722 \r\nQ 666 556 975 473 \r\nQ 1284 391 1588 391 \r\nQ 1994 391 2212 530 \r\nQ 2431 669 2431 922 \r\nQ 2431 1156 2273 1281 \r\nQ 2116 1406 1581 1522 \r\nL 1381 1569 \r\nQ 847 1681 609 1914 \r\nQ 372 2147 372 2553 \r\nQ 372 3047 722 3315 \r\nQ 1072 3584 1716 3584 \r\nQ 2034 3584 2315 3537 \r\nQ 2597 3491 2834 3397 \r\nz\r\n\" id=\"DejaVuSans-73\" transform=\"scale(0.015625)\"/>\r\n       <path d=\"M 1172 4494 \r\nL 1172 3500 \r\nL 2356 3500 \r\nL 2356 3053 \r\nL 1172 3053 \r\nL 1172 1153 \r\nQ 1172 725 1289 603 \r\nQ 1406 481 1766 481 \r\nL 2356 481 \r\nL 2356 0 \r\nL 1766 0 \r\nQ 1100 0 847 248 \r\nQ 594 497 594 1153 \r\nL 594 3053 \r\nL 172 3053 \r\nL 172 3500 \r\nL 594 3500 \r\nL 594 4494 \r\nL 1172 4494 \r\nz\r\n\" id=\"DejaVuSans-74\" transform=\"scale(0.015625)\"/>\r\n      </defs>\r\n      <use xlink:href=\"#DejaVuSans-4e\"/>\r\n      <use x=\"74.804688\" xlink:href=\"#DejaVuSans-75\"/>\r\n      <use x=\"138.183594\" xlink:href=\"#DejaVuSans-6d\"/>\r\n      <use x=\"235.595703\" xlink:href=\"#DejaVuSans-65\"/>\r\n      <use x=\"297.119141\" xlink:href=\"#DejaVuSans-72\"/>\r\n      <use x=\"335.982422\" xlink:href=\"#DejaVuSans-6f\"/>\r\n      <use x=\"397.164062\" xlink:href=\"#DejaVuSans-20\"/>\r\n      <use x=\"428.951172\" xlink:href=\"#DejaVuSans-64\"/>\r\n      <use x=\"492.427734\" xlink:href=\"#DejaVuSans-65\"/>\r\n      <use x=\"553.951172\" xlink:href=\"#DejaVuSans-20\"/>\r\n      <use x=\"585.738281\" xlink:href=\"#DejaVuSans-43\"/>\r\n      <use x=\"655.5625\" xlink:href=\"#DejaVuSans-6c\"/>\r\n      <use x=\"683.345703\" xlink:href=\"#DejaVuSans-75\"/>\r\n      <use x=\"746.724609\" xlink:href=\"#DejaVuSans-73\"/>\r\n      <use x=\"798.824219\" xlink:href=\"#DejaVuSans-74\"/>\r\n      <use x=\"838.033203\" xlink:href=\"#DejaVuSans-65\"/>\r\n      <use x=\"899.556641\" xlink:href=\"#DejaVuSans-72\"/>\r\n      <use x=\"940.669922\" xlink:href=\"#DejaVuSans-73\"/>\r\n     </g>\r\n    </g>\r\n   </g>\r\n   <g id=\"matplotlib.axis_2\">\r\n    <g id=\"ytick_1\">\r\n     <g id=\"line2d_31\">\r\n      <defs>\r\n       <path d=\"M 0 0 \r\nL -3.5 0 \r\n\" id=\"m7dfb85f1c6\" style=\"stroke:#000000;stroke-width:0.8;\"/>\r\n      </defs>\r\n      <g>\r\n       <use style=\"stroke:#000000;stroke-width:0.8;\" x=\"46.965625\" xlink:href=\"#m7dfb85f1c6\" y=\"342.681407\"/>\r\n      </g>\r\n     </g>\r\n     <g id=\"text_32\">\r\n      <!-- 910 -->\r\n      <g transform=\"translate(20.878125 346.480626)scale(0.1 -0.1)\">\r\n       <use xlink:href=\"#DejaVuSans-39\"/>\r\n       <use x=\"63.623047\" xlink:href=\"#DejaVuSans-31\"/>\r\n       <use x=\"127.246094\" xlink:href=\"#DejaVuSans-30\"/>\r\n      </g>\r\n     </g>\r\n    </g>\r\n    <g id=\"ytick_2\">\r\n     <g id=\"line2d_32\">\r\n      <g>\r\n       <use style=\"stroke:#000000;stroke-width:0.8;\" x=\"46.965625\" xlink:href=\"#m7dfb85f1c6\" y=\"303.254478\"/>\r\n      </g>\r\n     </g>\r\n     <g id=\"text_33\">\r\n      <!-- 920 -->\r\n      <g transform=\"translate(20.878125 307.053697)scale(0.1 -0.1)\">\r\n       <use xlink:href=\"#DejaVuSans-39\"/>\r\n       <use x=\"63.623047\" xlink:href=\"#DejaVuSans-32\"/>\r\n       <use x=\"127.246094\" xlink:href=\"#DejaVuSans-30\"/>\r\n      </g>\r\n     </g>\r\n    </g>\r\n    <g id=\"ytick_3\">\r\n     <g id=\"line2d_33\">\r\n      <g>\r\n       <use style=\"stroke:#000000;stroke-width:0.8;\" x=\"46.965625\" xlink:href=\"#m7dfb85f1c6\" y=\"263.827549\"/>\r\n      </g>\r\n     </g>\r\n     <g id=\"text_34\">\r\n      <!-- 930 -->\r\n      <g transform=\"translate(20.878125 267.626768)scale(0.1 -0.1)\">\r\n       <use xlink:href=\"#DejaVuSans-39\"/>\r\n       <use x=\"63.623047\" xlink:href=\"#DejaVuSans-33\"/>\r\n       <use x=\"127.246094\" xlink:href=\"#DejaVuSans-30\"/>\r\n      </g>\r\n     </g>\r\n    </g>\r\n    <g id=\"ytick_4\">\r\n     <g id=\"line2d_34\">\r\n      <g>\r\n       <use style=\"stroke:#000000;stroke-width:0.8;\" x=\"46.965625\" xlink:href=\"#m7dfb85f1c6\" y=\"224.40062\"/>\r\n      </g>\r\n     </g>\r\n     <g id=\"text_35\">\r\n      <!-- 940 -->\r\n      <g transform=\"translate(20.878125 228.199839)scale(0.1 -0.1)\">\r\n       <use xlink:href=\"#DejaVuSans-39\"/>\r\n       <use x=\"63.623047\" xlink:href=\"#DejaVuSans-34\"/>\r\n       <use x=\"127.246094\" xlink:href=\"#DejaVuSans-30\"/>\r\n      </g>\r\n     </g>\r\n    </g>\r\n    <g id=\"ytick_5\">\r\n     <g id=\"line2d_35\">\r\n      <g>\r\n       <use style=\"stroke:#000000;stroke-width:0.8;\" x=\"46.965625\" xlink:href=\"#m7dfb85f1c6\" y=\"184.973691\"/>\r\n      </g>\r\n     </g>\r\n     <g id=\"text_36\">\r\n      <!-- 950 -->\r\n      <g transform=\"translate(20.878125 188.77291)scale(0.1 -0.1)\">\r\n       <use xlink:href=\"#DejaVuSans-39\"/>\r\n       <use x=\"63.623047\" xlink:href=\"#DejaVuSans-35\"/>\r\n       <use x=\"127.246094\" xlink:href=\"#DejaVuSans-30\"/>\r\n      </g>\r\n     </g>\r\n    </g>\r\n    <g id=\"ytick_6\">\r\n     <g id=\"line2d_36\">\r\n      <g>\r\n       <use style=\"stroke:#000000;stroke-width:0.8;\" x=\"46.965625\" xlink:href=\"#m7dfb85f1c6\" y=\"145.546762\"/>\r\n      </g>\r\n     </g>\r\n     <g id=\"text_37\">\r\n      <!-- 960 -->\r\n      <g transform=\"translate(20.878125 149.345981)scale(0.1 -0.1)\">\r\n       <use xlink:href=\"#DejaVuSans-39\"/>\r\n       <use x=\"63.623047\" xlink:href=\"#DejaVuSans-36\"/>\r\n       <use x=\"127.246094\" xlink:href=\"#DejaVuSans-30\"/>\r\n      </g>\r\n     </g>\r\n    </g>\r\n    <g id=\"ytick_7\">\r\n     <g id=\"line2d_37\">\r\n      <g>\r\n       <use style=\"stroke:#000000;stroke-width:0.8;\" x=\"46.965625\" xlink:href=\"#m7dfb85f1c6\" y=\"106.119833\"/>\r\n      </g>\r\n     </g>\r\n     <g id=\"text_38\">\r\n      <!-- 970 -->\r\n      <g transform=\"translate(20.878125 109.919052)scale(0.1 -0.1)\">\r\n       <use xlink:href=\"#DejaVuSans-39\"/>\r\n       <use x=\"63.623047\" xlink:href=\"#DejaVuSans-37\"/>\r\n       <use x=\"127.246094\" xlink:href=\"#DejaVuSans-30\"/>\r\n      </g>\r\n     </g>\r\n    </g>\r\n    <g id=\"ytick_8\">\r\n     <g id=\"line2d_38\">\r\n      <g>\r\n       <use style=\"stroke:#000000;stroke-width:0.8;\" x=\"46.965625\" xlink:href=\"#m7dfb85f1c6\" y=\"66.692904\"/>\r\n      </g>\r\n     </g>\r\n     <g id=\"text_39\">\r\n      <!-- 980 -->\r\n      <g transform=\"translate(20.878125 70.492123)scale(0.1 -0.1)\">\r\n       <use xlink:href=\"#DejaVuSans-39\"/>\r\n       <use x=\"63.623047\" xlink:href=\"#DejaVuSans-38\"/>\r\n       <use x=\"127.246094\" xlink:href=\"#DejaVuSans-30\"/>\r\n      </g>\r\n     </g>\r\n    </g>\r\n    <g id=\"ytick_9\">\r\n     <g id=\"line2d_39\">\r\n      <g>\r\n       <use style=\"stroke:#000000;stroke-width:0.8;\" x=\"46.965625\" xlink:href=\"#m7dfb85f1c6\" y=\"27.265975\"/>\r\n      </g>\r\n     </g>\r\n     <g id=\"text_40\">\r\n      <!-- 990 -->\r\n      <g transform=\"translate(20.878125 31.065194)scale(0.1 -0.1)\">\r\n       <use xlink:href=\"#DejaVuSans-39\"/>\r\n       <use x=\"63.623047\" xlink:href=\"#DejaVuSans-39\"/>\r\n       <use x=\"127.246094\" xlink:href=\"#DejaVuSans-30\"/>\r\n      </g>\r\n     </g>\r\n    </g>\r\n    <g id=\"text_41\">\r\n     <!-- Inercia -->\r\n     <g transform=\"translate(14.798437 202.26375)rotate(-90)scale(0.1 -0.1)\">\r\n      <defs>\r\n       <path d=\"M 628 4666 \r\nL 1259 4666 \r\nL 1259 0 \r\nL 628 0 \r\nL 628 4666 \r\nz\r\n\" id=\"DejaVuSans-49\" transform=\"scale(0.015625)\"/>\r\n       <path d=\"M 3513 2113 \r\nL 3513 0 \r\nL 2938 0 \r\nL 2938 2094 \r\nQ 2938 2591 2744 2837 \r\nQ 2550 3084 2163 3084 \r\nQ 1697 3084 1428 2787 \r\nQ 1159 2491 1159 1978 \r\nL 1159 0 \r\nL 581 0 \r\nL 581 3500 \r\nL 1159 3500 \r\nL 1159 2956 \r\nQ 1366 3272 1645 3428 \r\nQ 1925 3584 2291 3584 \r\nQ 2894 3584 3203 3211 \r\nQ 3513 2838 3513 2113 \r\nz\r\n\" id=\"DejaVuSans-6e\" transform=\"scale(0.015625)\"/>\r\n       <path d=\"M 3122 3366 \r\nL 3122 2828 \r\nQ 2878 2963 2633 3030 \r\nQ 2388 3097 2138 3097 \r\nQ 1578 3097 1268 2742 \r\nQ 959 2388 959 1747 \r\nQ 959 1106 1268 751 \r\nQ 1578 397 2138 397 \r\nQ 2388 397 2633 464 \r\nQ 2878 531 3122 666 \r\nL 3122 134 \r\nQ 2881 22 2623 -34 \r\nQ 2366 -91 2075 -91 \r\nQ 1284 -91 818 406 \r\nQ 353 903 353 1747 \r\nQ 353 2603 823 3093 \r\nQ 1294 3584 2113 3584 \r\nQ 2378 3584 2631 3529 \r\nQ 2884 3475 3122 3366 \r\nz\r\n\" id=\"DejaVuSans-63\" transform=\"scale(0.015625)\"/>\r\n       <path d=\"M 603 3500 \r\nL 1178 3500 \r\nL 1178 0 \r\nL 603 0 \r\nL 603 3500 \r\nz\r\nM 603 4863 \r\nL 1178 4863 \r\nL 1178 4134 \r\nL 603 4134 \r\nL 603 4863 \r\nz\r\n\" id=\"DejaVuSans-69\" transform=\"scale(0.015625)\"/>\r\n       <path d=\"M 2194 1759 \r\nQ 1497 1759 1228 1600 \r\nQ 959 1441 959 1056 \r\nQ 959 750 1161 570 \r\nQ 1363 391 1709 391 \r\nQ 2188 391 2477 730 \r\nQ 2766 1069 2766 1631 \r\nL 2766 1759 \r\nL 2194 1759 \r\nz\r\nM 3341 1997 \r\nL 3341 0 \r\nL 2766 0 \r\nL 2766 531 \r\nQ 2569 213 2275 61 \r\nQ 1981 -91 1556 -91 \r\nQ 1019 -91 701 211 \r\nQ 384 513 384 1019 \r\nQ 384 1609 779 1909 \r\nQ 1175 2209 1959 2209 \r\nL 2766 2209 \r\nL 2766 2266 \r\nQ 2766 2663 2505 2880 \r\nQ 2244 3097 1772 3097 \r\nQ 1472 3097 1187 3025 \r\nQ 903 2953 641 2809 \r\nL 641 3341 \r\nQ 956 3463 1253 3523 \r\nQ 1550 3584 1831 3584 \r\nQ 2591 3584 2966 3190 \r\nQ 3341 2797 3341 1997 \r\nz\r\n\" id=\"DejaVuSans-61\" transform=\"scale(0.015625)\"/>\r\n      </defs>\r\n      <use xlink:href=\"#DejaVuSans-49\"/>\r\n      <use x=\"29.492188\" xlink:href=\"#DejaVuSans-6e\"/>\r\n      <use x=\"92.871094\" xlink:href=\"#DejaVuSans-65\"/>\r\n      <use x=\"154.394531\" xlink:href=\"#DejaVuSans-72\"/>\r\n      <use x=\"193.257812\" xlink:href=\"#DejaVuSans-63\"/>\r\n      <use x=\"248.238281\" xlink:href=\"#DejaVuSans-69\"/>\r\n      <use x=\"276.021484\" xlink:href=\"#DejaVuSans-61\"/>\r\n     </g>\r\n    </g>\r\n   </g>\r\n   <g id=\"line2d_40\">\r\n    <path clip-path=\"url(#pe2e5366491)\" d=\"M 72.329261 37.14358 \r\nL 90.446144 65.512966 \r\nL 108.563028 84.216862 \r\nL 126.679911 105.865202 \r\nL 144.796794 122.961744 \r\nL 162.913677 139.452905 \r\nL 181.03056 150.185297 \r\nL 199.147443 166.434931 \r\nL 217.264326 177.084965 \r\nL 235.381209 193.674709 \r\nL 253.498093 199.830523 \r\nL 271.614976 203.309558 \r\nL 289.731859 223.128253 \r\nL 307.848742 222.176276 \r\nL 325.965625 232.202343 \r\nL 344.082508 235.861255 \r\nL 362.199391 247.693449 \r\nL 380.316274 258.923901 \r\nL 398.433157 262.572342 \r\nL 416.550041 259.291092 \r\nL 434.666924 272.31642 \r\nL 452.783807 284.767941 \r\nL 470.90069 297.19611 \r\nL 489.017573 300.763491 \r\nL 507.134456 305.824023 \r\nL 525.251339 302.14195 \r\nL 543.368222 324.083132 \r\nL 561.485106 333.65267 \r\nL 579.601989 322.730148 \r\n\" style=\"fill:none;stroke:#0000ff;stroke-linecap:square;stroke-width:1.5;\"/>\r\n    <defs>\r\n     <path d=\"M -3 3 \r\nL 3 -3 \r\nM -3 -3 \r\nL 3 3 \r\n\" id=\"m9b82033d84\" style=\"stroke:#0000ff;\"/>\r\n    </defs>\r\n    <g clip-path=\"url(#pe2e5366491)\">\r\n     <use style=\"fill:#0000ff;stroke:#0000ff;\" x=\"72.329261\" xlink:href=\"#m9b82033d84\" y=\"37.14358\"/>\r\n     <use style=\"fill:#0000ff;stroke:#0000ff;\" x=\"90.446144\" xlink:href=\"#m9b82033d84\" y=\"65.512966\"/>\r\n     <use style=\"fill:#0000ff;stroke:#0000ff;\" x=\"108.563028\" xlink:href=\"#m9b82033d84\" y=\"84.216862\"/>\r\n     <use style=\"fill:#0000ff;stroke:#0000ff;\" x=\"126.679911\" xlink:href=\"#m9b82033d84\" y=\"105.865202\"/>\r\n     <use style=\"fill:#0000ff;stroke:#0000ff;\" x=\"144.796794\" xlink:href=\"#m9b82033d84\" y=\"122.961744\"/>\r\n     <use style=\"fill:#0000ff;stroke:#0000ff;\" x=\"162.913677\" xlink:href=\"#m9b82033d84\" y=\"139.452905\"/>\r\n     <use style=\"fill:#0000ff;stroke:#0000ff;\" x=\"181.03056\" xlink:href=\"#m9b82033d84\" y=\"150.185297\"/>\r\n     <use style=\"fill:#0000ff;stroke:#0000ff;\" x=\"199.147443\" xlink:href=\"#m9b82033d84\" y=\"166.434931\"/>\r\n     <use style=\"fill:#0000ff;stroke:#0000ff;\" x=\"217.264326\" xlink:href=\"#m9b82033d84\" y=\"177.084965\"/>\r\n     <use style=\"fill:#0000ff;stroke:#0000ff;\" x=\"235.381209\" xlink:href=\"#m9b82033d84\" y=\"193.674709\"/>\r\n     <use style=\"fill:#0000ff;stroke:#0000ff;\" x=\"253.498093\" xlink:href=\"#m9b82033d84\" y=\"199.830523\"/>\r\n     <use style=\"fill:#0000ff;stroke:#0000ff;\" x=\"271.614976\" xlink:href=\"#m9b82033d84\" y=\"203.309558\"/>\r\n     <use style=\"fill:#0000ff;stroke:#0000ff;\" x=\"289.731859\" xlink:href=\"#m9b82033d84\" y=\"223.128253\"/>\r\n     <use style=\"fill:#0000ff;stroke:#0000ff;\" x=\"307.848742\" xlink:href=\"#m9b82033d84\" y=\"222.176276\"/>\r\n     <use style=\"fill:#0000ff;stroke:#0000ff;\" x=\"325.965625\" xlink:href=\"#m9b82033d84\" y=\"232.202343\"/>\r\n     <use style=\"fill:#0000ff;stroke:#0000ff;\" x=\"344.082508\" xlink:href=\"#m9b82033d84\" y=\"235.861255\"/>\r\n     <use style=\"fill:#0000ff;stroke:#0000ff;\" x=\"362.199391\" xlink:href=\"#m9b82033d84\" y=\"247.693449\"/>\r\n     <use style=\"fill:#0000ff;stroke:#0000ff;\" x=\"380.316274\" xlink:href=\"#m9b82033d84\" y=\"258.923901\"/>\r\n     <use style=\"fill:#0000ff;stroke:#0000ff;\" x=\"398.433157\" xlink:href=\"#m9b82033d84\" y=\"262.572342\"/>\r\n     <use style=\"fill:#0000ff;stroke:#0000ff;\" x=\"416.550041\" xlink:href=\"#m9b82033d84\" y=\"259.291092\"/>\r\n     <use style=\"fill:#0000ff;stroke:#0000ff;\" x=\"434.666924\" xlink:href=\"#m9b82033d84\" y=\"272.31642\"/>\r\n     <use style=\"fill:#0000ff;stroke:#0000ff;\" x=\"452.783807\" xlink:href=\"#m9b82033d84\" y=\"284.767941\"/>\r\n     <use style=\"fill:#0000ff;stroke:#0000ff;\" x=\"470.90069\" xlink:href=\"#m9b82033d84\" y=\"297.19611\"/>\r\n     <use style=\"fill:#0000ff;stroke:#0000ff;\" x=\"489.017573\" xlink:href=\"#m9b82033d84\" y=\"300.763491\"/>\r\n     <use style=\"fill:#0000ff;stroke:#0000ff;\" x=\"507.134456\" xlink:href=\"#m9b82033d84\" y=\"305.824023\"/>\r\n     <use style=\"fill:#0000ff;stroke:#0000ff;\" x=\"525.251339\" xlink:href=\"#m9b82033d84\" y=\"302.14195\"/>\r\n     <use style=\"fill:#0000ff;stroke:#0000ff;\" x=\"543.368222\" xlink:href=\"#m9b82033d84\" y=\"324.083132\"/>\r\n     <use style=\"fill:#0000ff;stroke:#0000ff;\" x=\"561.485106\" xlink:href=\"#m9b82033d84\" y=\"333.65267\"/>\r\n     <use style=\"fill:#0000ff;stroke:#0000ff;\" x=\"579.601989\" xlink:href=\"#m9b82033d84\" y=\"322.730148\"/>\r\n    </g>\r\n   </g>\r\n   <g id=\"patch_3\">\r\n    <path d=\"M 46.965625 348.478125 \r\nL 46.965625 22.318125 \r\n\" style=\"fill:none;stroke:#000000;stroke-linecap:square;stroke-linejoin:miter;stroke-width:0.8;\"/>\r\n   </g>\r\n   <g id=\"patch_4\">\r\n    <path d=\"M 604.965625 348.478125 \r\nL 604.965625 22.318125 \r\n\" style=\"fill:none;stroke:#000000;stroke-linecap:square;stroke-linejoin:miter;stroke-width:0.8;\"/>\r\n   </g>\r\n   <g id=\"patch_5\">\r\n    <path d=\"M 46.965625 348.478125 \r\nL 604.965625 348.478125 \r\n\" style=\"fill:none;stroke:#000000;stroke-linecap:square;stroke-linejoin:miter;stroke-width:0.8;\"/>\r\n   </g>\r\n   <g id=\"patch_6\">\r\n    <path d=\"M 46.965625 22.318125 \r\nL 604.965625 22.318125 \r\n\" style=\"fill:none;stroke:#000000;stroke-linecap:square;stroke-linejoin:miter;stroke-width:0.8;\"/>\r\n   </g>\r\n   <g id=\"text_42\">\r\n    <!-- Metodo del codo -->\r\n    <g transform=\"translate(276.160937 16.318125)scale(0.12 -0.12)\">\r\n     <defs>\r\n      <path d=\"M 628 4666 \r\nL 1569 4666 \r\nL 2759 1491 \r\nL 3956 4666 \r\nL 4897 4666 \r\nL 4897 0 \r\nL 4281 0 \r\nL 4281 4097 \r\nL 3078 897 \r\nL 2444 897 \r\nL 1241 4097 \r\nL 1241 0 \r\nL 628 0 \r\nL 628 4666 \r\nz\r\n\" id=\"DejaVuSans-4d\" transform=\"scale(0.015625)\"/>\r\n     </defs>\r\n     <use xlink:href=\"#DejaVuSans-4d\"/>\r\n     <use x=\"86.279297\" xlink:href=\"#DejaVuSans-65\"/>\r\n     <use x=\"147.802734\" xlink:href=\"#DejaVuSans-74\"/>\r\n     <use x=\"187.011719\" xlink:href=\"#DejaVuSans-6f\"/>\r\n     <use x=\"248.193359\" xlink:href=\"#DejaVuSans-64\"/>\r\n     <use x=\"311.669922\" xlink:href=\"#DejaVuSans-6f\"/>\r\n     <use x=\"372.851562\" xlink:href=\"#DejaVuSans-20\"/>\r\n     <use x=\"404.638672\" xlink:href=\"#DejaVuSans-64\"/>\r\n     <use x=\"468.115234\" xlink:href=\"#DejaVuSans-65\"/>\r\n     <use x=\"529.638672\" xlink:href=\"#DejaVuSans-6c\"/>\r\n     <use x=\"557.421875\" xlink:href=\"#DejaVuSans-20\"/>\r\n     <use x=\"589.208984\" xlink:href=\"#DejaVuSans-63\"/>\r\n     <use x=\"644.189453\" xlink:href=\"#DejaVuSans-6f\"/>\r\n     <use x=\"705.371094\" xlink:href=\"#DejaVuSans-64\"/>\r\n     <use x=\"768.847656\" xlink:href=\"#DejaVuSans-6f\"/>\r\n    </g>\r\n   </g>\r\n  </g>\r\n </g>\r\n <defs>\r\n  <clipPath id=\"pe2e5366491\">\r\n   <rect height=\"326.16\" width=\"558\" x=\"46.965625\" y=\"22.318125\"/>\r\n  </clipPath>\r\n </defs>\r\n</svg>\r\n",
      "image/png": "[encoded data removed]"
     },
     "metadata": {
      "needs_background": "light"
     }
    }
   ],
   "source": [
    "fig = plt.figure(figsize=(10,6))\n",
    "plt.xlabel(\"Numero de Clusters\")\n",
    "plt.ylabel(\"Inercia\")\n",
    "plt.title(\"Metodo del codo\")\n",
    "plt.plot(ks, k_inertias, 'bx-')\n",
    "plt.xticks(np.arange(len(ks)+1))\n",
    "plt.show()"
   ]
  },
  {
   "cell_type": "code",
   "execution_count": 31,
   "metadata": {},
   "outputs": [],
   "source": [
    "# for ki in range(1,len(k_inertias)):\n",
    "#     inc = 100-(k_inertias[ki]/k_inertias[ki-1])*100\n",
    "#     print(inc, ki+1)"
   ]
  },
  {
   "cell_type": "markdown",
   "metadata": {},
   "source": [
    "###  `[10 pts]` Punto 3: Entrenar modelo con el $K$ escogido"
   ]
  },
  {
   "cell_type": "code",
   "execution_count": 32,
   "metadata": {},
   "outputs": [
    {
     "output_type": "execute_result",
     "data": {
      "text/plain": [
       "KMeans(n_clusters=12)"
      ]
     },
     "metadata": {},
     "execution_count": 32
    }
   ],
   "source": [
    "k = 12\n",
    "model = KMeans(n_clusters=k)\n",
    "model.fit(tfidf_matrix)"
   ]
  },
  {
   "cell_type": "code",
   "execution_count": 33,
   "metadata": {},
   "outputs": [
    {
     "output_type": "execute_result",
     "data": {
      "text/plain": [
       "      review_id          product_id          reviewer_id  stars  \\\n",
       "655  es_0357214  product_es_0634369  reviewer_es_0535960      2   \n",
       "65   es_0946564  product_es_0862067  reviewer_es_0176088      3   \n",
       "145  es_0248447  product_es_0859850  reviewer_es_0742996      2   \n",
       "343  es_0919306  product_es_0373047  reviewer_es_0766392      1   \n",
       "492  es_0494663  product_es_0433765  reviewer_es_0528759      2   \n",
       "405  es_0133752  product_es_0531031  reviewer_es_0841376      3   \n",
       "796  es_0326266  product_es_0237507  reviewer_es_0097471      1   \n",
       "722  es_0411534  product_es_0879137  reviewer_es_0221514      1   \n",
       "295  es_0663365  product_es_0513101  reviewer_es_0149039      1   \n",
       "549  es_0338417  product_es_0973141  reviewer_es_0950996      4   \n",
       "\n",
       "                                           review_body  \\\n",
       "655  Son bonitas pero se rompen con la mirada. Una ...   \n",
       "65                            Pequeño pero muy bonitos   \n",
       "145                  Es justito de calidad, lo devolví   \n",
       "343  primero compre uno y me enviaron dos.pague los...   \n",
       "492  En la foto parece otra cosa. Yo entiendo que e...   \n",
       "405  El producto es correcto. Cadenita fina de plat...   \n",
       "796  La compré para usarla de tobillera y ha sido i...   \n",
       "722  Después de más de un mes de espera. Todavía no...   \n",
       "295  Primero no me llegó el producto, lo devolviero...   \n",
       "549  Es muy chulo y práctico, llego muy rápido y de...   \n",
       "\n",
       "                  review_title language product_category  cluster  \n",
       "655  Bonitas pero muy frágiles       es          jewelry        1  \n",
       "65                 Han llegado       es          jewelry        2  \n",
       "145                No me gustó       es          jewelry        3  \n",
       "343       malo no lo siguiente       es      video_games        7  \n",
       "492                      Elena       es          jewelry        3  \n",
       "405  Mantenimiento de la plata       es          jewelry        8  \n",
       "796          Grande e incómoda       es          jewelry        7  \n",
       "722   Informalidad en el envio       es          jewelry        1  \n",
       "295                Un desastre       es          jewelry        1  \n",
       "549                    Bonito!       es      video_games        7  "
      ],
      "text/html": "<div>\n<style scoped>\n    .dataframe tbody tr th:only-of-type {\n        vertical-align: middle;\n    }\n\n    .dataframe tbody tr th {\n        vertical-align: top;\n    }\n\n    .dataframe thead th {\n        text-align: right;\n    }\n</style>\n<table border=\"1\" class=\"dataframe\">\n  <thead>\n    <tr style=\"text-align: right;\">\n      <th></th>\n      <th>review_id</th>\n      <th>product_id</th>\n      <th>reviewer_id</th>\n      <th>stars</th>\n      <th>review_body</th>\n      <th>review_title</th>\n      <th>language</th>\n      <th>product_category</th>\n      <th>cluster</th>\n    </tr>\n  </thead>\n  <tbody>\n    <tr>\n      <th>655</th>\n      <td>es_0357214</td>\n      <td>product_es_0634369</td>\n      <td>reviewer_es_0535960</td>\n      <td>2</td>\n      <td>Son bonitas pero se rompen con la mirada. Una ...</td>\n      <td>Bonitas pero muy frágiles</td>\n      <td>es</td>\n      <td>jewelry</td>\n      <td>1</td>\n    </tr>\n    <tr>\n      <th>65</th>\n      <td>es_0946564</td>\n      <td>product_es_0862067</td>\n      <td>reviewer_es_0176088</td>\n      <td>3</td>\n      <td>Pequeño pero muy bonitos</td>\n      <td>Han llegado</td>\n      <td>es</td>\n      <td>jewelry</td>\n      <td>2</td>\n    </tr>\n    <tr>\n      <th>145</th>\n      <td>es_0248447</td>\n      <td>product_es_0859850</td>\n      <td>reviewer_es_0742996</td>\n      <td>2</td>\n      <td>Es justito de calidad, lo devolví</td>\n      <td>No me gustó</td>\n      <td>es</td>\n      <td>jewelry</td>\n      <td>3</td>\n    </tr>\n    <tr>\n      <th>343</th>\n      <td>es_0919306</td>\n      <td>product_es_0373047</td>\n      <td>reviewer_es_0766392</td>\n      <td>1</td>\n      <td>primero compre uno y me enviaron dos.pague los...</td>\n      <td>malo no lo siguiente</td>\n      <td>es</td>\n      <td>video_games</td>\n      <td>7</td>\n    </tr>\n    <tr>\n      <th>492</th>\n      <td>es_0494663</td>\n      <td>product_es_0433765</td>\n      <td>reviewer_es_0528759</td>\n      <td>2</td>\n      <td>En la foto parece otra cosa. Yo entiendo que e...</td>\n      <td>Elena</td>\n      <td>es</td>\n      <td>jewelry</td>\n      <td>3</td>\n    </tr>\n    <tr>\n      <th>405</th>\n      <td>es_0133752</td>\n      <td>product_es_0531031</td>\n      <td>reviewer_es_0841376</td>\n      <td>3</td>\n      <td>El producto es correcto. Cadenita fina de plat...</td>\n      <td>Mantenimiento de la plata</td>\n      <td>es</td>\n      <td>jewelry</td>\n      <td>8</td>\n    </tr>\n    <tr>\n      <th>796</th>\n      <td>es_0326266</td>\n      <td>product_es_0237507</td>\n      <td>reviewer_es_0097471</td>\n      <td>1</td>\n      <td>La compré para usarla de tobillera y ha sido i...</td>\n      <td>Grande e incómoda</td>\n      <td>es</td>\n      <td>jewelry</td>\n      <td>7</td>\n    </tr>\n    <tr>\n      <th>722</th>\n      <td>es_0411534</td>\n      <td>product_es_0879137</td>\n      <td>reviewer_es_0221514</td>\n      <td>1</td>\n      <td>Después de más de un mes de espera. Todavía no...</td>\n      <td>Informalidad en el envio</td>\n      <td>es</td>\n      <td>jewelry</td>\n      <td>1</td>\n    </tr>\n    <tr>\n      <th>295</th>\n      <td>es_0663365</td>\n      <td>product_es_0513101</td>\n      <td>reviewer_es_0149039</td>\n      <td>1</td>\n      <td>Primero no me llegó el producto, lo devolviero...</td>\n      <td>Un desastre</td>\n      <td>es</td>\n      <td>jewelry</td>\n      <td>1</td>\n    </tr>\n    <tr>\n      <th>549</th>\n      <td>es_0338417</td>\n      <td>product_es_0973141</td>\n      <td>reviewer_es_0950996</td>\n      <td>4</td>\n      <td>Es muy chulo y práctico, llego muy rápido y de...</td>\n      <td>Bonito!</td>\n      <td>es</td>\n      <td>video_games</td>\n      <td>7</td>\n    </tr>\n  </tbody>\n</table>\n</div>"
     },
     "metadata": {},
     "execution_count": 33
    }
   ],
   "source": [
    "data[\"cluster\"] = model.labels_\n",
    "data.sample(10)"
   ]
  },
  {
   "cell_type": "markdown",
   "metadata": {},
   "source": [
    "###  `[15 pts]` Punto 4: Interpretación de los clusters"
   ]
  },
  {
   "cell_type": "code",
   "execution_count": 35,
   "metadata": {},
   "outputs": [],
   "source": [
    "class bcolors:\n",
    "    HEADER = '\\033[95m'\n",
    "    OKBLUE = '\\033[94m'\n",
    "    OKCYAN = '\\033[96m'\n",
    "    OKGREEN = '\\033[92m'\n",
    "    WARNING = '\\033[93m'\n",
    "    FAIL = '\\033[91m'\n",
    "    ENDC = '\\033[0m'\n",
    "    BOLD = '\\033[1m'\n",
    "    UNDERLINE = '\\033[4m'"
   ]
  },
  {
   "cell_type": "code",
   "execution_count": 39,
   "metadata": {},
   "outputs": [
    {
     "output_type": "stream",
     "name": "stdout",
     "text": [
      "\u001b[92mCluster # 0\u001b[0m\nTiene 87 registros (8.70% de los datos)\n\n\u001b[96mTÉRMINOS MÁS REPRESENTATIVOS\u001b[0m\njuego español jugar versión si viene divertido italiano esperaba gustado pena bien caja ingles play edición saga hacer familia solo \n\n\u001b[95mDOCUMENTOS MÁS REPRESENTATIVOS\u001b[0m\n *** Esperaba más del juego.\n *** No me ha gustado el juego.\n *** Juego en español, envío rápido\n\n********************************************\n\n\u001b[92mCluster # 1\u001b[0m\nTiene 372 registros (37.20% de los datos)\n\n\u001b[96mTÉRMINOS MÁS REPRESENTATIVOS\u001b[0m\nllegado producto día si llego tiempo recibido foto pulsera llega llegó todavía bonita nunca gusta plata parece entrega esperaba mas \n\n\u001b[95mDOCUMENTOS MÁS REPRESENTATIVOS\u001b[0m\n *** No ha llegado el collar . Las demás cosas que he comprado en Amazon han llegado, pero este producto no me ha llegado.\n *** Todavía no he recibido el paquete que me tenía que haber llegado el día 7 de abril ( según ustedes me iba a llegar e:se día ) y estamos a día 10 de abril y todavía no ha llegado\n *** El producto ha llegado antes de lo previsto, me ha gustado su calidad es más pequeño de lo esperado pero me gusta. Vale la pena.\n\n********************************************\n\n\u001b[92mCluster # 2\u001b[0m\nTiene 40 registros (4.00% de los datos)\n\n\u001b[96mTÉRMINOS MÁS REPRESENTATIVOS\u001b[0m\nbonitos grandes pequeños demasiado foto mas pendientes tamaño esperaba mal imaginaba quedan tal dan calidad largo vez ven mejor compra \n\n\u001b[95mDOCUMENTOS MÁS REPRESENTATIVOS\u001b[0m\n *** Bonitos productos ..pero demasiado pequeños\n *** Los más grandes que hay son muy pequeños.\n *** Son bonitos, pero son mucho más pequeños de lo que se aprecia en la foto\n\n********************************************\n\n\u001b[92mCluster # 3\u001b[0m\nTiene 77 registros (7.70% de los datos)\n\n\u001b[96mTÉRMINOS MÁS REPRESENTATIVOS\u001b[0m\nprecio calidad mala pedir puede bien mas cumple baja gustado producto foto bueno si aunque recomendable plástico malo tan mismo \n\n\u001b[95mDOCUMENTOS MÁS REPRESENTATIVOS\u001b[0m\n *** Esta bien calidad precio\n *** Calidad precio muy buena\n *** Calidad precio buena\n\n********************************************\n\n\u001b[92mCluster # 4\u001b[0m\nTiene 32 registros (3.20% de los datos)\n\n\u001b[96mTÉRMINOS MÁS REPRESENTATIVOS\u001b[0m\ncadena encantó bien fina regalo colgante bonito corta foto precio ve cuello falta calidad tan rompió pequeña imagen tamaño viene \n\n\u001b[95mDOCUMENTOS MÁS REPRESENTATIVOS\u001b[0m\n *** Bien por su precio, la cadena demasiado fina.\n *** La cadena no es la de la imagen, pero está muy bien\n *** Esta bien,aunque la cadena es un poco corta\n\n********************************************\n\n\u001b[92mCluster # 5\u001b[0m\nTiene 26 registros (2.60% de los datos)\n\n\u001b[96mTÉRMINOS MÁS REPRESENTATIVOS\u001b[0m\nhijo encantado juego regalo regalar encanta perfecto expectativas brillo gusta dejado encantada buscando bastante cubierto puedo mujer entretenido español collar \n\n\u001b[95mDOCUMENTOS MÁS REPRESENTATIVOS\u001b[0m\n *** le ha encantado a mi hijo\n *** A mi hijo Le ha encantado.\n *** Fue para regalar a mi hijo\n\n********************************************\n\n\u001b[92mCluster # 6\u001b[0m\nTiene 33 registros (3.30% de los datos)\n\n\u001b[96mTÉRMINOS MÁS REPRESENTATIVOS\u001b[0m\nqueda grande bonita pandora bonito fino pulsera bien pequeño foto ajustado tamaño calidad aunque pequeñita agujero veo elegante fenomenal niña \n\n\u001b[95mDOCUMENTOS MÁS REPRESENTATIVOS\u001b[0m\n *** Es más grande de lo que parece y no queda muy bien\n *** Muy bonita pero no queda como las cuentas de Pandora, no queda ajustado\n *** Queda muy bonito y fino\n\n********************************************\n\n\u001b[92mCluster # 7\u001b[0m\nTiene 139 registros (13.90% de los datos)\n\n\u001b[96mTÉRMINOS MÁS REPRESENTATIVOS\u001b[0m\nbien bonito regalo pequeño bastante plata colgante quedan gustado ve parece collar si calidad llego diseño caja verdad tiempo fotos \n\n\u001b[95mDOCUMENTOS MÁS REPRESENTATIVOS\u001b[0m\n *** Bonito fue para un regalo y bien\n *** Esta bien,fue un regalo\n *** Está bien por su precio\n\n********************************************\n\n\u001b[92mCluster # 8\u001b[0m\nTiene 47 registros (4.70% de los datos)\n\n\u001b[96mTÉRMINOS MÁS REPRESENTATIVOS\u001b[0m\nperfecto llegó tiempo sido rápido producto gracias juego funciona igual funcionar recomendable opción poner switch descripción rapido tamaño éxito correcto \n\n\u001b[95mDOCUMENTOS MÁS REPRESENTATIVOS\u001b[0m\n *** Todo en perfecto estado\n *** Perfecto y en tiempo\n *** Llegó a tiempo y en perfecto estado\n\n********************************************\n\n\u001b[92mCluster # 9\u001b[0m\nTiene 46 registros (4.60% de los datos)\n\n\u001b[96mTÉRMINOS MÁS REPRESENTATIVOS\u001b[0m\nbuena calidad precio relación regalo compra demasiado gusto envio pulsera buen muchísimo finita cierre cumple presentación bien parece ideal fotos \n\n\u001b[95mDOCUMENTOS MÁS REPRESENTATIVOS\u001b[0m\n *** Calidad precio muy buena\n *** Calidad precio buena\n *** Calidad precio buena\n\n********************************************\n\n\u001b[92mCluster # 10\u001b[0m\nTiene 59 registros (5.90% de los datos)\n\n\u001b[96mTÉRMINOS MÁS REPRESENTATIVOS\u001b[0m\nmando mejor si consola original switch trae nintendo ps funciona jugar pc cable mas caso funda fundas solo menos pro \n\n\u001b[95mDOCUMENTOS MÁS REPRESENTATIVOS\u001b[0m\n *** Pues mando original Sony, buenos acabados del mando y botones, calidad de la batería y como el que viene en la consola.\n *** Conectado al PC un muy buen mando, mi problema ha sido qué por el motivo que sea no me conecta a la Switch, que es para lo que lo quería, no se si es culpa del mando o culpa mia que no he sabido hacerlo pero no ha habido manera, aún así si hubiera sincronizado tenia pinta de muy buen mando.\n *** Algo mas pequeño que el mando original, por lo demas calidad precio? Mi opinion comprad el original se pueden cambiar carcasas etc, con este no, lo unico que lo diferencia del mando de la ps4 es una pequeña luz alargada en el frontal.\n\n********************************************\n\n\u001b[92mCluster # 11\u001b[0m\nTiene 42 registros (4.20% de los datos)\n\n\u001b[96mTÉRMINOS MÁS REPRESENTATIVOS\u001b[0m\nbuen producto precio envio regalo material acabado juego rapido bueno envió llegado siempre bien mas regalar servicio correcto compré rápido \n\n\u001b[95mDOCUMENTOS MÁS REPRESENTATIVOS\u001b[0m\n *** Buen cierre y buen material\n *** El producto en buen estado. Perfecto.\n *** Muy bueno y muy buen precio!!\n\n********************************************\n\n"
     ]
    }
   ],
   "source": [
    "nbrs = NearestNeighbors(n_neighbors=3, metric='euclidean').fit(tfidf_matrix.values)\n",
    "\n",
    "clust_cnt = data['cluster'].value_counts()\n",
    "clust_cnt_pct = data['cluster'].value_counts(normalize=True)\n",
    "\n",
    "centroids = model.cluster_centers_\n",
    "\n",
    "terms = tfidf_vect.get_feature_names()\n",
    "order_centroids = centroids.argsort()[:, ::-1]\n",
    "\n",
    "for i in range(k):\n",
    "    print(f\"{bcolors.OKGREEN}Cluster # {i}{bcolors.ENDC}\")\n",
    "    print(f\"Tiene {clust_cnt[i]} registros ({clust_cnt_pct[i]:.2%} de los datos)\")\n",
    "    print()\n",
    "    \n",
    "    print(f\"{bcolors.OKCYAN}TÉRMINOS MÁS REPRESENTATIVOS{bcolors.ENDC}\")\n",
    "    for ind in order_centroids[i][:20]:\n",
    "        print(terms[ind], end=\" \")\n",
    "    print()\n",
    "    print()\n",
    "    \n",
    "    print(f\"{bcolors.HEADER}DOCUMENTOS MÁS REPRESENTATIVOS{bcolors.ENDC}\")\n",
    "    for vecino in data.iloc[nbrs.kneighbors([centroids[i]])[1][0]][\"review_body\"].values:\n",
    "        print(f\" *** {vecino}\")\n",
    "        \n",
    "    print()\n",
    "    print(\"********************************************\")\n",
    "    print()"
   ]
  },
  {
   "cell_type": "markdown",
   "metadata": {},
   "source": [
    "###  `[BONUS: 3 pts]` Visualización usando PCA"
   ]
  },
  {
   "cell_type": "code",
   "execution_count": 40,
   "metadata": {},
   "outputs": [
    {
     "output_type": "execute_result",
     "data": {
      "text/plain": [
       "          X         Y  cluster  \\\n",
       "0  0.486548 -0.326630        9   \n",
       "1 -0.106595 -0.152372        8   \n",
       "2 -0.071067 -0.030106       10   \n",
       "3  0.031709  0.232798        7   \n",
       "4  0.016546  0.095297        7   \n",
       "\n",
       "                                               texto  \n",
       "0         Buen. Buena calidad, y buena presentación.  \n",
       "1  Un producto a perfecto, para salir de casa con...  \n",
       "2  No funciona con Nintendo Switch. No hay forma ...  \n",
       "3  Recomendado, los utilizo para pc y no me dan n...  \n",
       "4  El cable funciona bien podria ser un poco mas ...  "
      ],
      "text/html": "<div>\n<style scoped>\n    .dataframe tbody tr th:only-of-type {\n        vertical-align: middle;\n    }\n\n    .dataframe tbody tr th {\n        vertical-align: top;\n    }\n\n    .dataframe thead th {\n        text-align: right;\n    }\n</style>\n<table border=\"1\" class=\"dataframe\">\n  <thead>\n    <tr style=\"text-align: right;\">\n      <th></th>\n      <th>X</th>\n      <th>Y</th>\n      <th>cluster</th>\n      <th>texto</th>\n    </tr>\n  </thead>\n  <tbody>\n    <tr>\n      <th>0</th>\n      <td>0.486548</td>\n      <td>-0.326630</td>\n      <td>9</td>\n      <td>Buen. Buena calidad, y buena presentación.</td>\n    </tr>\n    <tr>\n      <th>1</th>\n      <td>-0.106595</td>\n      <td>-0.152372</td>\n      <td>8</td>\n      <td>Un producto a perfecto, para salir de casa con...</td>\n    </tr>\n    <tr>\n      <th>2</th>\n      <td>-0.071067</td>\n      <td>-0.030106</td>\n      <td>10</td>\n      <td>No funciona con Nintendo Switch. No hay forma ...</td>\n    </tr>\n    <tr>\n      <th>3</th>\n      <td>0.031709</td>\n      <td>0.232798</td>\n      <td>7</td>\n      <td>Recomendado, los utilizo para pc y no me dan n...</td>\n    </tr>\n    <tr>\n      <th>4</th>\n      <td>0.016546</td>\n      <td>0.095297</td>\n      <td>7</td>\n      <td>El cable funciona bien podria ser un poco mas ...</td>\n    </tr>\n  </tbody>\n</table>\n</div>"
     },
     "metadata": {},
     "execution_count": 40
    }
   ],
   "source": [
    "pca = PCA(n_components=2)\n",
    "\n",
    "result = pca.fit_transform(tfidf_matrix)\n",
    "result = pd.DataFrame(result)\n",
    "result.columns = ['X', 'Y']\n",
    "result['cluster'] = data[\"cluster\"]\n",
    "result['texto'] = data[\"review_body\"].apply(lambda val: val[:140])\n",
    "\n",
    "result.head()"
   ]
  },
  {
   "cell_type": "code",
   "execution_count": 61,
   "metadata": {},
   "outputs": [
    {
     "output_type": "display_data",
     "data": {
      "application/vnd.plotly.v1+json": {
       "config": {
        "linkText": "Export to plot.ly",
        "plotlyServerURL": "https://plot.ly",
        "showLink": false
       },
       "data": [
        {
         "customdata": [
          [
           "Buen. Buena calidad, y buena presentación."
          ],
          [
           "Un producto a perfecto, para salir de casa con la Nintendo switch"
          ],
          [
           "No funciona con Nintendo Switch. No hay forma de emparejarlo para poder jugar."
          ],
          [
           "Recomendado, los utilizo para pc y no me dan ningún problema, se oye bien y te oyen bien"
          ],
          [
           "El cable funciona bien podria ser un poco mas largo pero se adapta perfectamente a la descripcion.envio muy rapido muy recomendado"
          ],
          [
           "És muy bonito pero la empuñadura de la espada se rompe fácilmente..."
          ],
          [
           "Lo compré para regalar y repetiré la compra seguro ya que calidad, presentación y precio son estupendas. Sin dudarlo recomendable."
          ],
          [
           "Señores: Dos veces he comprado este producto y las dos veces una de las perlas de cada compra me ha venido rota.Por no perder tiempo porque "
          ],
          [
           "Son muy cómodos y se adaptan perfectamente. Se nota al momento de ponertelos como te sumergen en el juego. Vienen muy bien, con las salidas "
          ],
          [
           "El acabado de este joyero de viaje \"da el pego\", sin ser perfecto. Pero cumple su misión perfectamente. El tiempo dirá cómo aguantan los mat"
          ],
          [
           "A los 15 días dejo de cargar uno de los canales"
          ],
          [
           "Para el precio que tiene más no se puede pedir.Mis gatos a veces lo usan de juguete,no se lo pone nadie"
          ],
          [
           "Fue un regalo para mi hermana gamer . Le gustó bastante"
          ],
          [
           "Se ve mejor en la foto, un poco decepcionada. La cadena de cuello no es trenzada, la pedí marrón y me llego negra. Muy finita. No me parece "
          ],
          [
           "Le hemos comprado el juego de tenis de Mario a mi hijo y compramos estas raquetas a ver qué tal iban. Son pequeñitas (cosa que ya imaginaba)"
          ],
          [
           "El producto llego en el plazo previsto. La 1a prueba ha funcionado perfectamente. Solo falta que sea duradero. Si no falla, no se puede pedi"
          ],
          [
           "Un engaño. Por la foto pensaba que era un mando para móviles. Y resulta que es sólo un soporte. Eso no vale el precio que piden !"
          ],
          [
           "La puse 1 mes, dudo que sea cuero... acabo pegajosa y sin olor. El iman esta muy bien pero se te puede soltar si se despegan del acero, ya q"
          ],
          [
           "Está bien por su precio"
          ],
          [
           "buen producto, envió rápido"
          ],
          [
           "Me gusta pero se a despegado. Me la pueden cambiar por una igual?"
          ],
          [
           "Lo compré junto con una pulsera que me salía sugerida y no son del mismo color rosa"
          ],
          [
           "No es la pulsera que yo pedí, yo pedí la de la cruz y me han enviado la del corazón."
          ],
          [
           "ha llegado en buen estado y es todo un flipe!"
          ],
          [
           "Bonito pero muy caro para la calidad, la rosca se me rompio el primer dia"
          ],
          [
           "A mi hija le ha encantado como regalo de cumpleaños...y a toda la familia!!"
          ],
          [
           "caja rota que me la querían colar devuelto no paga para tener cosas precintadas y rotas encima"
          ],
          [
           "Perfecta, pero para mí gusto encuentro que el cierre es demasiado simple para la buena calidad que tiene la pulsera."
          ],
          [
           "Era el regalo de Papá Noel para mi hija y venía perfectamente empaquetado, pero al abrirlo no tenía el CD del juego. La decepción ha sido ge"
          ],
          [
           "Es el mismísimo juego del ordenador, creía que habrían mejorado los gráficos o algo. El juego en sí está bien, pero se queda corto para los "
          ],
          [
           "No son para nada lo que describen, huelen mal y llego la placa china rota. No lo compraria nunca Es una perdida de dinero"
          ],
          [
           "Calidad precio muy buena"
          ],
          [
           "Muy buena consola, disfrutándola al maximo"
          ],
          [
           "Súper guapo y un tacto espectacular,,"
          ],
          [
           "Aún no los he usado, no se que tal van"
          ],
          [
           "Artículo perfecto igual a la descripción lo recomiendo"
          ],
          [
           "Las baterías aguantan bastante poco, desde que uso éstas en lugar de pilas tengo problemas de conectividad wireless (se me desconectan los m"
          ],
          [
           "Son preciosos. El cristal tiene el efecto que se ve en la foto pero claro, es más bonito en vivo y en directo. Los compré para regalar pero "
          ],
          [
           "No es como lo esperaba. La bola es blanquecina a primera vista. Tiene que estar bastante tiempo al sol para que brille un poco, pero ni por "
          ],
          [
           "Me ha encantado,es un collar muy bonito y viene tal y como lo pedí. Puedes personalizarlo a tu gusto. A medida que pasa el tiempo no pierde "
          ],
          [
           "se queda un poco pobre ,,,como regalo a una niña si ,,,a una mujer no lo veo"
          ],
          [
           "Hola, cuando voy a instalar el juego me sale que el codigo que devo de poner ya esta utilizado y no le deja ni jugar ni instalarlo. Exijo un"
          ],
          [
           "No está mal,pero no ajusta del todo y quedan aperturas por delante,lados y por detrás,pero al menos tapa las rendijas por donde entra el pol"
          ],
          [
           "Sacacuartos de una edición que no es ni especial ni nada. Calidad y detalles bastante mediocres."
          ],
          [
           "Buen precio, pero algo mas pequeño de lo que me parecía en un principio. Envió mas rápido de lo esperado."
          ],
          [
           "Muy bien. Son bonitas y quedan bien."
          ],
          [
           "Muy bonitas de primeras, pero me han durado una semana, cuidandolas, sin mojarlas y demás."
          ],
          [
           "El colgante precioso producto muy bonito parece plata"
          ],
          [
           "Es un único auricular para una sola oreja. La foto da la sensación de que sean un par de auriculares por lo menos yo lo pensé pero no es así"
          ],
          [
           "Es um juego aceptable, pero no deberia costar cerca de 40 euros. La jugabilidad és tipica de um tablet. Las carreras son muy faciles. No me "
          ],
          [
           "Es una buena opción si te vas de viaje o si te mando llevas a casa de un amigo/a. Es una base ligera y con un grosor de poco más de 1 cm. Se"
          ],
          [
           "Llevaba tiempo buscandolo y no lo encontraba por ningún lado!! Muy satisfecha con la compra!"
          ],
          [
           "Los compré para probar debido a su bajo precio. Se nota al tacto que no son los auténticos, pero eso no me importa. Los botones van bien, pe"
          ],
          [
           "Lo siento no me fue bien para la PS3 y se devolvió"
          ],
          [
           "Si te va el rollo maso es tu juego"
          ],
          [
           "Satisfecho con el producto. Se ajusta a la descripción. Buen precio y envío inmediato. Una gozada comprar todo tipo de cosas en Amazon Prime"
          ],
          [
           "no me ha gustado mucho, esta bien y es bonito pero es para grupos grandes"
          ],
          [
           "sigue siendo un juegazo"
          ],
          [
           "Es correcto,lo único que la correa si la mojas se vuelve rosa"
          ],
          [
           "Una pulsera demasiado finita, la calidad no es tampoco muy buena"
          ],
          [
           "Los juegos vr para ps4 me dan la impresión de que vuelvo a la ps2 por lo rudimentarios. Compré éste por las opiniones favorables. Probableme"
          ],
          [
           "Las bolsa son como en la foto, pero 9 descosidas en la costura por donde pasa la cuerda que las cierra"
          ],
          [
           "Todo correcto, excepto que me a venido la importacion italiana y en la imagen esta en castellano"
          ],
          [
           "Muy monos , el broche un poco complicado de cerrar"
          ],
          [
           "Bonito fue para un regalo y bien"
          ],
          [
           "Pequeño pero muy bonitos"
          ],
          [
           "Todo perfecto llego súper rápido y antes de su fecha feliz por el detallito volvere a repetir mil gracias 😊"
          ],
          [
           "Siempre escribo las reseñas meses después de comprar los productos, y tengo que decir que esta tobillera era preciosa y estaba encantada con"
          ],
          [
           "Un periférico que cumple sobradamente su función, cómodo, vistoso,perfecto"
          ],
          [
           "Pues mando original Sony, buenos acabados del mando y botones, calidad de la batería y como el que viene en la consola."
          ],
          [
           "Es perfecto, en español y a mi hijo le encanta!!"
          ],
          [
           "Perfecto y totalmente en castellano! Gracis amazon como siempre el mejor!"
          ],
          [
           "Pone que es edición en español, pero viene en italiano."
          ],
          [
           "La calidad no es la esperada. Se ven frágiles pero a este precio no se puede pedir más."
          ],
          [
           "Igual que en la foto, solo que la dedicatoria no se ve nada."
          ],
          [
           "Es un buen juego que te mete en el universo star wars a traves de batallas en miticos escenarios de la saga"
          ],
          [
           "Buen soporte para las joyas y anillos."
          ],
          [
           "buen mando,correcto por el precio que tiene,quiza la bateria deberia durar un poquito mas. Excelente agarre eso si esta bien"
          ],
          [
           "Bonito y baratos pendientes bueno bonito y chollo"
          ],
          [
           "Son bonitos pero quizás la figura del cisne es demasiado pequeña una vez colocado,con lo cual no se remarca bien."
          ],
          [
           "Caja del funko golpeada"
          ],
          [
           "Muy bueno y muy buen precio!!"
          ],
          [
           "Viene un poco arañado aun siendo nuevo. Los agujeros del soporte de los pedales en el modo invertido de los pedales t3pa pro están muy aleja"
          ],
          [
           "El juego ha llegado rapido y en perfecto estado. El precio ha sido inmejorable."
          ],
          [
           "Una maravilla,a mí mujer le gustan mucho."
          ],
          [
           "Al poco tiempo de uso, se despegó la piedra y se perdió. Muy bonito pero mala calidad."
          ],
          [
           "Los colores son intensos, pero el textil parece mas un pañuelo que una toalla"
          ],
          [
           "La pulsera de cuero se ha salido del ancla y ya no se puede utilizar. Se compro en diciembre y en abril ya está rota."
          ],
          [
           "Ha llegado antes de lo esperado. Uno de ellos no funciona bien lo devuelvo. El otro se acopla bien, pero la ranura está suelta... me lo qued"
          ],
          [
           "Es para niña, para nada sirve para una mujer adulta. Yo soy adulta y muy delgada, y no sirve de tobillera, y para pulsera es grande. Mide 19"
          ],
          [
           "El juego esta bien en si, pero me arrepiento de pagar de mas por que no hay seriedad."
          ],
          [
           "Esta bastante bien. Aunque debería traer más sitio"
          ],
          [
           "No puedo opinar del producto porque nunca me llego, es un timo no pedir"
          ],
          [
           "El ratón cabe perfecto y va bien protegido. No le doy 5 estrellas por el material de recubrimiento interior, que se ensucia fácilmente."
          ],
          [
           "El pedido debía llegar como muy tarde el 11 de septiembre. A día 17 no sé nada de él. He escrito en el apartado del vendedor y nadie dice na"
          ],
          [
           "De plata nada.. en 4 meses se está poniendo por dentro color rosa, se le está quitando el color y la zona donde pega con la piel se me pone "
          ],
          [
           "De momento no ha llegado.El vendedor me ha adelantado el reembolso a la espera de que si me llega pagarlo.Muy atento.No puedo opinar sobre l"
          ],
          [
           "Me parece un engaño al 100% Pagas 4 euros más que la versión italiana para recibir un juego en Italiano... aunque luego puedas elegir multil"
          ],
          [
           "Muy rápido el envío."
          ],
          [
           "Un juego para mi hijo. No se ha pasado mucho tiempo jugando con él. No puedo opinar mucho más sobre este juego."
          ],
          [
           "Compre el juego para mi cuñado, y me comenta que en el modo historia los personajes hablan en ingles con subtítulos en español."
          ],
          [
           "La cuerda le apretaba la cabeza demasiado, y venia con dos flores caidas de la base de la corona"
          ],
          [
           "Han cumplido expectativas, buen sonido y aislamiento del ruido. El micrófono es muy cómodo,, va incorporado y se oculta cuando no se necesit"
          ],
          [
           "Estos aros van perfecto tanta para mujer como para hombre, quedan muy finos y como vienen en diferentes tamaños, puedes ponertelos en cualqu"
          ],
          [
           "Perdió el color a los pocos días, se cayeron todos los adornos que poseía la pulsera, el cierre es malísimo se perdió también. En conclusión"
          ],
          [
           "Son bonitos aunque hay uno que se da la vuelta constantemente. Son más bonitos en la foto"
          ],
          [
           "En la PS4, de la que tengo dos mandos originales, no puedo usarlo si no me compro otros dos mandos especiales que cuestan 70€, me parece un "
          ],
          [
           "Cumple mis expectativas el producto y el servicio es muy bueno. Entregaron sin mucha demora. Los cargadores funcionan muy bien y pude disfru"
          ],
          [
           "Entregado el día 22, la caja estaba un poco tocada, pero el producto ha llegado bien. Deben comentar con el servicio de transporte que trate"
          ],
          [
           "El material me resulta desagradable al contacto con la piel y condensa mucha humedad de la respiración. Buscaré otras opciones"
          ],
          [
           "Es muy pequeña y la cadena muy fina y con nudos."
          ],
          [
           "En ninguno de los puertos USB reconoce el disco duro externo (Toshiba Canvio), en los puertos USB 2.0 no funcionan los Auriculares Platinum "
          ],
          [
           "No veo los nombres por mucho que alumbre y se ha roto enseguida"
          ],
          [
           "Fatal, no cargan los cargadores"
          ],
          [
           "Está bien, el material no es malo del todo pero con el tiempo se acaba poniendo feo."
          ],
          [
           "Es una pena, tenia muchas esperanzas en este juego y se ha convertido en una gran decepción. Los puntos fuertes: La jugabilidad es fantástic"
          ],
          [
           "Está bien.Se ajusta a la publicidad."
          ],
          [
           "Se quedan atascados y no salen bien por abajo."
          ],
          [
           "Es muy raro que yo devuelva un producto pero este era de verdad muy mal. Ante todo pesa un monton. Luego montarlo no ha sido facil y cuando "
          ],
          [
           "Un buen producto para regalar, y con un envio rapido, que facilito que el regalo llegara a tiempo al cumple."
          ],
          [
           "En la versión de PC no se puede jugar en pantalla dividida con otro amigo"
          ],
          [
           "Al principio me encantó todo pero en unos meses se me rompió la cadena."
          ],
          [
           "era para un regalo y me ha gustado mucho, estaba muy bien enpaquetado y la presentación estaba bien, en conjunto un buen producto"
          ],
          [
           "Muy satisfechos con la compra. Los pendientes son muy bonitos, y el servicio rápido y eficaz."
          ],
          [
           "Lo he comprado por coleccionismo, pero es un producto indigno de Sony."
          ],
          [
           "Es bonito, buena calidad, es una pena que solo lo hagan en un tamaño. Un poquito más grande y sería perfecto"
          ],
          [
           "Más estrecho de lo que se aprecia en la foto, pero igual de bonito. También es pequeño de tamaño."
          ],
          [
           "Positivo: precio más económico que el original. Negativo: no compatible con mando ni modo TV. Una pena."
          ],
          [
           "Perfecto, la portada está en francés pero cuando juegas lo puedes poner en castellano sin problema. Agregar 4 palabras más."
          ],
          [
           "Es más grande de lo que parece y no queda muy bien"
          ],
          [
           "La tuve que devolver porque queda demasiado ancha en el pulso. La calidad me ha parecido regular, pero el gran problema ha sido justo la anc"
          ],
          [
           "Esta bien calidad precio"
          ],
          [
           "Se lo regalamos a mi sobrina de 12 años, muy fan de la serie. La encantó. Es bisutería, pero es aceptable"
          ],
          [
           "El producto en sí es una maravilla, no has sentido algo igual hasta que lo pruebas. Tengo que poner una estrella ya que por parte de Amazon "
          ],
          [
           "Me encantó el producto, me sorprendió el envoltorio porque no es el típico que trae Tous pero muy bien!"
          ],
          [
           "Muy contento con el producto rapidez en la entrega , cumple expectativas relacion calidad-precio hay que tener cuidado con las medidas de la"
          ],
          [
           "Están bien de calidad pero son demasiado pequeños, son de bebé pero con el clavo muy largo. Para un adulto quedan super pequeños"
          ],
          [
           "Es bonito pero dudo mucho que sea de plata realmente, por el aspecto y textura. Como algo gracioso a regalar no está mal."
          ],
          [
           "Muy bonitos, tal como se describian y muy rapida la entrega."
          ],
          [
           "Está bien es como esperaba, por el precio que tiene no se puede pedir más tardó en llegar, pero llegó en perfectas condiciones."
          ],
          [
           "Mala calidad, se rompe en 1 dia..."
          ],
          [
           "Me ha llegado la pulsera con las cajas rotas. Y lo necesitaba para un regalo. No estoy contenta. Un saludo"
          ],
          [
           "le ha encantado a mi hijo"
          ],
          [
           "El Pendiente con la cadena viene roto, la base del pendiente de donde sale la cadena oxidada, los otros dos no corresponde la medida como es"
          ],
          [
           "Todo bien salvo que el producto llegó con el precinto roto y solucionado como dice otro comprador con un poco de celofan. Me imagino que ser"
          ],
          [
           "Es justito de calidad, lo devolví"
          ],
          [
           "A pesar de ser un juego con unos cuantos años, la edición de switch es fantástica. Se nota antiguo en algunas cosas pero el aspecto de los e"
          ],
          [
           "Es bonita pero se rompió enseguida. La entrega fue rápida"
          ],
          [
           "ES UN JUEGO ORIGINAL PARA PS4, QUE CUMPLE CON LOS REQUISITOS. QUE SEA ORIGINAL, VENGA PRECINTADO Y SIN UTILIZAR ANTERIORMENTE Y DIVIERTA."
          ],
          [
           "Mide 13 cm. y no 21 como ofertan. Por ello lo he devuelto. El servicio como siempre excelente y eficaz."
          ],
          [
           "Vienen las 60 piezas pero muchas vienen repetidas y entiendo que vengan dos o tres de la misma pero que llega el punto en el que vengan 7, 6"
          ],
          [
           "Por el precio que tiene te hace el apaño, ahora el parecido con la foto es nulo. No está bien pintado y es más pequeño de lo que cabe espera"
          ],
          [
           "Muy buena y segura, pero la nueva PS4 entra pero no se puede cerrar la cremallera."
          ],
          [
           "Me gustó mucho,pero el cierre no es de fiar y el día que lo estrené se calló y se perdió."
          ],
          [
           "La letra es muy pequeña, pero estoy más seguro con la pulsera de alerta médica."
          ],
          [
           "Envío rápido. Pero por mal embalaje o transporte, la caja está doblada y deteriorada. Una pena, era para un regalo, y ahora parece que lo he"
          ],
          [
           "Buen sonido, buena calidad y un precio no muy exagerado. Buena relación calidad precio"
          ],
          [
           "No nos ha llegado el producto, quiero que me devuelvan mi dinero, por favor."
          ],
          [
           "Mosqueado, es una pena que compres un juego y dos meses después baje a casi la mitad. Muy mal, así he dejado de comprar juegos pronto."
          ],
          [
           "Parecía una interesante oferta pero se canceló el pedido."
          ],
          [
           "Horrible!! Quedaron conmigo en que lo enviaban grabado y no fue así. tenía que devolverlo y pedir otro y esperar otros 21 días.Aun espero el"
          ],
          [
           "Los compré como regalo para mi mujer y no le han gustado. Lo siento"
          ],
          [
           "La funda es tal cual la foto, cabe perfectamente la switch con los joycon acoplados, el doc, el soporte para los joycon, el cargador y el ca"
          ],
          [
           "No me ha gustado que me lo cobrasen, me lo enviasen, me indicasen que llegaba en el día y todo el día esperando para solo recibir un mensaje"
          ],
          [
           "Imagino que será un caso aislado, pero he tenido que devolverlo porque era IMPOSIBLE usarlo. Dejaba el mando con carga completa y al ir a us"
          ],
          [
           "Un de los micros no funcionaba y al jugar se oye con retardo."
          ],
          [
           "Calidad mediocre o baja"
          ],
          [
           "Lo que buscaba. Muy entretenido."
          ],
          [
           "Es preciosa! Muy bien engarzada y un cierre bastantes seguro."
          ],
          [
           "Tardes divertidas jugando con los niños"
          ],
          [
           "Producto engañoso...te pone en la imagen que incluye los microfonos....y solo te viene el juego,me siento estafado"
          ],
          [
           "No me a llegado todavía"
          ],
          [
           "Llego bien pero en la fotografía parecia otra ....."
          ],
          [
           "El tamaño era un poco pequeño para lo que esperaba, la calidad parece que está bien. Llegó dentro del plazo"
          ],
          [
           "Chulo, me va un poco grande, pero igualmente no está mal!!!! El tamaño un poco exagerado.... Igual me gusta por el significado"
          ],
          [
           "Fue un regalo para una amiga que quería algo así para que le trajera buena suerte."
          ],
          [
           "No es muy fina, pero por el precio que tiene poco más se puede pedir."
          ],
          [
           "Compre estos pendientes de plata 925 para un regalo y la verdad que encantado, calidad/precio excepcional y con un diseño bonito y elegante,"
          ],
          [
           "Las chapas estupendas y de calidad. La cadena super corta y encima se pone fea y pierde color en una semana al mojarse en l ducha o sudar"
          ],
          [
           "Bonito,pero agujero muy grande,da vueltas y no se queda muy ajustado"
          ],
          [
           "Deja mucho que desear , parece otra cosa muy pequeño y muy débil, no esperaba que fuera tan malo en material"
          ],
          [
           "El diseño es bueno, está bien, pero la calidad de los materiales deja que desear. La anilla de uno de los extremos, que sirve para enganchar"
          ],
          [
           "Buen juego entrega rápidisima como siempre"
          ],
          [
           "No está mal la relación calidad-precio queda bonito no es excesivamente grande ni pequeño, la huella está lacada en color negro, me ha gusta"
          ],
          [
           "No puedo evaluar algo que no me ha llegado."
          ],
          [
           "Tardó más de un mes en llegar, es de latón cromado, no acero"
          ],
          [
           "Muy corta, de colgante queda casi pegada al cuello y los plateados muy de plástico. La usaré de pulsera..... un poco decepcionada"
          ],
          [
           "Un juego entretenido. Algo pesado los tiempos de carga,pero bueno."
          ],
          [
           "Muy fina y se pone fea"
          ],
          [
           "Es cierto que es barato, pero realmente no compensa mucho. En mi caso el nunchuck no funcionó jamás. En fin, teníamos un nunchuck de otro ki"
          ],
          [
           "Son unos pendientes muy bonitos y elegantes. El tamaño es el de una moneda de dos euros, quizás un poco mas pequeños. Son de plata con brill"
          ],
          [
           "No me ha gustado mucho. Son de goma \"suave\", así que resbalan un poco. Lo que quería era justo lo contrario. Tampoco encajan a la perfección"
          ],
          [
           "Calidad de la piel es real pero el cierre magnético falla enseguida y es fácil perderla. Envoltorio muy bueno"
          ],
          [
           "Mi opinión es que tenía que haber llegado el día 2 de julio y todavía estoy esperando... Aviso para navegantes"
          ],
          [
           "Por el precio está bien, pero son de muy mala calidad. Si buscáis un mando con calidad y sin fallos estos mandos no os sirven."
          ],
          [
           "En cuanto a gráficos, parece de una generación anterior. No está mal (probado en Xbox one X), pero los coches se sienten \"ligeros\". Muy arca"
          ],
          [
           "No se mira tan Fina como en La foto, es demasiado gruesa y abulta mucho"
          ],
          [
           "Todo perfecto, es la edición PAL alemana pero que en estas consolas cualquier región funciona correctamente El artículo es nuevo a estrenar "
          ],
          [
           "Pulsera muy mala, mejor jugar para niño"
          ],
          [
           "Juego entretenido aunque no deja de ser un Battle Royal y con gráficos de la PlayStation 1. Precio calidad buena pero no se puede esperar mu"
          ],
          [
           "Muy bonitas pensé que eran mas grandes"
          ],
          [
           "es muy parecido al mando que trae la consola, la diferencia quizas se amolda algo mejor a las manos, y es facil de sujertar, por ahora no le"
          ],
          [
           "Al ser un producto reacondicionado me salió muy bien de precio por lo que no tengo muchas quejas. Quizás que durarán un poco más las batería"
          ],
          [
           "Me ha salido malísimos. En un puesta y ya se le perdieron los cristales a uno de ellos. Que desilusión"
          ],
          [
           "El mando no venia ni con caja ni con nada solo envuelto en plástico de burbujas ,por el precio se podían haber molestado en meterlo en una c"
          ],
          [
           "Justo lo que esperaba. Perfecto y rápido."
          ],
          [
           "Siempre pongo en mis pedidos para el repartidor una dirección y persona alternativa para recoger el paquete si yo no estoy y NUNCA LO TIENEN"
          ],
          [
           "El joystick después de un tiempo se daña"
          ],
          [
           "En 24h ha llegado... Impecable estado y rapidez"
          ],
          [
           "Me han gustado mucho....quedan preciosos ha sido un regalo para mi hija de 13 años y quedan divinos. Cuesta un poco abrirlos por el diseño c"
          ],
          [
           "Llegó al día siguiente de hacer el pedido. Todo perfecto como siempre que algo lleva la opción Prime."
          ],
          [
           "No se especifica claramente los requisitos minimos del pc, no puedo usarlo. Eran los Reyes de mi hijo....muy triste y decepcionada"
          ],
          [
           "La imaginaba más grande. Pero a pesar del tamaño es preciosa."
          ],
          [
           "No me ha llegado el producto, tampoco es posible localizar a nadie para justificar el retraso."
          ],
          [
           "Me gustaron mucho, idénticos a la foto."
          ],
          [
           "Muy bonita pero no queda como las cuentas de Pandora, no queda ajustado"
          ],
          [
           "El colgante es muy bonito pero me ha parecido un poco pequeño. Aún así me ha gustado, se lo he regalado a mi madrina y le queda muy bien."
          ],
          [
           "Me lo esperaba un poco más grande la verdad... Además viene sin ningún tipo de correa, lo que hace que me parezca más caro... No está mal pe"
          ],
          [
           "Fatal, se me ha roto a los 3 meses y tengo que estarme 15 días sin mando porque se tiene que enviar al servicio técnico de sony"
          ],
          [
           "Delicado y bonito tamaño adecuado. A mi mujer le ha encantado."
          ],
          [
           "El juego esta bien pero la entrega atraves de correos a sido un desastre a llegado 2 días después del día de entrega y eso que soy prime en "
          ],
          [
           "Perfecto y envío muy rápido"
          ],
          [
           "No tiene que ver el pedido con el producto recibido, a parte no lo compre cómo reacondicionado y me ha llegado como reacondicionado. La caja"
          ],
          [
           "Su funcionamiento en simple conectas el cable de carga a la estación (funciona perfectamente con el cable original) y mientras juegas se va "
          ],
          [
           "Muy mala calidad pero muy malo precio excesivo para lo que es"
          ],
          [
           "algunas de las piedras tienen mas de 1 perforacion"
          ],
          [
           "Es como espera bien de calidad aunque me queda un poco grande los colores son iguales a los de la foto"
          ],
          [
           "ideal para las.gafas vr"
          ],
          [
           "Esta bien,aunque la cadena es un poco corta"
          ],
          [
           "El abalorio es lo que esperaba. Pero era para un regalo y no venía en la cajita y bolsa de regalo de las tiendas Pandora."
          ],
          [
           "No me enviaron la de la imagen, sino la que pone ps4, me la quede porque me gustaba igualmente, pero se debería llevar mas cuidado. Con resp"
          ],
          [
           "Ya conocía el juego y en este caso lo he comprado para hacer un regalo."
          ],
          [
           "Mala calidad, no se ajusta a la videoconsola. Parece que se te va a deshacer en las manos. Es más grande, no termina de casar con los botone"
          ],
          [
           "Sin más, solo va hacia adelante y hacia un lado. Mi gata para de el"
          ],
          [
           "En ninguna parte tiene el sello de plata ni trae ningún distintivo que lo indique, el empaquetado muy chino. No sirve para regalo."
          ],
          [
           "Se los regalé a mi esposa y está encantada con ellos. Bonitos y de calidad. Quizá un poco grandes, pero en conjunto muy buena compra."
          ],
          [
           "No encontre mejor precio por ningún lado, por tres meses, llego rápido, era para regalar a mi sobrino y en un día estaba en casa."
          ],
          [
           "Fue para regalar a mi hijo"
          ],
          [
           "Un engaño, si necesitas una medida más pequeña te cobran el doble, cosa que no ocurre en la tienda física, la acabo de comprar y vale lo mis"
          ],
          [
           "En switch he configurado el uso del mando pro y no funciona. En pc he intentado descargarme el firmware de la página del fabricante pero, un"
          ],
          [
           "Muy buen material, aunque el colgante un poco pesado"
          ],
          [
           "Me lo compre para evitar cables y utilizar Bluetooth pero como el cable que se quite wifi, Bluetooth, o lo que quieras. Ahí lo dejo."
          ],
          [
           "Perfecto para jugar en familia"
          ],
          [
           "Pedí este producto pensando que tendría buena compatibilidad con iOS, pero solo se pueden jugar a unos pocos juegos, y eso si eres capaz de "
          ],
          [
           "Es para reyes todavía no loe abierto"
          ],
          [
           "Es muy lento y con pocas atracciones para un publico mayor pues para entenderlo los niños de 4-5 años son demasiados pequeños"
          ],
          [
           "El que te permita guardar saves es una maravilla, pero no te los deja guardar a mano. Todo va a la \"nube\" y no ves un solo archivo. Una aute"
          ],
          [
           "No han pasado dos meses y ya me falla el botón X ba mal y se me des conectaba al principio no me gusta que un mando normal me dure 2 años y "
          ],
          [
           "El servicio de entrega fue horrible Lo recibe hoy día 2 de marzo cuando lo debía haber recibido el 27 de febrero"
          ],
          [
           "Hemos comprado dos unidades para regalar y en ambos casos han quedado muy contentas, el colgante es mayor de lo que parece en las fotos...mu"
          ],
          [
           "En general cumple, pero el tiempo de respuesta de los gatillos es mayor que en los originales y hay juegos en los que resulta un poco más co"
          ],
          [
           "Se ha puesto feo negro y muy mal"
          ],
          [
           "NO VOY A COMPRAR MAS. PORQUE ME HAN COBRADO POR DEVOLVER EL PRODUCTO 13€ PERDONA?? 13 EUROS POR DEVOLVER UN PRODUCTO??? ESTAMOS LOCOS?? NO P"
          ],
          [
           "Son bastante pesados."
          ],
          [
           "Quitando que tiene muy buena calidad tanto la alfombrilla y los bordes.. tarda semanas en ponerse recta, y no se fija bien al escritorio y s"
          ],
          [
           "Gran joya en elegancia y diseño. Un acierto en cada compra, siempre muy satisfactorio. Muy recomendable y de muy buen gusto."
          ],
          [
           "La recopilación perfecta para continuar con la saga en PS4. Merece especialmente la pena por el KH Dream Drop Distance. Recomendado para los"
          ],
          [
           "Miy buen producto. Buenos materiales. Tras casi seis meses de uso esta como nueva. No pongo las 5 estrellas porque debería edtar pensada par"
          ],
          [
           "Quizas mas pequeño de lo que esperabamos pero ok. hay que tener cuidado porque el cierre que une el corazon con el cordon se puede abrir. me"
          ],
          [
           "Muy divertido. Ideal para jugar en familia"
          ],
          [
           "Esta reparado, pero bueno por el precio que estaba, esta genial."
          ],
          [
           "Buscaba un collar para un regalo, y encontré este, con buen precio y bastante bonito y me ha sorprendido!! Llego bien en su embalaje sin nin"
          ],
          [
           "Se puede agrandar, si. Pero se nota que es tamaño de adolescente o niño y no es lo que yo queria, el servicio de entrega perfecto"
          ],
          [
           "La pulsera me llegó rota x la mitad. No reclamaré pero ha sido una decepcion"
          ],
          [
           "sin embargo, mientras que es un juego increible, le faltaba algo para llegar al 10/10 o a las cinco estrellas. definitivamente lo recomendar"
          ],
          [
           "No ha llegado el collar . Las demás cosas que he comprado en Amazon han llegado, pero este producto no me ha llegado."
          ],
          [
           "Hola!!. Queria unos pendientes para llevar todos los días y no quitármelos ni para dormir. Por esa parte, bien, no són muy grandes y no mole"
          ],
          [
           "Si os gustan los collares de plastico y mal pintado, es la mejor opcion en el mercado. Si buscais algo mas..."
          ],
          [
           "Es muy cómodo y eficiente pero tengo un problema con el cable. A veces no lee el mando y en media partida por ese error me matan y eso cabre"
          ],
          [
           "Llevo dos tardes jugando y ya lo he probado todo de esta expansión. Sinceramente no pensé que se me haría tan corta puesto que otras expansi"
          ],
          [
           "Son perfectos vienen dos, se ajustan perfectamente y ni se nota que los llevo no duele ni nada, parecen de verdad sin necesidad de agujeros "
          ],
          [
           "Demasiado grandes para ser pendientes no se sujetan bien al ovulo, son bonitos y no tienen mala calidad pero están mal hechos, sin más."
          ],
          [
           "Un abalorio muy bonito pero que ha perdido parte de su brillo en el pico en unos meses"
          ],
          [
           "visualmente es un gran juego, sobre todo para los fans de la saga pero es muy lineal y repetitivo. mejor la 2ª parte"
          ],
          [
           "Aun no la he recibido"
          ],
          [
           "Me quedan un poco anchas y no me sientan demasiado bien al andar la relacion calidad precio es buena."
          ],
          [
           "Es tal cual se ve. Bastante pequeño para mí opinión, es más para niñas pequeñas. Y se ve mucho que no es de calidad. El colgante más pequeño"
          ],
          [
           "Cumple con mis expectativas. Buena la relación calidad precio. El tiempo que ha tardado el envío ha sido demasiado prolongado."
          ],
          [
           "Me ha llegado antes de lo esperado. La imagen es mucho mejor que el adaptador ps2 a hdmi. En una pantalla de 24 con este cable se puede juga"
          ],
          [
           "No me ha gustado porque me parece demasiado grande, aunque eso es una cuestión de gustos. Lo que sí puedo decir es que la parte de la flor e"
          ],
          [
           "El producto me gusta mucho. Por ese precio no se le pueden pedir muchas cosas. Lo único que deberían tener mas medidas para el futuro. Graci"
          ],
          [
           "La cadena no es la de la imagen, pero está muy bien"
          ],
          [
           "Lo he devuelto es muy endeble y se ha partido. El anillo en si era bonito, pero no ha durado ni 1 semana. No vale la pena gastarse el dinero"
          ],
          [
           "No me ha venido el cable de carga ni pilas, a parte está algo sucio y tendré que limpiarlo, es la primera vez que compro algo por amazon de "
          ],
          [
           "La tube que tirar es muy dura y raspa por dentro me rozaba toda la muñeca probe a darle una capa de cera de caballo pero nada"
          ],
          [
           "Calidad excelente. Rígida y con espacio para guardar todo lo necesario. Rígida como pide algo delicado como las PS VR."
          ],
          [
           "muy.comodo, puedes cambiar los separadores como quieras. yo coloco la switch en el centro no como aparece en las fotos para protegerla mejor"
          ],
          [
           "Tiene buen sonido y la duración de la batería para la cancelación de ruido son unas 5 horas. Es probable que algunos móviles no lo reconozca"
          ],
          [
           "Son bonitos. Cómo se ven en la foto."
          ],
          [
           "Preciosos y elegantes pendientes de plata,es la flor de loto, quedan muy bonitos puestos, tienen una medida perfecta... Recomendable 100%"
          ],
          [
           "Son excesivamente debiles y venian con algún golpe en el lateral de uno de ellos. No los volvería a comprar."
          ],
          [
           "La cadena semi rígida se rompe muy fácilmente, la he arreglado y se ha vuelto a romper enseguida. No sirve para el tobillo"
          ],
          [
           "Un buen producto parece que tiene. Solo faltaría especificar que solo es camuflaje por la parte delantera la parte trasera es lisa"
          ],
          [
           "En un mes ya lo tienes roto (lo cargas y se descargan en 1 dia)"
          ],
          [
           "El producto llego un dia mas tarde de lo indicado y la sorpresa fue al abrir la cajita tan mona en la que venia dentro venian los pendientes"
          ],
          [
           "Primero no me llegó el producto, lo devolvieron ellos mismos antes de recibirlo en un punto de recogida. Lo volví a pedir y cuando me llegó "
          ],
          [
           "Ha cumplido perfectamente y ampliamente mi objetivo.Relacion calidad precio perfecto.Se ajusta muy bien.La recomendare a mis amistades cuand"
          ],
          [
           "Comprado para regalar y acerté de lleno. La persona que lo recibió estuvo encantada porque no lo había visto nunca. La foto queda exacta y e"
          ],
          [
           "Llego rapido y en perfecto estado . Es exacto a las fotos asique muy contento"
          ],
          [
           "El conector es correcto, se adapta perfectamente y es el original, la parte negativa es que lo esperaba un día concreto en una franja horari"
          ],
          [
           "Es preciosa a mu nuera le gusto muchísimo es de buena calidad"
          ],
          [
           "Me gusto mucho la pulsera. El pedido llego rapido. Corresponde con la descripcion. lo recomiendo. Estoy muy contenta muchas gracias"
          ],
          [
           "las piezas no encajan bien, instrucciones muy mal explicadas, los soportes para mandos se caen. en fin un desproposito. DEvolucion"
          ],
          [
           "Pesan un poco, pero sientan muy bien."
          ],
          [
           "Compré el juego en español y viene en italiano. En la parte posterior aparece multilenguaje pero no lo sabes hasta que no lo abres."
          ],
          [
           "Llegó excesivamente tarde. Vamos que no lo puede utilizar para lo que lo quería...."
          ],
          [
           "El material es bastante malo, el plastico de baja calidad, al principio no encaja bien ni en la PS VITA ni en el USB, eso si, CUMPLE SU FUNC"
          ],
          [
           "El juego es espectacular, no le doy 5 estrellas por que no me llegó la beta y no pude probar el juego antes pero por lo demás perfecto!!!! G"
          ],
          [
           "Buenas, quiero poner una queja del repartidor que ha traido este pedido, ha entregado el pedido pero a mi no me lo ha dado, ni he recibido n"
          ],
          [
           "Lo pedí en plata y me llego en dorado"
          ],
          [
           "Llega tal y como en la foto, muy bonito y muy bien proporcionado y de tamaño. La pega es que, como la parte de atrás es un tapón de silicona"
          ],
          [
           "El producto está bien, pero hay detalles que deberían ser controlados por el fabricante o el distribuidor antes de ponerlo a la venta. Por e"
          ],
          [
           "Se esperaba hoy y no ha llegado. Ahora puede que no llegue hasta el miércoles. Era para un regalo. Me han dejado echa polvo. No es la primer"
          ],
          [
           "Como sirve Amazon, rapido, productos de calidad y sin ningun problema en la debulucion si se da el caso. El juego no me ha gustado nada lo h"
          ],
          [
           "El anillo esta guay pero pone el dedo negro al dia siguiente de ponertelo. Las instrucciones sobre los colores son un poco basura"
          ],
          [
           "El collar tiene algunos desperfectos y no cierra correctamente... no me ha gustado la calidad del producto"
          ],
          [
           "En general cumple con mis expectativas ya que es exactamente lo que solicite en la compra. Producto original y ajustado a las especificacion"
          ],
          [
           "todavia no lo he regalado,es para alguien especial,ya les dire,pero lo q si os puedo decir es q podria venir presentada,de otra forma,viene "
          ],
          [
           "Ajustable a la medida de la muñeca de forma fácil y queda muy fino y elegante ."
          ],
          [
           "Lo imaginaba más largo pero son muy bonitos"
          ],
          [
           "Es pequeñita pero queda muy bonita. Y aunque la.mojes no se pone fea"
          ],
          [
           "Se me agrietó la goma original del joystick y estas fundas han resucitado el mando. Se instalan fácilmente y quedan de lujo. El artículo es "
          ],
          [
           "Son un poco rígidos y esta algo torcido el enganche, de momento todo bien pero son delicados y quizá muy pequeños"
          ],
          [
           "Vino en color negro. Pero me habían avisado. Perfecto. Además venía con una funda protectora de silicona. Estoy muy contenta"
          ],
          [
           "Hola he comprado este mando pero mi samsung s8 no me lo reconoce... me podeis dar los paso que hay que seguir para que se vincule ? Parpadea"
          ],
          [
           "Envío rapidísimo. La calidad parece buena, es flexible y el cierre bastante bueno. La desilusion es que venga en una bolsita de plástico jun"
          ],
          [
           "Es bonito, pero no traía la bolsa de la marca, con lo que por el precio que he pagado igual que en la web de Tous, desmejora mucho el regalo"
          ],
          [
           "El juego tiene una temática buena, pero no lo sabe explotar. Una movilidad tosca. No dejan de llegar parches para arreglarlo..."
          ],
          [
           "Producto auténtico de alta calidad, es el que esperábamos y ha sido el de la foto, práctico si se quiere y más económico q en tienda."
          ],
          [
           "Cumple con el propósito para el que lo compré. Por ahora no ha sufrido con el grabado, y su aspecto es correcto."
          ],
          [
           "Para cargar los mandos de la Nintendo es como dice en el anuncio,viene solo la base, y hace cargas rapidas"
          ],
          [
           "Buenisimo! están disfrutando a tope montando los Kits, se entretienen muchisimo! y disfrutan jugando con la switch.Un acierto total!"
          ],
          [
           "Cuando los recibí me gustaron mucho pero los brillantitos duraron una puesta.Me quede sin pendientes."
          ],
          [
           "En juego como era de esperar te viene en ingles aunque si tu play 4 lo pones en español latino, te sale los subtitulos en español."
          ],
          [
           "No es para nada el material que promete, tiene un tacto desagradable. Y, respecto al color viene oxidado, en su mayor parte oxido y una fina"
          ],
          [
           "Se queda atascado, no van bien los controles."
          ],
          [
           "Bonitos y con un diseño diferente, aunq algo incómodos. El sonido estaba bien y el micrófono funcionaba correctamente"
          ],
          [
           "Un producto estupendo, recomendable 100% por su calidad precio"
          ],
          [
           "PENSABA QUE LLEGARIA CON SU CAJA ORIGINAL, QUE CHASCO CUANDO ME LLEGA EN UNA CAJA DE CARTON MARRON, NO ME VALE PARA HACER UN REGALO :("
          ],
          [
           "Comprado para efectuar un detalle."
          ],
          [
           "Es un juego muy parecido al primero de la saga. Particularmente me gustó más el primero, pero sigue la misma dinámica de shooter rápido casi"
          ],
          [
           "El material y aspecto de la funda, o más bien estuche, es muy bueno. Quizás podría ser un poco más grande porque las correas de los joy-con "
          ],
          [
           "No trae certificado autenticidad"
          ],
          [
           "primero compre uno y me enviaron dos.pague los dos por supuesto lo deje en un punto de recogida y no pasaron a por el y para colmo de mis ma"
          ],
          [
           "Cuando lo elegí ponía versión Uk, con voces y textos en español y no es así. Está todo en inglés sin posibilidad de cambiarlo."
          ],
          [
           "Muy resistentes y de calidad."
          ],
          [
           "Aboné la diferencia del envío urgente para recibirlo el día después y me tardo una semana. Recibido por correos express"
          ],
          [
           "Gran compra si te gusta jugar y probar la pantalla tactil y el 3D. Lastima que no incluya el cargador."
          ],
          [
           "Calidad precio buena"
          ],
          [
           "Todavía no ha llegado"
          ],
          [
           "Tienen un bonito acabado y para salir del paso no están nada mal."
          ],
          [
           "Buenas terminaciones,buen acabado y presentación,toda vuestra atención siempre muy buena y puntual,ha llegado en la fecha prevista,muchas gr"
          ],
          [
           "Perfecto para poner los detalles de mi alergia llegó pronto y el producto es igual que el de la foto"
          ],
          [
           "El juego vino suelto de la sujeción del CD"
          ],
          [
           "Llego antes de tiempo"
          ],
          [
           "Nuevo y tirado de precio"
          ],
          [
           "Muy orgullosos con esta compra, se ve de alta calidad,nada que envidiar a una joyería. Un regalo precioso que aguanta dl color perfectamente"
          ],
          [
           "Mala calidad. No se si compensa por el bajo precio porque no creo que se los ponga nadie ni el primer dia"
          ],
          [
           "Me ha llegado con 5 días de antelación y en muy buen estado, volveré a comprar :)"
          ],
          [
           "buen regalo a precio bueno y envio muy rapido"
          ],
          [
           "Toda la esencia de ps2 en tu ps4. El cambio gráfico es notable, dentro de los propios límites, claro. Totalmente recomendable."
          ],
          [
           "Lo compre para un regalo y la sopresa me la lleve yo!! Aunque ponga que tiene licencia oficial no funciona con el F1 2015 de Ps4."
          ],
          [
           "Esperaba más del juego."
          ],
          [
           "No son de pandora, son grandes para dicha pulsera, a la vez de anchos, al uso diario se hace incómodo."
          ],
          [
           "Muy bien precintado y sin arañazos."
          ],
          [
           "Fantástico regalo por presencia y calidad no se puede pedir más por ese precio estupendo un tamaño ideal ( habló del corazón colgante)...el "
          ],
          [
           "Excelente servicio de Amazon como siempre aunque tuvimos que devolverlo porque no funcionaba correctamente."
          ],
          [
           "Por el precio no se puede pedir más, compré 3, para mi madre, mi hermana y para mi, pero son tan cutres y con tan malos acabados que me dio "
          ],
          [
           "Lo han traido a tiempo y entregado justo en el momento. Al niño le encanto tanto el color como la jugabilidad"
          ],
          [
           "Todo en perfecto estado"
          ],
          [
           "El comprar este juego por Amazon, no tiene ningún sentido! Las claves están activadas y por lo tanto te reembolsan el dinero! O te dan el en"
          ],
          [
           "La caja esta muy chula pero el juego salio el dia 14 y me llego el 20 siendo prime . Estuve a punto de cancelar todo y no renovar el prime. "
          ],
          [
           "Estan muy bien, pero son pequeñitos, para labio dificilmente pueden servir por el tamaño del diametro."
          ],
          [
           "Los palos son muy cortos, no me lo he podido poner, se los he dado para mí hija pequeña, es una lastima."
          ],
          [
           "Aunque he leído que el ventilador es de los silenciosos, la verdad que para mí gusto hace mucho más ruido que ya Slim. Estoy un poco decepci"
          ],
          [
           "Llegó bien y es un juegazo"
          ],
          [
           "compre esta pulsera por probar y ha sido toda una grata sorpresa, por un precio baratisimo tiene una mas q aceptable calidad y es muy bonita"
          ],
          [
           "Los botenes son muy sensibles y no detecta Bien la interacción"
          ],
          [
           "es bonita, queda bien en el pie pero no se debe mojar ya que yo me bañe con la mía y ahora tiene mucho oxido."
          ],
          [
           "Algo mas pequeño que el mando original, por lo demas calidad precio? Mi opinion comprad el original se pueden cambiar carcasas etc, con este"
          ],
          [
           "Todo perfecto Gracias"
          ],
          [
           "Por el precio están bien, pero el color no es dorado, es más bien rosáceo."
          ],
          [
           "Hay un pero que es determinante. Todo lo empaña la incompetencia de un repartidor y de una agencia de transportes que tiene a repartidores i"
          ],
          [
           "Todo bien, excepto que uno de los codigos no se donde canjearlo. Creo q el de la guia digital."
          ],
          [
           "Aunque la caja está en italiano, el juego está en multi idioma y funciona perfectamente. El mejor precio y no voy a jugar la caja"
          ],
          [
           "Muy buen producto.Excelente relación calidad precio.Regalo magnífico para estas Navidades, lo compré para mi hija de 13 años y está encantad"
          ],
          [
           "Le faltan bastantes cosas. Y es entretenido peor luego ya te Aburres."
          ],
          [
           "Es un juego bonito y divertido, pero es que tiene excesivas paradas, me corta mucho el juego , está bien , pero.."
          ],
          [
           "Se ajusta bastante bien, los botones saltan fácilmente pero no quedan feos y protege algo"
          ],
          [
           "Fue para un regalo, le ha encantado y llegó de un día para otro."
          ],
          [
           "Pone que es plata Pero se ha puesto muy fea en poco tiempo Tengo otras cadenas de plata y no me ha pasado esto"
          ],
          [
           "Duración 3 horas y no te explican de donde vino el problema en la historia"
          ],
          [
           "100% compatible con Nintendo switch, cómodo y práctico, solo hecho de menos que no lo hagan en más colores ya que pienso comprar más unidade"
          ],
          [
           "Llegó el día previsto. Pero la caja un poco rota y el repartidor no debía saber que lo que llevaba era frágil ya que soltó la caja sin ningú"
          ],
          [
           "Llegaron pronto, son bonitos, un poco pequeños, para niñas un buen tamaño. Uno de ellos llegó defectuoso, no cierra. No los he podido regala"
          ],
          [
           "Se despegan cuando la consola se empieza a calentar. No lo recomiendo en absoluto."
          ],
          [
           "El juego tardó dos días en llegar y bien embalado."
          ],
          [
           "Es muy bonita, pero no la mojes porque se oxida."
          ],
          [
           "La cruz muy guapa, pero la cadena fina para el peso de la Cruz, mejor poner cadena mas gruesa en vez de dos juegos de cadena"
          ],
          [
           "Me encantó es más bonito que en la foto"
          ],
          [
           "Va muy bien. Solo conectarlo por el puerto USB a la consola y listo."
          ],
          [
           "Estupenda oferta, mucho mas económica en Sony. Mi hijo está encantado,juegos gratis y muchas posibilidades, el codigo no dio ningun erros.Lo"
          ],
          [
           "El artículo cumple con las expectativas"
          ],
          [
           "Son bonitos, pero son mucho más pequeños de lo que se aprecia en la foto"
          ],
          [
           "Lo primero me gustaría saber en donde está mi paquete ya que según dicen la nota que lo a entregado y no se a quien"
          ],
          [
           "El producto es correcto. Cadenita fina de plata. Estoy contenta con la compra a pesar de que en solo 2 semanas la plata ya no brilla y se ha"
          ],
          [
           "Me sirve para mis manualidades, pensé que seria un poco mas gordo, pero es lo que tiene ver los productos solo en fotografias."
          ],
          [
           "Se actualiza a español nada más meter el CD en la play. Más barato. Un diez, por el juego es el mismo que la versión española."
          ],
          [
           "Es muy pequeña aunque en su defensa, lo pone en la descripción."
          ],
          [
           "Por la resistencia y lo compacto que es. Su diseño Lo recomendaría a cualquier usuario de la Xbox one, es perfecto."
          ],
          [
           "Muy bien, ajustable y bonito. Lo que hay que tener un poco de cuidado para no romperlo tirando de el para hacerlo mas grande."
          ],
          [
           "Son lo que ofrecen. Muy buena relación calidad-precio. Recomiendo."
          ],
          [
           "La verdad es que no va muy bien ya que los mandos no tocan bien las pestañitas de carga, en consecuencia las baterias no se cargan , no lo r"
          ],
          [
           "Buen regalo exactamente igual q en el anuncio"
          ],
          [
           "Muy mal, era para colgarlo en una pulsera de Pandora como aparece en la foto y resulta que el agujero es más pequeño. Una lástima por que es"
          ],
          [
           "Engaño ,me han eviado una versión que no es uk o no viene en español,es una version polaca que solo viene en ingles polaco o ruso, dicen que"
          ],
          [
           "No sé si son realmente hipoalergenicos...pero si enviaron rápido , en eso Amazon eficaz, pero claro sino no son hipoalergenicos y pone que s"
          ],
          [
           "Se correspondía con la descripción"
          ],
          [
           "Me gusta mucho el que sea el usuario el que tenga que montarlo"
          ],
          [
           "El cargador cumple con lo que se le pide. Carga la Nintendo 3DS sin ningún problema."
          ],
          [
           "CALIDAD PRECIO MUY BIEN, CREO QUE CUMPLE CON SU FUNCIÓN Y LA TELA NO ES NADA BASTA. LO RECOMIENDO, LO UTILICÉ PARA EL ARROZ DE MI BODA Y QUE"
          ],
          [
           "Rapido y segun lo ofertado"
          ],
          [
           "El colgante es bonito porque se ilumina, pero la calidad de la cadena fatal, en tres puestas ya estaba ennegrecida. La luna es de plastico."
          ],
          [
           "Muy bonito y llamativo"
          ],
          [
           "No viene con embalaje original, NO está bien presentado en su entrega. Muy mala presentación."
          ],
          [
           "La única pega es que son USB 2.0 y no 3.0. Para el cable del ratón va muy bien, el \"escorpión\" es de goma y se abate un poco en caso de que "
          ],
          [
           "Lo que es la edición coleccionista es muy pobre por lo que costó de salida, mucho dinero para tan poca cosa. Un artbook y un steelbook no ju"
          ],
          [
           "Lo bueno Una mochila espaciosa y robusta, en el compartimento más cercano a la espalda hay espacio asignado para un joycons adicionales, doc"
          ],
          [
           "Son muy bonitos, pero el cordón de plata se rompió enseguida"
          ],
          [
           "Me gustado mucho, porque necesitaba una cadenita para varios colgantes que tengo y todas me causaban alergia. Esta no, después del uso conti"
          ],
          [
           "Estos pendientes son preciosos. Quedan muy elegantes puestos tanto para salir de día como de noche. Tengo más de esta marca, pero al final e"
          ],
          [
           "Lo regale a mi nieto y le gusto mucho"
          ],
          [
           "El envoltorio ha llegado roto y en muy mal estado, espero que funcione bien el muñeco cuando lo pruebe."
          ],
          [
           "Lo esperado. . Muy cómodo para poder jugar con más comodidad .. no tan pegado a la televiso y más separado"
          ],
          [
           "Un collar con una calidad fatal se me rompio a los tres dias"
          ],
          [
           "Caja correcta, con su CD. Le he quitado dos estrellas ya que imagino que en el trayecto, el juego no estaba bien insertado en el recinto y s"
          ],
          [
           "En la realidad es más bonito que en las fotos."
          ],
          [
           "Un buen raton con sus lucecitas. Bastante grande pero muy comodo para la mano por todas las endiduras que tiene. Control de dpi ppr botón. T"
          ],
          [
           "No ha llegado este producto.. Vinieron 4 juegos y el estuche. Menos el kirby"
          ],
          [
           "Se me rompió en la mano al sacarlo de la bolsa. Ya se que es barato pero pensé que al menos me duraría 24hrs"
          ],
          [
           "Preciosa aunque un poco fina"
          ],
          [
           "Muy grandes y pesados, no son nada cómodos y por la parte interior no están gravados, con lo cual cuando se dan la vuelta quedan mal."
          ],
          [
           "Son muy bonitos pero a mi no se me mantienen en su sitio, se bajan y no quedan bien. Además tengo mis dudas de que sean de plata"
          ],
          [
           "La pulsera y el estuche era muy bonita estéticamente pero resulta que de muy mala calidad, el mismo día se rompió, calidad - precio malo, te"
          ],
          [
           "Después de dos semanas de retraso, lo tuve que volver a pedir (4€ mas caro). El juego era un regalo y no llego a tiempo en Navidad, como sue"
          ],
          [
           "yo tengo un problema con el cable que se me ha roto y no puedo encontrar otro, los cables de esta marca siempre han sido muy fragiles"
          ],
          [
           "Uno vino dañado pero el otro funciona bien"
          ],
          [
           "Dice que me lo han entregado y no me a llegado como lo reclamo a amazon decia enviado con otra cosa"
          ],
          [
           "Le encanta a mi hijo, es un juego que te agudiza el ingenio. Muy recomendable. Quizás resulto corto puesto que lo termino muy rápido."
          ],
          [
           "estamos muy contentos con la compra. El paquete estaba intacto, perfectamente embalado. Satisfechos con la compra y el precio del producto"
          ],
          [
           "Son bonitos y tamaño adecuado,no se si durará mucho el baño que llevan,pero están muy bien para el precio que tienen. Pero tienen una pega, "
          ],
          [
           "Una pérdida de dinero total, la compre a finales de marzo y de la noche a la mañana ha dejado de funcionar. Ya no estoy en plazo de reclamar"
          ],
          [
           "A mi hijo no le ha echo mucha gracia el juego, de hecho lo tiene olvidado en el cajón, no le ha enganchado demasiado. Es complejo de jugar y"
          ],
          [
           "Las baterías encajan a la perfección en el mando original de la xbox. El cable no entra a la perfección, pero una vez dentro, se ve robusto,"
          ],
          [
           "Lo pedí para navidad y nunca llegó, ni actualizaron el estado del producto, ni me llamaron para informarme de nada. Un día llamé y me inform"
          ],
          [
           "Le pongo 3 estrellas porque es un gran juego a buen precio, pero la desarrolladora ha sido una vaga, prácticamente la misma versión, a 30 FP"
          ],
          [
           "Mando pequeño y que funciona perfectamente tanto con PC (aunque requiere poseer un receptor ya que es solo mando) y para con telefono Androi"
          ],
          [
           "Si el mando lleva una funda, olvídate que no llegará a conectar correctamente."
          ],
          [
           "La calidad del mando pésimo. En menos de un mes el botón LB se quedó trabado y no puedo usar el mando. Encima la garantía solo dura un mes ,"
          ],
          [
           "Mucho tiempo en llegar y el artículo fatal"
          ],
          [
           "La verdad es que encajan bastante bien los mandos, me ha gustado. La calidad no es mala aunque en lineas generales es un articulo muy normal"
          ],
          [
           "Este producto no esta mal. Si se te ha roto el cargador original, puedes sustituirlo por este. Funciona tanto directamente al puerto tipo C "
          ],
          [
           "Quizá un poco caro por 25€ pero es que el juego es brutal. Uno de los mejores. Esta edición tiene todo el contenido disponible y funciona pe"
          ],
          [
           "Es como en la foto pero es cuestión de gustos."
          ],
          [
           "El cierre no es muy seguro. Se me perdió. Por lo demás, todo bien, aunque la fiabilidad de los cierres en las pulseras es algo básico."
          ],
          [
           "Me llegó rápido, sin abrir, el código se aplicó sin problemas. Pongo cuatro estrellas porque no especificaba qué tipo de caja era, si la des"
          ],
          [
           "El diseño y lo sencillo"
          ],
          [
           "Me han llegado bien, pero he tenido que limpiarlos porque la plata venía oscurecida. Han quedado bien y no he tenido que devolverlos afortun"
          ],
          [
           "No hace apenas ruido, y por el precio que tiene funciona bastante bien. Los cargadores de los mandos también van perfectos."
          ],
          [
           "La pulsera es de calidad según la ves y sobre todo la tocas, pero no es de la medida que pone Ya aviso que son 2 centímetros más pequeña."
          ],
          [
           "Acerté con el regalo, lo recomiendo queda muy chulo. El tamaño del colgante está bien justo como sale en la foto. Viene con una cadena que e"
          ],
          [
           "No es como la foto, sólo se ven los cristales por un lado"
          ],
          [
           "Funciona genial por ahora y lo que mas me ha gustado es que mi compañera ya no me quita el mio(el azul) Lo que menos me ha gustado es que la"
          ],
          [
           "Es un juego bastante sencillo. Mi hijo lo pidió porque le llamó la atención pero al jugar no le convenció. Y ya se cansó."
          ],
          [
           "Ideal para lo que quiera tunear"
          ],
          [
           "Lo compré para regalo del día de la madre y ha sido todo un acierto. Es muy bonita y trae un charla de presión para que si se abre no se cai"
          ],
          [
           "Muy contento con la compra, dispone de regulador de sonido y funciona perfecto y es muy util. Son muy comodos, y cuando llevas un rato con e"
          ],
          [
           "Versión con todos los extras y totalmente en castellano en cuanto lo pones en la Play"
          ],
          [
           "me gustaría saber si se pueden sacar eslabones pues son como remaches, sin endiduras para poder sacar eslabones"
          ],
          [
           "El peor juego que he visto, no tienes nada que hacer, lo pasas en 5 minutos, no es atractivo, pésimo"
          ],
          [
           "buscaba dos anillos que fuesen a juego y extensibles, para poder llevarlos mi mujer y yo, y me decidí por estos. Llegan super bien presentad"
          ],
          [
           "Bonito y adecuado para lo que es"
          ],
          [
           "Quería regalar a mi mujer unos pendientes de plata y me decanté por estos porque le gustan las estrellas. Le han encantado y fue un acierto "
          ],
          [
           "Regular la verdad, pense que seria mas bonito, no es tan parecido a la.foto que aparece, el mapa no esta muy bien la verdad"
          ],
          [
           "Los reyes se han portado, superdivertido, el envio y el producto llego bien"
          ],
          [
           "La verdad es que no he jugado y no puedo decir nada"
          ],
          [
           "Sigue la línea de los anteriores"
          ],
          [
           "Insuperable en calidad/precio"
          ],
          [
           "Corresponde con lo esperado"
          ],
          [
           "Me encantó hasta que vi que el mando Pro de la Nintendo Switch no encajaba."
          ],
          [
           "El collar es bonito, del tamaño que indica en las fotos. La cadena tambien es muy finita con lo cual acompaña al collar. El collar parece de"
          ],
          [
           "es linda ,cómoda pues solo es atada y queda muy bonita puesta gracias"
          ],
          [
           "En la foto parece otra cosa. Yo entiendo que el precio no es muy alto y la calidad no puede ser espectacular, pero tanto..."
          ],
          [
           "Esta conjunto de pendientes y collar sorprende por su bajo precio. Aun no tengo datos para valorar su calidad, porque lo he recibido anteaye"
          ],
          [
           "Era para un regalo y gusto mucho porque era un seguidor de esta saga de videojuegos"
          ],
          [
           "Me ha encantado . Adaptable y de momento no me ha dejado el dedo verde jijiji."
          ],
          [
           "Es muy bonita. Precio y calidad magnífico. Es un regalo que ha gustado mucho."
          ],
          [
           "Excesivamente pequeño (no cabe ni una moneda de 5 CTS) y mala calidad en el cierre"
          ],
          [
           "Adorables! Son muy bonitos, de tamaño bueno y un brillo discreto. Las perlas le dan el toque extra. Preciosos!!!"
          ],
          [
           "Es gracioso... Para una niña. No es bueno y los acabados no son perfectos, pero tampoco se puede pedir mucho más por ese precio."
          ],
          [
           "No son compatibles con la Nintendo NES original como ahí dice. Estéticamente son iguales incluido el conector, pero no funcionan. Yo los tuv"
          ],
          [
           "Muy bueno y divertido. Para mayores de 18 años. Entrega y todo perfecto. Era de segunda mano y estaba en perfecto estado cuando llegó."
          ],
          [
           "Deberían comprobar el producto antes de venderlo. A la decepción de no haberlo podido usar se añade el inconveniente de tener que devolverlo"
          ],
          [
           "Bonito, pero no me lo han mandado con la bolsa de la marca, lo que para un regalo desmerece mucho. La próxima lo compro en la tienda de Tous"
          ],
          [
           "Muy útil y manejable"
          ],
          [
           "Es un colgante muy bonito, pero es muy muy pequeño, demasiado . El plazo de entrega ha sido muy rápido."
          ],
          [
           "Algo pequeño, pero bonito"
          ],
          [
           "No megusto nada el primer día se rompió el brillo y el segundo día se perdió la tuerca,y el tercero me puso la oreja como un elefante,en fin"
          ],
          [
           "Incomodo al abrir y cerrar se atasca con la lengüeta donde van los juegos"
          ],
          [
           "Buen regalo, preciosa. Brilla bastante y parece que es de calidad.Espero que no cambie de color ni pierda piedras.Lo recomiendo"
          ],
          [
           "Se han comprado dos iguales, para uso propio y para un regalo, son finitas, pero resultan elegantes. Mejor de lo esperado!!"
          ],
          [
           "Lo compré como regalo del día del padre y a mi marido le encantó."
          ],
          [
           "Calidad media. Con el tiempo y con el agua se borra lo que tiene escrito. Por el precio que tiene es lo que obtienes"
          ],
          [
           "Llegó a tiempo y en perfecto estado al poco tiempo dejo de funcionar. Parecía que todo iba bien, pero no."
          ],
          [
           "Figura con buen detalle pero poca calidad"
          ],
          [
           "Debido a problemas con la compañía de transporte AMS el pedido llegó un día después de lo indicado, además el juego venía sin precintar, sim"
          ],
          [
           "Buena calidad, pero le sobran los botones interiores, hacen que los pulses sin querer y eso Estropea partidas."
          ],
          [
           "Tendría que especificar el diámetro de la circunferencia para meter la pulsera ya que no es para todas las Pandora."
          ],
          [
           "A mí no me ha gustado, creo que son demasiado endebles. Son baratos, si, pero de baja calidad."
          ],
          [
           "Encaja perfectamente en la pulsera Pandora. Es más bonito en persona que en la foto, queda muy elegante. Estoy encantada con la compra!"
          ],
          [
           "Lo compré porque decía que era de plata. Pero no lo es"
          ],
          [
           "En general buen producto, un poco demorado el envio, lo importante es que encajan bien en la nintendo DSi."
          ],
          [
           "Mas pequeños de lo que esperaba."
          ],
          [
           "Son muy bonitos y realmente brillan mucho, lo único es que me dan un poco de alergia!!"
          ],
          [
           "El cartucho venía con una pestaña doblada, lo cuál hacia que no funcionase."
          ],
          [
           "El juego en sí es increíble. A estas alturas de la generación poco más se puede decir salvo que es el simulador de conducción por excelencia"
          ],
          [
           "Como principal, decir, que aunque venga la contraportada en Español, el juego esta en Frances,Ingles y Aleman. Que te lo vendan asi, me pare"
          ],
          [
           "Llegó bien, pero el aspecto y peso son demasiado simples, recuerda al plástico, y las piedras de circonita me decepcionaron. Desde luego, el"
          ],
          [
           "Los pendientes son como esperaba. Compré antes la sortija y ahora los pendientes. Llegaron en la fecha prevista y en buen estado. Muy conten"
          ],
          [
           "Gran reproducción de los originales. Da alguna sensación de fragilidad, pero ideal para jugar con un emulador de saturn"
          ],
          [
           "La pulsera es de muy buena calidad, la verdad es que era algo reacio a adquirir este tipo de regalos a través de Amazon, pero está pulsera m"
          ],
          [
           "Muy bonito, Estaba preocupado por si eran muy grandes pero no , le ha gustado, El tamaño muy bien. Lo que no estoy muy seguro es que sea pla"
          ],
          [
           "La pulsera es muy bonita,tal y como sale en la imagen.Envio rápido y con detallito,que se agradece.Volveré a comprar."
          ],
          [
           "Hola quería comentar que tuve que cambiarlo porque el botón L2 se accionaba solo. Y el que me mandaron nuevo a día de hoy le pasa otra vez l"
          ],
          [
           "Calidad precio buena"
          ],
          [
           "la primera vez que compro en amazon y no será la ultima porque ha sido perfecta."
          ],
          [
           "La verdad un producto muy bueno. Me ducho con ella y no se pone negra. Es muy bonita ."
          ],
          [
           "Aunque se puede configurar el idioma, me parece inaceptable que todo en la caja venga en italiano y ni siquiera te lo indiquen en la descrip"
          ],
          [
           "La experiencia en el montaje es de 10, cómo VR, no deja de ser un experimento/juguete simpático sin más... nada que ver con la VR real de vi"
          ],
          [
           "He comprado este artículo en 2 ocasiones, para 2 regalos diferentes para niñas de 4-5 años y han tenido muy buena acogida. La fabricación en"
          ],
          [
           "Llega así tal se ve en la foto. Solo una pieza y parece usado. Nunca más."
          ],
          [
           "Malísimos, un día me duraron.Llegaron descoloridos pero es que tal y como me los puse,uno roto"
          ],
          [
           "La caja llego abierta y faltaban los códigos de los juegos. Después de llamar por tlf. y varios correos fueron incapaces de resolverlo. Al f"
          ],
          [
           "El tamaño de la mano es perfecto!pero es corta la cadena y se me rompió al mes el broche"
          ],
          [
           "Este es un aviso para la gente que compran de Amazon después de tantos años comprando de Amazon he tenido que devolver piezas de ordenador p"
          ],
          [
           "Juegazo, es una pasada"
          ],
          [
           "Tal y como se ven en las fotos.Muy buena calidad y precio"
          ],
          [
           "La consola se apaga de forma continua por sobrecalentamiento, cuando la tengo en el mismo espacio que la PS4 Pro. Es un fallo de diseño grav"
          ],
          [
           "Servicio penoso. No lo esperaba. Desde el 13 de junio que hice el pedido. Han debido fe ir a buscarlo a la India"
          ],
          [
           "Es muy chulo y práctico, llego muy rápido y de momento funciona muy bien"
          ],
          [
           "que no es original no lleva el precinto de sony. es reprecintado. aun asi el estado es bueno y no tengo mas queja y no pienso en devolverlo."
          ],
          [
           "Creí que lo dorado rodeaba el pendiente pero es un añadido, de todas formas muy bonitos"
          ],
          [
           "Los pendientes me encantan, son de buena calidad y elegantes, pero son bastante más pequeños de lo que parece en las fotos."
          ],
          [
           "Las entregas son muy lentas"
          ],
          [
           "Simplemente no me han gustado parecían otra cosa"
          ],
          [
           "Al principio me costo instalarlo pero funciona perfectamente se te pasa el tiempo volando muchas horas de juego es estupendo"
          ],
          [
           "Mala calidad pero vale para cargar la PS Vita. Podrian mejorarlo hn poco. Aunque por el precio que ofrece no nos podemos quejar"
          ],
          [
           "No llegó el día que tocaba, lo pedí el 30 de agosto y me dijeron que llegaría el día de lanzamiento (17 de noviembre), pero aquí estoy viend"
          ],
          [
           "La calidad de los materiales es impecable, la consola queda muy sólida una vez dentro y apenas se mueve. Las cajas de los cartuchos quedan e"
          ],
          [
           "Este anillo es demasiado fino no tiene grosor como yo esperaba me queda pequeño y se me sale del dedo"
          ],
          [
           "El cierre de la saga que no ha sido tan bueno como se esperaba, pero que sin duda te va a dar muchas horas de juego repetitivo. Al menos pru"
          ],
          [
           "Se agradece el tamaño"
          ],
          [
           "No lo recomiendo el juego es aburrido"
          ],
          [
           "Buenos materiales y muy buena calidad de sonido a un muy buen precio. Las almohadillas son bastante grandes y al cabo de unas horas usándolo"
          ],
          [
           "Esta bien pero no es como el minecraft normal, es chulo para jugar 5 minutos pero para 1 hora se me hace aburrido"
          ],
          [
           "Cumple las expectativas."
          ],
          [
           "Es una pulsera muy bonita de plata de ley, pero se me rompió a los 5 minutos de ponérmela, excesivamente delicada. Una pena."
          ],
          [
           "Es muy bonita, pero me ha llegado arrugada y no la podré utilizar... Por eso sólo 2*"
          ],
          [
           "El diseño es guapo, pero la calidad del color pésima. Llevan mis hijas dos días con el y ha perdido el color dorado."
          ],
          [
           "es un producto caro que no gana mi confianza, se ve la intención del vendedor, solo se ocupa de un aspecto, triste."
          ],
          [
           "Buen regalo y de buena calidad, pero por su sistema de cierre, se necesita la ayuda de otra persona."
          ],
          [
           "La tobillera es pequeña y ha llegado desarmada. Hemos necesitado alicates para cerrarla. Parece para niñas."
          ],
          [
           "En las imágenes de la ficha del producto aparece bien claro la imagen de la contraportada en perfecto castellano, a mi me llegó la carátula "
          ],
          [
           "pequeñas pero bonitas"
          ],
          [
           "Nada que descubrir, PS4 es la mejor consola, aunque me parece que esta ps4 slim, al ser mas reducida, se calienta demasiado y ya me dió un p"
          ],
          [
           "Me ha llegado antes de lo previsto y es precioso, eso sí para futuras ocasiones tal vez lo podrías hace un poco más pequeño, quedaría más fi"
          ],
          [
           "La funda se adapta perfectamente al mando y es muy original. Se agarra muy bien. Los protectores de los botones grandes no se adaptan muy bi"
          ],
          [
           "Me gusta mucho el material de las pulseras y el sistema de cierre, me han encantado!"
          ],
          [
           "Funcionan perfectamente en xbox one,se adaptan muy bien al mando y no he tenido ningun problema,por ponerle objeciones,esperaba que duraran "
          ],
          [
           "Horrendo es mucho decir. El negocio está montado señores. Me han mandado una mierda de plástico negro que no sirve para el reemplazo y lo de"
          ],
          [
           "Buena calidad de piel"
          ],
          [
           "Bonitos productos ..pero demasiado pequeños"
          ],
          [
           "Vaya decepcion al abrir la caja y encontrarme un codigo de Steam. No venia especificado y me he llevado el sorpreson. Ahora, con la mierda d"
          ],
          [
           "Muy bien de precio (unos 20€ menos de lo normal) pero en ningún lugar pone que no era versión española. Al poco de realizar el pedido me lle"
          ],
          [
           "Como veis en la foto es mas pequeño de la idea que te haces con la foto del vendedor, pero al menos (y revisando otras opiniones) ha llegado"
          ],
          [
           "Preciosas todas las gargantillas. Lo recomiendo."
          ],
          [
           "La calidad es muy mala para el precio que tiene. Llegó roto. El reloj está pegado de cualquier forma y se ve el pegamento. Lo devolveré."
          ],
          [
           "La publicidad del producto es insuficiente a mi modo de entender ya que en ningún sitio te dice que precises de una consola ,yo en mi caso m"
          ],
          [
           "MUY CONTENTO Y SATISFECHO CON EL ARTÍCULO PUESTO QUE CUMPLE CON TODAS LAS EXPECTATIVAS.ASI QUE VOLVERÍA COMPRARLO DE NUEVO.MUCHAS GRACIAS PO"
          ],
          [
           "Lo veo algo caro para la calidad que tiene. Venía doblado el palito. Además de que el color dorado se puso feo muy demasiado pronto."
          ],
          [
           "Le doy las cinco estrellas porque corresponde a lo que anuncia, y porque yo no me fijé, pero lo que es la zona frontal del mando no lo cubre"
          ],
          [
           "Pocas veces me he quedado tan de decepcionado con un juego. Dinero tirado. Grafica nefasta. En fin, no lo compreis!"
          ],
          [
           "Conectado al PC un muy buen mando, mi problema ha sido qué por el motivo que sea no me conecta a la Switch, que es para lo que lo quería, no"
          ],
          [
           "El aparato funciona perfectamente. Es decir, detecta el mando a la primera y se conecta fácilmente. El problema es de software. El enlace qu"
          ],
          [
           "Las baterías apenas duran media hora - 40 min máximo. He tenido otras baterías que duran muchísimo más. No valen la pena."
          ],
          [
           "Muy bonito y fino. Lo uso poco haci que todavía están bien para ocasiones de fiesta . Pero son para muñecas finas"
          ],
          [
           "Todo ha ido perfectamente, el envío fue rápido y el día previsto, la cadena es como se ve. Gracias x todo"
          ],
          [
           "Llego antes de tiempo. Todo perfeco."
          ],
          [
           "Son una puta mierda... No los recomiendo para nada, silicona de mala calidad los compre para unos compañeros y para mi y todos con alergias "
          ],
          [
           "Es muy bonito pero se me ha roto la cadena en 4 días reales.No lo volvería a comprar."
          ],
          [
           "Creo que las imágenes hablan por si solas. UNA SEMANA después de comprar el producto (era envío 24h) llega de esta manera. ASM la empresa ch"
          ],
          [
           "La batería no funcionaba, mal etiquetado el \"como nuevo\""
          ],
          [
           "Son grandes pero al sacarlos de su envoltura se ha caído un pompon y no se ven muy firmes los demás."
          ],
          [
           "Hoy día, algunas TVs ya no tienen entrada de componentes. Este aparato me ha evitado tener que comprar componentes, que generalmente suelen "
          ],
          [
           "Juego excelente, gran aventura y una gran historia. Juego en español con habla en ingles y subtitulos en español."
          ],
          [
           "El juego es muy bonito y tal, pero jugarlo en la Switch no merece la pena porque el framerate no es muy estable que digamos"
          ],
          [
           "El producto nunca llego y no se an echo responsables por entregarlo en 2 meses"
          ],
          [
           "Muy buena compra,me gustan muchísimo"
          ],
          [
           "Es un gran mando, el tacto y acabado muy bueno, la dureza de los botones y respuesta muy parecida al original. El peso es el ideal, y al con"
          ],
          [
           "El artículo en cuestión es precioso, pero la anilla que lo aguanta no es de acero inoxidable y el martillo tampoco.."
          ],
          [
           "Parece de juguete. La he devuelto. Era para un regalo y no le ha gustado nada"
          ],
          [
           "Si me llega algún día lo valorar....."
          ],
          [
           "Buena compra, calidad de envio y rapidez de entrega. Muy contento en general con esta transacción. Volvere a comprar sin duda."
          ],
          [
           "Un botón del mando se atasca y se queda pulsado, por lo que es imposible jugar en niveles normal, avanzado y experto. Tampoco ayuda que nada"
          ],
          [
           "Pensé que me habría confundido porque el precio era buenísimo y no. Todo correcto. Me llegó un disco. Perfecto!"
          ],
          [
           "Plástico del malo , no puedes pulsar los botones porque la carcasa es muy gorda , para nada lo recomendaria mal producto"
          ],
          [
           "Quería comentarles la falta seriedad en la entrega del producto, me llevan diciendo que llegará desde el 8 de enero y estamos a 20, por favo"
          ],
          [
           "Réplica del controlador de la NeoGeo CD para ser usado en NeoGeo Mini. Es una muy buena réplica pero ni la palanca ni la botonera está a la "
          ],
          [
           "Me ha encantado, es perfecto. Era justo lo que estaba buscando. Gracias"
          ],
          [
           "Son bonitos y para un recién nacido el tamaño es perfecto , como eran para un regalo no sé si son cómodos de poner"
          ],
          [
           "Lo compré sin estar muy segura de cómo sería la sujeción de los mandos, pero estoy muy satisfecha, la carga se hace correctamente y es muy c"
          ],
          [
           "Desgraciadamente Amazon no protege bien las cajas de los amiibo así que no lo recomiendo para coleccionistas."
          ],
          [
           "Buena y rápida entrega, pero la calidad del juego no es muy buena, un poco decepción"
          ],
          [
           "es divertido pero sin duda todavía necesita mejorar (mas armadura, equilibrar y mas) pero sigo queriendo jugar"
          ],
          [
           "No estan mal pero muchos estan repetidos"
          ],
          [
           "Preciosa y buenos materiales"
          ],
          [
           "Uno de los pendientes no cierra..no podré ponermelos. Bonitos si son pero el cierre no me gusta nada se abre con facilidad. Posibilidades de"
          ],
          [
           "El collar me ha encantado lo que no me ha gustado es que puse otra dirección para que lo entregaran y hubo un lío que me costó solucionar pa"
          ],
          [
           "Han llegado pronto y bien embaladas.se corresponde con la imagen, aunque en vez de la azul mandaron otra morada,una de las verdes tiene un p"
          ],
          [
           "Hoy es el día límite y no me he llegado el producto."
          ],
          [
           "En principio parece un gran producto, funciona correctamente. Tiene tres sistemas para adiestrar al perro sin recurrir necesariamente al de "
          ],
          [
           "Nuevo precintado. La mismo precio que tiendas de videojuegos, pero te lo traen a casa.."
          ],
          [
           "A mi hijo Le ha encantado."
          ],
          [
           "Todo correcto pero despues lo encontré mucho mas barato y devolvió. Empresa muy amable y muy fácil.para devolverlo. Gracais"
          ],
          [
           "Es super cómodo no pesa mucho ni ocupa mucho espacio buena fijación de volante y pedales yo tengo montado thrustmaster t300 rs y pedales t3p"
          ],
          [
           "A ver, por el precio no se puede pedir tampoco una excesiva calidad y más cuando cada poco tiempo está en oferta. Pero ni los cristales son "
          ],
          [
           "Pues q pone q es un collar y mas bien es una pulsera"
          ],
          [
           "Para pc mola mucho ,pero no funciona con la rapsberry, por un poco más comprate uno oficial y te sale mejor, no es un cable fijo se lo tiene"
          ],
          [
           "Me han encantado, tienen un brillo azul precioso y puestos quedan muy bonitos estoy encantada con esta compra"
          ],
          [
           "El puntero no funciona desde el volante. Por lo demás bien, un plástico decente."
          ],
          [
           "Bonitas y muy frágiles. Muy delgado el palito, se dobla al intentar poner la tuerca."
          ],
          [
           "El diseño si me ha gustado. Pero se hacen negras enseguida"
          ],
          [
           "Llegó a tiempo y en perfecto estado"
          ],
          [
           "Se rayó a los seis meses"
          ],
          [
           "Muy chulos pero un poco grandes"
          ],
          [
           "Es un poco pequeña pero la regalaré a y me la pondre"
          ],
          [
           "Deberían cambiar las fotos. Te llevas una desilusión al ver las piedras \"son pequeñas y opacas\". Me hubiera gustado más calidad aunque fuera"
          ],
          [
           "arañazos y marcas de uso, quizás del transporte"
          ],
          [
           "Perfecto y en tiempo"
          ],
          [
           "Geniales vienen con una buena tuerca para que se ajusten perfectamente muy buenos"
          ],
          [
           "Tal cual se indica en la descripción, pero cuando quieres meter el cargador también, pues no cierra o si lo haces es a presión. Por eso no l"
          ],
          [
           "nunca funciono... asi es que lo devolvi. ningun problema en la devolucion al menos. no quede satisfecha porque era un regalo"
          ],
          [
           "Excelente producto.Necesario para toda PS4 Pro.Cumple doble función una estética y otra para aumentar la superficie de disipación del calor "
          ],
          [
           "Jamás me llegó. No entiendo como Amazon tiene vendedores externos tan sinvergüenzas."
          ],
          [
           "Llego roto. Partida por lamitad la piedra."
          ],
          [
           "Son bonitas pero se rompen con la mirada. Una pena"
          ],
          [
           "los pendientes son bonitos, los he pedido porque tenia unos iguales y los he perdido pero estos son más grandes y pesan mucho, por lo que me"
          ],
          [
           "El producto no me ha funcionado la imagen se sigue viendo borrosa."
          ],
          [
           "Hay que tener en cuenta que el juego es una ampliación y si no tienes el juego inicial, no vale para nada."
          ],
          [
           "Funda de muy buena calidad, sobre todo para su precio Ajusta perfectamente y protege muy bien el mando. Fue para un regalo y le encantó. El "
          ],
          [
           "Cuando se moja por la ducha se dilatan las cuerdas"
          ],
          [
           "Son de plástico, medidas distintas y se rompen en seguida. No recomendaría su compra, los tuve que tirar a la basura"
          ],
          [
           "Son demasiado grandes"
          ],
          [
           "Las perlas, o lo qué sean, están bien son bonitas y relacion precio calidad no pueden ser mejores; pero no les doy mejor puntuación porque n"
          ],
          [
           "El artículo llegó tal como se ve en las fotos, muy bien en todos los aspectos, gracias."
          ],
          [
           "Solo puedo decir que aun siguiendo todos los pasos y algun tutorial, no consegui que funcionara en mi consola. Creo que lo hice bien pero de"
          ],
          [
           "Vendedor no recomendado. Me han enviado la pulsera que no era. He realizado el pedido para regalo de cumpleaños, por lo que cuando he visto "
          ],
          [
           "Se me ha vendido un producto como oro de 18 k y no es oro. Si se indica una cosa y después el producto no es lo que se indica ....a la perso"
          ],
          [
           "Es para consola XL la normal queda muy grande"
          ],
          [
           "Estoy muy satisfecho en cuanto al título y la poca tardanza en llegar. Lo que no me gustó fue el que me envió el cartucho a casa, lo insertó"
          ],
          [
           "No tiene nada que ver la foto con lo que te llega a casa."
          ],
          [
           "Tamaño perfecto, ni enormes ni muy pequeños y los enganches son muy cómodos. El diseño es muy bonito y modern."
          ],
          [
           "No se puede ajustar a una mano de hombre NORMAL , mas bien es para las muñecas de mujer, por lo tanto mi calificacion es de no ser nada de u"
          ],
          [
           "No se parece al de la foto, no es ovalado es completamente redondo y las piedras no tienen esos colores, la verdad no es tan bonito. Yo esto"
          ],
          [
           "El tamaño, sería mejor menos y un poco más grandes"
          ],
          [
           "Fue un regalo , y le encantó y no es muy grande"
          ],
          [
           "Pedí unos gemelos que según la fotografía tienen un aspecto grabado y muy detallado y me enviaron la caja junto con otros con una calidad y "
          ],
          [
           "Por parte de amazon todo correcto. Los desarrolladores del juego no han solucionado los problemas, el juego se queda bloqueado. Una pena por"
          ],
          [
           "Buen producto a buen precio entrega muy rápida conforme con el envío recomiendo al vendedor viene la barita más las argollas de acuerdo al d"
          ],
          [
           "Tanto el tamaño como el acabado de los materiales es lo que necesitaba para transportar cómodamente los cartuchos."
          ],
          [
           "Se rompe con facilidad muy delicada la evilla y las sujeciones No me dura mas de 2 meses para gente tranquila"
          ],
          [
           "Vienen dos pares de fundas, de tamaños distintos. Las normales miden 7mm de altura, una vez colocadas sobresalen unos 3mm de lo que sería el"
          ],
          [
           "Perfecto. El juego funciona. Éxito"
          ],
          [
           "El acabado está bien, pero no cabe NADA de cenizas y digo nada porque es como si fuese macizo se caen y no se puede cerrar."
          ],
          [
           "No lo he jugado ni lo voy a jugar solo queria otro juego mas y las monedas para canjear."
          ],
          [
           "No llegan en la fecha indicada"
          ],
          [
           "Muy comodos ,aislan bien el ruido exterior. Trae adaptador para controlar el volumen de las partys y del juego. Algo malo que decir ,es que "
          ],
          [
           "Excelente producto son muy bonitos"
          ],
          [
           "No tiene nada que ver el color de la foto con la realidad. Es cristal tintado en claro."
          ],
          [
           "Buena relación calidad precio, ambas pulseras con diseño bonito, se ajustan a la muñeca perfectamente debido a sus 2 broches."
          ],
          [
           "Tal y como se describen, estoy muy contenta con la compra y a mi chico le encantaron. Envío puntual, lo recomiendo"
          ],
          [
           "El producto en buen estado. Perfecto."
          ],
          [
           "Cumplen su funcion?: Si Cumplen su funcion de forma diferente a otras marcas?: No Valen lo que cuestan?: Desde luego que no."
          ],
          [
           "Juego con un montón de micropagos para desbloquear coches, eventos y pistas."
          ],
          [
           "Lo compré pensando que llegaría el día del lanzamiento, era un regalo muy importante. Para mi sorpresa la compañía CORREOS dice que lo ha en"
          ],
          [
           "Muy buenas, compramos el colgante en forma de corazón, nos ha salido defectuoso, no creo que sea de plata. Vino en la caja ya un poco rayado"
          ],
          [
           "En si es un juego excelente y viene con todos los dlcs. Pero graficamente no ha mejorado nada o casi nada. De remaster nada."
          ],
          [
           "Menos de un mes jugando y joistick derecho da problemas cuando pulsas rt, MUY LAMENTABLE"
          ],
          [
           "No me ha llegado aun"
          ],
          [
           "Un collar muy gracioso. A mi hija le encantan los gatos y le gustó mucho. Es pequeñito pero muy bonito."
          ],
          [
           "Compré este producto reacondicionado, llegó en buen estado pero la V1 en vez de la V2 que se indicaba en la descripción"
          ],
          [
           "Desde el 6 de Septiembre que lo pedí, aún no me ha llegado el paquete. Que verguenza."
          ],
          [
           "El articulo bien, el envío bien, las calidades de la caja metálica bien. Ahora el juego es malisimo, si aprecias tu tiempo libre no lo juegu"
          ],
          [
           "El anillo es muy sencillo y elegante, tal y como aparece en la descripción. Mi pequeño error fue pedirlo demasiado grande pero aún así me en"
          ],
          [
           "Combates entretenidos y bastante contenido offline y online"
          ],
          [
           "Es fina pero muy bonita y elegante"
          ],
          [
           "Nunca me llego, y cuando le reclame Nadir me contesto"
          ],
          [
           "El Juego es muy interesante y a buen precio, pero el pedido tarda en llegar mas que otros similares que he pedido"
          ],
          [
           "Me llegó antes de lo previsto pero al mes no se porque me dejó de funcionar el mando, nose si estaba ya de fabrica mal o algo pero funcionar"
          ],
          [
           "Cuando compras el original de Sony...todo funciona perfecto, cuando quieres ahorrar algún dinero y compras los baratos de imitación, los bot"
          ],
          [
           "Es lo que esperaba, están tan bien hechas, pero a la placa de la cadena pequeña le falta el cierre."
          ],
          [
           "A ver, bonitos están, buenos tbn, solo que yo pensaba que eran más finitos delicados, son bastante gruesos, no era lo que quería, pero está "
          ],
          [
           "Juego divertido para el más peque"
          ],
          [
           "La sensación que da nada más abrir la caja es de fragilidad, aunque el acabado no es del todo malo... dan la sensación que a la más mínima s"
          ],
          [
           "29,95 es un precio razonable para un clásico que está muy visto. Esta versión en alta definición es una buena opción si eres fan de la saga "
          ],
          [
           "Desde el día 1 de junio no existe el guitar hero en la Store."
          ],
          [
           "Muy malos, se rompieron enseguida. Muy endeble"
          ],
          [
           "La mejor opción para switch. Tacto perfecto."
          ],
          [
           "Me parecen súper originales, pero por ponerles alguna pega quizás sean demasiado voluminosos, me los esperaba un poco más finos"
          ],
          [
           "Esta bien aunque no es lo que esperaba y el material es de baja calidad, no lo recomiendo .... ..."
          ],
          [
           "El producto está muy bien, el problema es que se pueden cargar a la vez solo 2. Pensaba que se podrían cargar los 4"
          ],
          [
           "Calidad precio no se le pueden pedir más, son cómodos y se escuchan muy bien, los uso desde enero todos los días y sin problemas el cable si"
          ],
          [
           "Después de más de un mes de espera. Todavía no ha llegado. Me han retrasado el pedido dos veces y ya ni siquiera me dicen cuando puede que v"
          ],
          [
           "Muy mala calidad! Se han roto los botones de cierre nada mas ponerlos en la muñeca, de las 2 pulseras. Otro desastre chino."
          ],
          [
           "Bastante bien. La calidad es buena, y el diseño a mi les gusto bastante. No se ve diferente a la realidad, aunque por poner alguna pega, qui"
          ],
          [
           "ME PUEDEN INDICAR QUIEN HA RECIBIDO EL PRODUCTO ?????"
          ],
          [
           "Estuche original de Nintendo para el transporte de la consola cómodamente. El material excelente y realiza su función. Me gusta mucho el com"
          ],
          [
           "Me gustan mucho, pero ya se ha roto uno. La parte metálica( plata) no es muy fuerte, al apretarlo un poco se ha partido."
          ],
          [
           "Muy brillante el plateado. De acero inoxidable no plata rodeada. No está mal como pulsera de vestir, es rígida 😄"
          ],
          [
           "Funda de silicona que se adapta perfectamente al mando sin moverse, fácil de colocar las fundas de los joystic no las he puesto pues son un "
          ],
          [
           "El envío fue rápido y correcto como siempre, en este aspecto ninguna queja. En cuanto al producto no es tanto como lo publicitan, las perlas"
          ],
          [
           "No ha sorprendido gratamente. Una estación de carga muy útil y que ocupa poco, perfecto para tener los mandos en un sitio guardado mientras "
          ],
          [
           "Color y dibujo bien, pero cuesta mucho de cuadrar, las puntas se desenganchan."
          ],
          [
           "Se ha puesto negra literalmente a los 3 días y destiñe la piel en verde. Pésima calidad."
          ],
          [
           "La rueda chirriaba al 3 giro, cosa bastante molesta para un ratón que se supone que es de gama alta"
          ],
          [
           "Mejor en foto que en realidad"
          ],
          [
           "perfetos por el precio ,,,, todo lo dias se ponen diferente modelos no se ponen oscuros.. y material algo debil ... van sobrao"
          ],
          [
           "Las instrucciones solo van en inglés por lo que dificulta mucho su instalación."
          ],
          [
           "No es compatible con Raspberry Pi 3 b+ con Recalbox 6.0 por Bluetooth (por cable si). Sincronizó 1 vez, pero no me cogía bien los botones, n"
          ],
          [
           "Fue para un regalo. Y a él le encanto,.Es igual a como se ve en las fotos y a la descripción."
          ],
          [
           "Artículo adecuado a lo visto en la web. Ha sido un regalo original y bonito. Fue entregado con un día de retraso sobre lo previsto"
          ],
          [
           "buena calidad y rapido el envio"
          ],
          [
           "Perfecto igual que la foto la única pega es que está un poquito oscuro me imagino que con el uso diario se irá aclarando"
          ],
          [
           "Lo compré para sustituir el cargador de mi Nintendo DS que está desaparecido en combate. Carga sin problemas la DS a una velocidad aceptable"
          ],
          [
           "Me enviaron otro modelo"
          ],
          [
           "Ponen la foto y descripción de la española, pero en realidad es la versión italiana del juego. Si esa es la forma de actuar de Play consolas"
          ],
          [
           "Es ideal para regalo, no de muy buena calidad, pero cumple con las espectativas"
          ],
          [
           "Calidad media del los pendientes, son un pocos pesados para su tamaño y hay un poco de dificultad al cerrarlos y al abrirlos, en cuanto ha s"
          ],
          [
           "Por el precio no se puede pedir mucho más, pero las piedrecitas se caen enseguida...."
          ],
          [
           "Poca calidad y poca resistencia, dos meses después las pocas que han perdurado han perdido el color."
          ],
          [
           "He estado todo el día en casa esperando que me llegara el paquete, a las 16:30 he bajado a la calle, y cual a sido mi sorpresa el paquete es"
          ],
          [
           "Son muy bonitos pero tal vez un poco más grande de lo que me esperaba. El cierre es de calidad."
          ],
          [
           "Se queda pillado muchas veces"
          ],
          [
           "Es muy fácil de poner y se adapta muy bien al mando. Además es muy bonito"
          ],
          [
           "Compramos este protector (que son láminas de plástico) de las que quedan adheridas a la pantalla. Como las de los móviles. No confundir esta"
          ],
          [
           "Lo único que puedo decir de esta pulsera de plata que nunca recibí esta pulsera pero desde luego lo e pagado y cuando reclame el artículo se"
          ],
          [
           "el pendiente es muy bonito pero el hilo parece ser de calidad muy baja ..."
          ],
          [
           "diseño adecuado a las necesidades"
          ],
          [
           "Hola mea llegado mv que me Loan echado al buzón y cuando e llegado no tenía nada,espero porfavor que me lo en vien gracias"
          ],
          [
           "Pendientes bonitos y baratos, no se ponen negros ni me hacen daño en las orejas, tiene bastante colorido"
          ],
          [
           "Muy mal porque no se me cayo ni nada y se me rompio un casco por dentro como veis en la foto y no suena bien, nunca me paso esto,el caso es "
          ],
          [
           "Esta muy bien, solo que el hueco para los juegos es muy pequeño y no cogen, y si metes el cargador en la funda a penas cierra"
          ],
          [
           "Los más grandes que hay son muy pequeños."
          ],
          [
           "No llegó la entrega del Ratón Gaming y nunca supe porque. Estoy a la espera de la devolución del dinero."
          ],
          [
           "Muy completo. Sera una gran ayuda para empezar con el deporte. No es un sustituto pero si un gran aliado para los que somos un poco mas pere"
          ],
          [
           "Un juego muy divertido para jugar en familia o entre niños. El mío tiene 9 años y se lo pasa en grande."
          ],
          [
           "Los dorados, son demasiado \"falsos\" y pesan bastante"
          ],
          [
           "regalo para un amigo.buscando todo la tienda no hay por fin encontrado en amanzon."
          ],
          [
           "Bonita y con buen acabado"
          ],
          [
           "Si vale para mi psp, que es la primera que salió pero solo dur una hora"
          ],
          [
           "el anillo es bonito pero la cadena te deja el cuello negro"
          ],
          [
           ". Muy bonita, pero el rosa es muy chillon"
          ],
          [
           "Se rompió a los 3 días el cargador del mando"
          ],
          [
           "llegó muy tarde, pasado el plazo de entrega bastante. Es muy pequeña la diadema. El vendedor es amable, siempre responde a los mensajes."
          ],
          [
           "Llegaron perfectamente y antes de tiempo!"
          ],
          [
           "Un ratón que por el precio no se le puede pedir más"
          ],
          [
           "La consola llegó con la caja rota y desprecintada, y con signos de haber sido usada. En estas condiciones, no me ofrece ninguna confianza. S"
          ],
          [
           "Parece plástico barato. En serio, no comprar...Tiene un tacto horrible y es delicada, aunque por el precio no esperaba mucho más"
          ],
          [
           "Todo perfecto, envio rapido y en el tiempo estipulado. Pendientes de buen material, bonitos y a muy buen precio. Tienda recomendable."
          ],
          [
           "Ratón grande y bastante cómodo, he estado usando hasta ahora ratones más pequeños y me ha costado un poco acostumbrarme pero ha merecido la "
          ],
          [
           "Fatal....un engaño. Me ha llegado la versión en italiano, cuando no advertía de esto"
          ],
          [
           "La bolita en sí es bonita pero quizá la esperaba un poco más grande. Como viene en una bolsita transparente y era para regalo busqué una caj"
          ],
          [
           "Por el precio que tiene está muy bien"
          ],
          [
           "Tiene demasiadas luces para mi gusto pero parece que funciona perfectamente. por ahora, por eso no le pongo excelente porque ya se me estrop"
          ],
          [
           "Son preciosos y quedan muy bien"
          ],
          [
           "Vendedor no fiable, compras el producto y no lo envía o no te llega."
          ],
          [
           "Un poco caro para lo que es, vienen grabados solo por una cara, no costaba nada el detalle doble. El detalle friki es lo que tiene"
          ],
          [
           "Espectacular! Justo lo que esperaba. Ha cumplido todas las expectativas y el juego es brutal! Recomendable al 100% para cualquier fan de DBZ"
          ],
          [
           "Es como viene en las fotos. Tener en cuenta que son 4 pulseras separadas que puedes o no ponertelas todas juntas. Todas tienen mucha cuerda "
          ],
          [
           "El articulo está perfecto, como es lógico, y perfectamente ajustado a las especificaciones del anuncio. Con todos sus embalajes originales, "
          ],
          [
           "Problemas logísticos con los puntos de entrega en tiendas y/o particulares, pero Amazon me devolvió el importe sin problema"
          ],
          [
           "Me compré esta edición por tener la trilogía Dark Souls en físico (ya los tenía comprados de la Store). No se que carajo han pensado los de "
          ],
          [
           "Bonito y discreto. Se nota que no es plata, pero no se ve cutre. Un buen detalle para una embarazada."
          ],
          [
           "Muy fina. Su aspecto no es agradable. No me gusta. Es muy fina y parece una cuerda transparente. No lo recomiendo."
          ],
          [
           "Es un abalorio muy bonito, para la pulsera Pandora"
          ],
          [
           "Perfecto para cambiar componentes de móviles o consolas, no todos son torx también son de tres puntas. Utilizado para cambiar batería del iP"
          ],
          [
           "La compré para usarla de tobillera y ha sido imposible. Es muy grande. No se llega a cerrar bien porque acaba cediendo y se agranda, por lo "
          ],
          [
           "La cadena no está mal......el embalaje una vergüenza....una caja usada y sucia que da muy mala impresión."
          ],
          [
           "Un par de semanas de uso y se ha roto, sin darles ningún golpe ni movimiento brusco. Era para una niña, y no se los quita para dormir. Una m"
          ],
          [
           "Igual a la foto,relación calidad precio excelente.Faciles de poner y quitar,se adaptan bien,van con nudo corredizo. Muy satisfecha con la co"
          ],
          [
           "Un buen colgante de buena calidad, y de un gran envío rápido. La única pega es que las dos cadenas se lían entre sí muchas veces, es elegant"
          ],
          [
           "Una gran pieza de coleccionista para los que siguen la saga assassin's,buen tamaño y muy elaborada,muy contento con la compra y la rapidez"
          ],
          [
           "Elegante y fino por el precio que tiene,le encantó a la persona a la que se le regaló, viene en una bolsita de tela."
          ],
          [
           "Esta muy bien, ya que tiene para cargar dos mandos. La play esta refrigerada en todo momento, si tu quieres. Y tiene para poner bien ordenad"
          ],
          [
           "No es justo que te vendan una cosa y te llegue otra, como minimo deben darte lo que te han ofrecido, si lo llego a saber no lo hubiese compr"
          ],
          [
           "Es un juegazo que merece muchísimo la pena tener, con varios añadidos que lo hacen si cabe aún más interesante. Esta versión de switch conti"
          ],
          [
           "Podría ser más barato"
          ],
          [
           "Tamaño perfecto, ni muy grandes ni muy pequeños. Quedan muy bien. Pero despues de 5 meses una de las perlas se ha despegado así que una pena"
          ],
          [
           "2 veces me lo han devuelto y jamas llego. Estoy cansada de pedirlo y que siempre pasa algo que no llega"
          ],
          [
           "Me gusta, pero con este videojuegos tiene que conectar con el Televisión, si no tiene, no se puede para jugar."
          ],
          [
           "Lo esperaba para el día de reyes con Amazon prime y el envío de un día, y me encontré con la gran decepción de que no lo recibí y la persona"
          ],
          [
           "Para un uso no exigente funciona mas que correctamente. Se lo regalé a mi hija y por el momento no me ha puesto ninguna pega. Supongo que lo"
          ],
          [
           "se rompio en nada de lo fino i delicado que es"
          ],
          [
           "El envio ha sido correcto. El collar es bonito pero es poco pequeño. La caja en la que biene se ve consistente y bonita."
          ],
          [
           "Pedí un producto reacondicionado y me llegó con bastantes kilómetros (ya no es reacondicionado, sino de 2ª mano) y la rueda rota (no detecta"
          ],
          [
           "Todavía no he recibido el paquete que me tenía que haber llegado el día 7 de abril ( según ustedes me iba a llegar e:se día ) y estamos a dí"
          ],
          [
           "Muy bonita y de buena calidad. Tiene el peso justo y el tamaño perfecto. No se hace pesada en la mano y queda muy bonita puesta."
          ],
          [
           "La expansión va en un código aparte del disco, ademas de todos los accesorios. Esperando como mucha gente esta edición ''completa'' y no lle"
          ],
          [
           "En cuanto al colgante tal y como aparece en la foto, tanto en diseño como en tamaño. Me gustó porque es más grande de los que encontré en ot"
          ],
          [
           "Son muy bonitos, aunque pequeños en tamaño... Geniales para una chica joven, yo sé los regalé a mi novia y está encantada con ellos."
          ],
          [
           "A mis hijos (7 y 11 años) les encanta y no les da miedo, pero a niños más pequeños quizás sí. Está en inglés pero subtitulado en español."
          ],
          [
           "Pésimo, llegó con tres días de retrato. Y encima no funciona, lo conectas y no hace nada, cambio de puerto usb y nada. Lo devolveré"
          ],
          [
           "Llegó en el tiempo descrito. Todo perfecto y muy acorde con la descripción del articulo. Vendedor recomendable 100 por 100"
          ],
          [
           "Llegaron muy pronto. Son muy bonitas y favorecedoras. Encuentro negativo que la pinza del pelo sea metálica sin forrar y con púas y rozan al"
          ],
          [
           "El collar muy bonito pero venia con una mancha y como lo necesitaba para el dia 14 de febrero no había margen de que pudieran solucionarme e"
          ],
          [
           "Me gusta mucho el diseño, es muy bonito"
          ],
          [
           "Los compré junto con el juego de Mario Kart y de momento todo bién, nada que envidiar a los de Nintendo."
          ],
          [
           "La cadena es preciosa, las fotos no le hacen justicia."
          ],
          [
           "Demasiado pequeños, en la foto parecían mas grandes"
          ],
          [
           "Los compre con toda la ilusión y cuando llegan son bonitos pero dudo mucho que lleven Swarovski, pides un certificado (por que no lo trae) y"
          ],
          [
           "Es un juguete para mi hijo q ha cubierto todas sus expectativas."
          ],
          [
           "Buen cierre y buen material"
          ],
          [
           "para que se compra la tarjeta si tengo que descargar 15 GB? la gráfica no es lo que se esperaba...demasiado pobre. Y el tiempo de carga es m"
          ],
          [
           "Hace su funcion , pero par ami gusto no tiene un tacto agradable"
          ],
          [
           "Todo ha sido perfecto."
          ],
          [
           "Pulseras muy chulas tienen calidad aunque tiene un problema se abren con el movimiento y puedes llegar a perderlas yo compre tres y me queda"
          ],
          [
           "LLevo mucho tiempo comprando en Amazón y nunca me había pasado una cosa así. Como a otros usuarios, después de esperar meses hasta el 23 de "
          ],
          [
           "Todo correcto, nada que reseñar"
          ],
          [
           "La pulsera es preciosa, la presentación ideal y las piedras de buena calidad. Era un regalo para mi abuela y le encantó."
          ],
          [
           "El micro es de baja calidad y los demás dicen que se escucha ruidos y no se escucha bien con los otros auriculares no me pasa y no tengo con"
          ],
          [
           "Un poco pequeños no me. Los puedo poner"
          ],
          [
           "Nueva entrega de la saga a precio regalado !"
          ],
          [
           "He pedido este mando como adicional a la Nintendo Nes que solo trae uno y simplemente al conectarlo no hace nada, no funciona ninguno de los"
          ],
          [
           "Dicen que me lo han entregado y yo no he recibido nada y además no tienes donde reclamar."
          ],
          [
           "Para un rato vale,pero no agarra mucho y para juegos d combos con giros rápidos de jostik no vale"
          ],
          [
           "Desde febrero que lo compre y todavía no ha llegado me ponía el 14 de mayo y todavía y no llego ahora el 18 de abril y tampoco ha llegado es"
          ],
          [
           "Muy buenos gráficos, muy real. Vale la pena."
          ],
          [
           "El Tamaño es lo mas importante ni muy pequeño ni muy Grande es el IDEAL. De momento se ve resistente y no se estropea con el Uso."
          ],
          [
           "Creo q no son de plata, pero si son favorecedores."
          ],
          [
           "No pude arreglar el mando"
          ],
          [
           "Los botones se quedan atascado al poco de empezar a usarle. Muy mala calidad los botones no valen para nada"
          ],
          [
           "a los 3 meses se me rompio el jostick y es imposible jugar xd. Se nota que los materiales son malos pero por el precio q tiene no puedes ped"
          ],
          [
           "Tal y como esperaba, llegó realmente pronto, antes de lo esperado."
          ],
          [
           "No opinión no es contra el juego ya que ni me a llegado. Cancele el pedido por la poca profesionalidad que tienen en entregar los paquetes. "
          ],
          [
           "La variedad de pistas que tiene es alucinante peor los niveles son bastante chungos"
          ],
          [
           "Personalmente a penas se nota diferencia alguna respecto Al original. Sigue con los mismos problemas de control. Aún así es muy recomendable"
          ],
          [
           "Se trata de un videojuego, por lo que es muy sencillo de valorar. El envío se produjo en tiempo y forma adecuados, así como el embalaje. El "
          ],
          [
           "Fue para un regalo y le encantó"
          ],
          [
           "Muy repetitivos, poca variedad. Pero el material de buena calidad"
          ],
          [
           "Los artículos cumplen todas mis expectativas"
          ],
          [
           "Bastante pobre. A la semana ya se ha pelado. Esperaba algo más de calidad. No recomendable"
          ],
          [
           "Esta muy bien me gusta muchísimo y esta en muy buen estado"
          ],
          [
           "No me ha gustado el juego."
          ],
          [
           "Ha venido sin el llavero anunciado en la promoción, q me da exactamente igual, para elque le importe ojo."
          ],
          [
           "No es lo que esperaba, el modo historia es bastante inflexible. No comparable al GTA."
          ],
          [
           "no lo recomiendo , la piedra de uno de los pendientes se cayó el segundo dia"
          ],
          [
           "No me ha gustado que no sea rigida porque protegen mejor."
          ],
          [
           "Juego en español, envío rápido"
          ],
          [
           "El producto ha llegado antes de lo previsto, me ha gustado su calidad es más pequeño de lo esperado pero me gusta. Vale la pena."
          ],
          [
           "Supuestamente yo había comprado una edición física del juego, cuando abro la caja me encuentro solo con el código de origin, no traía el dis"
          ],
          [
           "Son muy cañeros, está acolchado por todo el arco de la cabeza y las orejas, se puede adaptar y no pesan mucho, me va muy bien en Nintendo Sw"
          ],
          [
           "No lo he recibido. Aun estoy interesada pero no lo he recibido. Si se puede hacer algo. gracias un saludo"
          ],
          [
           "Aunque las gafas funcionan perfectamente, en la caja faltaban los auriculares y el vendedor no contesta a mis mensajes, la caja también esta"
          ],
          [
           "No me llega. La empresa me da largas."
          ],
          [
           "Tiene unos gráficos preciosos, muy real, a mi hijo no es el juego que más le gusta pero merece la pena echar el ratillo."
          ],
          [
           "Decepcionado cada vez que he pedido en amazon de 10 pedidos 7 en mal estado o rotos.y lo peor que el que se tiene que preocupar de la devolu"
          ],
          [
           "Mi producto se ha retrasado y deseo que llegue lo más pronto. Gracias"
          ],
          [
           "son unos estafadores llevo esperando la devolución del dinero mas de un mes y no contestan a nadaa y antes de la devolución estuve esperando"
          ],
          [
           "Una puta mierda que no me llegó."
          ],
          [
           "El colgante muy pequeño,casi ni se ve"
          ],
          [
           "Las pegatinas no encajan totalmente, pero al ser mi ps4 blanca, los bordes que dejan las pegatinas quedan en blanco y mola mucho... Pero deb"
          ],
          [
           "Queda fenomenal muy bonito puesto"
          ],
          [
           "Muy bonito, viene envasado en una cajita; puntas redondeadas para que no se enganche en la ropa, producto de buena calidad. Tamaño perfecto"
          ],
          [
           "Mala calidad, en menos de un mes se me comenzaron a desmontar todas las piezas del llavero. Me decepciono bastante."
          ],
          [
           "No me ha llegado la recompensa de reserva"
          ],
          [
           "el colgante esta bastante bien,viene con las dos cadenas para cada parte del colgante y una extra de repuesto,viene con una especie de bolsi"
          ],
          [
           "La caja en si está bien, pero el vidrio vino sucio y está rayado así como partes de la caja que también presentan rayaduras. Las almohadilla"
          ],
          [
           "Junto con un Logitech G403 desconozco realmente si debería permitir que se deslizara un poco el cable o únicamente lo debe dejar fijado. Lo "
          ],
          [
           "Pierde brillo,mala calidad.engaño"
          ],
          [
           "son bastante bonitos, aunque pequeños. Son ligeros, no pesan nada. Los colores son tal y como aparecen en la foto, cobre y dorado. me han gu"
          ],
          [
           "Me encanta cómo quedan los vegetales aquí, especialmente para hacer espaguetis de calabacín"
          ],
          [
           "Todo,el artículo es una pasada,y lo han entregado el día que me dijeron."
          ],
          [
           "Cumple de sobras por el precio"
          ],
          [
           "Es un conjunto de bisutería con una buena relación calidad y precio, que ha cumplido gratamente con lo que yo quería"
          ],
          [
           "Pues eso a dejado de funcionar,después de funcionar perfecto, lo malo es que la caja no la tengo a si que me lo como,tres meses me duró le e"
          ],
          [
           "Muy bonitos y mejor calidad de lo que esperaba. Los llevo todos los días y me encantan. Muy contenta con la compra"
          ],
          [
           "Ofrece mucho ruido de ventiladores y poca potencia más que su hermana \"pequeña\""
          ],
          [
           "El juego trae la caratula en italiano. Además, no trae el libro de instrucciones, y es algo que me ha extrañado y más siendo un juego nuevo."
          ],
          [
           "El artículo cumple y por el precio no hay nada mejor, vendedor muy atento."
          ],
          [
           "Juegazo para el que le encanta la NBA, a parte de qué el producto ha llegado perfecto y la entregada ha sido puntual."
          ],
          [
           "El juego lo compré de segunda mano, funciona perfectamente, sin rayajos, pero no le doy cinco estrellas por la capa de porquería que traía e"
          ],
          [
           "No he recibido el artículo."
          ],
          [
           "Fue un regalo para mía hijo y funciona perfectamente y está bastante entretenido"
          ],
          [
           "Aun no me ha llegado, sigo esperando los pendientes. La fecha que aparece no ha sido entregado todavía. Ya no me va a llegar?"
          ],
          [
           "el collar es precioso, viene muy bien preparado en una caja de buena calidad, y dentro trae un certificado de que la piedra que trae es de s"
          ],
          [
           "Son como me esperaba no me ha decepcionado nada"
          ],
          [
           "La pintura dorada no está bien, tiene manchas. Por lo demás correcto"
          ],
          [
           "Blister y envoltura algo deteriorados. Artículo no en perfectas condiciones."
          ],
          [
           "Necesito q me llegue antes del 20 de julio porque es para una boda...será posible? La es el fin de semana a seguir"
          ],
          [
           "Funciona a la perfección, tiene la distribución de xbox y conecta con el receptor inalámbrico de xbox. Como contra viene sin ningún accesori"
          ],
          [
           "El producto ha venido con solo una pegatina de precinto y la marca de 2 más, pero sin las pegatinas... el producto se nota que ha estado fue"
          ],
          [
           "Muy lenta la entrega"
          ],
          [
           "La pantalla no está mal, la autonomía es un poco justa, pero pudiéndolo enchufar mientras se usa, se solventa el problema. El procesador que"
          ],
          [
           "no son lo que aparece en la foto, aunque lo entiendo por el precio que tienen, de momento no me interesan"
          ],
          [
           "El diseño muy bonito pero cuando vino sólo me cargaba uno lo tube que devolver pedi otro modelo."
          ],
          [
           "Tal cual la foto. Favorecedores. La plata muy baja"
          ],
          [
           "Producto Correcto y buen servicio"
          ],
          [
           "Estoy disfrutando a tope volviendo a jugar este clásico que ya me había acabado en la PS2. Y es igual, salvo por algunas pequeñas diferencia"
          ],
          [
           "Me ha gustado mucho. Cumple totalmente las expectativas de compra. El envio fué correcto. Resulta resistente y de buena calidad."
          ],
          [
           "Golpes en la caja, un embalaje muy muy pésimo y manipulada, está completamente abierta la caja, hay otros comentarios que hablan de lo mismo"
          ],
          [
           "El producto no llegué a recibirlo. Después de esperar más de un mes."
          ],
          [
           "Entretenida...sin más detalles..mucho juego..pero sólo me han gustado un par de ellos"
          ],
          [
           "Se despega...no hemos hecho buena compra...no nos ha gustado"
          ],
          [
           "Muy util sobretodo las anillas con la talla del anillo para comprar anillos por internet"
          ],
          [
           "Funciona perfectamente. Lo pedí blanco pero me llamaron para decirme que no lo había que tenía que ser negro. Me llegó en dos días a casa. E"
          ],
          [
           "Tengo 3 juegos game boys, y el cable no entra en ninguno"
          ],
          [
           "Mas pequeños de lo que imaginaba pero son bonitos y comodos. El cierre es un poco complicado pero parece seguro."
          ],
          [
           "Muy mala calidad, no pienso comprar mas en Amazon, prefiero comprar en otras web mas serias que no engañen al cliente con fotos"
          ],
          [
           "Buscaba un título del estilo de Uncharted y la verdad que este juego cumple con lo que esperaba, aventuras y acción en tercera persona, con "
          ],
          [
           "Son bonitos, para el precio que tienen no está nada mal."
          ],
          [
           "Aunque el colgante es muy bonito, tengo que decir que lo que echa para atras el producto es la cadena, puesto que al ser tan fina es muy pro"
          ],
          [
           "Me encanta el diseño. Pero son muy frágiles, se doblan fácilmente."
          ],
          [
           "Genial, muy muy rapido, en un día en casa, la inscripción casi hace falta microscopio pero por lo demas bien."
          ],
          [
           "Muy bonitos y variados !!Buen acabado, son finos..y genial por precio , por los 4 Ideales para regalar!! Quedas genial 👍"
          ],
          [
           "El ala es muy grande..pero no es todo eso..ojalá. me vino con un colgante o estuvo recortado o eso solo vale para que quepa a una cabeza peq"
          ],
          [
           "Funcionan realmente bien con mi raspberry pi 3 lo utilizo con recalbox pero cuando paso a kodi se vuelve un poco loco"
          ],
          [
           "Fácil colocación, pero con un uso normal de un menor se raya fácilmente perdiendo visibilidad"
          ],
          [
           "El vendedor me ha dejado colgada!!!. Cuando faltaba poco para tener que recibirlo me ha hecho un reenvolso. Era el regalo de Papa Noel de mi"
          ],
          [
           "Me mandaron otro juego ...no este."
          ],
          [
           "Producto conforme a la foto"
          ],
          [
           "Es un producto que cumple su función, ahora la calidad deja mucho que desear, constantes interrupciones y desconexiones..."
          ],
          [
           "Es de bastante calidad, la descripción se ajusta al producto, puedes meter varias tarjetas, y aguanta el compartimento de monedas bastante b"
          ],
          [
           "es un juego para wii you funciona sin problemas el precio es mas barato que en tiendas físicas y encima no hay que hacer colas un alivio"
          ],
          [
           "Me ha llegado todas las orejitas de gato desplegadas he tenido que cocer las la verda tener más cuidado con lo que envían falta todo de verd"
          ],
          [
           "Las perlas de los pendientes son de distinta tonalidad que la del colgante. Y poco brillo. Parecen plástico."
          ],
          [
           "Queda muy bonito y fino"
          ],
          [
           "El producto llego incompleto. Faltaba el código de activación del juego. Intente pedirlo a través de la página de amazon y lo único que pued"
          ],
          [
           "A mí personalmente estos muñequitos no me gustan, pero como era un regalo para mi hija.... Ella muy contenta con la armadura especial que da"
          ],
          [
           "Muy bonito y muy tal pero lo cierto es que se despegó la piedra a las semanas .."
          ],
          [
           "No me ha gustado nada. Los colores son muy pálidos. El que yo he recibido no tiene nada que ver con el de la foto. Esperaba otra cosa."
          ],
          [
           "Muy bien, todo como lo pedí y exacto. Preciso colgante, ok ok ok ok ok ok ok ok ok ok"
          ],
          [
           "muy bonito y llego a tiempo"
          ],
          [
           "la foto de la propaganda no corresponde al original, una decepción, deja marcas negras, muy baja calidad"
          ],
          [
           "El mando esta muy bien para jugar ya sea en pc o play station 3 o 4 y en el caso del pc es simplemente plug and play"
          ],
          [
           "Lo que buscaba a un precio mas que reducido. De lo que me tengo que quejar y con razón es del transporte. A parte de que la caja venía con s"
          ],
          [
           "No me gustan por el sonido y que lleva el volumen en el cable y no en los cascos que es más conodo y le quita peso al cable"
          ],
          [
           "No entran las tuercas en los pendientes, no vuelvo a comprar nada así en Amazon."
          ],
          [
           "Es un buen juego pero para quien le guste esta clase de juegos. Es casi igual a los primeros juegos de Nintendo DS."
          ],
          [
           "No me llega el producto hasta cuando tengo. Q esperar"
          ],
          [
           "Puntualidad en la entrega"
          ],
          [
           "Colgante de calidad dudosa. El cierre de la cadena no cierra bien y el colgante tiene unos acabados horrorosos y con rayaduras..."
          ],
          [
           "El producto llego en perfectas condiciones, tal cual se especifica y en el tiempo estimado. Hay que estar muy seguro de la medida, para no e"
          ],
          [
           "Pésimo el juego la rapidez del servicio lo k vale la pena"
          ],
          [
           "Para mi gusto las bolas deberían ser más pequeñas, dependiendo el gusto de cada uno. La calidad es bastante buena para el precio que tiene"
          ],
          [
           "No puede ser más malo, endeble, rasposo, nada que ver con la imagen"
          ],
          [
           "dia 22 y no llego , no puedo opinar pues no lo recibi , de momento fatal en la entrega"
          ],
          [
           "No me gusto peor que a los chino"
          ],
          [
           "Buen juego llevado a portátil que permite jugarlo de muy buena forma"
          ],
          [
           "La calidad de las últimas figuras de amiibo esta muy bien, buen servicio de amazon un 10, el dia que salian las tenia en casa, perfectamente"
          ],
          [
           "Todo correcto, de momento todo funciona como esperaba. El contenido estaba completo y aunque la caja estaba rota por fuera parece que por de"
          ],
          [
           "Ligeros, cómodos, fácil de conectar y buen sonido"
          ],
          [
           "hola el juego esta bien llego a su hora pero no tengo la clave para activarlo no la trae si alguien me puede alludar"
          ],
          [
           "En cuanto me llegó me lo puse y no ha durado ni una semana, sin hacerle nada se ha roto por la mitad"
          ],
          [
           "Esta bien pero falta el cordon o cadena"
          ],
          [
           "No esta mal pero me esperaba que fuera mas gruesa. Casi no la uso porque para lo que precisaba no me es útil."
          ],
          [
           "Es como en la imagen, el tacto agradable y encaja bien. Viene con los accesorios de la imagen y es rugoso para que no resbale."
          ],
          [
           "Muy comodo para moverte por el menu de neflix en la consola, luces en las teclas! genial!!"
          ],
          [
           "nunca llego el producto, asi que no puedo decir nada malo de el, pero.... la tienda... me parece poco responsable a la hora de los envios."
          ],
          [
           "No puedo valorarlo. Lo compre para mi nieto. Llego en perfecto estado a pesar que.esta contentísimo con el a pesar que no era nuevo, funcion"
          ],
          [
           "La pulsera está bien, el problema es que la piedra es falsa."
          ],
          [
           "Entretenida campaña. Al precio que está en este momento es una buena opción para distraerse entre títulos más densos. Gráficamente es correc"
          ],
          [
           "Es muy oscuro el juego y simple"
          ],
          [
           "Me gusta el color y no se me resbala de las manos después de mucho uso cumple mis espectativas de uso."
          ],
          [
           "Un producto que de 80€ baja cada dos por tres, ahora mismo esta a 25€, mucho mas barato que cuando lo compre, un cachondeo o que es muy malo"
          ],
          [
           "Juego entretenido, que se puede jugar en pareja con todos los personajes de la saga y la trama de todas las películas."
          ],
          [
           "De rosa no tiene nada, parece cuarzo blanco."
          ],
          [
           "El anillo es perfecto pero le queda algo grande La talla 18 seria perfecta si pudieran poner la talla de nuevo lo compraria"
          ],
          [
           "Es bonita, lo que no me gusta es que, si por ejemplo quieres llevar la piedra blanca, que se gire sola y se ponga azul.."
          ],
          [
           "El juego bien, el transporte por seur caca"
          ],
          [
           "Corto, con una jugabilidad casi nula, mala deteccion de movimientos con los ps move.... El juego es un desproposito, jugar, ni juegas, solo "
          ],
          [
           "El juego es muy bonito pero no está en español tal y como reseña"
          ],
          [
           "Esta bien,fue un regalo"
          ],
          [
           "La verdad lo he devuelto pues cuando lo compré no tenía gastos de envío y me lo han cobrado y era casi del mismo precio del el artículo y si"
          ],
          [
           "Es un juego para pasar el rato,de esos que te pones,le echas unas cuantas horas de vicio y nada más.Lo único que tiene de interesante este j"
          ],
          [
           "Es un colgante precioso. La cadena es muy finita. Parece de buena calidad y puesto queda muy bien."
          ],
          [
           "En la foto parece que la cadena sea más gruesa, es muy fina..pero para el precio, pues bien, veremos lo que dura.."
          ],
          [
           "Bien por su precio, la cadena demasiado fina."
          ],
          [
           "Muy bien!! Ahora tengo organizados los pendientes!!!"
          ],
          [
           "Las tapas para los joystics no están nada mal, ayudan un montón cuando el joystic original está reventado, pero si juegas al fifa con tu ami"
          ],
          [
           "Mi primer impulso fue ponerlo a la venta nada más probarlo. Historia sin atractivo, gráficos peores que el 3, no entendí qué había que hacer"
          ]
         ],
         "hovertemplate": "X=%{x}<br>Y=%{y}<br>texto=%{customdata[0]}<br>cluster=%{marker.color}<extra></extra>",
         "legendgroup": "",
         "marker": {
          "color": [
           9,
           8,
           10,
           7,
           7,
           7,
           3,
           1,
           3,
           8,
           1,
           3,
           7,
           4,
           5,
           1,
           3,
           7,
           3,
           11,
           1,
           1,
           1,
           11,
           7,
           5,
           1,
           9,
           0,
           0,
           1,
           9,
           9,
           1,
           1,
           8,
           0,
           7,
           1,
           5,
           6,
           0,
           1,
           3,
           11,
           7,
           1,
           7,
           1,
           0,
           10,
           1,
           7,
           7,
           0,
           11,
           7,
           1,
           1,
           9,
           10,
           1,
           1,
           1,
           7,
           2,
           8,
           7,
           8,
           10,
           5,
           8,
           0,
           3,
           1,
           11,
           11,
           11,
           7,
           2,
           1,
           11,
           1,
           8,
           1,
           7,
           1,
           1,
           7,
           6,
           0,
           7,
           1,
           8,
           1,
           1,
           1,
           0,
           1,
           5,
           0,
           1,
           1,
           8,
           1,
           2,
           1,
           5,
           1,
           1,
           4,
           1,
           1,
           1,
           7,
           0,
           7,
           7,
           1,
           11,
           0,
           4,
           7,
           2,
           1,
           9,
           7,
           10,
           8,
           6,
           6,
           3,
           4,
           1,
           4,
           3,
           2,
           7,
           2,
           3,
           3,
           1,
           5,
           4,
           7,
           3,
           0,
           1,
           0,
           1,
           1,
           7,
           9,
           1,
           1,
           1,
           9,
           1,
           0,
           1,
           1,
           7,
           7,
           1,
           10,
           1,
           3,
           1,
           7,
           1,
           0,
           1,
           7,
           7,
           1,
           9,
           3,
           7,
           4,
           6,
           1,
           3,
           11,
           6,
           1,
           1,
           6,
           0,
           1,
           0,
           2,
           1,
           3,
           1,
           3,
           1,
           1,
           8,
           10,
           9,
           2,
           10,
           11,
           1,
           3,
           8,
           1,
           1,
           1,
           7,
           8,
           5,
           6,
           1,
           1,
           6,
           7,
           6,
           1,
           5,
           1,
           8,
           1,
           10,
           3,
           1,
           6,
           1,
           4,
           7,
           7,
           0,
           10,
           1,
           1,
           2,
           1,
           5,
           1,
           6,
           11,
           1,
           8,
           7,
           1,
           1,
           1,
           1,
           1,
           7,
           1,
           1,
           1,
           1,
           9,
           11,
           1,
           11,
           10,
           0,
           3,
           7,
           8,
           1,
           0,
           1,
           1,
           10,
           10,
           0,
           1,
           2,
           7,
           0,
           1,
           9,
           4,
           9,
           10,
           1,
           3,
           4,
           7,
           11,
           1,
           3,
           10,
           9,
           2,
           2,
           1,
           4,
           11,
           1,
           7,
           1,
           8,
           6,
           8,
           1,
           9,
           1,
           7,
           7,
           0,
           1,
           3,
           8,
           1,
           1,
           7,
           6,
           1,
           0,
           1,
           3,
           1,
           1,
           6,
           2,
           6,
           10,
           7,
           8,
           10,
           9,
           7,
           0,
           1,
           1,
           1,
           1,
           1,
           0,
           1,
           6,
           7,
           3,
           1,
           1,
           0,
           7,
           10,
           7,
           0,
           3,
           1,
           1,
           9,
           1,
           7,
           11,
           8,
           0,
           1,
           3,
           1,
           3,
           11,
           11,
           1,
           1,
           0,
           2,
           7,
           4,
           1,
           3,
           1,
           8,
           0,
           0,
           7,
           1,
           1,
           7,
           3,
           7,
           6,
           10,
           8,
           7,
           1,
           7,
           0,
           11,
           1,
           0,
           7,
           5,
           1,
           1,
           10,
           7,
           11,
           10,
           0,
           1,
           4,
           4,
           7,
           5,
           1,
           2,
           1,
           8,
           1,
           0,
           1,
           8,
           7,
           9,
           7,
           11,
           6,
           0,
           1,
           1,
           1,
           1,
           7,
           1,
           4,
           7,
           7,
           7,
           0,
           10,
           2,
           1,
           1,
           1,
           7,
           1,
           3,
           7,
           7,
           11,
           1,
           1,
           1,
           2,
           7,
           3,
           0,
           1,
           7,
           1,
           5,
           3,
           7,
           1,
           5,
           10,
           1,
           11,
           10,
           10,
           10,
           1,
           7,
           10,
           0,
           1,
           7,
           1,
           1,
           7,
           7,
           3,
           4,
           1,
           10,
           5,
           1,
           1,
           8,
           0,
           1,
           0,
           2,
           7,
           5,
           7,
           7,
           1,
           1,
           3,
           1,
           10,
           7,
           6,
           3,
           3,
           1,
           5,
           3,
           3,
           2,
           3,
           1,
           8,
           1,
           7,
           1,
           7,
           7,
           1,
           1,
           11,
           1,
           4,
           3,
           8,
           11,
           8,
           9,
           1,
           3,
           6,
           1,
           11,
           2,
           2,
           1,
           0,
           0,
           1,
           11,
           1,
           9,
           7,
           1,
           1,
           9,
           1,
           1,
           1,
           1,
           9,
           1,
           1,
           1,
           4,
           10,
           1,
           9,
           10,
           1,
           7,
           1,
           2,
           9,
           1,
           1,
           0,
           3,
           1,
           10,
           6,
           0,
           1,
           0,
           1,
           7,
           1,
           1,
           1,
           1,
           1,
           9,
           1,
           0,
           1,
           10,
           1,
           7,
           5,
           10,
           10,
           9,
           2,
           0,
           0,
           7,
           1,
           3,
           10,
           1,
           1,
           10,
           0,
           10,
           10,
           1,
           7,
           4,
           1,
           3,
           4,
           1,
           1,
           2,
           1,
           0,
           0,
           1,
           9,
           10,
           1,
           7,
           1,
           9,
           6,
           8,
           1,
           1,
           10,
           5,
           8,
           1,
           7,
           9,
           1,
           1,
           1,
           1,
           5,
           7,
           1,
           1,
           3,
           5,
           1,
           1,
           9,
           7,
           10,
           5,
           7,
           1,
           1,
           8,
           1,
           2,
           1,
           3,
           1,
           8,
           9,
           1,
           1,
           10,
           1,
           1,
           1,
           2,
           1,
           0,
           9,
           1,
           1,
           2,
           3,
           7,
           7,
           1,
           1,
           6,
           1,
           1,
           8,
           7,
           7,
           2,
           4,
           3,
           0,
           11,
           1,
           1,
           10,
           8,
           7,
           0,
           1,
           1,
           2,
           1,
           9,
           1,
           8,
           1,
           0,
           1,
           7,
           0,
           1,
           1,
           7,
           11,
           1,
           7,
           1,
           1,
           1,
           1,
           11,
           10,
           8,
           4,
           7,
           0,
           3,
           0,
           1,
           1,
           8,
           1,
           7,
           7,
           3,
           1,
           3,
           7,
           1,
           10,
           1,
           1,
           10,
           3,
           8,
           7,
           3,
           1,
           10,
           3,
           1,
           7,
           7,
           7,
           9,
           8,
           1,
           1,
           0,
           9,
           3,
           3,
           1,
           1,
           2,
           6,
           7,
           7,
           1,
           7,
           1,
           1,
           2,
           7,
           7,
           2,
           1,
           1,
           0,
           1,
           1,
           11,
           1,
           4,
           1,
           10,
           1,
           1,
           3,
           1,
           3,
           11,
           10,
           1,
           6,
           3,
           1,
           7,
           1,
           1,
           0,
           1,
           8,
           1,
           1,
           7,
           1,
           7,
           8,
           7,
           4,
           1,
           3,
           9,
           11,
           4,
           7,
           1,
           10,
           1,
           2,
           1,
           1,
           1,
           3,
           1,
           7,
           1,
           1,
           6,
           1,
           7,
           2,
           0,
           1,
           8,
           1,
           7,
           7,
           0,
           4,
           2,
           10,
           5,
           11,
           1,
           1,
           8,
           6,
           1,
           1,
           9,
           1,
           2,
           3,
           10,
           1,
           1,
           1,
           1,
           6,
           1,
           10,
           3,
           3,
           1,
           0,
           1,
           10,
           0,
           4,
           9,
           1,
           3,
           11,
           0,
           1,
           1,
           1,
           10,
           0,
           1,
           0,
           1,
           1,
           1,
           1,
           5,
           1,
           1,
           1,
           1,
           7,
           1,
           6,
           9,
           3,
           1,
           7,
           7,
           3,
           3,
           2,
           1,
           1,
           3,
           9,
           8,
           2,
           1,
           0,
           3,
           8,
           0,
           1,
           5,
           1,
           9,
           1,
           7,
           1,
           1,
           1,
           1,
           1,
           1,
           3,
           7,
           1,
           11,
           1,
           9,
           7,
           1,
           0,
           9,
           1,
           1,
           1,
           2,
           3,
           0,
           2,
           4,
           1,
           7,
           11,
           6,
           7,
           1,
           5,
           0,
           1,
           3,
           7,
           0,
           1,
           1,
           6,
           0,
           0,
           7,
           1,
           1,
           7,
           3,
           10,
           3,
           1,
           1,
           11,
           1,
           1,
           4,
           1,
           0,
           9,
           1,
           1,
           1,
           11,
           11,
           1,
           11,
           0,
           1,
           4,
           1,
           7,
           10,
           1,
           8,
           7,
           9,
           0,
           1,
           1,
           0,
           1,
           6,
           1,
           0,
           0,
           0,
           7,
           3,
           0,
           9,
           4,
           4,
           7,
           10,
           1
          ],
          "coloraxis": "coloraxis",
          "symbol": "circle"
         },
         "mode": "markers",
         "name": "",
         "orientation": "v",
         "showlegend": false,
         "type": "scatter",
         "x": [
          0.4865477545159539,
          -0.10659499355782934,
          -0.07106738880378792,
          0.031708873479479524,
          0.01654599507238659,
          -0.04265788985565912,
          0.18055578869097832,
          -0.061417317848619264,
          0.11466472460003642,
          -0.05872001853000848,
          -0.039868294752697694,
          0.09381302131438983,
          -0.006808764719635707,
          0.04711592625365552,
          -0.02897310027819473,
          -0.04292787363773837,
          0.0562935636173512,
          -0.019841993891475833,
          0.5270126173689775,
          -0.0299200322683061,
          -0.049854118469513514,
          -0.031654524155788975,
          -0.04424281982985367,
          -0.03205941529847921,
          0.08313112032686491,
          -0.03637924797313463,
          -0.05047054077336455,
          0.22150595824954,
          -0.06797071899539801,
          -0.03853244688211502,
          -0.06385461482261456,
          0.8405306661586942,
          0.11110316143090379,
          -0.041017844128519255,
          -0.0396674370082297,
          -0.08610122763173846,
          -0.03227917848864938,
          -0.04781586619994656,
          -0.0451723837758798,
          -0.04982673175576595,
          -0.02270927471300079,
          -0.072986232482946,
          -0.03435139498223122,
          0.07818553252168309,
          0.07212190468296288,
          0.11274779951021163,
          -0.04358951305277806,
          -0.03617586197520037,
          -0.060746566554897824,
          -0.04779052491070063,
          0.026866130709150705,
          -0.04667731404937522,
          0.05477768828200925,
          0.026110758124280962,
          -0.07650868194540027,
          0.046719432160522475,
          0.03053212345235792,
          -0.04526977896108002,
          -0.0503469064346877,
          0.29898864683463366,
          -0.05373776599136268,
          -0.044666338987996976,
          -0.047884855899465534,
          -0.04175275259338965,
          0.10207068476623721,
          -0.02681030635849713,
          -0.08991018847397417,
          -0.007620917492058822,
          -0.056236309289869266,
          0.060727721214482375,
          -0.12936703802205113,
          -0.09119411796149694,
          -0.06758741516863383,
          0.2621270171675965,
          -0.054359062238283434,
          -0.04052112769590372,
          -0.009213536776903534,
          0.09728930896979873,
          -0.03171297150279838,
          0.013433088392951601,
          -0.04667391397414064,
          0.28168641494313545,
          -0.03164024401397341,
          0.025845308107002612,
          -0.04245268177319217,
          0.08321702475984318,
          -0.034554416921445515,
          -0.035714755474758934,
          0.031366273695833606,
          -0.036859520908491504,
          -0.022328519915813003,
          0.03667769741750337,
          -0.06170348647814244,
          -0.02340055229441164,
          -0.057570613412570006,
          0.041772601266983164,
          0.019918689996912303,
          -0.05653119559601523,
          -0.06293272537780872,
          -0.12348793577857911,
          -0.07410363534723376,
          -0.03313049798586711,
          -0.009902646674505742,
          -0.0565406550162965,
          -0.04146967678073437,
          -0.03198718998015797,
          -0.04497484016989661,
          -0.009980189240936587,
          -0.053849566750470736,
          -0.021486945890545953,
          -0.00832141121897879,
          -0.03340054557520467,
          -0.042335933474136396,
          -0.039908593190687854,
          0.011990373975474264,
          -0.03706618198979145,
          0.04940731279196061,
          0.020329238077102865,
          -0.05948851222383362,
          0.011834865699023566,
          -0.04362165254972697,
          -0.017444083347433602,
          0.12066221626397833,
          -0.04199042121029611,
          -0.055724554453296576,
          0.15707535140839843,
          -0.050210042979289334,
          0.059549385146437886,
          -0.07299523824356313,
          0.07651712197274764,
          0.046775865730785675,
          0.7408996354081487,
          -0.03041523771628475,
          -0.06453611323537659,
          0.003379645275237541,
          0.1635565380373522,
          0.09372841111771231,
          -0.05010365431745715,
          -0.03302457911831821,
          0.13144682429131962,
          0.16926978605503007,
          -0.0431415263807789,
          -0.07679838579686762,
          0.0025848538725182237,
          -0.0000032366644381675184,
          0.13111043791026178,
          -0.06838716617029918,
          -0.026868320014604815,
          -0.047320166785994766,
          -0.0477181519244169,
          -0.03479627046821937,
          0.040345627105408885,
          0.0836099649693144,
          -0.042916566862919885,
          -0.03696670628356901,
          -0.04739373621011383,
          0.6659200652088286,
          -0.07580149953751811,
          -0.08170592942843688,
          -0.044289122197457176,
          -0.036592477734315086,
          -0.01169145145276277,
          0.00027386132889300563,
          -0.06416085193256396,
          -0.02525029073655961,
          -0.04997963148126898,
          0.15730666396487883,
          -0.041508998360886624,
          0.03047731284046353,
          -0.047171767413684916,
          -0.0722919719131021,
          -0.09970633890074909,
          0.008732764548115134,
          0.1382672641684599,
          -0.03205495489969523,
          0.0996109954181156,
          0.22040286329691577,
          0.1578534139929687,
          0.047578648161093404,
          -0.040838981720449224,
          -0.014920870968103106,
          0.1772885410225303,
          -0.042445507357423216,
          0.18446674422201884,
          -0.07866424922297828,
          -0.04347974891869007,
          -0.028467286322559033,
          -0.05316750684863906,
          -0.02944695764290733,
          -0.007370557129576745,
          -0.031196092226420304,
          -0.029509539541444946,
          0.07460303391202722,
          -0.07947689066410586,
          0.33532584911228025,
          -0.04038946029920728,
          -0.016059741968415035,
          -0.08074800657968233,
          -0.02310467481068105,
          0.2293519528782485,
          -0.0433146939084403,
          -0.04054387124113609,
          0.08950960672682595,
          -0.037257629201407565,
          0.025749487822799837,
          -0.10547288815946927,
          -0.059155218596179615,
          -0.06408619803030847,
          -0.06332812904478288,
          -0.02184510237092045,
          -0.10658056001683626,
          -0.05916636446268579,
          -0.027144660875983762,
          -0.05732867643037835,
          -0.043550597260635975,
          -0.03275159301237121,
          0.014087797542596255,
          0.044471046918173794,
          -0.05143859020573991,
          -0.058064640313000314,
          -0.054956794668414966,
          -0.11654426677276349,
          -0.08479002364566085,
          0.09232668660152282,
          0.3164340583137162,
          -0.035390941961719914,
          0.13977413329781943,
          -0.032532199903890904,
          0.07145638969959285,
          -0.017410830696382846,
          0.06743911407296864,
          -0.06041952707362258,
          0.05787883315559946,
          -0.04969817863436423,
          -0.040316223434923096,
          0.1894303663560267,
          0.01620988596599483,
          -0.060601000679112026,
          -0.05132572499661234,
          -0.04830232612222683,
          0.019141445314304097,
          -0.0437870597060335,
          -0.11676812424744405,
          0.026273006208007564,
          -0.05463487610993558,
          -0.044355795636877006,
          -0.02921070009775996,
          0.011557005676425664,
          -0.06477256422037835,
          0.0023086723668657703,
          -0.04273709700401638,
          -0.0393306459278736,
          -0.05910288431319016,
          -0.017610393621033848,
          0.1377444539362274,
          -0.005513172581928635,
          -0.044883724717836505,
          -0.03566948659557189,
          -0.03086430768186672,
          -0.05852233850931941,
          0.14351087628730197,
          0.042120130890053724,
          -0.06626530159867552,
          -0.05755398460255192,
          -0.06553882311820647,
          -0.10260711551805143,
          -0.03778355519690641,
          -0.050737306459935586,
          -0.03645653847868039,
          -0.05850176539054142,
          -0.03723658753778217,
          0.136065393740747,
          -0.05466141520080066,
          -0.07156574838332674,
          -0.06410875901281314,
          0.3496034994782013,
          0.06763854438741486,
          0.29462275066737,
          -0.03300681652081777,
          0.008495814181177331,
          0.04525801893984621,
          0.07945564490789887,
          -0.061177337454738294,
          -0.03619252969546358,
          -0.03601275903139261,
          0.03692155566351001,
          -0.042279655209288114,
          0.1103181052487903,
          -0.01878663484872521,
          -0.0285185794559814,
          -0.04244057050198993,
          -0.02720211321559183,
          -0.04259517145881898,
          -0.04448360612631044,
          -0.026609420704646326,
          -0.037436291131629336,
          0.161256289112508,
          -0.04083286630927652,
          -0.06054688268890319,
          -0.061891228678392515,
          0.21797593783357558,
          -0.039689733911568846,
          -0.0035038291245659513,
          0.04642284284147817,
          -0.08022992096866481,
          -0.030736278437394786,
          0.13246167692830182,
          -0.11375030788652907,
          -0.06768246522891952,
          -0.0648659107046511,
          -0.026643572637112072,
          -0.029234269343111817,
          -0.06004963716731696,
          0.0011573539561526857,
          -0.044760730498282456,
          0.08617286781549024,
          -0.030474073970140653,
          -0.04605777569068473,
          -0.03026461156017631,
          -0.03505391278447186,
          -0.03067983757905946,
          -0.0391540109503454,
          0.006113200113428536,
          -0.06477410114830905,
          -0.053389272040124454,
          0.14129767752668956,
          0.06423670323432626,
          0.0287886888103762,
          0.034752632008284726,
          -0.031500474197318905,
          -0.051473881173139516,
          -0.0455807723585793,
          -0.03891673865876683,
          -0.08275305772568703,
          -0.02367554027189312,
          0.02665873204874731,
          0.013059096254097144,
          0.31305948662833133,
          -0.0482940718439705,
          -0.04361916888518016,
          -0.044294805897752476,
          0.01564892802430234,
          -0.03676741266940586,
          -0.015101358440374012,
          -0.05855529959808338,
          0.186131593670865,
          -0.06622256604375039,
          -0.05427487490747877,
          0.8405306661586942,
          -0.09970633890074909,
          -0.049879758448723305,
          0.02487789380141196,
          -0.10176466341798793,
          -0.06986594953873017,
          -0.09911239139267448,
          0.15510681474753601,
          0.07348255701359158,
          0.1838000652190026,
          -0.040563366304596477,
          0.21888414364581918,
          -0.03504819001688338,
          -0.022850974679424457,
          -0.10030716998019307,
          -0.04198021937584205,
          0.03350279749703728,
          0.17604521109185825,
          -0.05333500703264922,
          0.060258083557275785,
          -0.05563077359128865,
          -0.1523828581402941,
          -0.06881319720722757,
          -0.07357969979010248,
          -0.0021363013351529733,
          -0.04583526316721213,
          -0.02874868125971913,
          0.02617855813331023,
          0.1202399174335209,
          0.010462315498890793,
          0.004433121857473412,
          0.08464137010990368,
          -0.13184196968088668,
          0.22475016884045512,
          -0.0630484177325091,
          0.004524255232647023,
          0.015277787886802738,
          0.20906260546481015,
          -0.04680716917705506,
          -0.04677675634272707,
          0.03139667775701537,
          -0.059095506909560114,
          -0.06546237345154667,
          -0.04885505773924211,
          -0.05184982963592773,
          -0.03332192059963563,
          -0.032984016299923744,
          -0.032335614185087624,
          -0.014575347184108446,
          -0.03609555859446703,
          -0.016040470757322265,
          -0.03983066614225089,
          -0.00473613530666036,
          -0.05438300523281887,
          -0.018438994669565147,
          -0.043763287727742434,
          -0.05592597396958441,
          -0.06914253169398707,
          -0.05113954941304246,
          -0.07637496924119562,
          -0.04123145073152587,
          -0.06745133360985517,
          0.00004305122110190045,
          0.4652352482324949,
          0.03719331170913247,
          0.0022058944825426806,
          -0.039387132081302685,
          -0.08410310605437404,
          -0.06284668428367203,
          -0.046319102430294905,
          -0.045141980543556066,
          -0.04399879307246856,
          0.21255606224013648,
          -0.022621955769844264,
          0.06284644596448714,
          -0.046542794349143185,
          0.04690083598627246,
          0.013810771366386145,
          0.05244220588006159,
          -0.03818795695431108,
          -0.044510487451335165,
          -0.044865664217011575,
          -0.028304570854936744,
          -0.027016589047377672,
          -0.01755858676877446,
          -0.04877922013911534,
          0.08973025194327028,
          -0.03880650823705158,
          -0.03196384195932383,
          -0.024006979703742538,
          -0.07217463014020847,
          -0.04565062734421225,
          -0.0005618792231577364,
          -0.04291414616042744,
          0.002605465240754919,
          0.21452567754663077,
          -0.05632496739303792,
          -0.05944467756072247,
          0.01586518500782022,
          -0.07591110778298306,
          -0.07225405874368092,
          0.06056842507213777,
          0.07548638784532094,
          -0.05176646089430591,
          -0.0620188723791078,
          -0.024288392889860854,
          -0.06679277373021693,
          0.02933100155031969,
          -0.03813812576298552,
          -0.043089679800291124,
          0.003417320908011382,
          -0.06865244755651008,
          0.1250405034599356,
          -0.07210401796975766,
          -0.06782768554780068,
          -0.04413004612520553,
          0.01655999992494505,
          -0.059766624570532244,
          -0.03961188642175282,
          0.011187497550532815,
          0.11553608845460933,
          0.050765137406308586,
          0.16368151874206036,
          -0.02497537778812868,
          -0.04145840452123885,
          -0.06780509041843504,
          -0.030730264172795067,
          -0.03998341703272706,
          -0.01016755887710037,
          -0.05203193636281449,
          -0.04595360358770494,
          -0.07257155490837532,
          -0.017351325331761282,
          -0.052104809281718976,
          -0.00020040461326289256,
          -0.010480880149497525,
          0.00016835828139874536,
          -0.0535166990147281,
          -0.04047358852392562,
          0.38303881173763293,
          -0.03723263813459797,
          -0.04496975147567249,
          0.042060013607081365,
          -0.04625189991372138,
          0.20606747341108178,
          0.06398063948901625,
          -0.013037732494481745,
          -0.047149291423479144,
          0.31409185637181347,
          0.1057171532392005,
          -0.027883704488768528,
          0.11926822237462002,
          -0.0477943896731491,
          -0.0962257660776127,
          -0.04261001719183956,
          0.05511041977898704,
          -0.04151783573954999,
          -0.031650409040392784,
          -0.04344717741611729,
          -0.05596542065206054,
          -0.0436301649269211,
          0.11363643448978314,
          -0.032019337599961326,
          -0.029499920966882066,
          0.16346981706965635,
          -0.062288380580569166,
          0.14189227332252624,
          -0.08701325561275465,
          0.14519865698066242,
          -0.043628759196586056,
          0.10763526906909494,
          -0.024951667960876944,
          -0.04896094345028863,
          0.021776551814076436,
          -0.05049850396514443,
          -0.045608909949402976,
          -0.044405515413541236,
          -0.05288827688908137,
          -0.06812484175426452,
          -0.017283338802172688,
          -0.02257666387390207,
          -0.04756517555752539,
          0.14911180157660572,
          -0.012912010296065611,
          -0.03733475883632363,
          -0.06896755133387102,
          0.8405306661586942,
          -0.05336842893028827,
          -0.031433761998354695,
          -0.0400109196808691,
          -0.03930328426118255,
          0.08844321431615541,
          -0.0581729807880838,
          -0.05905650981723718,
          -0.06322117452950331,
          -0.06040282977025124,
          -0.033307584494916186,
          -0.044732131258906384,
          0.46689516414084986,
          -0.04125263728330605,
          -0.048506110123810876,
          -0.017186929409988536,
          -0.06278146966235691,
          -0.035983084709307014,
          0.22909974560997765,
          -0.038993476078480034,
          -0.03413459589481562,
          -0.06551137891467078,
          0.1423514920534432,
          -0.07743252919999272,
          -0.0004724146250706279,
          -0.027820650144019115,
          -0.046747044395403226,
          -0.038300179375184484,
          -0.06398967997944682,
          0.14833992196537935,
          -0.011379039191467181,
          -0.0059359020153094575,
          -0.04107145020643562,
          -0.059085730386206764,
          0.05347987203540073,
          -0.05156235836691761,
          0.24686856549196862,
          -0.04883602450958439,
          -0.06162088441895524,
          -0.02936519575248838,
          -0.022547839230714732,
          -0.05161178633675381,
          0.048381547308135195,
          -0.018705502675390614,
          0.0033546463324348875,
          -0.047159518584468166,
          0.4177274205469935,
          -0.018130686884652587,
          -0.06720218488273688,
          0.0087450553812703,
          -0.0004036979987273707,
          -0.033360340132928275,
          0.15263348224684375,
          -0.05747583709544613,
          -0.042240925538486775,
          0.05356722995969953,
          0.05475615950320288,
          -0.06021072402315619,
          -0.030383579072348503,
          -0.05350081087607554,
          -0.032871614382891275,
          -0.01584902137756803,
          -0.05588250820398093,
          -0.08051367182137767,
          0.05707482147329297,
          -0.03442966487188818,
          -0.06835154207858106,
          -0.041603838593598126,
          -0.027398241944455472,
          -0.05020543625773756,
          -0.0950011996333617,
          -0.068704124091518,
          -0.06942457008523972,
          0.15501554517405497,
          -0.04695386399276123,
          -0.03208417683712183,
          0.003927034756821287,
          -0.0761194001566517,
          0.16358857663929782,
          -0.055060880017050465,
          0.031150243238971812,
          -0.036562867916976466,
          -0.041987154613704204,
          0.006208310058162883,
          -0.10146702147733204,
          -0.058422169387493623,
          -0.038591005962459776,
          0.005431104152740672,
          0.33659915071228963,
          -0.060065014705562275,
          -0.04013030331565825,
          -0.020116555743521083,
          -0.035790367619788224,
          -0.04034477426124063,
          0.07882805547927686,
          -0.09564362966879283,
          -0.04569280135495164,
          0.06748636458753213,
          -0.07679838579686762,
          -0.049110022822002816,
          0.020599603880139518,
          0.17783760706172358,
          0.02402327577062291,
          -0.052304052494371416,
          -0.026877297247226,
          0.003543984687040599,
          -0.03592413806185329,
          -0.03280272350378611,
          -0.14516157341496605,
          -0.04392531337064508,
          -0.03775745346128016,
          -0.04158688370399347,
          0.06584689962004317,
          -0.04044047166432922,
          -0.14850126978818523,
          0.08672352124033605,
          -0.05202842373282303,
          -0.039619689775772106,
          -0.03717470214787867,
          -0.05068495660058263,
          -0.05610135166544945,
          -0.04183190737079605,
          -0.03242353887425402,
          -0.04989544586138344,
          -0.0935056357236544,
          0.3321974963165367,
          -0.038331363740795536,
          -0.03162973672595245,
          -0.004366746762084636,
          0.07033014650908072,
          -0.0024119156080082177,
          -0.02908841263806171,
          -0.03468029099602346,
          -0.015024544734425896,
          -0.0308638085210741,
          -0.055463320531625206,
          -0.05815150733749078,
          -0.07056681877599252,
          -0.00684418061099794,
          -0.03500986198219458,
          -0.04665831180555586,
          0.010196782605622788,
          0.08845599740942678,
          -0.0851119390098578,
          0.06973403269321454,
          -0.039184127329000853,
          -0.04093384711408891,
          -0.04291453303379552,
          -0.12840805680862327,
          0.008035025599917386,
          -0.08029280250376464,
          -0.04374770203202163,
          -0.02022712291037541,
          -0.04479627461596931,
          -0.04116925031035206,
          0.26505920384986853,
          -0.031185497629662745,
          -0.07484944671955768,
          -0.042731150494585146,
          -0.061227492736105664,
          -0.05881621099882282,
          -0.051921713107235805,
          -0.06993217696860025,
          -0.05401400412336001,
          -0.0873547266749604,
          -0.03387096238916967,
          -0.04086092102526423,
          -0.07140223487918201,
          0.017521684714552056,
          -0.03596698288756385,
          -0.029903524872232717,
          -0.013588408163071622,
          -0.06305999423568931,
          0.047413446427878925,
          -0.05787472143597356,
          -0.07309810140977901,
          0.025076033456589507,
          0.0857573958182406,
          -0.08155969012063441,
          0.016908186355289234,
          0.060130000495723465,
          -0.052384732576403754,
          -0.0382571016366157,
          -0.09586350825477308,
          -0.028838918824032986,
          0.20611467234399275,
          -0.013386834493020253,
          0.16436347554675967,
          -0.06987386592211847,
          0.08603373576648046,
          0.2463789886572764,
          -0.06148760783120947,
          -0.051450208005565115,
          -0.05451844570704066,
          -0.04132175297842831,
          -0.03442358393316068,
          0.030565674019796117,
          -0.05768237986387098,
          0.010604409514505869,
          0.07205830741557603,
          -0.030111162637152394,
          -0.049330414321205204,
          0.04562599616960195,
          -0.046854383130273736,
          -0.027044376986060204,
          -0.01823719408256562,
          -0.06010914614459009,
          0.3770006601515368,
          -0.06329563524052269,
          -0.04965645626414439,
          -0.039162368772097854,
          -0.07572587958775596,
          0.2961870497913697,
          0.043754461321421925,
          0.13108021731385833,
          0.04865320464410365,
          -0.06553248858625679,
          0.1248787122042002,
          -0.03545687915113722,
          0.00825516237762042,
          -0.03659386254052276,
          -0.06343046223986556,
          0.10828671062729416,
          -0.04096753752713312,
          -0.07409647861017686,
          -0.024382042172172554,
          -0.026655893734158803,
          -0.015771951768527494,
          -0.04236887193773632,
          -0.05522194174171293,
          -0.04736379561829677,
          -0.0847059871254726,
          -0.009410803332225904,
          -0.02783112866120761,
          0.00583249749585721,
          -0.05561442423038387,
          -0.023727559970921984,
          -0.03737004646953178,
          -0.04261641149015893,
          -0.045081724485162025,
          -0.059699649342493555,
          0.2000218541292694,
          -0.06150684926526562,
          0.06708355627565524,
          0.0941207816123356,
          -0.02302133928253718,
          -0.06751628303776448,
          -0.008765121978899731,
          0.5270126173689775,
          -0.032634886269700486,
          0.053686869865882815,
          -0.0571797737805775,
          -0.042061876554918526,
          -0.0470175306604339,
          -0.050033419515530024,
          -0.054047899595451386,
          -0.04761911978624714,
          0.006006633142287678,
          -0.0256916791122872,
          -0.015881817889687122,
          -0.046531216610127775,
          -0.07985206042812132,
          -0.015420177616553732,
          -0.0169383884695556,
          -0.051355936532970055,
          0.17517313343940874,
          0.14992558085342372,
          -0.017945600198533595,
          0.07686491111357266,
          0.020379889530610217,
          -0.07002046677827582,
          -0.0057051862733318295,
          -0.031024333160949116,
          -0.03403981158028955,
          -0.06558704862503793,
          -0.047309107423422675,
          -0.05579968430608877,
          0.0263282721048656,
          -0.036938737548727604,
          -0.0342065820973624,
          -0.05215612658356669,
          -0.10272541651423385,
          0.12006918745596108,
          -0.0633276609935079,
          -0.015028809890937926,
          -0.028311237651056517,
          -0.06521968440487931,
          -0.0515961897229601,
          -0.0837948986586568,
          -0.03747333098172829,
          -0.04361122729879717,
          -0.0477057401454823,
          -0.06201670192531073,
          -0.0018901655924763276,
          -0.030887333895561468,
          -0.04048609414822816,
          -0.05215374026872969,
          0.050992793301687885,
          -0.044003589304082096,
          -0.03762582689637795,
          -0.12287351437584552,
          0.05096239334603234,
          -0.06248920825243592,
          -0.04071763776531042,
          0.21896704334950584,
          0.051942798614357875,
          -0.059868697450233564,
          0.10971027003681437,
          -0.060050352165211034,
          -0.06258219700935322,
          -0.04762976234825886,
          -0.0702563529242173,
          -0.04148170915749032,
          -0.025591526514326102,
          -0.053120019370578045,
          -0.03764746745876971,
          0.08331907300290083,
          0.05486170990317544,
          -0.05668502599571557,
          -0.06611473520477848,
          -0.029330747164396515,
          -0.048256058749846946,
          -0.07298477613043976,
          0.00942872586663025,
          0.24224901548726224,
          -0.04155039763549126,
          0.09945161658971723,
          0.0806430799927624,
          -0.07584775511604999,
          -0.048562095564871025,
          -0.03512387160062121,
          -0.02509028849828074,
          -0.034060895277972805,
          -0.1132034596577593,
          0.04443832968011216,
          -0.08070144300090094,
          -0.011843115739558487,
          -0.06608442821956324,
          -0.04528749789808183,
          -0.05618328904667453,
          -0.07311296766238863,
          -0.056423158649975186,
          -0.0640529044013542,
          -0.05910050434291531,
          -0.051489246056844,
          -0.027934437236554754,
          -0.04028535292760377,
          -0.03848860005886238,
          0.10869035996710184,
          0.06679701933328294,
          -0.06475593221898593,
          0.027102918452721544,
          -0.02626494775877753,
          0.03149030538352343,
          0.12949312550154413,
          -0.019154380581647132,
          -0.04845547102771473,
          -0.06990069875143196,
          0.17635133455188648,
          0.3320312774008047,
          -0.07059218398125922,
          0.08136857607996187,
          -0.03105094104225129,
          -0.058589823373056106,
          0.1203626513141535,
          -0.10660135961273619,
          -0.05827498246597925,
          -0.06247708895073418,
          -0.02524410400707604,
          -0.08643989461017622,
          0.12692818585954768,
          -0.04704743210385755,
          0.00680182807312819,
          -0.042643641070001494,
          -0.042845678172311844,
          -0.04489742355315581,
          -0.06314591071077198,
          -0.0364181789239885,
          -0.011082554415589507,
          0.09663623059097644,
          -0.04899244537172328,
          -0.03533794351071457,
          -0.02518116942235918,
          0.04838265186823326,
          0.188752360754891,
          -0.04066304693901977,
          -0.06017514905338432,
          -0.059461737183734986,
          0.13282060609590451,
          -0.045758546172876044,
          -0.049402318642646686,
          -0.04588131091561506,
          -0.02767807020338871,
          0.04471318988243806,
          -0.06975427332670878,
          0.2169659831315978,
          -0.019158995973844222,
          -0.04197178006371475,
          -0.0047252060933266294,
          0.06793480265167798,
          -0.03576796752082156,
          -0.009590730719989402,
          -0.04296064946849558,
          -0.04327091180578638,
          -0.08569415128134707,
          -0.055827881117659406,
          0.06422223655913802,
          0.08403446766972957,
          0.01714839208003013,
          -0.06242709054790902,
          -0.029325320051190554,
          -0.04079203600878144,
          -0.07608340908498736,
          -0.051122406140769995,
          -0.03912662479085884,
          -0.047991466520965365,
          -0.029093360643955922,
          -0.09850655105863101,
          0.07077110974064578,
          -0.02238462466717599,
          0.004747839126476879,
          -0.03069378839081072,
          -0.050120757464255546,
          -0.059722117556920605,
          -0.06408074308945734,
          -0.03641817819952125,
          0.1207259452682026,
          -0.06774249396685575,
          -0.07859760041576194,
          0.25907413810038876,
          -0.018937039683477815,
          -0.058356533855851156,
          -0.03128951877098623,
          0.07475280276467397,
          0.08476127718384499,
          -0.04370314642426723,
          -0.005136618825176405,
          -0.03146653204696016,
          -0.0587182792660692,
          0.04955088151000589,
          -0.048479235622664346,
          -0.008542112576443125,
          -0.03890942642071048,
          -0.062225170010304316,
          -0.01619499590526754,
          0.022195116015486557,
          0.1010764995384257,
          -0.06958646690979454,
          -0.02631063777021791,
          -0.034103084566632295,
          -0.06154156780202889,
          -0.03317877878280578,
          -0.06356785288379097,
          -0.04369858205409716,
          -0.012452830758420958,
          -0.05370957963562372,
          -0.0911620313405963,
          0.15414018547790617,
          0.03876176297651534,
          -0.08150457030909593,
          0.2890868860967197,
          0.1423451866366948,
          0.27708768602314837,
          0.02992739886764674,
          -0.05646315349232989,
          -0.04430005644653475
         ],
         "xaxis": "x",
         "y": [
          -0.326629668262311,
          -0.1523723567043066,
          -0.030106175061501157,
          0.23279771466204136,
          0.0952973236527176,
          0.052695870893449785,
          -0.06906507100776425,
          -0.05986446935675577,
          0.04174858817917477,
          -0.09349212307388143,
          -0.004358531924497865,
          -0.006063928386191576,
          0.04855796772029938,
          0.01651696757535592,
          0.02979395688920652,
          -0.012261993719319431,
          -0.0032243627664150887,
          0.05354036069633088,
          0.45169837361184945,
          -0.13741443119774796,
          -0.010601106639963883,
          -0.012153538123359018,
          -0.013491601811887896,
          -0.096803039672946,
          0.004017092307732533,
          0.014376584253846249,
          -0.018350381441421912,
          -0.13683435122115672,
          -0.043729893070459255,
          0.09303201191385012,
          -0.010503410370952952,
          -0.2963028844689571,
          -0.11102200408682954,
          -0.023402895133177785,
          0.007580525348326284,
          -0.14755245350497742,
          -0.018548679041615508,
          0.0355386728626012,
          -0.0009822253369700577,
          0.021250585418310878,
          0.07405119180161669,
          -0.042202786156495475,
          0.01379338855293945,
          -0.05203451815404827,
          -0.029961037233581015,
          0.46255077007311807,
          0.005433561339124496,
          0.11790531257109557,
          -0.024140184683482353,
          -0.02997614607822755,
          -0.06154534641728306,
          -0.040393288549642636,
          0.07237734412680959,
          0.1884515573278253,
          -0.03314806314047041,
          -0.08208851908635044,
          0.29816435420139203,
          -0.005152574700978942,
          -0.017771009755569,
          -0.15623060316381526,
          -0.006911400694406614,
          0.010473131823209142,
          -0.010099229373163003,
          -0.01212982632384208,
          0.5456562315799687,
          0.05164962879854057,
          -0.11294398193528839,
          0.12143383450518494,
          -0.1145941906749953,
          -0.0333333915643354,
          -0.17057540269463242,
          -0.13326233498171647,
          -0.023742963661059095,
          -0.0589951022149521,
          0.016515769596362147,
          -0.059066501899671865,
          -0.06169287399882313,
          0.059642225199019586,
          0.11960675024422937,
          0.11839819324050108,
          -0.01036874194064255,
          -0.09738500255172583,
          -0.0055087950058665585,
          -0.19033088354188285,
          -0.010069679112076766,
          -0.0034910073763861267,
          0.015682809677698178,
          -0.017139154495785774,
          0.23728977039752996,
          0.002106907489701972,
          0.127337350195577,
          0.1896649592482766,
          -0.04654103328167907,
          0.029104626263589187,
          -0.0362988003557517,
          0.007316822120418561,
          -0.05919548978260186,
          -0.01344903728333291,
          -0.08274959509270216,
          -0.09329724634126381,
          -0.042601130050973865,
          0.004907348911344411,
          -0.052638258301312524,
          -0.03937656809380399,
          -0.01665715799919883,
          0.03451370184617757,
          0.010226269567911889,
          0.026448966231954932,
          0.030009316409819655,
          -0.024830330518534772,
          0.08460850555879877,
          -0.009613623678159657,
          -0.010705685944241249,
          -0.009613309336289802,
          0.11082202976932615,
          -0.04712683744667324,
          0.22016032777099445,
          0.1791395589229892,
          -0.019760966373635967,
          -0.09355024371814954,
          -0.020045222716138764,
          0.06380265969319175,
          0.23602868790216253,
          -0.05090206462843163,
          -0.042161423469191175,
          -0.13038206366321278,
          0.10726738034231793,
          -0.011360176739671213,
          -0.07735619145179284,
          0.3535941989997676,
          -0.022327808886018513,
          0.2531800328010612,
          -0.006951190143879864,
          -0.024231765251563515,
          0.11982108212388799,
          -0.11322133595104363,
          0.10292754552665721,
          0.06534644487527626,
          -0.021344753676144256,
          0.11509104399197134,
          -0.08364820657394355,
          0.007213688190627643,
          -0.033081770795860055,
          0.15384916835746676,
          0.10853582975664092,
          -0.07477906047327094,
          -0.04170598277737129,
          -0.052126354487034704,
          -0.039575299430236556,
          -0.03479210278832841,
          -0.008301963886857123,
          0.09014844214121934,
          -0.0825255437361906,
          -0.015787467685504868,
          -0.002447950184186003,
          0.009965771640103345,
          -0.2760050382910979,
          -0.05870443904846837,
          -0.022186745903482383,
          -0.02398461582312011,
          -0.018277895192451224,
          0.0642531006110168,
          0.1772538557289861,
          -0.02056874709814158,
          0.01663139962429527,
          -0.01646212074236916,
          -0.07350182829332236,
          -0.01818962590844376,
          0.14617441429340142,
          -0.018990005502540167,
          -0.022880435104144038,
          -0.044354272357872426,
          0.18129834702820619,
          0.14007827600500006,
          0.026466032096411428,
          -0.04868202556736358,
          0.02626709374616932,
          0.06492888399259723,
          0.005108402551345916,
          0.10934329048040442,
          0.02257366113710584,
          0.009726232160775207,
          -0.12294654201022409,
          0.07675324500978022,
          -0.04042039350556386,
          -0.01116406593413002,
          0.04828127375237384,
          -0.046027119634787804,
          0.028901893515010595,
          -0.038764518633205514,
          0.10066456575144342,
          -0.009513075269065639,
          -0.05604728848567173,
          -0.03628442426584922,
          0.04464044362635874,
          -0.005232758409571921,
          0.048536001412918396,
          -0.13276900819400442,
          -0.04336532908617795,
          -0.11102246117718927,
          0.042879140051015806,
          -0.0005900106050849708,
          0.03905742968234696,
          -0.017927191741587856,
          0.0028530183630353493,
          -0.1764079350293987,
          -0.02422316263381304,
          -0.041983400067314415,
          -0.04416538089736188,
          0.051668675749646044,
          -0.12843736378033316,
          -0.018445007828459058,
          0.02103589550177048,
          -0.05164689673993431,
          0.014761296901025138,
          0.060585121640896654,
          0.25575732164497705,
          0.020103285532598526,
          -0.019894387044818433,
          0.08378305774998161,
          -0.0046591386295809015,
          -0.2245383517216363,
          -0.05771644120613303,
          -0.08115242401730209,
          -0.07348919941207852,
          0.0002017088555761918,
          0.18465704299018798,
          -0.024187924319630835,
          0.31979687018767455,
          0.0739440282897673,
          0.05465647687838863,
          0.008349834070202972,
          -0.009398546905599419,
          -0.012915188708997997,
          0.033696744347339956,
          -0.10646463326312533,
          -0.03620007887078915,
          -0.03241829814986115,
          -0.018630207512107515,
          0.009441516997937492,
          -0.01088113395574256,
          -0.014362851878785833,
          -0.18311263901681987,
          0.05671862975579772,
          -0.014821712865006043,
          -0.008386088961573132,
          -0.028886598353866203,
          -0.01149883258694959,
          -0.045313284109694534,
          0.17126160015587125,
          -0.048924344773457695,
          0.005976324388608753,
          -0.044788450381919795,
          0.006784467402927575,
          -0.001483482522201301,
          -0.08079640468656132,
          -0.016856344033889536,
          -0.046737492570880695,
          0.010419550385819026,
          -0.04933105100893787,
          -0.016582161905949057,
          0.13719178578853486,
          -0.09839324433231991,
          -0.04138156989291374,
          -0.03657574227314152,
          -0.06427549373267082,
          0.061914655818615015,
          -0.00543205547295358,
          -0.000640650755197518,
          -0.0069912143708614595,
          -0.008676380259522071,
          0.0985517510112958,
          0.0555482767064928,
          -0.04577483017050233,
          -0.029635000413886413,
          0.045252025616940764,
          0.0546556407725771,
          -0.1871454428895415,
          0.04542482725460371,
          0.019594038063712946,
          -0.04367464826920639,
          0.35669476141068346,
          0.029573479856241418,
          -0.05098180698173837,
          -0.012182962168693098,
          -0.04709856188651998,
          -0.014988876017132188,
          -0.10848437769077525,
          0.013754012195616014,
          0.026920170421917876,
          -0.014722144499451867,
          0.02169242823258739,
          -0.044834321297626864,
          -0.01622643786910747,
          0.1091939229729492,
          -0.029828557471621914,
          -0.0006532430891819475,
          0.032329989060771544,
          -0.11852334915827303,
          -0.025987234339386277,
          -0.1397689613182209,
          -0.055298412229855855,
          0.10057985224466352,
          0.22024153665761048,
          -0.036188192435189614,
          -0.027421797664762403,
          0.030688936435375958,
          -0.13363013018174458,
          -0.02329342622246599,
          0.024530527606090556,
          0.1315517798767799,
          0.05333234753944177,
          -0.009143134886606893,
          -0.050393368594918914,
          -0.003490271825949751,
          -0.06557988739567677,
          -0.07480850211387373,
          -0.00044323632414979735,
          0.038271985734685314,
          0.0028918398887143463,
          0.04222612676528794,
          0.002775340642100917,
          0.12468889313251623,
          -0.05676224950741269,
          -0.02142095677422217,
          -0.08429544341404992,
          0.08628501693441254,
          -0.08599735938222314,
          -0.06155367596974575,
          -0.03163261079324008,
          0.00024626216888913664,
          -0.019541965793439,
          -0.011661226029479622,
          -0.02546286454241724,
          0.004039649621851427,
          0.20878444644149388,
          0.0966007708443225,
          -0.12285192667526591,
          0.013819776546186624,
          -0.01732512385349524,
          -0.03190385301127677,
          0.10051638316325678,
          -0.008317530024123727,
          0.08309242760133907,
          -0.020466793300225643,
          -0.09543047183239077,
          -0.03973117237950793,
          -0.03477469961087534,
          -0.2963028844689571,
          -0.044354272357872426,
          0.06634532898121133,
          -0.13613806039899853,
          -0.11014223020972135,
          -0.030602474483465036,
          -0.05140292661263261,
          -0.01784472983916611,
          -0.012754269796817598,
          -0.05217535848725497,
          -0.07663288908329491,
          -0.05255740818621949,
          -0.0217280712022763,
          0.03648945396557341,
          -0.061240508241322114,
          0.012594083564112195,
          0.2026286991795602,
          0.030838131309342546,
          -0.03002367302235294,
          -0.0020381492428866834,
          -0.029146969626568684,
          -0.32017418300288064,
          -0.032651607441934544,
          -0.02754434605837449,
          0.10579723197236852,
          -0.0058738025630752,
          0.0018843354154413083,
          0.22742626698940552,
          -0.03593666079119589,
          0.13599565112789208,
          0.13811518749290752,
          -0.011631506686208905,
          -0.2453018243315653,
          0.33127981669082496,
          -0.02199053008163561,
          0.11416886798113031,
          -0.022847213565657394,
          -0.08285244165811517,
          -0.01897931352476217,
          0.14670038005809788,
          0.1597531335983002,
          0.027282860478316146,
          0.005393106902346341,
          -0.005824332337112223,
          -0.018485067950204492,
          0.07918615341918085,
          -0.035512450536447394,
          -0.009733129011803513,
          0.12911283105950017,
          -0.016306159176658803,
          0.09847642018347023,
          0.17130880038078433,
          0.12617450608202632,
          -0.01690937802037224,
          -0.08339073778167742,
          0.0416526990923839,
          -0.020878881771310455,
          -0.047414186223981906,
          -0.0028112677020325576,
          -0.040494888756562944,
          0.01062963305854805,
          -0.0878550374408081,
          0.18537165533123198,
          -0.17698072405520476,
          0.20583417923057998,
          -0.018606257005710006,
          0.0232493945245664,
          -0.03311244220219062,
          -0.025653876622714223,
          -0.02470675181977648,
          -0.008217122487159464,
          -0.026792362982710236,
          0.16441321115169108,
          -0.03585554099402985,
          0.05432227933038302,
          0.10725362639820345,
          0.10118086762151587,
          0.1398112192743372,
          0.02660534874042884,
          -0.022694856424777803,
          0.0074750478086097905,
          -0.010663055725070876,
          0.05299904498421473,
          -0.02876830005454885,
          0.10780954703294339,
          -0.01866656315818035,
          -0.06170000641760537,
          0.05115825280862719,
          0.1036511729654302,
          -0.02251591390149517,
          -0.049506288820082685,
          -0.018604867094399208,
          0.05300418657499053,
          0.032912950809515895,
          0.16307562803927877,
          -0.09400849621510896,
          -0.006376258692885735,
          -0.0276714634075264,
          0.1988209475829976,
          -0.033212216302288454,
          -0.05711394981520969,
          -0.056414759613364875,
          0.1085334621116804,
          -0.013748727010181276,
          -0.037190117784308176,
          0.058920190294495106,
          -0.025892007743788713,
          -0.07178867444978351,
          0.02654948913456472,
          -0.007466321452344243,
          -0.04713560317002401,
          -0.05943511020646315,
          0.0990178980702224,
          -0.02591813293070125,
          -0.019968410570177696,
          0.016454507007004054,
          0.12298682567190301,
          -0.02668028295089923,
          -0.007306698916021392,
          0.21298707711532733,
          0.13885798921455636,
          -0.041334035480077774,
          0.3497707187698776,
          -0.0003909721284284401,
          0.02625627859233209,
          -0.03948518094538781,
          -0.021099959543214655,
          0.0004750533688618873,
          -0.005327152448423499,
          -0.02260873943098706,
          -0.009954516515055375,
          -0.0356917418573127,
          0.01914027066930855,
          0.13493228274375826,
          0.002268654958526586,
          0.1724736672911019,
          0.09549616062900554,
          -0.007478253652307914,
          -0.014370662572070366,
          -0.08371768598742238,
          -0.006349499640123346,
          -0.0011962734543934962,
          0.06387468214945759,
          -0.00048134249468647906,
          -0.020501209239915955,
          -0.03378735460140942,
          0.016821591195837204,
          -0.008296940851926823,
          -0.007188764748461844,
          -0.030702126662138115,
          0.010230238581942965,
          -0.010690219845176447,
          -0.013075099319252373,
          -0.19153144610215803,
          -0.04053070955206108,
          0.07086832024506938,
          -0.014066319109984689,
          0.06081417747530121,
          0.19376769224525187,
          -0.02374334183120216,
          -0.0014373558926491516,
          -0.014199631566573324,
          0.028337741072322783,
          0.04204516543839938,
          -0.06851570259075239,
          -0.012435579766518717,
          -0.12290313473429161,
          -0.06784607920921006,
          -0.10293581325776929,
          -0.015015922665825675,
          -0.028616696422134744,
          0.08882490044678436,
          0.008627138404043415,
          0.03905595620789007,
          0.02482148063732976,
          -0.0057944621458695346,
          -0.011377048986430896,
          -0.057338461425366916,
          -0.01641820942038174,
          0.06113317514184423,
          -0.05251717133789371,
          -0.031013989589905623,
          -0.1066881976219958,
          0.1970730159389142,
          -0.027806080288077167,
          -0.04144133450576486,
          -0.2963028844689571,
          -0.03843288365949674,
          -0.037998869480649344,
          -0.018382792983667132,
          -0.017045297812562418,
          -0.06299266698221762,
          0.027383598406072414,
          -0.014029128853540893,
          -0.01646975153416434,
          -0.037836707273253216,
          -0.0506247554916059,
          -0.0027857023710055767,
          -0.16502593533353666,
          -0.014239228248710932,
          -0.0230172273932377,
          0.14367932862929947,
          -0.03319660940939653,
          0.0010874686953759587,
          -0.09305165059729088,
          -0.012801862713167326,
          0.0021982224101316336,
          -0.05008892420245566,
          -0.029867690258387754,
          -0.03127422003455367,
          0.011377772905164294,
          0.06933642795172833,
          -0.03035714624604608,
          0.000867354431287196,
          -0.041736404634929315,
          -0.07887704470014108,
          0.11511092322699987,
          -0.0788718700669027,
          -0.006940164217903812,
          -0.03499135698843474,
          -0.016571767351354332,
          -0.03258826967771391,
          -0.13208234766457386,
          -0.005548951266659136,
          -0.009893707266199538,
          0.01231544300219046,
          0.015991517472003856,
          0.0163000184375234,
          0.24406034309888042,
          -0.011707271200367832,
          0.05882772752759197,
          -0.016703280136548575,
          -0.24737564195651665,
          0.023331238036533777,
          -0.0248927979037387,
          0.04045045251219312,
          0.04672598593485678,
          -0.01739809503381858,
          -0.053988293994557665,
          -0.03058887804234759,
          -0.07233325773745232,
          -0.020507650327215313,
          -0.08063377581021561,
          -0.02217050617440444,
          -0.043873502077033354,
          -0.0024185368461669497,
          -0.012649605900278416,
          0.15946236198527194,
          -0.015363055158977183,
          -0.03949453520784411,
          -0.045274469042392476,
          0.10678409541506449,
          -0.055624669833368244,
          -0.015642793728245313,
          0.002253185376703766,
          -0.021379905333027256,
          -0.06889556870565053,
          0.01667435563291038,
          -0.03454964575920829,
          -0.15039220258439384,
          -0.020112305464752584,
          -0.020335580273027034,
          0.0714530515830388,
          -0.02530208412569179,
          -0.1585728688740802,
          -0.01584148452298146,
          -0.11068299140177777,
          -0.025295393952385233,
          -0.021230673719458044,
          -0.04298472287331683,
          -0.14856725387247724,
          -0.035753374608754725,
          -0.012020156948722605,
          0.1123868428417916,
          -0.2788783535148428,
          -0.016106214357483224,
          -0.003087073233144898,
          -0.01478936753155858,
          -0.0015147445379911316,
          -0.001968987909201102,
          0.1634017801322554,
          -0.07105362763032662,
          -0.02483353184164722,
          -0.011702741493580303,
          -0.033081770795860055,
          -0.007628259326315667,
          -0.03216848978030443,
          -0.06480410129210697,
          0.19106080908409093,
          0.00034107841595607864,
          0.010833507659054786,
          0.13557679017054794,
          0.0011007033890645841,
          0.00004217873888034587,
          -0.23412489434413072,
          -0.01306719693098071,
          0.01781148851147161,
          -0.005711820757411195,
          -0.027953218147844846,
          0.0053008357063834555,
          -0.268535800252996,
          -0.09259738621501706,
          -0.005677094943139375,
          0.022469038293262498,
          -0.04350313883161601,
          -0.02255671568742151,
          0.0009696973556841607,
          0.0013851979573272174,
          0.007478952622506607,
          -0.022182540497345058,
          -0.056556142956233055,
          0.057604831276362935,
          -0.012731964334124041,
          -0.02891303725950852,
          0.04329474605484791,
          0.025285696495789493,
          0.1026698243345043,
          0.061090262550086365,
          0.0013075048330108603,
          -0.016631475761708512,
          0.058666288488258736,
          -0.03525764490935978,
          0.008672039313410028,
          -0.012411161664323276,
          0.0686801131887103,
          0.08109351700457264,
          0.018503187898437853,
          0.12246204817301744,
          -0.032010109153124924,
          -0.033158472228352956,
          -0.10444530071727409,
          -0.009539232652694227,
          -0.004451609486173397,
          0.007331734148968162,
          -0.16524228075088368,
          0.10715225186027527,
          -0.03605884209811603,
          -0.019435138565262362,
          0.04817032213101324,
          -0.0545061588298417,
          0.021589576700134103,
          -0.06343030034057612,
          -0.042821239783935684,
          -0.3325024499585432,
          -0.01612748719464886,
          -0.032165484248307535,
          -0.00597652486812797,
          0.038393496344595185,
          -0.029270200548364527,
          -0.021078439242458415,
          -0.04504668048780399,
          0.049255819282539644,
          -0.0916938376467095,
          -0.029622720783110724,
          0.22840591720228334,
          0.015770759713575062,
          -0.0023635068137902336,
          0.023450835527458847,
          -0.013809774023237078,
          -0.06384822240644637,
          -0.017252113652622796,
          -0.054985276485593676,
          0.18155864789807963,
          0.07073810500539081,
          -0.04999054506859536,
          -0.0070432615775121174,
          -0.055459150378388986,
          -0.019228390261030192,
          -0.01469400457268467,
          -0.14183151664099125,
          -0.0038903102822029694,
          0.13156957805950406,
          0.09567229835819462,
          0.05571429801973334,
          -0.02905088248043068,
          -0.04258655008119727,
          0.11489762090196513,
          -0.050718605357027,
          -0.019675352231731127,
          0.0040053657962695315,
          -0.0002875839452022937,
          0.015665152213656674,
          -0.023101904678451333,
          -0.06317270961785347,
          0.12070534143610842,
          -0.05847570988059005,
          -0.006300930764748268,
          0.023784889702432383,
          -0.0050499461443300146,
          -0.006588281773498989,
          0.055755128194637314,
          0.029805070495136983,
          0.05061631948434807,
          -0.2428210248069936,
          -0.05932176414248177,
          -0.02144493279175392,
          -0.009320004661680661,
          -0.022798612061567126,
          -0.1422892737772012,
          -0.033752567511610945,
          -0.00688733989125624,
          -0.04765512374277488,
          -0.03672820216330613,
          -0.025456277084993602,
          0.02845235590165272,
          0.2450241348721574,
          0.04933037797355063,
          -0.030340157640759906,
          0.03821183262387946,
          0.008012259600309846,
          -0.04290722001748897,
          0.004939111102299538,
          0.0595523152670503,
          0.12043568691202625,
          0.04389186998496262,
          -0.03603511272210871,
          -0.01748354314838107,
          -0.04414170060593579,
          0.018828245138599875,
          0.015641274887551924,
          -0.08893862117512372,
          -0.015040234867227229,
          0.11852551507931863,
          -0.0168412383569901,
          -0.008410193558575163,
          -0.029841087482908413,
          -0.0485052367041829,
          -0.005932252993031521,
          -0.05201343409627323,
          0.010738224352109622,
          -0.17799298169366265,
          0.0062441834933579165,
          -0.039354113799223024,
          0.05636975434978138,
          0.45169837361184945,
          -0.008948287343672775,
          0.29359272788840196,
          -0.04822209967074801,
          -0.020654824053000953,
          -0.06821609321047982,
          -0.01006398605266778,
          -0.09396541804677873,
          -0.023160334355732937,
          -0.03892583165248865,
          0.028814455127474964,
          0.044914350917975236,
          0.08943054478752048,
          -0.1313119353970777,
          0.07800231933487853,
          0.03074795519100132,
          -0.007998796115038195,
          0.0525594287318935,
          -0.02914988646879782,
          -0.06559353745924623,
          0.0282823203725081,
          0.22801116113814984,
          -0.023785301808309664,
          0.040428050223415245,
          -0.012385561727936431,
          0.08558630178917062,
          -0.02241839020918042,
          -0.01716694047523282,
          -0.01925072916137738,
          0.0031134596372680385,
          0.005325535269811631,
          0.03896184161632521,
          -0.01710081730028613,
          -0.048094994697999,
          -0.1463522102520855,
          -0.02769340777810482,
          0.037961303384435444,
          0.01566266721744053,
          -0.024183069444546387,
          -0.015328715634842588,
          -0.13230471445092312,
          -0.0052530211025131265,
          0.03974386084105853,
          0.11785883334094868,
          -0.031083399118107386,
          0.04486466173726483,
          0.06432502506319993,
          -0.006207306456196493,
          -0.046609674070278176,
          -0.11835059310660365,
          -0.030023843897468754,
          -0.01956210005380319,
          -0.24653638971803765,
          -0.005393058771806211,
          0.006120022091854593,
          -0.02552318659913991,
          -0.07602481761676069,
          0.04582350510968731,
          0.004492699963473917,
          -0.03098135604790087,
          -0.0023663402064193566,
          -0.01797765628539638,
          -0.012835994952239705,
          0.0361337191310461,
          -0.02639053887911682,
          0.04166031992683311,
          0.017203098124856334,
          -0.010906915507361455,
          -0.01879069300003041,
          -0.015019778245835138,
          -0.015000831948535869,
          -0.03906505303666988,
          -0.009840305267480016,
          -0.01745659686016998,
          -0.04777322186234923,
          0.10956274593483696,
          -0.15613573345472354,
          -0.04124875430251498,
          -0.05714666417896389,
          0.1432953726084329,
          -0.04025309756964153,
          -0.019203253934076098,
          -0.0057495893851352,
          -0.003208343311981907,
          -0.0069847541994835435,
          -0.11303272577286494,
          -0.05571968326231068,
          -0.04827184402771628,
          0.08735145314687992,
          -0.04346945450130553,
          -0.0026933877331962296,
          -0.017053222201282626,
          -0.02816488318418414,
          -0.023433481999240675,
          -0.06129035938061856,
          -0.017484074349380763,
          -0.027215608973459492,
          0.06836135540545091,
          0.0029668379259819395,
          0.13029002074395912,
          -0.12721934068577678,
          -0.050180558995782304,
          -0.031033197857495608,
          0.18310776579863342,
          0.08123755773122247,
          -0.012741007720085209,
          -0.07224646971909891,
          0.06090307328068347,
          -0.0006195357223010029,
          -0.034763325838346126,
          -0.038286492033681764,
          -0.1395575394436045,
          -0.05646600392958327,
          -0.07200411190220807,
          -0.014081989161740426,
          -0.05590260192533935,
          -0.05671464355863623,
          -0.13279709402498088,
          -0.030134106888865753,
          -0.04431687443967101,
          0.037763038175655024,
          -0.040463792588504965,
          0.01882317008582817,
          -0.011123531527182411,
          0.12684049550635973,
          -0.019769755979673315,
          -0.01625843340709429,
          -0.0077853384097540355,
          -0.044044057661706416,
          -0.04124044484399617,
          -0.02531817833098484,
          0.038443751571738204,
          0.0428932308924689,
          0.0390388778025768,
          -0.13464889059804105,
          -0.06796567707027228,
          -0.16392455832522898,
          0.05242166516519297,
          -0.051955841655141694,
          -0.033068765779880084,
          -0.12260548895132281,
          -0.014802040355129624,
          -0.02214169396137457,
          -0.01079177648537383,
          0.029532771447054,
          -0.04234019032540803,
          -0.0800739824217652,
          0.015339759837954227,
          0.10057268555457745,
          -0.014895581470547111,
          0.08700120434882122,
          -0.03635602810818011,
          0.009381453346528776,
          0.09678797009992796,
          -0.000812488395598406,
          -0.0005054531655560243,
          -0.05303273189338199,
          -0.021863156729427912,
          -0.08147433165099173,
          0.05136267036656214,
          -0.02091657288011713,
          -0.04113808685896112,
          0.01544893806912422,
          0.17934324679564503,
          -0.05124409755366694,
          -0.004666089854315896,
          0.06467912751587232,
          0.017279782469485562,
          0.023351291996160237,
          0.07906116409303628,
          -0.03543653348207134,
          0.08199868479905331,
          -0.001971821258485578,
          -0.02168531939395104,
          -0.016956604803682978,
          -0.05859648470903028,
          -0.06206884063961045,
          -0.0412404471385768,
          0.1372411589963982,
          -0.04195979029639213,
          -0.06537107542919629,
          -0.11116091834259255,
          0.004497059731025809,
          -0.027132265351506393,
          -0.02931199207510264,
          -0.15084203065787763,
          0.012507806503732573,
          0.01960028443278913,
          -0.05553365970759313,
          0.08606100639454083,
          -0.019109004261385124,
          0.2626496260777106,
          0.011895570194140694,
          0.11582754413136569,
          -0.013327568014415595,
          -0.02439557512399532,
          -0.08155679909372363,
          0.17369411566616919,
          -0.06559257031377365,
          -0.05234200583752406,
          -0.01994782301267071,
          -0.019529787850371096,
          -0.04950147109711476,
          0.0070384648030908225,
          -0.03031628606131765,
          -0.0019352776462492097,
          0.1305776095899054,
          -0.03489647999756576,
          0.03424994629597329,
          0.5125725767889221,
          -0.02164573760272057,
          -0.050456794782043374,
          0.1310641448684493,
          0.22083576065074018,
          0.3135942316290933,
          0.2015498164301273,
          -0.013638744686508286,
          -0.007524763945675516
         ],
         "yaxis": "y"
        }
       ],
       "layout": {
        "coloraxis": {
         "colorbar": {
          "title": {
           "text": "cluster"
          }
         },
         "colorscale": [
          [
           0,
           "#0d0887"
          ],
          [
           0.1111111111111111,
           "#46039f"
          ],
          [
           0.2222222222222222,
           "#7201a8"
          ],
          [
           0.3333333333333333,
           "#9c179e"
          ],
          [
           0.4444444444444444,
           "#bd3786"
          ],
          [
           0.5555555555555556,
           "#d8576b"
          ],
          [
           0.6666666666666666,
           "#ed7953"
          ],
          [
           0.7777777777777778,
           "#fb9f3a"
          ],
          [
           0.8888888888888888,
           "#fdca26"
          ],
          [
           1,
           "#f0f921"
          ]
         ]
        },
        "legend": {
         "tracegroupgap": 0
        },
        "margin": {
         "t": 60
        },
        "template": {
         "data": {
          "bar": [
           {
            "error_x": {
             "color": "#2a3f5f"
            },
            "error_y": {
             "color": "#2a3f5f"
            },
            "marker": {
             "line": {
              "color": "#E5ECF6",
              "width": 0.5
             }
            },
            "type": "bar"
           }
          ],
          "barpolar": [
           {
            "marker": {
             "line": {
              "color": "#E5ECF6",
              "width": 0.5
             }
            },
            "type": "barpolar"
           }
          ],
          "carpet": [
           {
            "aaxis": {
             "endlinecolor": "#2a3f5f",
             "gridcolor": "white",
             "linecolor": "white",
             "minorgridcolor": "white",
             "startlinecolor": "#2a3f5f"
            },
            "baxis": {
             "endlinecolor": "#2a3f5f",
             "gridcolor": "white",
             "linecolor": "white",
             "minorgridcolor": "white",
             "startlinecolor": "#2a3f5f"
            },
            "type": "carpet"
           }
          ],
          "choropleth": [
           {
            "colorbar": {
             "outlinewidth": 0,
             "ticks": ""
            },
            "type": "choropleth"
           }
          ],
          "contour": [
           {
            "colorbar": {
             "outlinewidth": 0,
             "ticks": ""
            },
            "colorscale": [
             [
              0,
              "#0d0887"
             ],
             [
              0.1111111111111111,
              "#46039f"
             ],
             [
              0.2222222222222222,
              "#7201a8"
             ],
             [
              0.3333333333333333,
              "#9c179e"
             ],
             [
              0.4444444444444444,
              "#bd3786"
             ],
             [
              0.5555555555555556,
              "#d8576b"
             ],
             [
              0.6666666666666666,
              "#ed7953"
             ],
             [
              0.7777777777777778,
              "#fb9f3a"
             ],
             [
              0.8888888888888888,
              "#fdca26"
             ],
             [
              1,
              "#f0f921"
             ]
            ],
            "type": "contour"
           }
          ],
          "contourcarpet": [
           {
            "colorbar": {
             "outlinewidth": 0,
             "ticks": ""
            },
            "type": "contourcarpet"
           }
          ],
          "heatmap": [
           {
            "colorbar": {
             "outlinewidth": 0,
             "ticks": ""
            },
            "colorscale": [
             [
              0,
              "#0d0887"
             ],
             [
              0.1111111111111111,
              "#46039f"
             ],
             [
              0.2222222222222222,
              "#7201a8"
             ],
             [
              0.3333333333333333,
              "#9c179e"
             ],
             [
              0.4444444444444444,
              "#bd3786"
             ],
             [
              0.5555555555555556,
              "#d8576b"
             ],
             [
              0.6666666666666666,
              "#ed7953"
             ],
             [
              0.7777777777777778,
              "#fb9f3a"
             ],
             [
              0.8888888888888888,
              "#fdca26"
             ],
             [
              1,
              "#f0f921"
             ]
            ],
            "type": "heatmap"
           }
          ],
          "heatmapgl": [
           {
            "colorbar": {
             "outlinewidth": 0,
             "ticks": ""
            },
            "colorscale": [
             [
              0,
              "#0d0887"
             ],
             [
              0.1111111111111111,
              "#46039f"
             ],
             [
              0.2222222222222222,
              "#7201a8"
             ],
             [
              0.3333333333333333,
              "#9c179e"
             ],
             [
              0.4444444444444444,
              "#bd3786"
             ],
             [
              0.5555555555555556,
              "#d8576b"
             ],
             [
              0.6666666666666666,
              "#ed7953"
             ],
             [
              0.7777777777777778,
              "#fb9f3a"
             ],
             [
              0.8888888888888888,
              "#fdca26"
             ],
             [
              1,
              "#f0f921"
             ]
            ],
            "type": "heatmapgl"
           }
          ],
          "histogram": [
           {
            "marker": {
             "colorbar": {
              "outlinewidth": 0,
              "ticks": ""
             }
            },
            "type": "histogram"
           }
          ],
          "histogram2d": [
           {
            "colorbar": {
             "outlinewidth": 0,
             "ticks": ""
            },
            "colorscale": [
             [
              0,
              "#0d0887"
             ],
             [
              0.1111111111111111,
              "#46039f"
             ],
             [
              0.2222222222222222,
              "#7201a8"
             ],
             [
              0.3333333333333333,
              "#9c179e"
             ],
             [
              0.4444444444444444,
              "#bd3786"
             ],
             [
              0.5555555555555556,
              "#d8576b"
             ],
             [
              0.6666666666666666,
              "#ed7953"
             ],
             [
              0.7777777777777778,
              "#fb9f3a"
             ],
             [
              0.8888888888888888,
              "#fdca26"
             ],
             [
              1,
              "#f0f921"
             ]
            ],
            "type": "histogram2d"
           }
          ],
          "histogram2dcontour": [
           {
            "colorbar": {
             "outlinewidth": 0,
             "ticks": ""
            },
            "colorscale": [
             [
              0,
              "#0d0887"
             ],
             [
              0.1111111111111111,
              "#46039f"
             ],
             [
              0.2222222222222222,
              "#7201a8"
             ],
             [
              0.3333333333333333,
              "#9c179e"
             ],
             [
              0.4444444444444444,
              "#bd3786"
             ],
             [
              0.5555555555555556,
              "#d8576b"
             ],
             [
              0.6666666666666666,
              "#ed7953"
             ],
             [
              0.7777777777777778,
              "#fb9f3a"
             ],
             [
              0.8888888888888888,
              "#fdca26"
             ],
             [
              1,
              "#f0f921"
             ]
            ],
            "type": "histogram2dcontour"
           }
          ],
          "mesh3d": [
           {
            "colorbar": {
             "outlinewidth": 0,
             "ticks": ""
            },
            "type": "mesh3d"
           }
          ],
          "parcoords": [
           {
            "line": {
             "colorbar": {
              "outlinewidth": 0,
              "ticks": ""
             }
            },
            "type": "parcoords"
           }
          ],
          "pie": [
           {
            "automargin": true,
            "type": "pie"
           }
          ],
          "scatter": [
           {
            "marker": {
             "colorbar": {
              "outlinewidth": 0,
              "ticks": ""
             }
            },
            "type": "scatter"
           }
          ],
          "scatter3d": [
           {
            "line": {
             "colorbar": {
              "outlinewidth": 0,
              "ticks": ""
             }
            },
            "marker": {
             "colorbar": {
              "outlinewidth": 0,
              "ticks": ""
             }
            },
            "type": "scatter3d"
           }
          ],
          "scattercarpet": [
           {
            "marker": {
             "colorbar": {
              "outlinewidth": 0,
              "ticks": ""
             }
            },
            "type": "scattercarpet"
           }
          ],
          "scattergeo": [
           {
            "marker": {
             "colorbar": {
              "outlinewidth": 0,
              "ticks": ""
             }
            },
            "type": "scattergeo"
           }
          ],
          "scattergl": [
           {
            "marker": {
             "colorbar": {
              "outlinewidth": 0,
              "ticks": ""
             }
            },
            "type": "scattergl"
           }
          ],
          "scattermapbox": [
           {
            "marker": {
             "colorbar": {
              "outlinewidth": 0,
              "ticks": ""
             }
            },
            "type": "scattermapbox"
           }
          ],
          "scatterpolar": [
           {
            "marker": {
             "colorbar": {
              "outlinewidth": 0,
              "ticks": ""
             }
            },
            "type": "scatterpolar"
           }
          ],
          "scatterpolargl": [
           {
            "marker": {
             "colorbar": {
              "outlinewidth": 0,
              "ticks": ""
             }
            },
            "type": "scatterpolargl"
           }
          ],
          "scatterternary": [
           {
            "marker": {
             "colorbar": {
              "outlinewidth": 0,
              "ticks": ""
             }
            },
            "type": "scatterternary"
           }
          ],
          "surface": [
           {
            "colorbar": {
             "outlinewidth": 0,
             "ticks": ""
            },
            "colorscale": [
             [
              0,
              "#0d0887"
             ],
             [
              0.1111111111111111,
              "#46039f"
             ],
             [
              0.2222222222222222,
              "#7201a8"
             ],
             [
              0.3333333333333333,
              "#9c179e"
             ],
             [
              0.4444444444444444,
              "#bd3786"
             ],
             [
              0.5555555555555556,
              "#d8576b"
             ],
             [
              0.6666666666666666,
              "#ed7953"
             ],
             [
              0.7777777777777778,
              "#fb9f3a"
             ],
             [
              0.8888888888888888,
              "#fdca26"
             ],
             [
              1,
              "#f0f921"
             ]
            ],
            "type": "surface"
           }
          ],
          "table": [
           {
            "cells": {
             "fill": {
              "color": "#EBF0F8"
             },
             "line": {
              "color": "white"
             }
            },
            "header": {
             "fill": {
              "color": "#C8D4E3"
             },
             "line": {
              "color": "white"
             }
            },
            "type": "table"
           }
          ]
         },
         "layout": {
          "annotationdefaults": {
           "arrowcolor": "#2a3f5f",
           "arrowhead": 0,
           "arrowwidth": 1
          },
          "autotypenumbers": "strict",
          "coloraxis": {
           "colorbar": {
            "outlinewidth": 0,
            "ticks": ""
           }
          },
          "colorscale": {
           "diverging": [
            [
             0,
             "#8e0152"
            ],
            [
             0.1,
             "#c51b7d"
            ],
            [
             0.2,
             "#de77ae"
            ],
            [
             0.3,
             "#f1b6da"
            ],
            [
             0.4,
             "#fde0ef"
            ],
            [
             0.5,
             "#f7f7f7"
            ],
            [
             0.6,
             "#e6f5d0"
            ],
            [
             0.7,
             "#b8e186"
            ],
            [
             0.8,
             "#7fbc41"
            ],
            [
             0.9,
             "#4d9221"
            ],
            [
             1,
             "#276419"
            ]
           ],
           "sequential": [
            [
             0,
             "#0d0887"
            ],
            [
             0.1111111111111111,
             "#46039f"
            ],
            [
             0.2222222222222222,
             "#7201a8"
            ],
            [
             0.3333333333333333,
             "#9c179e"
            ],
            [
             0.4444444444444444,
             "#bd3786"
            ],
            [
             0.5555555555555556,
             "#d8576b"
            ],
            [
             0.6666666666666666,
             "#ed7953"
            ],
            [
             0.7777777777777778,
             "#fb9f3a"
            ],
            [
             0.8888888888888888,
             "#fdca26"
            ],
            [
             1,
             "#f0f921"
            ]
           ],
           "sequentialminus": [
            [
             0,
             "#0d0887"
            ],
            [
             0.1111111111111111,
             "#46039f"
            ],
            [
             0.2222222222222222,
             "#7201a8"
            ],
            [
             0.3333333333333333,
             "#9c179e"
            ],
            [
             0.4444444444444444,
             "#bd3786"
            ],
            [
             0.5555555555555556,
             "#d8576b"
            ],
            [
             0.6666666666666666,
             "#ed7953"
            ],
            [
             0.7777777777777778,
             "#fb9f3a"
            ],
            [
             0.8888888888888888,
             "#fdca26"
            ],
            [
             1,
             "#f0f921"
            ]
           ]
          },
          "colorway": [
           "#636efa",
           "#EF553B",
           "#00cc96",
           "#ab63fa",
           "#FFA15A",
           "#19d3f3",
           "#FF6692",
           "#B6E880",
           "#FF97FF",
           "#FECB52"
          ],
          "font": {
           "color": "#2a3f5f"
          },
          "geo": {
           "bgcolor": "white",
           "lakecolor": "white",
           "landcolor": "#E5ECF6",
           "showlakes": true,
           "showland": true,
           "subunitcolor": "white"
          },
          "hoverlabel": {
           "align": "left"
          },
          "hovermode": "closest",
          "mapbox": {
           "style": "light"
          },
          "paper_bgcolor": "white",
          "plot_bgcolor": "#E5ECF6",
          "polar": {
           "angularaxis": {
            "gridcolor": "white",
            "linecolor": "white",
            "ticks": ""
           },
           "bgcolor": "#E5ECF6",
           "radialaxis": {
            "gridcolor": "white",
            "linecolor": "white",
            "ticks": ""
           }
          },
          "scene": {
           "xaxis": {
            "backgroundcolor": "#E5ECF6",
            "gridcolor": "white",
            "gridwidth": 2,
            "linecolor": "white",
            "showbackground": true,
            "ticks": "",
            "zerolinecolor": "white"
           },
           "yaxis": {
            "backgroundcolor": "#E5ECF6",
            "gridcolor": "white",
            "gridwidth": 2,
            "linecolor": "white",
            "showbackground": true,
            "ticks": "",
            "zerolinecolor": "white"
           },
           "zaxis": {
            "backgroundcolor": "#E5ECF6",
            "gridcolor": "white",
            "gridwidth": 2,
            "linecolor": "white",
            "showbackground": true,
            "ticks": "",
            "zerolinecolor": "white"
           }
          },
          "shapedefaults": {
           "line": {
            "color": "#2a3f5f"
           }
          },
          "ternary": {
           "aaxis": {
            "gridcolor": "white",
            "linecolor": "white",
            "ticks": ""
           },
           "baxis": {
            "gridcolor": "white",
            "linecolor": "white",
            "ticks": ""
           },
           "bgcolor": "#E5ECF6",
           "caxis": {
            "gridcolor": "white",
            "linecolor": "white",
            "ticks": ""
           }
          },
          "title": {
           "x": 0.05
          },
          "xaxis": {
           "automargin": true,
           "gridcolor": "white",
           "linecolor": "white",
           "ticks": "",
           "title": {
            "standoff": 15
           },
           "zerolinecolor": "white",
           "zerolinewidth": 2
          },
          "yaxis": {
           "automargin": true,
           "gridcolor": "white",
           "linecolor": "white",
           "ticks": "",
           "title": {
            "standoff": 15
           },
           "zerolinecolor": "white",
           "zerolinewidth": 2
          }
         }
        },
        "xaxis": {
         "anchor": "y",
         "domain": [
          0,
          1
         ],
         "title": {
          "text": "X"
         }
        },
        "yaxis": {
         "anchor": "x",
         "domain": [
          0,
          1
         ],
         "title": {
          "text": "Y"
         }
        }
       }
      }
     },
     "metadata": {}
    }
   ],
   "source": [
    "import plotly.express as px\n",
    "df = result\n",
    "trace = px.scatter(df, x=\"X\", y=\"Y\", color=\"cluster\",\n",
    "                 hover_data=['texto'])\n",
    "layout = go.Layout(title=\"PCA\")\n",
    "fig = go.Figure(data=trace, layout=layout)\n",
    "iplot(fig)\n"
   ]
  },
  {
   "source": [
    "Adjunto la imagen ya que en el notebook en github no lo esta visualizando..\n",
    "\n",
    "<img src=\".\\pcr_.png\">"
   ],
   "cell_type": "markdown",
   "metadata": {}
  },
  {
   "cell_type": "markdown",
   "metadata": {},
   "source": [
    "# Comparación"
   ]
  },
  {
   "cell_type": "markdown",
   "metadata": {},
   "source": [
    "### `[BONUS 15 pts (validos para cualquier tarea)]` \n",
    "### Hacer predicción para estas dos frases de los dos modelos (clasificación y $k$-means)"
   ]
  },
  {
   "cell_type": "code",
   "execution_count": 49,
   "metadata": {},
   "outputs": [],
   "source": [
    "test = [\"Necesitas el juego inicial para eso\", \"Preciosos estos aretes, buena calidad\"]"
   ]
  },
  {
   "cell_type": "code",
   "execution_count": 51,
   "metadata": {},
   "outputs": [
    {
     "output_type": "execute_result",
     "data": {
      "text/plain": [
       "[array([0, 9])]"
      ]
     },
     "metadata": {},
     "execution_count": 51
    }
   ],
   "source": [
    "nuevo_trans = tfidf_vect.transform(test)\n",
    "[model.predict(nuevo_trans)]"
   ]
  },
  {
   "cell_type": "markdown",
   "metadata": {},
   "source": [
    "### `[5 pts]` Punto 5: Preguntas\n",
    "\n",
    "- Según los resultados del $K$-Means, ¿cuál es la estructura de los datos?\n",
    "- ¿Qué diferencia notó entre los resultados del taller pasado y este?\n",
    "- ¿Alguna otra observación?"
   ]
  },
  {
   "source": [
    "- los clusters se generan a partir de la importancia de los terminos abarcados en cada review, notando que para algunas familias de palabras relevantes genera un cluster asociado a la misma, por ejemplo el cluster_1 que contiene el 37% de los datos se observa que esta asociado a la entrega o No entrega de cierto producto en especifico.\n",
    "- Dado que el son ejercicios con objetivos totalmente diferentes (en uno se precide una clase y en este se trata de obtener los clusters a partir de los datos), en este podemos profundizar un poco mas sobre los datos e inferir ciertas clases que dependen de la naturaleza misma de los datos, lo que nos permitiria un mejor ejercicio de segmentación e inferencia de mas clases.\n",
    "- Para este ejercicio particular es un poco complejo elegir el punto de codo para la seleccion de los k-clusters, por lo que es necesario identificar la necesidad de negocio en particular y que los analistas funcionales sean quien a criterio de juicio de expertos permitan identificar de manera mas clara los k-clusters a utilizar."
   ],
   "cell_type": "markdown",
   "metadata": {}
  },
  {
   "source": [],
   "cell_type": "markdown",
   "metadata": {}
  }
 ],
 "metadata": {
  "kernelspec": {
   "name": "python379jvsc74a57bd05c87bd3015cd69b8b60c8d0fb92ee3c440be4fb22f882aba47c85e7185b32327",
   "display_name": "Python 3.7.9 64-bit ('env')"
  },
  "language_info": {
   "codemirror_mode": {
    "name": "ipython",
    "version": 3
   },
   "file_extension": ".py",
   "mimetype": "text/x-python",
   "name": "python",
   "nbconvert_exporter": "python",
   "pygments_lexer": "ipython3",
   "version": "3.7.9"
  }
 },
 "nbformat": 4,
 "nbformat_minor": 2
}