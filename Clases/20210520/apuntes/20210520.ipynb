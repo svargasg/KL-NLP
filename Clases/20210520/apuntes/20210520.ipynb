{
 "metadata": {
  "language_info": {
   "codemirror_mode": {
    "name": "ipython",
    "version": 3
   },
   "file_extension": ".py",
   "mimetype": "text/x-python",
   "name": "python",
   "nbconvert_exporter": "python",
   "pygments_lexer": "ipython3",
   "version": "3.7.9"
  },
  "orig_nbformat": 2,
  "kernelspec": {
   "name": "pythonjvsc74a57bd05c87bd3015cd69b8b60c8d0fb92ee3c440be4fb22f882aba47c85e7185b32327",
   "display_name": "Python 3.7.9  ('env': venv)"
  },
  "metadata": {
   "interpreter": {
    "hash": "5c87bd3015cd69b8b60c8d0fb92ee3c440be4fb22f882aba47c85e7185b32327"
   }
  }
 },
 "nbformat": 4,
 "nbformat_minor": 2,
 "cells": [
  {
   "cell_type": "code",
   "execution_count": 1,
   "metadata": {},
   "outputs": [
    {
     "output_type": "execute_result",
     "data": {
      "text/plain": [
       "Sentiment(polarity=-1.0, subjectivity=0.9)"
      ]
     },
     "metadata": {},
     "execution_count": 1
    }
   ],
   "source": [
    "from textblob import TextBlob\n",
    "\n",
    "ejemplo = \"I really really HATE apples!!!\"\n",
    "\n",
    "TextBlob(ejemplo).sentiment\n"
   ]
  },
  {
   "cell_type": "code",
   "execution_count": 2,
   "metadata": {},
   "outputs": [
    {
     "output_type": "execute_result",
     "data": {
      "text/plain": [
       "-0.7833"
      ]
     },
     "metadata": {},
     "execution_count": 2
    }
   ],
   "source": [
    "from vaderSentiment.vaderSentiment import SentimentIntensityAnalyzer\n",
    "\n",
    "vader = SentimentIntensityAnalyzer()\n",
    "vader.polarity_scores(ejemplo)['compound']"
   ]
  },
  {
   "cell_type": "code",
   "execution_count": 3,
   "metadata": {},
   "outputs": [
    {
     "output_type": "execute_result",
     "data": {
      "text/plain": [
       "                                               tweet                 date  \\\n",
       "0  If you've ever worried about facial recognitio...  2021-05-20 15:07:58   \n",
       "1  ostdoc on Proton Structure Studies with Machin...  2021-05-20 15:07:50   \n",
       "2  Is Artificial Intelligence/Machine Learning Re...  2021-05-20 15:07:44   \n",
       "3  End-to-End IoT analytics and machine learning ...  2021-05-20 15:06:46   \n",
       "4  Graph algorithms combined with machine learnin...  2021-05-20 15:06:30   \n",
       "\n",
       "                                                link  \n",
       "0  https://twitter.com/i/web/status/1395395883814...  \n",
       "1  https://twitter.com/i/web/status/1395395850663...  \n",
       "2  https://twitter.com/i/web/status/1395395823220...  \n",
       "3  https://twitter.com/i/web/status/1395395582819...  \n",
       "4  https://twitter.com/i/web/status/1395395514070...  "
      ],
      "text/html": "<div>\n<style scoped>\n    .dataframe tbody tr th:only-of-type {\n        vertical-align: middle;\n    }\n\n    .dataframe tbody tr th {\n        vertical-align: top;\n    }\n\n    .dataframe thead th {\n        text-align: right;\n    }\n</style>\n<table border=\"1\" class=\"dataframe\">\n  <thead>\n    <tr style=\"text-align: right;\">\n      <th></th>\n      <th>tweet</th>\n      <th>date</th>\n      <th>link</th>\n    </tr>\n  </thead>\n  <tbody>\n    <tr>\n      <th>0</th>\n      <td>If you've ever worried about facial recognitio...</td>\n      <td>2021-05-20 15:07:58</td>\n      <td>https://twitter.com/i/web/status/1395395883814...</td>\n    </tr>\n    <tr>\n      <th>1</th>\n      <td>ostdoc on Proton Structure Studies with Machin...</td>\n      <td>2021-05-20 15:07:50</td>\n      <td>https://twitter.com/i/web/status/1395395850663...</td>\n    </tr>\n    <tr>\n      <th>2</th>\n      <td>Is Artificial Intelligence/Machine Learning Re...</td>\n      <td>2021-05-20 15:07:44</td>\n      <td>https://twitter.com/i/web/status/1395395823220...</td>\n    </tr>\n    <tr>\n      <th>3</th>\n      <td>End-to-End IoT analytics and machine learning ...</td>\n      <td>2021-05-20 15:06:46</td>\n      <td>https://twitter.com/i/web/status/1395395582819...</td>\n    </tr>\n    <tr>\n      <th>4</th>\n      <td>Graph algorithms combined with machine learnin...</td>\n      <td>2021-05-20 15:06:30</td>\n      <td>https://twitter.com/i/web/status/1395395514070...</td>\n    </tr>\n  </tbody>\n</table>\n</div>"
     },
     "metadata": {},
     "execution_count": 3
    }
   ],
   "source": [
    "import pandas as pd\n",
    "\n",
    "data = pd.read_csv(\"machine_learning.csv\")\n",
    "data.head()"
   ]
  }
 ]
}