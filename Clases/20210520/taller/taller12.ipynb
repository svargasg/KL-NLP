{
 "cells": [
  {
   "cell_type": "markdown",
   "metadata": {},
   "source": [
    "<img src='https://encrypted-tbn0.gstatic.com/images?q=tbn%3AANd9GcQ-VfNtOyJbsaxu43Kztf_cv1mgBG6ZIQZEVw&usqp=CAU'>\n",
    "\n",
    "# Procesamiento de Lenguaje Natural\n",
    "\n",
    "## Taller #12: Análisis de sentimiento\n",
    "`Fecha de entrega: Mayo 27, 2021 (Antes del inicio de la próxima clase).`\n",
    "\n",
    "`Modo de entrega: Subir link de GitHub al aula virtual.`"
   ]
  },
  {
   "cell_type": "markdown",
   "metadata": {},
   "source": [
    "###  `[25 pts]` Punto 1: Hacer análisis de sentimiento de los datos del anterior taller\n",
    "- Columna con el puntaje numérico del sentimiento\n",
    "- Pueden usar cualquiera de las librerias vistas en clase"
   ]
  },
  {
   "cell_type": "code",
   "execution_count": 1,
   "metadata": {},
   "outputs": [
    {
     "output_type": "execute_result",
     "data": {
      "text/plain": [
       "                                                                                                                                                                                                                                                                                               tweet  \\\n",
       "0                                                                                                                                                                                                         If you've ever worried about facial recognition, you're not alone. https://t.co/RvZrwxMzPH   \n",
       "1                                                                                                                                                                           ostdoc on Proton Structure Studies with Machine Learning (Theory) — AcademicTransfer https://t.co/Iwz0cPVieS #ai #ml #dl   \n",
       "2      Is Artificial Intelligence/Machine Learning Real? \\r\\n\\r\\nAnother strong program 1 PM today online by Hudson Valley Direct Marketing Association  https://t.co/knNT9pKcvq\\r\\ncbsi Services Inc. \\r\\n#AI #ArtificialInteligence #digitalmarketing #machinelearning #datascience #dataanalytics   \n",
       "3                                                                                                                                                                                              End-to-End IoT analytics and machine learning with Azure Data and AI services https://t.co/ooJt94cvZ7   \n",
       "4  Graph algorithms combined with machine learning offer a more modern and intelligent approach in fighting, monitoring, and investigating illicit activity. Learn more next week with @AmerBanker.\\r\\n\\r\\nhttps://t.co/ZTYcVkeT9j\\r\\n\\r\\n#banking #fintech #fraud #finance #graphanalytics #graphDB   \n",
       "\n",
       "                  date                                                  link  \n",
       "0  2021-05-20 15:07:58  https://twitter.com/i/web/status/1395395883814907904  \n",
       "1  2021-05-20 15:07:50  https://twitter.com/i/web/status/1395395850663170053  \n",
       "2  2021-05-20 15:07:44  https://twitter.com/i/web/status/1395395823220006915  \n",
       "3  2021-05-20 15:06:46  https://twitter.com/i/web/status/1395395582819282946  \n",
       "4  2021-05-20 15:06:30  https://twitter.com/i/web/status/1395395514070441986  "
      ],
      "text/html": "<div>\n<style scoped>\n    .dataframe tbody tr th:only-of-type {\n        vertical-align: middle;\n    }\n\n    .dataframe tbody tr th {\n        vertical-align: top;\n    }\n\n    .dataframe thead th {\n        text-align: right;\n    }\n</style>\n<table border=\"1\" class=\"dataframe\">\n  <thead>\n    <tr style=\"text-align: right;\">\n      <th></th>\n      <th>tweet</th>\n      <th>date</th>\n      <th>link</th>\n    </tr>\n  </thead>\n  <tbody>\n    <tr>\n      <th>0</th>\n      <td>If you've ever worried about facial recognition, you're not alone. https://t.co/RvZrwxMzPH</td>\n      <td>2021-05-20 15:07:58</td>\n      <td>https://twitter.com/i/web/status/1395395883814907904</td>\n    </tr>\n    <tr>\n      <th>1</th>\n      <td>ostdoc on Proton Structure Studies with Machine Learning (Theory) — AcademicTransfer https://t.co/Iwz0cPVieS #ai #ml #dl</td>\n      <td>2021-05-20 15:07:50</td>\n      <td>https://twitter.com/i/web/status/1395395850663170053</td>\n    </tr>\n    <tr>\n      <th>2</th>\n      <td>Is Artificial Intelligence/Machine Learning Real? \\r\\n\\r\\nAnother strong program 1 PM today online by Hudson Valley Direct Marketing Association  https://t.co/knNT9pKcvq\\r\\ncbsi Services Inc. \\r\\n#AI #ArtificialInteligence #digitalmarketing #machinelearning #datascience #dataanalytics</td>\n      <td>2021-05-20 15:07:44</td>\n      <td>https://twitter.com/i/web/status/1395395823220006915</td>\n    </tr>\n    <tr>\n      <th>3</th>\n      <td>End-to-End IoT analytics and machine learning with Azure Data and AI services https://t.co/ooJt94cvZ7</td>\n      <td>2021-05-20 15:06:46</td>\n      <td>https://twitter.com/i/web/status/1395395582819282946</td>\n    </tr>\n    <tr>\n      <th>4</th>\n      <td>Graph algorithms combined with machine learning offer a more modern and intelligent approach in fighting, monitoring, and investigating illicit activity. Learn more next week with @AmerBanker.\\r\\n\\r\\nhttps://t.co/ZTYcVkeT9j\\r\\n\\r\\n#banking #fintech #fraud #finance #graphanalytics #graphDB</td>\n      <td>2021-05-20 15:06:30</td>\n      <td>https://twitter.com/i/web/status/1395395514070441986</td>\n    </tr>\n  </tbody>\n</table>\n</div>"
     },
     "metadata": {},
     "execution_count": 1
    }
   ],
   "source": [
    "import pandas as pd\n",
    "pd.set_option('display.max_colwidth', None)\n",
    "\n",
    "data = pd.read_csv(\"..\\machine_learning.csv\")\n",
    "data.head()"
   ]
  },
  {
   "cell_type": "code",
   "execution_count": 3,
   "metadata": {},
   "outputs": [
    {
     "output_type": "execute_result",
     "data": {
      "text/plain": [
       "                                                                                                                                                                                                                                                                                                                  tweet  \\\n",
       "7                Call AI conversational intelligence leverages AI &amp; machine-learning to incorporate key capabilities that maximize #sales potential to win deals. Features include call recording &amp; transcripts, call sharing &amp; collaboration, &amp; CRM integrations. Learn more 👉 https://t.co/WIXLn2fC6G   \n",
       "77  Everything awesome ends quickly - that is also true for the 5th edition of the NDSML Summit. During the past 3 days, we've heard some amazing case studies, strategies and approaches in Data Science and Machine Learning. ✨\\r\\n\\r\\nThank you to everyone joining🙏\\r\\n\\r\\n#NDSMLSummit2021 https://t.co/Q2MKeKMLue   \n",
       "30                               Implementing new #technologies like artificial intelligence and machine learning are part of a solid business strategy. Some key advantages include increased productivity, higher rates of production, improved quality, and efficient use of materials. #MSP https://t.co/KktxtkuD3o   \n",
       "53                                                                           This is a true opportunity who has an interest in Machine Learning. I'm on in too. Let's enjoy it together!\\r\\n* Thank you for giving me, a poor full-time student, a chance to take this course for free. @svpino https://t.co/viLwTe56Sp   \n",
       "49        One of the rare times I look at LinkedIn, I come across this graph. IDK how it's made, but being in the field, I think it's such a good reference. Like, just have a good grasp on Python and how to use basic machine learning techniques and you can land a pretty good paying job. https://t.co/zIxwIO9vmt   \n",
       "\n",
       "    sent_vader  \n",
       "7       0.8658  \n",
       "77      0.9382  \n",
       "30      0.9403  \n",
       "53      0.9531  \n",
       "49      0.9614  "
      ],
      "text/html": "<div>\n<style scoped>\n    .dataframe tbody tr th:only-of-type {\n        vertical-align: middle;\n    }\n\n    .dataframe tbody tr th {\n        vertical-align: top;\n    }\n\n    .dataframe thead th {\n        text-align: right;\n    }\n</style>\n<table border=\"1\" class=\"dataframe\">\n  <thead>\n    <tr style=\"text-align: right;\">\n      <th></th>\n      <th>tweet</th>\n      <th>sent_vader</th>\n    </tr>\n  </thead>\n  <tbody>\n    <tr>\n      <th>7</th>\n      <td>Call AI conversational intelligence leverages AI &amp;amp; machine-learning to incorporate key capabilities that maximize #sales potential to win deals. Features include call recording &amp;amp; transcripts, call sharing &amp;amp; collaboration, &amp;amp; CRM integrations. Learn more 👉 https://t.co/WIXLn2fC6G</td>\n      <td>0.8658</td>\n    </tr>\n    <tr>\n      <th>77</th>\n      <td>Everything awesome ends quickly - that is also true for the 5th edition of the NDSML Summit. During the past 3 days, we've heard some amazing case studies, strategies and approaches in Data Science and Machine Learning. ✨\\r\\n\\r\\nThank you to everyone joining🙏\\r\\n\\r\\n#NDSMLSummit2021 https://t.co/Q2MKeKMLue</td>\n      <td>0.9382</td>\n    </tr>\n    <tr>\n      <th>30</th>\n      <td>Implementing new #technologies like artificial intelligence and machine learning are part of a solid business strategy. Some key advantages include increased productivity, higher rates of production, improved quality, and efficient use of materials. #MSP https://t.co/KktxtkuD3o</td>\n      <td>0.9403</td>\n    </tr>\n    <tr>\n      <th>53</th>\n      <td>This is a true opportunity who has an interest in Machine Learning. I'm on in too. Let's enjoy it together!\\r\\n* Thank you for giving me, a poor full-time student, a chance to take this course for free. @svpino https://t.co/viLwTe56Sp</td>\n      <td>0.9531</td>\n    </tr>\n    <tr>\n      <th>49</th>\n      <td>One of the rare times I look at LinkedIn, I come across this graph. IDK how it's made, but being in the field, I think it's such a good reference. Like, just have a good grasp on Python and how to use basic machine learning techniques and you can land a pretty good paying job. https://t.co/zIxwIO9vmt</td>\n      <td>0.9614</td>\n    </tr>\n  </tbody>\n</table>\n</div>"
     },
     "metadata": {},
     "execution_count": 3
    }
   ],
   "source": [
    "from vaderSentiment.vaderSentiment import SentimentIntensityAnalyzer\n",
    "from textblob import TextBlob\n",
    "\n",
    "vader = SentimentIntensityAnalyzer()\n",
    "\n",
    "data['sent_vader'] = data['tweet'].apply(lambda val: vader.polarity_scores(val)['compound'])\n",
    "data['sent_textblob'] = data['tweet'].apply(lambda val: TextBlob(val).sentiment.polarity)\n",
    "data[['tweet', 'sent_vader', 'sent_textblob']].head()\n",
    "\n",
    "data[['tweet', 'sent_vader']].sort_values('sent_vader').tail()"
   ]
  },
  {
   "cell_type": "code",
   "execution_count": 4,
   "metadata": {},
   "outputs": [
    {
     "output_type": "stream",
     "name": "stdout",
     "text": [
      "2021-05-26 20:21:11,789 loading file C:\\Users\\Home\\.flair\\models\\sentiment-en-mix-distillbert_4.pt\n"
     ]
    },
    {
     "output_type": "execute_result",
     "data": {
      "text/plain": [
       "                                                                                                                                                                                                                                                                                               tweet  \\\n",
       "0                                                                                                                                                                                                         If you've ever worried about facial recognition, you're not alone. https://t.co/RvZrwxMzPH   \n",
       "1                                                                                                                                                                           ostdoc on Proton Structure Studies with Machine Learning (Theory) — AcademicTransfer https://t.co/Iwz0cPVieS #ai #ml #dl   \n",
       "2      Is Artificial Intelligence/Machine Learning Real? \\r\\n\\r\\nAnother strong program 1 PM today online by Hudson Valley Direct Marketing Association  https://t.co/knNT9pKcvq\\r\\ncbsi Services Inc. \\r\\n#AI #ArtificialInteligence #digitalmarketing #machinelearning #datascience #dataanalytics   \n",
       "3                                                                                                                                                                                              End-to-End IoT analytics and machine learning with Azure Data and AI services https://t.co/ooJt94cvZ7   \n",
       "4  Graph algorithms combined with machine learning offer a more modern and intelligent approach in fighting, monitoring, and investigating illicit activity. Learn more next week with @AmerBanker.\\r\\n\\r\\nhttps://t.co/ZTYcVkeT9j\\r\\n\\r\\n#banking #fintech #fraud #finance #graphanalytics #graphDB   \n",
       "\n",
       "                  date                                                  link  \\\n",
       "0  2021-05-20 15:07:58  https://twitter.com/i/web/status/1395395883814907904   \n",
       "1  2021-05-20 15:07:50  https://twitter.com/i/web/status/1395395850663170053   \n",
       "2  2021-05-20 15:07:44  https://twitter.com/i/web/status/1395395823220006915   \n",
       "3  2021-05-20 15:06:46  https://twitter.com/i/web/status/1395395582819282946   \n",
       "4  2021-05-20 15:06:30  https://twitter.com/i/web/status/1395395514070441986   \n",
       "\n",
       "   sent_vader  sent_textblob  sent_flair  \n",
       "0     -0.1179       0.000000    0.997260  \n",
       "1      0.0000       0.000000    0.931684  \n",
       "2      0.5106       0.033333    0.611580  \n",
       "3      0.0000       0.000000    0.997630  \n",
       "4     -0.4654       0.400000    0.742857  "
      ],
      "text/html": "<div>\n<style scoped>\n    .dataframe tbody tr th:only-of-type {\n        vertical-align: middle;\n    }\n\n    .dataframe tbody tr th {\n        vertical-align: top;\n    }\n\n    .dataframe thead th {\n        text-align: right;\n    }\n</style>\n<table border=\"1\" class=\"dataframe\">\n  <thead>\n    <tr style=\"text-align: right;\">\n      <th></th>\n      <th>tweet</th>\n      <th>date</th>\n      <th>link</th>\n      <th>sent_vader</th>\n      <th>sent_textblob</th>\n      <th>sent_flair</th>\n    </tr>\n  </thead>\n  <tbody>\n    <tr>\n      <th>0</th>\n      <td>If you've ever worried about facial recognition, you're not alone. https://t.co/RvZrwxMzPH</td>\n      <td>2021-05-20 15:07:58</td>\n      <td>https://twitter.com/i/web/status/1395395883814907904</td>\n      <td>-0.1179</td>\n      <td>0.000000</td>\n      <td>0.997260</td>\n    </tr>\n    <tr>\n      <th>1</th>\n      <td>ostdoc on Proton Structure Studies with Machine Learning (Theory) — AcademicTransfer https://t.co/Iwz0cPVieS #ai #ml #dl</td>\n      <td>2021-05-20 15:07:50</td>\n      <td>https://twitter.com/i/web/status/1395395850663170053</td>\n      <td>0.0000</td>\n      <td>0.000000</td>\n      <td>0.931684</td>\n    </tr>\n    <tr>\n      <th>2</th>\n      <td>Is Artificial Intelligence/Machine Learning Real? \\r\\n\\r\\nAnother strong program 1 PM today online by Hudson Valley Direct Marketing Association  https://t.co/knNT9pKcvq\\r\\ncbsi Services Inc. \\r\\n#AI #ArtificialInteligence #digitalmarketing #machinelearning #datascience #dataanalytics</td>\n      <td>2021-05-20 15:07:44</td>\n      <td>https://twitter.com/i/web/status/1395395823220006915</td>\n      <td>0.5106</td>\n      <td>0.033333</td>\n      <td>0.611580</td>\n    </tr>\n    <tr>\n      <th>3</th>\n      <td>End-to-End IoT analytics and machine learning with Azure Data and AI services https://t.co/ooJt94cvZ7</td>\n      <td>2021-05-20 15:06:46</td>\n      <td>https://twitter.com/i/web/status/1395395582819282946</td>\n      <td>0.0000</td>\n      <td>0.000000</td>\n      <td>0.997630</td>\n    </tr>\n    <tr>\n      <th>4</th>\n      <td>Graph algorithms combined with machine learning offer a more modern and intelligent approach in fighting, monitoring, and investigating illicit activity. Learn more next week with @AmerBanker.\\r\\n\\r\\nhttps://t.co/ZTYcVkeT9j\\r\\n\\r\\n#banking #fintech #fraud #finance #graphanalytics #graphDB</td>\n      <td>2021-05-20 15:06:30</td>\n      <td>https://twitter.com/i/web/status/1395395514070441986</td>\n      <td>-0.4654</td>\n      <td>0.400000</td>\n      <td>0.742857</td>\n    </tr>\n  </tbody>\n</table>\n</div>"
     },
     "metadata": {},
     "execution_count": 4
    }
   ],
   "source": [
    "from flair.models import TextClassifier\n",
    "from flair.data import Sentence\n",
    "\n",
    "classifier = TextClassifier.load('en-sentiment')\n",
    "\n",
    "def sent_flair(texto):\n",
    "    frase = Sentence(texto)\n",
    "    classifier.predict(frase)\n",
    "    result = frase.labels[0]\n",
    "    label = result.value\n",
    "    score = result.score\n",
    "    if label == 'NEGATIVE':\n",
    "        return score * -1\n",
    "    return score\n",
    "\n",
    "data['sent_flair'] = data['tweet'].apply(lambda val: sent_flair(val))\n",
    "data.head()"
   ]
  },
  {
   "cell_type": "markdown",
   "metadata": {},
   "source": [
    "###  `[25 pts]` Punto 2: ¿Cuál es el tuit más positivo y más negativo?"
   ]
  },
  {
   "cell_type": "code",
   "execution_count": 9,
   "metadata": {},
   "outputs": [
    {
     "output_type": "execute_result",
     "data": {
      "text/plain": [
       "                                                                                                                                                                                                            tweet  \\\n",
       "56  @IamHappyToast They probably ran it through Adobe Super Resolution or some other machine learning AI upscaling software. I'd be most interested in looking at the file headers and whomever buys it is a mug.   \n",
       "\n",
       "    sent_flair  \n",
       "56   -0.999953  "
      ],
      "text/html": "<div>\n<style scoped>\n    .dataframe tbody tr th:only-of-type {\n        vertical-align: middle;\n    }\n\n    .dataframe tbody tr th {\n        vertical-align: top;\n    }\n\n    .dataframe thead th {\n        text-align: right;\n    }\n</style>\n<table border=\"1\" class=\"dataframe\">\n  <thead>\n    <tr style=\"text-align: right;\">\n      <th></th>\n      <th>tweet</th>\n      <th>sent_flair</th>\n    </tr>\n  </thead>\n  <tbody>\n    <tr>\n      <th>56</th>\n      <td>@IamHappyToast They probably ran it through Adobe Super Resolution or some other machine learning AI upscaling software. I'd be most interested in looking at the file headers and whomever buys it is a mug.</td>\n      <td>-0.999953</td>\n    </tr>\n  </tbody>\n</table>\n</div>"
     },
     "metadata": {},
     "execution_count": 9
    }
   ],
   "source": [
    "# Tweet mas negativo\n",
    "data[['tweet', 'sent_flair']].sort_values('sent_flair').head(1)"
   ]
  },
  {
   "cell_type": "code",
   "execution_count": 10,
   "metadata": {},
   "outputs": [
    {
     "output_type": "execute_result",
     "data": {
      "text/plain": [
       "                                                                                                                                                                                                                                                                                                            tweet  \\\n",
       "49  One of the rare times I look at LinkedIn, I come across this graph. IDK how it's made, but being in the field, I think it's such a good reference. Like, just have a good grasp on Python and how to use basic machine learning techniques and you can land a pretty good paying job. https://t.co/zIxwIO9vmt   \n",
       "\n",
       "    sent_flair  \n",
       "49    0.999643  "
      ],
      "text/html": "<div>\n<style scoped>\n    .dataframe tbody tr th:only-of-type {\n        vertical-align: middle;\n    }\n\n    .dataframe tbody tr th {\n        vertical-align: top;\n    }\n\n    .dataframe thead th {\n        text-align: right;\n    }\n</style>\n<table border=\"1\" class=\"dataframe\">\n  <thead>\n    <tr style=\"text-align: right;\">\n      <th></th>\n      <th>tweet</th>\n      <th>sent_flair</th>\n    </tr>\n  </thead>\n  <tbody>\n    <tr>\n      <th>49</th>\n      <td>One of the rare times I look at LinkedIn, I come across this graph. IDK how it's made, but being in the field, I think it's such a good reference. Like, just have a good grasp on Python and how to use basic machine learning techniques and you can land a pretty good paying job. https://t.co/zIxwIO9vmt</td>\n      <td>0.999643</td>\n    </tr>\n  </tbody>\n</table>\n</div>"
     },
     "metadata": {},
     "execution_count": 10
    }
   ],
   "source": [
    "# Tweet mas positivo\n",
    "data[['tweet', 'sent_flair']].sort_values('sent_flair').tail(1)\n"
   ]
  }
 ],
 "metadata": {
  "kernelspec": {
   "name": "pythonjvsc74a57bd05c87bd3015cd69b8b60c8d0fb92ee3c440be4fb22f882aba47c85e7185b32327",
   "display_name": "Python 3.7.9  ('env': venv)"
  },
  "language_info": {
   "codemirror_mode": {
    "name": "ipython",
    "version": 3
   },
   "file_extension": ".py",
   "mimetype": "text/x-python",
   "name": "python",
   "nbconvert_exporter": "python",
   "pygments_lexer": "ipython3",
   "version": "3.7.9"
  },
  "metadata": {
   "interpreter": {
    "hash": "5c87bd3015cd69b8b60c8d0fb92ee3c440be4fb22f882aba47c85e7185b32327"
   }
  }
 },
 "nbformat": 4,
 "nbformat_minor": 2
}