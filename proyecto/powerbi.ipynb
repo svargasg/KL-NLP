{
 "metadata": {
  "language_info": {
   "codemirror_mode": {
    "name": "ipython",
    "version": 3
   },
   "file_extension": ".py",
   "mimetype": "text/x-python",
   "name": "python",
   "nbconvert_exporter": "python",
   "pygments_lexer": "ipython3",
   "version": "3.7.9"
  },
  "orig_nbformat": 2,
  "kernelspec": {
   "name": "pythonjvsc74a57bd05c87bd3015cd69b8b60c8d0fb92ee3c440be4fb22f882aba47c85e7185b32327",
   "display_name": "Python 3.7.9  ('env': venv)"
  },
  "metadata": {
   "interpreter": {
    "hash": "5c87bd3015cd69b8b60c8d0fb92ee3c440be4fb22f882aba47c85e7185b32327"
   }
  }
 },
 "nbformat": 4,
 "nbformat_minor": 2,
 "cells": [
  {
   "cell_type": "code",
   "execution_count": 1,
   "metadata": {},
   "outputs": [
    {
     "output_type": "stream",
     "name": "stdout",
     "text": [
      "Performing interactive authentication. Please follow the instructions on the terminal.\n",
      " To sign in, use a web browser to open the page https://microsoft.com/devicelogin and enter the code RTKF9L755 to authenticate.\n",
      "You have logged in.\n",
      "Interactive authentication successfully completed.\n"
     ]
    }
   ],
   "source": [
    "from powerbiclient import Report, models\n",
    "\n",
    "# Import the DeviceCodeLoginAuthentication class to authenticate against Power BI\n",
    "from powerbiclient.authentication import DeviceCodeLoginAuthentication\n",
    "\n",
    "# Initiate device authentication\n",
    "device_auth = DeviceCodeLoginAuthentication()"
   ]
  },
  {
   "cell_type": "code",
   "execution_count": 2,
   "metadata": {},
   "outputs": [
    {
     "output_type": "display_data",
     "data": {
      "text/plain": "Report()",
      "application/vnd.jupyter.widget-view+json": {
       "version_major": 2,
       "version_minor": 0,
       "model_id": "f517ee92547e44b195fc774ca6cc5602"
      }
     },
     "metadata": {}
    }
   ],
   "source": [
    "group_id=\"3bcd6af5-9045-4522-b6b0-c95bb49121a5\"\n",
    "report_id=\"5f722c69-84a2-4194-9a8a-f7123dc51152\"\n",
    "\n",
    "report = Report(group_id=group_id, report_id=report_id, auth=device_auth)\n",
    "report"
   ]
  }
 ]
}